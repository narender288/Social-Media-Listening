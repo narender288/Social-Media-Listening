{
 "cells": [
  {
   "cell_type": "code",
   "execution_count": 1,
   "id": "ae123f0f-a30b-4dd6-a065-c478fc268fdb",
   "metadata": {},
   "outputs": [],
   "source": [
    "import re\n",
    "import pandas as pd"
   ]
  },
  {
   "cell_type": "code",
   "execution_count": 2,
   "id": "69dccf98-93c0-490a-803a-e3c32a22a982",
   "metadata": {},
   "outputs": [],
   "source": [
    "iphone = pd.read_json('reddit_iphone.json')"
   ]
  },
  {
   "cell_type": "code",
   "execution_count": 3,
   "id": "526a6c75-6651-4a00-a890-dd263ef7e2dc",
   "metadata": {},
   "outputs": [],
   "source": [
    "iphone = iphone.drop_duplicates()"
   ]
  },
  {
   "cell_type": "code",
   "execution_count": 4,
   "id": "20a6937a-a736-4cce-8527-e974b16a8787",
   "metadata": {},
   "outputs": [
    {
     "name": "stdout",
     "output_type": "stream",
     "text": [
      "<class 'pandas.core.frame.DataFrame'>\n",
      "Index: 1562 entries, 0 to 9703\n",
      "Data columns (total 5 columns):\n",
      " #   Column   Non-Null Count  Dtype \n",
      "---  ------   --------------  ----- \n",
      " 0   Title    1562 non-null   object\n",
      " 1   Upvotes  1562 non-null   int64 \n",
      " 2   URL      1562 non-null   object\n",
      " 3   Created  1562 non-null   int64 \n",
      " 4   Text     1562 non-null   object\n",
      "dtypes: int64(2), object(3)\n",
      "memory usage: 73.2+ KB\n"
     ]
    }
   ],
   "source": [
    "iphone.info()"
   ]
  },
  {
   "cell_type": "code",
   "execution_count": 5,
   "id": "e4c107bd-29bc-4c05-9467-2642d8d7cd26",
   "metadata": {},
   "outputs": [],
   "source": [
    "def infer_gender_from_text(text):\n",
    "    # Define gendered terms\n",
    "    male_terms = ['he', 'him', 'his', 'man', 'boy', 'male']\n",
    "    female_terms = ['she', 'her', 'hers', 'woman', 'girl', 'female']\n",
    "    \n",
    "    # Convert text to lowercase for easier matching\n",
    "    text = text.lower()\n",
    "    \n",
    "    # Check for the presence of male or female terms in the text\n",
    "    if any(term in text for term in female_terms):\n",
    "        return 'female'\n",
    "    elif any(term in text for term in male_terms):\n",
    "        return 'Male'\n",
    "    else:\n",
    "        return 'Unknown'"
   ]
  },
  {
   "cell_type": "code",
   "execution_count": 6,
   "id": "4c5bc9b6-ef94-4e9e-b6b1-a4dc2c914fa9",
   "metadata": {},
   "outputs": [],
   "source": [
    "def infer_age_from_text(text):\n",
    "    # Define age-related keywords for different age ranges\n",
    "    age_keywords = {\n",
    "        'teen': (13, 19),\n",
    "        'twenty': (20, 29),\n",
    "        'thirty': (30, 39),\n",
    "        'forty': (40, 49),\n",
    "        'fifty': (50, 59),\n",
    "        'sixty': (60, 69)\n",
    "    }\n",
    "    \n",
    "    # Convert text to lowercase for easier matching\n",
    "    text = text.lower()\n",
    "    \n",
    "    # Loop through age-related keywords and match\n",
    "    for keyword, age_range in age_keywords.items():\n",
    "        if keyword in text:\n",
    "            return age_range\n",
    "    \n",
    "    # Default to a random age range if no keyword is found\n",
    "    return None  # Default to 'twenty'"
   ]
  },
  {
   "cell_type": "code",
   "execution_count": 7,
   "id": "163ba10b-28fc-4edd-8559-de1a50544a84",
   "metadata": {},
   "outputs": [],
   "source": [
    "iphone['gender'] = iphone['Text'].apply(infer_gender_from_text)\n",
    "iphone['age'] = iphone['Text'].apply(infer_age_from_text)"
   ]
  },
  {
   "cell_type": "code",
   "execution_count": 8,
   "id": "f700654e-9a2c-40c6-97a7-65f0b26a5a0a",
   "metadata": {},
   "outputs": [
    {
     "data": {
      "text/plain": [
       "0          Male\n",
       "1          Male\n",
       "2          Male\n",
       "3       Unknown\n",
       "4        female\n",
       "         ...   \n",
       "9548     female\n",
       "9575       Male\n",
       "9601     female\n",
       "9689     female\n",
       "9703    Unknown\n",
       "Name: gender, Length: 1562, dtype: object"
      ]
     },
     "execution_count": 8,
     "metadata": {},
     "output_type": "execute_result"
    }
   ],
   "source": [
    "iphone['gender']"
   ]
  },
  {
   "cell_type": "code",
   "execution_count": 9,
   "id": "ea880de9-db49-4c41-a957-7be9a1e4f952",
   "metadata": {},
   "outputs": [
    {
     "data": {
      "text/plain": [
       "gender\n",
       "female     638\n",
       "Male       581\n",
       "Unknown    343\n",
       "Name: count, dtype: int64"
      ]
     },
     "execution_count": 9,
     "metadata": {},
     "output_type": "execute_result"
    }
   ],
   "source": [
    "iphone['gender'].value_counts()"
   ]
  },
  {
   "cell_type": "code",
   "execution_count": 10,
   "id": "ef164b0c-90ee-478e-a6c4-a315bf2ffbd7",
   "metadata": {},
   "outputs": [],
   "source": [
    "iphone = iphone[iphone['gender'] != 'Unknown']"
   ]
  },
  {
   "cell_type": "code",
   "execution_count": 11,
   "id": "f69873d0-a696-447a-96dd-2a205b99dcc8",
   "metadata": {},
   "outputs": [
    {
     "data": {
      "text/plain": [
       "0       None\n",
       "1       None\n",
       "2       None\n",
       "4       None\n",
       "5       None\n",
       "        ... \n",
       "9513    None\n",
       "9548    None\n",
       "9575    None\n",
       "9601    None\n",
       "9689    None\n",
       "Name: age, Length: 1219, dtype: object"
      ]
     },
     "execution_count": 11,
     "metadata": {},
     "output_type": "execute_result"
    }
   ],
   "source": [
    "iphone['age']"
   ]
  },
  {
   "cell_type": "code",
   "execution_count": 12,
   "id": "cf9fa441-dcbc-4672-962e-00923c78f26f",
   "metadata": {},
   "outputs": [
    {
     "data": {
      "text/plain": [
       "age\n",
       "(13, 19)    9\n",
       "Name: count, dtype: int64"
      ]
     },
     "execution_count": 12,
     "metadata": {},
     "output_type": "execute_result"
    }
   ],
   "source": [
    "iphone['age'].value_counts()"
   ]
  },
  {
   "cell_type": "code",
   "execution_count": 13,
   "id": "0c345c82-aec3-4089-9625-22ad382cf1d6",
   "metadata": {},
   "outputs": [],
   "source": [
    "## we only get three person only who mentioned about their age so we not proceed about it ."
   ]
  },
  {
   "cell_type": "code",
   "execution_count": 14,
   "id": "1668b2f8-cb36-4db3-a0ce-35b457f1fbc5",
   "metadata": {},
   "outputs": [],
   "source": [
    "def get_sentiment(text):\n",
    "    return TextBlob(str(text)).sentiment.polarity"
   ]
  },
  {
   "cell_type": "code",
   "execution_count": 15,
   "id": "a4014795-ba88-4c6f-ba12-2232768df9a5",
   "metadata": {},
   "outputs": [],
   "source": [
    "from textblob import TextBlob"
   ]
  },
  {
   "cell_type": "code",
   "execution_count": 16,
   "id": "494921c4-30b1-4963-be21-a323241879c2",
   "metadata": {},
   "outputs": [],
   "source": [
    "iphone['sentiment'] = iphone['Text'].apply(get_sentiment)"
   ]
  },
  {
   "cell_type": "code",
   "execution_count": 17,
   "id": "9ad7f516-51af-46c0-b15d-be6984858661",
   "metadata": {},
   "outputs": [
    {
     "data": {
      "text/plain": [
       "sentiment\n",
       " 0.000000    158\n",
       " 0.250000     16\n",
       " 0.200000     14\n",
       "-0.100000     12\n",
       " 0.050000     11\n",
       "            ... \n",
       " 0.128231      1\n",
       " 0.084091      1\n",
       " 0.125909      1\n",
       " 0.008333      1\n",
       "-0.152041      1\n",
       "Name: count, Length: 536, dtype: int64"
      ]
     },
     "execution_count": 17,
     "metadata": {},
     "output_type": "execute_result"
    }
   ],
   "source": [
    "iphone['sentiment'].value_counts()"
   ]
  },
  {
   "cell_type": "code",
   "execution_count": 18,
   "id": "3e1776ed-ae4a-4c2a-b38e-8ec832c50c66",
   "metadata": {},
   "outputs": [],
   "source": [
    "gender_sentiment = iphone.groupby('gender')['sentiment'].mean().reset_index()"
   ]
  },
  {
   "cell_type": "code",
   "execution_count": 19,
   "id": "88791fb1-1f9e-4934-9538-10f0a524dfb9",
   "metadata": {},
   "outputs": [],
   "source": [
    "import matplotlib.pyplot as plt"
   ]
  },
  {
   "cell_type": "code",
   "execution_count": 20,
   "id": "05d2c636-17e8-4382-8234-1968f3d5b14b",
   "metadata": {},
   "outputs": [
    {
     "data": {
      "image/png": "[encoded data removed]",
      "text/plain": [
       "<Figure size 800x500 with 1 Axes>"
      ]
     },
     "metadata": {},
     "output_type": "display_data"
    }
   ],
   "source": [
    "plt.figure(figsize=(8, 5))\n",
    "gender_sentiment.sort_values('sentiment', ascending=False, inplace=True)\n",
    "plt.bar(gender_sentiment['gender'], gender_sentiment['sentiment'], color=['blue', 'pink', 'gray'])\n",
    "plt.xlabel('Gender')\n",
    "plt.ylabel('Average Sentiment')\n",
    "plt.title('Sentiment Analysis by Gender')\n",
    "plt.show()"
   ]
  },
  {
   "cell_type": "markdown",
   "id": "3616fc6b-f974-4416-9933-38b7653815e1",
   "metadata": {},
   "source": [
    "## for samsung"
   ]
  },
  {
   "cell_type": "code",
   "execution_count": 21,
   "id": "ee817522-c1fd-47c1-a030-1de1f66d6b1d",
   "metadata": {},
   "outputs": [
    {
     "name": "stdout",
     "output_type": "stream",
     "text": [
      "<class 'pandas.core.frame.DataFrame'>\n",
      "Index: 1862 entries, 0 to 9444\n",
      "Data columns (total 5 columns):\n",
      " #   Column   Non-Null Count  Dtype \n",
      "---  ------   --------------  ----- \n",
      " 0   Title    1862 non-null   object\n",
      " 1   Upvotes  1862 non-null   int64 \n",
      " 2   URL      1862 non-null   object\n",
      " 3   Created  1862 non-null   int64 \n",
      " 4   Text     1862 non-null   object\n",
      "dtypes: int64(2), object(3)\n",
      "memory usage: 87.3+ KB\n"
     ]
    }
   ],
   "source": [
    "samsung = pd.read_json('reddit_samsung.json')\n",
    "samsung = samsung.drop_duplicates()\n",
    "samsung.info()"
   ]
  },
  {
   "cell_type": "code",
   "execution_count": 22,
   "id": "f16093eb-f9ce-4fd7-a326-9cebc4f22545",
   "metadata": {},
   "outputs": [],
   "source": [
    "samsung['gender'] = samsung['Text'].apply(infer_gender_from_text)\n",
    "samsung['age'] = samsung['Text'].apply(infer_age_from_text)"
   ]
  },
  {
   "cell_type": "code",
   "execution_count": 23,
   "id": "5c07a2ec-2f81-4bed-b07f-6f72a9c50f29",
   "metadata": {},
   "outputs": [
    {
     "data": {
      "text/plain": [
       "gender\n",
       "female     999\n",
       "Male       675\n",
       "Unknown    188\n",
       "Name: count, dtype: int64"
      ]
     },
     "execution_count": 23,
     "metadata": {},
     "output_type": "execute_result"
    }
   ],
   "source": [
    "samsung['gender'].value_counts()"
   ]
  },
  {
   "cell_type": "code",
   "execution_count": 24,
   "id": "d29b320b-d140-4fa9-ae5d-816128829c39",
   "metadata": {},
   "outputs": [],
   "source": [
    "samsung = samsung[samsung['gender'] != 'Unknown']"
   ]
  },
  {
   "cell_type": "code",
   "execution_count": 25,
   "id": "485ee197-6e40-47c4-a40a-221c3fad403e",
   "metadata": {},
   "outputs": [
    {
     "data": {
      "text/plain": [
       "Series([], Name: count, dtype: int64)"
      ]
     },
     "execution_count": 25,
     "metadata": {},
     "output_type": "execute_result"
    }
   ],
   "source": [
    "samsung['age'].value_counts()  ## we goona drop it again."
   ]
  },
  {
   "cell_type": "code",
   "execution_count": 26,
   "id": "521096ee-ca16-4f03-bce9-1dd510cf14c1",
   "metadata": {},
   "outputs": [],
   "source": [
    "samsung['sentiment'] = samsung['Text'].apply(get_sentiment)"
   ]
  },
  {
   "cell_type": "code",
   "execution_count": 27,
   "id": "ed13a3a3-f98f-45c1-b1cf-c16285504134",
   "metadata": {},
   "outputs": [
    {
     "data": {
      "text/plain": [
       "sentiment\n",
       " 0.000000    136\n",
       " 0.500000     36\n",
       " 0.095248     31\n",
       " 0.100000     16\n",
       " 0.200000     14\n",
       "            ... \n",
       "-0.081944      1\n",
       " 0.120000      1\n",
       " 0.072769      1\n",
       "-0.025103      1\n",
       " 0.137980      1\n",
       "Name: count, Length: 609, dtype: int64"
      ]
     },
     "execution_count": 27,
     "metadata": {},
     "output_type": "execute_result"
    }
   ],
   "source": [
    "samsung['sentiment'].value_counts()"
   ]
  },
  {
   "cell_type": "code",
   "execution_count": 28,
   "id": "062edced-7550-4f42-bf89-31245c1934b8",
   "metadata": {},
   "outputs": [],
   "source": [
    "gender_sentiment = samsung.groupby('gender')['sentiment'].mean().reset_index()"
   ]
  },
  {
   "cell_type": "code",
   "execution_count": 29,
   "id": "1bf97c4d-38db-4ecd-9472-8c63ae5e331c",
   "metadata": {},
   "outputs": [
    {
     "data": {
      "image/png": "[encoded data removed]",
      "text/plain": [
       "<Figure size 800x500 with 1 Axes>"
      ]
     },
     "metadata": {},
     "output_type": "display_data"
    }
   ],
   "source": [
    "plt.figure(figsize=(8, 5))\n",
    "gender_sentiment.sort_values('sentiment', ascending=False, inplace=True)\n",
    "plt.bar(gender_sentiment['gender'], gender_sentiment['sentiment'], color=['blue', 'pink', 'gray'])\n",
    "plt.xlabel('Gender')\n",
    "plt.ylabel('Average Sentiment')\n",
    "plt.title('Sentiment Analysis by Gender')\n",
    "plt.show()"
   ]
  },
  {
   "cell_type": "markdown",
   "id": "fa78d239-daf1-4891-b695-d7a894061d07",
   "metadata": {},
   "source": [
    "## for xiaomi"
   ]
  },
  {
   "cell_type": "code",
   "execution_count": 30,
   "id": "a493894e-4486-41ea-bf21-109989a7fadc",
   "metadata": {},
   "outputs": [
    {
     "name": "stdout",
     "output_type": "stream",
     "text": [
      "<class 'pandas.core.frame.DataFrame'>\n",
      "Index: 1523 entries, 0 to 9298\n",
      "Data columns (total 5 columns):\n",
      " #   Column   Non-Null Count  Dtype \n",
      "---  ------   --------------  ----- \n",
      " 0   Title    1523 non-null   object\n",
      " 1   Upvotes  1523 non-null   int64 \n",
      " 2   URL      1523 non-null   object\n",
      " 3   Created  1523 non-null   int64 \n",
      " 4   Text     1523 non-null   object\n",
      "dtypes: int64(2), object(3)\n",
      "memory usage: 71.4+ KB\n"
     ]
    }
   ],
   "source": [
    "xiaomi = pd.read_json('reddit_xiaomi.json')\n",
    "xiaomi = xiaomi.drop_duplicates()\n",
    "xiaomi.info()"
   ]
  },
  {
   "cell_type": "code",
   "execution_count": 31,
   "id": "21ec56e1-9300-4a24-8cf3-1ae5a31aee63",
   "metadata": {},
   "outputs": [],
   "source": [
    "xiaomi['gender'] = xiaomi['Text'].apply(infer_gender_from_text)\n",
    "xiaomi['age'] = xiaomi['Text'].apply(infer_age_from_text)"
   ]
  },
  {
   "cell_type": "code",
   "execution_count": 32,
   "id": "50c78c6c-7c25-42ea-a716-4634a3bbb767",
   "metadata": {},
   "outputs": [
    {
     "data": {
      "text/plain": [
       "gender\n",
       "Male       701\n",
       "female     637\n",
       "Unknown    185\n",
       "Name: count, dtype: int64"
      ]
     },
     "execution_count": 32,
     "metadata": {},
     "output_type": "execute_result"
    }
   ],
   "source": [
    "xiaomi['gender'].value_counts()"
   ]
  },
  {
   "cell_type": "code",
   "execution_count": 33,
   "id": "1ee95bd7-1b96-487c-999c-7579b0c538cf",
   "metadata": {},
   "outputs": [],
   "source": [
    "xiaomi = xiaomi[xiaomi['gender'] != 'Unknown']"
   ]
  },
  {
   "cell_type": "code",
   "execution_count": 34,
   "id": "d3fda8ba-7ae3-4ac5-a424-6b0303bb9f2b",
   "metadata": {},
   "outputs": [
    {
     "data": {
      "text/plain": [
       "Series([], Name: count, dtype: int64)"
      ]
     },
     "execution_count": 34,
     "metadata": {},
     "output_type": "execute_result"
    }
   ],
   "source": [
    "xiaomi['age'].value_counts() ## again we do the same."
   ]
  },
  {
   "cell_type": "code",
   "execution_count": 35,
   "id": "df630347-205f-40f8-8a1a-1e751e981ea2",
   "metadata": {},
   "outputs": [],
   "source": [
    "xiaomi['sentiment'] = xiaomi['Text'].apply(get_sentiment)"
   ]
  },
  {
   "cell_type": "code",
   "execution_count": 36,
   "id": "004825d4-60dc-409b-912d-ed4b496ef060",
   "metadata": {},
   "outputs": [
    {
     "data": {
      "text/plain": [
       "sentiment\n",
       " 0.000000    218\n",
       " 0.200000     26\n",
       " 0.100000     18\n",
       " 0.250000     16\n",
       " 0.166667     14\n",
       "            ... \n",
       " 0.186111      1\n",
       " 0.317143      1\n",
       "-0.025000      1\n",
       "-0.081818      1\n",
       " 0.150198      1\n",
       "Name: count, Length: 509, dtype: int64"
      ]
     },
     "execution_count": 36,
     "metadata": {},
     "output_type": "execute_result"
    }
   ],
   "source": [
    "xiaomi['sentiment'].value_counts()"
   ]
  },
  {
   "cell_type": "code",
   "execution_count": 37,
   "id": "07be6a2e-496e-465f-b49d-226500b0e688",
   "metadata": {},
   "outputs": [],
   "source": [
    "gender_sentiment = xiaomi.groupby('gender')['sentiment'].mean().reset_index()"
   ]
  },
  {
   "cell_type": "code",
   "execution_count": 38,
   "id": "6ddb63fe-1ed3-4773-8fc0-3d04ab88991f",
   "metadata": {},
   "outputs": [
    {
     "data": {
      "image/png": "[encoded data removed]",
      "text/plain": [
       "<Figure size 800x500 with 1 Axes>"
      ]
     },
     "metadata": {},
     "output_type": "display_data"
    }
   ],
   "source": [
    "plt.figure(figsize=(8, 5))\n",
    "gender_sentiment.sort_values('sentiment', ascending=False, inplace=True)\n",
    "plt.bar(gender_sentiment['gender'], gender_sentiment['sentiment'], color=['blue', 'pink', 'gray'])\n",
    "plt.xlabel('Gender')\n",
    "plt.ylabel('Average Sentiment')\n",
    "plt.title('Sentiment Analysis by Gender')\n",
    "plt.show()"
   ]
  },
  {
   "cell_type": "markdown",
   "id": "eb75f5cf-33f0-4713-b0de-78eae4b52abf",
   "metadata": {},
   "source": [
    "## for oneplus"
   ]
  },
  {
   "cell_type": "code",
   "execution_count": 39,
   "id": "75ad42b2-e0fe-459e-8fef-282d148bf536",
   "metadata": {},
   "outputs": [
    {
     "name": "stdout",
     "output_type": "stream",
     "text": [
      "<class 'pandas.core.frame.DataFrame'>\n",
      "Index: 1562 entries, 0 to 9703\n",
      "Data columns (total 5 columns):\n",
      " #   Column   Non-Null Count  Dtype \n",
      "---  ------   --------------  ----- \n",
      " 0   Title    1562 non-null   object\n",
      " 1   Upvotes  1562 non-null   int64 \n",
      " 2   URL      1562 non-null   object\n",
      " 3   Created  1562 non-null   int64 \n",
      " 4   Text     1562 non-null   object\n",
      "dtypes: int64(2), object(3)\n",
      "memory usage: 73.2+ KB\n"
     ]
    }
   ],
   "source": [
    "oneplus = pd.read_json('reddit_iphone.json')\n",
    "oneplus = oneplus.drop_duplicates()\n",
    "oneplus.info()"
   ]
  },
  {
   "cell_type": "code",
   "execution_count": 40,
   "id": "88d62995-97a8-47a9-a620-2c3cff9e655c",
   "metadata": {},
   "outputs": [],
   "source": [
    "oneplus['gender'] = oneplus['Text'].apply(infer_gender_from_text)\n",
    "oneplus['age'] = oneplus['Text'].apply(infer_age_from_text)"
   ]
  },
  {
   "cell_type": "code",
   "execution_count": 41,
   "id": "ce01e438-6bd9-490c-bc6f-6ac1b0d73154",
   "metadata": {},
   "outputs": [
    {
     "data": {
      "text/plain": [
       "gender\n",
       "female     638\n",
       "Male       581\n",
       "Unknown    343\n",
       "Name: count, dtype: int64"
      ]
     },
     "execution_count": 41,
     "metadata": {},
     "output_type": "execute_result"
    }
   ],
   "source": [
    "oneplus['gender'].value_counts()"
   ]
  },
  {
   "cell_type": "code",
   "execution_count": 42,
   "id": "2fd4c8e9-cef0-410c-a253-5a978901ab37",
   "metadata": {},
   "outputs": [],
   "source": [
    "oneplus = oneplus[oneplus['gender'] != 'Unknown']"
   ]
  },
  {
   "cell_type": "code",
   "execution_count": 43,
   "id": "ae62f784-1c0b-4d5c-88fd-15f052194644",
   "metadata": {},
   "outputs": [
    {
     "data": {
      "text/plain": [
       "age\n",
       "(13, 19)    9\n",
       "Name: count, dtype: int64"
      ]
     },
     "execution_count": 43,
     "metadata": {},
     "output_type": "execute_result"
    }
   ],
   "source": [
    "oneplus['age'].value_counts()  ## again we drop it"
   ]
  },
  {
   "cell_type": "code",
   "execution_count": 44,
   "id": "cd0906c7-05b7-4900-8179-fc76ae20ebbf",
   "metadata": {},
   "outputs": [],
   "source": [
    "oneplus['sentiment'] = oneplus['Text'].apply(get_sentiment)"
   ]
  },
  {
   "cell_type": "code",
   "execution_count": 45,
   "id": "66b53303-a1bf-4592-a232-93ccc92c53b9",
   "metadata": {},
   "outputs": [
    {
     "data": {
      "text/plain": [
       "sentiment\n",
       " 0.000000    158\n",
       " 0.250000     16\n",
       " 0.200000     14\n",
       "-0.100000     12\n",
       " 0.050000     11\n",
       "            ... \n",
       " 0.128231      1\n",
       " 0.084091      1\n",
       " 0.125909      1\n",
       " 0.008333      1\n",
       "-0.152041      1\n",
       "Name: count, Length: 536, dtype: int64"
      ]
     },
     "execution_count": 45,
     "metadata": {},
     "output_type": "execute_result"
    }
   ],
   "source": [
    "oneplus['sentiment'].value_counts()"
   ]
  },
  {
   "cell_type": "code",
   "execution_count": 46,
   "id": "971bb1b7-951f-4766-a53d-e29455eb4287",
   "metadata": {},
   "outputs": [],
   "source": [
    "gender_sentiment = oneplus.groupby('gender')['sentiment'].mean().reset_index()"
   ]
  },
  {
   "cell_type": "code",
   "execution_count": 47,
   "id": "97ecda63-6ef2-4948-84f4-20b55c43059d",
   "metadata": {},
   "outputs": [
    {
     "data": {
      "image/png": "[encoded data removed]",
      "text/plain": [
       "<Figure size 800x500 with 1 Axes>"
      ]
     },
     "metadata": {},
     "output_type": "display_data"
    }
   ],
   "source": [
    "plt.figure(figsize=(8, 5))\n",
    "gender_sentiment.sort_values('sentiment', ascending=False, inplace=True)\n",
    "plt.bar(gender_sentiment['gender'], gender_sentiment['sentiment'], color=['blue', 'pink', 'gray'])\n",
    "plt.xlabel('Gender')\n",
    "plt.ylabel('Average Sentiment')\n",
    "plt.title('Sentiment Analysis by Gender')\n",
    "plt.show()"
   ]
  },
  {
   "cell_type": "code",
   "execution_count": 48,
   "id": "f17ca1ff-b582-46ce-ab80-3e33d6aaa9ff",
   "metadata": {},
   "outputs": [],
   "source": [
    "## In this file other than positive and negative sentiment we get a better idea of average of sentiment of male and female of each smartphone brands."
   ]
  },
  {
   "cell_type": "markdown",
   "id": "eca65408-cefb-4b0d-8c5a-20c611d05869",
   "metadata": {},
   "source": [
    "The results allow us to see whether there are noticeable differences in how men and women feel about specific brands, and whether certain brands evoke more positive or negative sentiments among different genders."
   ]
  }
 ],
 "metadata": {
  "kernelspec": {
   "display_name": "Python 3 (ipykernel)",
   "language": "python",
   "name": "python3"
  },
  "language_info": {
   "codemirror_mode": {
    "name": "ipython",
    "version": 3
   },
   "file_extension": ".py",
   "mimetype": "text/x-python",
   "name": "python",
   "nbconvert_exporter": "python",
   "pygments_lexer": "ipython3",
   "version": "3.11.7"
  }
 },
 "nbformat": 4,
 "nbformat_minor": 5
}
