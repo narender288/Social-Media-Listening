{
 "cells": [
  {
   "cell_type": "markdown",
   "id": "30afd173-6082-407c-a75e-5a7ee288614f",
   "metadata": {},
   "source": [
    "## for iphone"
   ]
  },
  {
   "cell_type": "code",
   "execution_count": 1,
   "id": "5f94bed4-b27e-45a5-9c6c-bf2ac0a2e2fa",
   "metadata": {},
   "outputs": [],
   "source": [
    "import pandas as pd\n",
    "from textblob import TextBlob\n",
    "import matplotlib.pyplot as plt\n",
    "import spacy"
   ]
  },
  {
   "cell_type": "code",
   "execution_count": 2,
   "id": "59f98bad-1b8d-4eb5-882e-20d72e4ed78c",
   "metadata": {},
   "outputs": [],
   "source": [
    "iphone = pd.read_json('reddit_iphone.json')"
   ]
  },
  {
   "cell_type": "code",
   "execution_count": 3,
   "id": "03583aca-153e-4f5d-98aa-10a61a920ea1",
   "metadata": {},
   "outputs": [
    {
     "name": "stdout",
     "output_type": "stream",
     "text": [
      "<class 'pandas.core.frame.DataFrame'>\n",
      "RangeIndex: 9815 entries, 0 to 9814\n",
      "Data columns (total 5 columns):\n",
      " #   Column   Non-Null Count  Dtype \n",
      "---  ------   --------------  ----- \n",
      " 0   Title    9815 non-null   object\n",
      " 1   Upvotes  9815 non-null   int64 \n",
      " 2   URL      9815 non-null   object\n",
      " 3   Created  9815 non-null   int64 \n",
      " 4   Text     9815 non-null   object\n",
      "dtypes: int64(2), object(3)\n",
      "memory usage: 383.5+ KB\n"
     ]
    }
   ],
   "source": [
    "iphone.info()"
   ]
  },
  {
   "cell_type": "code",
   "execution_count": 4,
   "id": "fe8678cf-c7f5-4e6a-a158-f39f0d9e29a3",
   "metadata": {},
   "outputs": [],
   "source": [
    "iphone = iphone.drop_duplicates()"
   ]
  },
  {
   "cell_type": "code",
   "execution_count": 5,
   "id": "c78952c9-4c38-4a75-b951-6169e089a499",
   "metadata": {},
   "outputs": [
    {
     "name": "stdout",
     "output_type": "stream",
     "text": [
      "<class 'pandas.core.frame.DataFrame'>\n",
      "Index: 1562 entries, 0 to 9703\n",
      "Data columns (total 5 columns):\n",
      " #   Column   Non-Null Count  Dtype \n",
      "---  ------   --------------  ----- \n",
      " 0   Title    1562 non-null   object\n",
      " 1   Upvotes  1562 non-null   int64 \n",
      " 2   URL      1562 non-null   object\n",
      " 3   Created  1562 non-null   int64 \n",
      " 4   Text     1562 non-null   object\n",
      "dtypes: int64(2), object(3)\n",
      "memory usage: 73.2+ KB\n"
     ]
    }
   ],
   "source": [
    "iphone.info()"
   ]
  },
  {
   "cell_type": "code",
   "execution_count": 6,
   "id": "d79bce6f-6d2d-4be9-a8ae-0cb7c86160ca",
   "metadata": {},
   "outputs": [],
   "source": [
    "# Perform sentiment analysis using TextBlob (or another sentiment model like VADER)\n",
    "def get_sentiment(text):\n",
    "    analysis = TextBlob(text)\n",
    "    return analysis.sentiment.polarity"
   ]
  },
  {
   "cell_type": "code",
   "execution_count": 7,
   "id": "ee383c70-24fb-46b0-8cda-0d94125855d7",
   "metadata": {},
   "outputs": [],
   "source": [
    "iphone['sentiment'] = iphone['Text'].apply(get_sentiment)"
   ]
  },
  {
   "cell_type": "code",
   "execution_count": 8,
   "id": "16ef096d-d1ea-4e3e-9fe9-644295443d68",
   "metadata": {},
   "outputs": [
    {
     "data": {
      "text/plain": [
       "sentiment\n",
       " 0.000000    443\n",
       " 0.250000     16\n",
       " 0.050000     16\n",
       " 0.200000     16\n",
       "-0.071429     14\n",
       "            ... \n",
       " 0.084091      1\n",
       " 0.125909      1\n",
       " 0.008333      1\n",
       "-0.431818      1\n",
       "-0.152041      1\n",
       "Name: count, Length: 543, dtype: int64"
      ]
     },
     "execution_count": 8,
     "metadata": {},
     "output_type": "execute_result"
    }
   ],
   "source": [
    "iphone['sentiment'].value_counts()"
   ]
  },
  {
   "cell_type": "code",
   "execution_count": 9,
   "id": "ecbad4c2-4bf2-4456-899e-83ef83c7faf0",
   "metadata": {},
   "outputs": [],
   "source": [
    "nlp = spacy.load(\"en_core_web_sm\")"
   ]
  },
  {
   "cell_type": "code",
   "execution_count": 10,
   "id": "0b2fa890-bc39-4e45-9659-4fd76fdb3bb9",
   "metadata": {},
   "outputs": [],
   "source": [
    "def extract_location(text):\n",
    "    doc = nlp(text)\n",
    "    locations = [ent.text for ent in doc.ents if ent.label_ == \"GPE\"]  # GPE stands for Geopolitical Entity (cities, countries)\n",
    "    return locations[0] if locations else None  # Return the first location found or None"
   ]
  },
  {
   "cell_type": "code",
   "execution_count": 11,
   "id": "176c68d6-d4c4-4836-971f-7b5e122735c6",
   "metadata": {},
   "outputs": [],
   "source": [
    "iphone['location'] = iphone['Text'].apply(extract_location)"
   ]
  },
  {
   "cell_type": "code",
   "execution_count": 12,
   "id": "b1c33f31-94be-4c2b-a8bc-8b800c9210e4",
   "metadata": {},
   "outputs": [
    {
     "data": {
      "text/plain": [
       "location\n",
       "US                                                                                                                                                                                            11\n",
       "Spotify                                                                                                                                                                                       10\n",
       "AI                                                                                                                                                                                             8\n",
       "n’t                                                                                                                                                                                            8\n",
       "London                                                                                                                                                                                         6\n",
       "UK                                                                                                                                                                                             5\n",
       "Siri                                                                                                                                                                                           4\n",
       "Andriod                                                                                                                                                                                        4\n",
       "Photos                                                                                                                                                                                         4\n",
       "Santa Clarita                                                                                                                                                                                  3\n",
       "Canada                                                                                                                                                                                         3\n",
       "Reddit                                                                                                                                                                                         3\n",
       "Pakistan                                                                                                                                                                                       3\n",
       "Verizon                                                                                                                                                                                        3\n",
       "Macbook                                                                                                                                                                                        2\n",
       "Germany                                                                                                                                                                                        2\n",
       "China                                                                                                                                                                                          2\n",
       "india                                                                                                                                                                                          2\n",
       "USA                                                                                                                                                                                            2\n",
       "BT                                                                                                                                                                                             2\n",
       "https://www.reddit.com/r/iphone/comments/18sdva9/cant_delete_vpn_app_off_my_phone_even_though_i/?utm_source=share&utm_medium=mweb3x&utm_name=mweb3xcss&utm_term=1&utm_content=share_button     1\n",
       "UAE                                                                                                                                                                                            1\n",
       "fica                                                                                                                                                                                           1\n",
       "Israel                                                                                                                                                                                         1\n",
       "Egypt                                                                                                                                                                                          1\n",
       "Hakuba                                                                                                                                                                                         1\n",
       "TOTALLY                                                                                                                                                                                        1\n",
       "Banglore                                                                                                                                                                                       1\n",
       "nada                                                                                                                                                                                           1\n",
       "MACBOOK                                                                                                                                                                                        1\n",
       "Prague                                                                                                                                                                                         1\n",
       "Philippines                                                                                                                                                                                    1\n",
       "GB                                                                                                                                                                                             1\n",
       "russia                                                                                                                                                                                         1\n",
       "Game Center                                                                                                                                                                                    1\n",
       "0.5x                                                                                                                                                                                           1\n",
       "Us                                                                                                                                                                                             1\n",
       "Ugreen                                                                                                                                                                                         1\n",
       "France                                                                                                                                                                                         1\n",
       "India                                                                                                                                                                                          1\n",
       "london                                                                                                                                                                                         1\n",
       "Delete                                                                                                                                                                                         1\n",
       "United States                                                                                                                                                                                  1\n",
       "iTunes                                                                                                                                                                                         1\n",
       "Unpacked                                                                                                                                                                                       1\n",
       "Aparece                                                                                                                                                                                        1\n",
       "Windows lo rechaza                                                                                                                                                                             1\n",
       "Singapore                                                                                                                                                                                      1\n",
       "el único                                                                                                                                                                                       1\n",
       "Australia                                                                                                                                                                                      1\n",
       "Island                                                                                                                                                                                         1\n",
       "Romania                                                                                                                                                                                        1\n",
       "Georgia                                                                                                                                                                                        1\n",
       "Cupertino                                                                                                                                                                                      1\n",
       "Rhinoshield                                                                                                                                                                                    1\n",
       "Continue                                                                                                                                                                                       1\n",
       "Name: count, dtype: int64"
      ]
     },
     "execution_count": 12,
     "metadata": {},
     "output_type": "execute_result"
    }
   ],
   "source": [
    "iphone['location'].value_counts()"
   ]
  },
  {
   "cell_type": "code",
   "execution_count": 13,
   "id": "4f9cc493-a075-4dab-b165-2b0b37e6c99e",
   "metadata": {},
   "outputs": [
    {
     "data": {
      "text/plain": [
       "array([None, 'Siri', 'BT', 'Verizon', 'USA', 'India', 'n’t', 'london',\n",
       "       'Delete', 'China', 'Germany', 'London', 'Spotify', 'US',\n",
       "       'United States', 'iTunes', 'Photos', 'Unpacked', 'Aparece',\n",
       "       'Pakistan', 'Reddit', 'india', 'Canada', 'France',\n",
       "       'Windows lo rechaza', 'Macbook', 'el único', 'Australia',\n",
       "       'Santa Clarita', 'Us', 'Island', 'UK', 'Romania', 'Georgia',\n",
       "       'Cupertino', 'Rhinoshield', 'Singapore', 'Ugreen', 'GB', '0.5x',\n",
       "       'UAE', 'fica', 'Israel', 'Egypt', 'AI', 'Andriod', 'Banglore',\n",
       "       'MACBOOK', 'Prague', 'russia', 'Game Center', 'nada', 'TOTALLY',\n",
       "       'Philippines',\n",
       "       'https://www.reddit.com/r/iphone/comments/18sdva9/cant_delete_vpn_app_off_my_phone_even_though_i/?utm_source=share&utm_medium=mweb3x&utm_name=mweb3xcss&utm_term=1&utm_content=share_button',\n",
       "       'Hakuba', 'Continue'], dtype=object)"
      ]
     },
     "execution_count": 13,
     "metadata": {},
     "output_type": "execute_result"
    }
   ],
   "source": [
    "iphone['location'].unique()"
   ]
  },
  {
   "cell_type": "code",
   "execution_count": 14,
   "id": "58cae5c4-9a7e-43e6-ad9b-21f3b2ab7928",
   "metadata": {},
   "outputs": [],
   "source": [
    "import pycountry"
   ]
  },
  {
   "cell_type": "code",
   "execution_count": 15,
   "id": "37f1507d-b8cd-453f-8f40-73f135ca33ba",
   "metadata": {},
   "outputs": [],
   "source": [
    "valid_countries = {country.name.lower(): country.name for country in pycountry.countries}"
   ]
  },
  {
   "cell_type": "code",
   "execution_count": 16,
   "id": "8e0d59d4-3be3-48f0-b858-5b3bf62c569f",
   "metadata": {},
   "outputs": [
    {
     "data": {
      "text/plain": [
       "{'aruba': 'Aruba',\n",
       " 'afghanistan': 'Afghanistan',\n",
       " 'angola': 'Angola',\n",
       " 'anguilla': 'Anguilla',\n",
       " 'åland islands': 'Åland Islands',\n",
       " 'albania': 'Albania',\n",
       " 'andorra': 'Andorra',\n",
       " 'united arab emirates': 'United Arab Emirates',\n",
       " 'argentina': 'Argentina',\n",
       " 'armenia': 'Armenia',\n",
       " 'american samoa': 'American Samoa',\n",
       " 'antarctica': 'Antarctica',\n",
       " 'french southern territories': 'French Southern Territories',\n",
       " 'antigua and barbuda': 'Antigua and Barbuda',\n",
       " 'australia': 'Australia',\n",
       " 'austria': 'Austria',\n",
       " 'azerbaijan': 'Azerbaijan',\n",
       " 'burundi': 'Burundi',\n",
       " 'belgium': 'Belgium',\n",
       " 'benin': 'Benin',\n",
       " 'bonaire, sint eustatius and saba': 'Bonaire, Sint Eustatius and Saba',\n",
       " 'burkina faso': 'Burkina Faso',\n",
       " 'bangladesh': 'Bangladesh',\n",
       " 'bulgaria': 'Bulgaria',\n",
       " 'bahrain': 'Bahrain',\n",
       " 'bahamas': 'Bahamas',\n",
       " 'bosnia and herzegovina': 'Bosnia and Herzegovina',\n",
       " 'saint barthélemy': 'Saint Barthélemy',\n",
       " 'belarus': 'Belarus',\n",
       " 'belize': 'Belize',\n",
       " 'bermuda': 'Bermuda',\n",
       " 'bolivia, plurinational state of': 'Bolivia, Plurinational State of',\n",
       " 'brazil': 'Brazil',\n",
       " 'barbados': 'Barbados',\n",
       " 'brunei darussalam': 'Brunei Darussalam',\n",
       " 'bhutan': 'Bhutan',\n",
       " 'bouvet island': 'Bouvet Island',\n",
       " 'botswana': 'Botswana',\n",
       " 'central african republic': 'Central African Republic',\n",
       " 'canada': 'Canada',\n",
       " 'cocos (keeling) islands': 'Cocos (Keeling) Islands',\n",
       " 'switzerland': 'Switzerland',\n",
       " 'chile': 'Chile',\n",
       " 'china': 'China',\n",
       " \"côte d'ivoire\": \"Côte d'Ivoire\",\n",
       " 'cameroon': 'Cameroon',\n",
       " 'congo, the democratic republic of the': 'Congo, The Democratic Republic of the',\n",
       " 'congo': 'Congo',\n",
       " 'cook islands': 'Cook Islands',\n",
       " 'colombia': 'Colombia',\n",
       " 'comoros': 'Comoros',\n",
       " 'cabo verde': 'Cabo Verde',\n",
       " 'costa rica': 'Costa Rica',\n",
       " 'cuba': 'Cuba',\n",
       " 'curaçao': 'Curaçao',\n",
       " 'christmas island': 'Christmas Island',\n",
       " 'cayman islands': 'Cayman Islands',\n",
       " 'cyprus': 'Cyprus',\n",
       " 'czechia': 'Czechia',\n",
       " 'germany': 'Germany',\n",
       " 'djibouti': 'Djibouti',\n",
       " 'dominica': 'Dominica',\n",
       " 'denmark': 'Denmark',\n",
       " 'dominican republic': 'Dominican Republic',\n",
       " 'algeria': 'Algeria',\n",
       " 'ecuador': 'Ecuador',\n",
       " 'egypt': 'Egypt',\n",
       " 'eritrea': 'Eritrea',\n",
       " 'western sahara': 'Western Sahara',\n",
       " 'spain': 'Spain',\n",
       " 'estonia': 'Estonia',\n",
       " 'ethiopia': 'Ethiopia',\n",
       " 'finland': 'Finland',\n",
       " 'fiji': 'Fiji',\n",
       " 'falkland islands (malvinas)': 'Falkland Islands (Malvinas)',\n",
       " 'france': 'France',\n",
       " 'faroe islands': 'Faroe Islands',\n",
       " 'micronesia, federated states of': 'Micronesia, Federated States of',\n",
       " 'gabon': 'Gabon',\n",
       " 'united kingdom': 'United Kingdom',\n",
       " 'georgia': 'Georgia',\n",
       " 'guernsey': 'Guernsey',\n",
       " 'ghana': 'Ghana',\n",
       " 'gibraltar': 'Gibraltar',\n",
       " 'guinea': 'Guinea',\n",
       " 'guadeloupe': 'Guadeloupe',\n",
       " 'gambia': 'Gambia',\n",
       " 'guinea-bissau': 'Guinea-Bissau',\n",
       " 'equatorial guinea': 'Equatorial Guinea',\n",
       " 'greece': 'Greece',\n",
       " 'grenada': 'Grenada',\n",
       " 'greenland': 'Greenland',\n",
       " 'guatemala': 'Guatemala',\n",
       " 'french guiana': 'French Guiana',\n",
       " 'guam': 'Guam',\n",
       " 'guyana': 'Guyana',\n",
       " 'hong kong': 'Hong Kong',\n",
       " 'heard island and mcdonald islands': 'Heard Island and McDonald Islands',\n",
       " 'honduras': 'Honduras',\n",
       " 'croatia': 'Croatia',\n",
       " 'haiti': 'Haiti',\n",
       " 'hungary': 'Hungary',\n",
       " 'indonesia': 'Indonesia',\n",
       " 'isle of man': 'Isle of Man',\n",
       " 'india': 'India',\n",
       " 'british indian ocean territory': 'British Indian Ocean Territory',\n",
       " 'ireland': 'Ireland',\n",
       " 'iran, islamic republic of': 'Iran, Islamic Republic of',\n",
       " 'iraq': 'Iraq',\n",
       " 'iceland': 'Iceland',\n",
       " 'israel': 'Israel',\n",
       " 'italy': 'Italy',\n",
       " 'jamaica': 'Jamaica',\n",
       " 'jersey': 'Jersey',\n",
       " 'jordan': 'Jordan',\n",
       " 'japan': 'Japan',\n",
       " 'kazakhstan': 'Kazakhstan',\n",
       " 'kenya': 'Kenya',\n",
       " 'kyrgyzstan': 'Kyrgyzstan',\n",
       " 'cambodia': 'Cambodia',\n",
       " 'kiribati': 'Kiribati',\n",
       " 'saint kitts and nevis': 'Saint Kitts and Nevis',\n",
       " 'korea, republic of': 'Korea, Republic of',\n",
       " 'kuwait': 'Kuwait',\n",
       " \"lao people's democratic republic\": \"Lao People's Democratic Republic\",\n",
       " 'lebanon': 'Lebanon',\n",
       " 'liberia': 'Liberia',\n",
       " 'libya': 'Libya',\n",
       " 'saint lucia': 'Saint Lucia',\n",
       " 'liechtenstein': 'Liechtenstein',\n",
       " 'sri lanka': 'Sri Lanka',\n",
       " 'lesotho': 'Lesotho',\n",
       " 'lithuania': 'Lithuania',\n",
       " 'luxembourg': 'Luxembourg',\n",
       " 'latvia': 'Latvia',\n",
       " 'macao': 'Macao',\n",
       " 'saint martin (french part)': 'Saint Martin (French part)',\n",
       " 'morocco': 'Morocco',\n",
       " 'monaco': 'Monaco',\n",
       " 'moldova, republic of': 'Moldova, Republic of',\n",
       " 'madagascar': 'Madagascar',\n",
       " 'maldives': 'Maldives',\n",
       " 'mexico': 'Mexico',\n",
       " 'marshall islands': 'Marshall Islands',\n",
       " 'north macedonia': 'North Macedonia',\n",
       " 'mali': 'Mali',\n",
       " 'malta': 'Malta',\n",
       " 'myanmar': 'Myanmar',\n",
       " 'montenegro': 'Montenegro',\n",
       " 'mongolia': 'Mongolia',\n",
       " 'northern mariana islands': 'Northern Mariana Islands',\n",
       " 'mozambique': 'Mozambique',\n",
       " 'mauritania': 'Mauritania',\n",
       " 'montserrat': 'Montserrat',\n",
       " 'martinique': 'Martinique',\n",
       " 'mauritius': 'Mauritius',\n",
       " 'malawi': 'Malawi',\n",
       " 'malaysia': 'Malaysia',\n",
       " 'mayotte': 'Mayotte',\n",
       " 'namibia': 'Namibia',\n",
       " 'new caledonia': 'New Caledonia',\n",
       " 'niger': 'Niger',\n",
       " 'norfolk island': 'Norfolk Island',\n",
       " 'nigeria': 'Nigeria',\n",
       " 'nicaragua': 'Nicaragua',\n",
       " 'niue': 'Niue',\n",
       " 'netherlands': 'Netherlands',\n",
       " 'norway': 'Norway',\n",
       " 'nepal': 'Nepal',\n",
       " 'nauru': 'Nauru',\n",
       " 'new zealand': 'New Zealand',\n",
       " 'oman': 'Oman',\n",
       " 'pakistan': 'Pakistan',\n",
       " 'panama': 'Panama',\n",
       " 'pitcairn': 'Pitcairn',\n",
       " 'peru': 'Peru',\n",
       " 'philippines': 'Philippines',\n",
       " 'palau': 'Palau',\n",
       " 'papua new guinea': 'Papua New Guinea',\n",
       " 'poland': 'Poland',\n",
       " 'puerto rico': 'Puerto Rico',\n",
       " \"korea, democratic people's republic of\": \"Korea, Democratic People's Republic of\",\n",
       " 'portugal': 'Portugal',\n",
       " 'paraguay': 'Paraguay',\n",
       " 'palestine, state of': 'Palestine, State of',\n",
       " 'french polynesia': 'French Polynesia',\n",
       " 'qatar': 'Qatar',\n",
       " 'réunion': 'Réunion',\n",
       " 'romania': 'Romania',\n",
       " 'russian federation': 'Russian Federation',\n",
       " 'rwanda': 'Rwanda',\n",
       " 'saudi arabia': 'Saudi Arabia',\n",
       " 'sudan': 'Sudan',\n",
       " 'senegal': 'Senegal',\n",
       " 'singapore': 'Singapore',\n",
       " 'south georgia and the south sandwich islands': 'South Georgia and the South Sandwich Islands',\n",
       " 'saint helena, ascension and tristan da cunha': 'Saint Helena, Ascension and Tristan da Cunha',\n",
       " 'svalbard and jan mayen': 'Svalbard and Jan Mayen',\n",
       " 'solomon islands': 'Solomon Islands',\n",
       " 'sierra leone': 'Sierra Leone',\n",
       " 'el salvador': 'El Salvador',\n",
       " 'san marino': 'San Marino',\n",
       " 'somalia': 'Somalia',\n",
       " 'saint pierre and miquelon': 'Saint Pierre and Miquelon',\n",
       " 'serbia': 'Serbia',\n",
       " 'south sudan': 'South Sudan',\n",
       " 'sao tome and principe': 'Sao Tome and Principe',\n",
       " 'suriname': 'Suriname',\n",
       " 'slovakia': 'Slovakia',\n",
       " 'slovenia': 'Slovenia',\n",
       " 'sweden': 'Sweden',\n",
       " 'eswatini': 'Eswatini',\n",
       " 'sint maarten (dutch part)': 'Sint Maarten (Dutch part)',\n",
       " 'seychelles': 'Seychelles',\n",
       " 'syrian arab republic': 'Syrian Arab Republic',\n",
       " 'turks and caicos islands': 'Turks and Caicos Islands',\n",
       " 'chad': 'Chad',\n",
       " 'togo': 'Togo',\n",
       " 'thailand': 'Thailand',\n",
       " 'tajikistan': 'Tajikistan',\n",
       " 'tokelau': 'Tokelau',\n",
       " 'turkmenistan': 'Turkmenistan',\n",
       " 'timor-leste': 'Timor-Leste',\n",
       " 'tonga': 'Tonga',\n",
       " 'trinidad and tobago': 'Trinidad and Tobago',\n",
       " 'tunisia': 'Tunisia',\n",
       " 'türkiye': 'Türkiye',\n",
       " 'tuvalu': 'Tuvalu',\n",
       " 'taiwan, province of china': 'Taiwan, Province of China',\n",
       " 'tanzania, united republic of': 'Tanzania, United Republic of',\n",
       " 'uganda': 'Uganda',\n",
       " 'ukraine': 'Ukraine',\n",
       " 'united states minor outlying islands': 'United States Minor Outlying Islands',\n",
       " 'uruguay': 'Uruguay',\n",
       " 'united states': 'United States',\n",
       " 'uzbekistan': 'Uzbekistan',\n",
       " 'holy see (vatican city state)': 'Holy See (Vatican City State)',\n",
       " 'saint vincent and the grenadines': 'Saint Vincent and the Grenadines',\n",
       " 'venezuela, bolivarian republic of': 'Venezuela, Bolivarian Republic of',\n",
       " 'virgin islands, british': 'Virgin Islands, British',\n",
       " 'virgin islands, u.s.': 'Virgin Islands, U.S.',\n",
       " 'viet nam': 'Viet Nam',\n",
       " 'vanuatu': 'Vanuatu',\n",
       " 'wallis and futuna': 'Wallis and Futuna',\n",
       " 'samoa': 'Samoa',\n",
       " 'yemen': 'Yemen',\n",
       " 'south africa': 'South Africa',\n",
       " 'zambia': 'Zambia',\n",
       " 'zimbabwe': 'Zimbabwe'}"
      ]
     },
     "execution_count": 16,
     "metadata": {},
     "output_type": "execute_result"
    }
   ],
   "source": [
    "valid_countries"
   ]
  },
  {
   "cell_type": "code",
   "execution_count": 17,
   "id": "52b9e037-0345-4344-bd12-824916a2c8c6",
   "metadata": {},
   "outputs": [],
   "source": [
    "def extract_valid_country(location):\n",
    "    if location is not None and location.lower() in valid_countries:\n",
    "        return valid_countries[location.lower()]\n",
    "    return None  # If it's not a valid country, return None"
   ]
  },
  {
   "cell_type": "code",
   "execution_count": 18,
   "id": "fefab830-bea3-4b9c-a1fd-d76720a47e4c",
   "metadata": {},
   "outputs": [],
   "source": [
    "iphone['country'] = iphone['location'].apply(extract_valid_country)"
   ]
  },
  {
   "cell_type": "code",
   "execution_count": 19,
   "id": "1b4a5926-08e0-4711-b331-ced3cb848ee5",
   "metadata": {},
   "outputs": [
    {
     "data": {
      "text/plain": [
       "0       None\n",
       "1       None\n",
       "2       None\n",
       "3       None\n",
       "4       None\n",
       "        ... \n",
       "9548    None\n",
       "9575    None\n",
       "9601    None\n",
       "9689    None\n",
       "9703    None\n",
       "Name: country, Length: 1562, dtype: object"
      ]
     },
     "execution_count": 19,
     "metadata": {},
     "output_type": "execute_result"
    }
   ],
   "source": [
    "iphone['country']"
   ]
  },
  {
   "cell_type": "code",
   "execution_count": 20,
   "id": "e94e04e9-728b-4c49-90a5-d1e6a63696f0",
   "metadata": {},
   "outputs": [],
   "source": [
    "iphone = iphone[iphone['country'].notna()]"
   ]
  },
  {
   "cell_type": "code",
   "execution_count": 21,
   "id": "f3d58314-043c-432b-b3d9-46f00324a5f1",
   "metadata": {},
   "outputs": [
    {
     "data": {
      "text/plain": [
       "45              India\n",
       "92              China\n",
       "95            Germany\n",
       "137     United States\n",
       "253           Germany\n",
       "265          Pakistan\n",
       "301             India\n",
       "339            Canada\n",
       "360            France\n",
       "386             China\n",
       "392             India\n",
       "425         Australia\n",
       "495           Romania\n",
       "504           Georgia\n",
       "509            Canada\n",
       "547         Singapore\n",
       "633            Israel\n",
       "670             Egypt\n",
       "827            Canada\n",
       "939       Philippines\n",
       "1247         Pakistan\n",
       "2229         Pakistan\n",
       "Name: country, dtype: object"
      ]
     },
     "execution_count": 21,
     "metadata": {},
     "output_type": "execute_result"
    }
   ],
   "source": [
    "iphone['country']"
   ]
  },
  {
   "cell_type": "code",
   "execution_count": 22,
   "id": "e08e6e25-3fe6-4d79-a945-07867c27a1ec",
   "metadata": {},
   "outputs": [],
   "source": [
    "location_sentiment = iphone.groupby('country')['sentiment'].mean().reset_index()"
   ]
  },
  {
   "cell_type": "code",
   "execution_count": 23,
   "id": "4100ed8d-9bff-4814-a574-430939d1f529",
   "metadata": {},
   "outputs": [
    {
     "data": {
      "text/html": [
       "<div>\n",
       "<style scoped>\n",
       "    .dataframe tbody tr th:only-of-type {\n",
       "        vertical-align: middle;\n",
       "    }\n",
       "\n",
       "    .dataframe tbody tr th {\n",
       "        vertical-align: top;\n",
       "    }\n",
       "\n",
       "    .dataframe thead th {\n",
       "        text-align: right;\n",
       "    }\n",
       "</style>\n",
       "<table border=\"1\" class=\"dataframe\">\n",
       "  <thead>\n",
       "    <tr style=\"text-align: right;\">\n",
       "      <th></th>\n",
       "      <th>country</th>\n",
       "      <th>sentiment</th>\n",
       "    </tr>\n",
       "  </thead>\n",
       "  <tbody>\n",
       "    <tr>\n",
       "      <th>0</th>\n",
       "      <td>Australia</td>\n",
       "      <td>0.068182</td>\n",
       "    </tr>\n",
       "    <tr>\n",
       "      <th>1</th>\n",
       "      <td>Canada</td>\n",
       "      <td>-0.024401</td>\n",
       "    </tr>\n",
       "    <tr>\n",
       "      <th>2</th>\n",
       "      <td>China</td>\n",
       "      <td>-0.005303</td>\n",
       "    </tr>\n",
       "    <tr>\n",
       "      <th>3</th>\n",
       "      <td>Egypt</td>\n",
       "      <td>0.111111</td>\n",
       "    </tr>\n",
       "    <tr>\n",
       "      <th>4</th>\n",
       "      <td>France</td>\n",
       "      <td>0.012500</td>\n",
       "    </tr>\n",
       "    <tr>\n",
       "      <th>5</th>\n",
       "      <td>Georgia</td>\n",
       "      <td>-0.060606</td>\n",
       "    </tr>\n",
       "    <tr>\n",
       "      <th>6</th>\n",
       "      <td>Germany</td>\n",
       "      <td>0.113750</td>\n",
       "    </tr>\n",
       "    <tr>\n",
       "      <th>7</th>\n",
       "      <td>India</td>\n",
       "      <td>0.263997</td>\n",
       "    </tr>\n",
       "    <tr>\n",
       "      <th>8</th>\n",
       "      <td>Israel</td>\n",
       "      <td>0.101189</td>\n",
       "    </tr>\n",
       "    <tr>\n",
       "      <th>9</th>\n",
       "      <td>Pakistan</td>\n",
       "      <td>0.000000</td>\n",
       "    </tr>\n",
       "    <tr>\n",
       "      <th>10</th>\n",
       "      <td>Philippines</td>\n",
       "      <td>0.333333</td>\n",
       "    </tr>\n",
       "    <tr>\n",
       "      <th>11</th>\n",
       "      <td>Romania</td>\n",
       "      <td>-0.466667</td>\n",
       "    </tr>\n",
       "    <tr>\n",
       "      <th>12</th>\n",
       "      <td>Singapore</td>\n",
       "      <td>0.050000</td>\n",
       "    </tr>\n",
       "    <tr>\n",
       "      <th>13</th>\n",
       "      <td>United States</td>\n",
       "      <td>0.208042</td>\n",
       "    </tr>\n",
       "  </tbody>\n",
       "</table>\n",
       "</div>"
      ],
      "text/plain": [
       "          country  sentiment\n",
       "0       Australia   0.068182\n",
       "1          Canada  -0.024401\n",
       "2           China  -0.005303\n",
       "3           Egypt   0.111111\n",
       "4          France   0.012500\n",
       "5         Georgia  -0.060606\n",
       "6         Germany   0.113750\n",
       "7           India   0.263997\n",
       "8          Israel   0.101189\n",
       "9        Pakistan   0.000000\n",
       "10    Philippines   0.333333\n",
       "11        Romania  -0.466667\n",
       "12      Singapore   0.050000\n",
       "13  United States   0.208042"
      ]
     },
     "execution_count": 23,
     "metadata": {},
     "output_type": "execute_result"
    }
   ],
   "source": [
    "location_sentiment"
   ]
  },
  {
   "cell_type": "code",
   "execution_count": 78,
   "id": "ab446868-ee03-40c7-83c8-eccbf764ea24",
   "metadata": {},
   "outputs": [
    {
     "data": {
      "image/png": "[encoded data removed]",
      "text/plain": [
       "<Figure size 2000x1200 with 1 Axes>"
      ]
     },
     "metadata": {},
     "output_type": "display_data"
    }
   ],
   "source": [
    "plt.figure(figsize=(20, 12))  # Increased the figure size for better visibility\n",
    "location_sentiment.sort_values('sentiment', ascending=False, inplace=True)\n",
    "\n",
    "# Plotting the horizontal bar chart\n",
    "plt.barh(location_sentiment['country'], location_sentiment['sentiment'])\n",
    "\n",
    "# Labels and title with larger font sizes\n",
    "plt.xlabel('Average Sentiment', fontsize=18)\n",
    "plt.ylabel('Location', fontsize=18)\n",
    "plt.title('Geographical Sentiment Analysis for iPhone', fontsize=20)\n",
    "\n",
    "plt.xticks(fontsize=14)  # Adjusting font size for sentiment values (x-axis)\n",
    "plt.yticks(fontsize=14)  # Adjusting font size for country names (y-axis)\n",
    "\n",
    "# Show the plot\n",
    "plt.show()"
   ]
  },
  {
   "cell_type": "markdown",
   "id": "30186f9e-7365-4faa-a964-d3fcb02fda68",
   "metadata": {},
   "source": [
    "# for samsung"
   ]
  },
  {
   "cell_type": "code",
   "execution_count": 25,
   "id": "011728f3-3c98-4bbc-be8e-3940e8eaf344",
   "metadata": {},
   "outputs": [],
   "source": [
    "samsung = pd.read_json('reddit_samsung.json')"
   ]
  },
  {
   "cell_type": "code",
   "execution_count": 26,
   "id": "070129fe-9691-4513-ba5c-9cf1e5dc8798",
   "metadata": {},
   "outputs": [
    {
     "name": "stdout",
     "output_type": "stream",
     "text": [
      "<class 'pandas.core.frame.DataFrame'>\n",
      "RangeIndex: 9490 entries, 0 to 9489\n",
      "Data columns (total 5 columns):\n",
      " #   Column   Non-Null Count  Dtype \n",
      "---  ------   --------------  ----- \n",
      " 0   Title    9490 non-null   object\n",
      " 1   Upvotes  9490 non-null   int64 \n",
      " 2   URL      9490 non-null   object\n",
      " 3   Created  9490 non-null   int64 \n",
      " 4   Text     9490 non-null   object\n",
      "dtypes: int64(2), object(3)\n",
      "memory usage: 370.8+ KB\n"
     ]
    }
   ],
   "source": [
    "samsung.info()"
   ]
  },
  {
   "cell_type": "code",
   "execution_count": 27,
   "id": "29d1a9b3-acd2-452d-9af9-09975ebdfd73",
   "metadata": {},
   "outputs": [],
   "source": [
    "samsung = samsung.drop_duplicates()"
   ]
  },
  {
   "cell_type": "code",
   "execution_count": 28,
   "id": "e4c6599d-1f0e-4074-994f-ae6815bcfcc9",
   "metadata": {},
   "outputs": [
    {
     "name": "stdout",
     "output_type": "stream",
     "text": [
      "<class 'pandas.core.frame.DataFrame'>\n",
      "Index: 1862 entries, 0 to 9444\n",
      "Data columns (total 5 columns):\n",
      " #   Column   Non-Null Count  Dtype \n",
      "---  ------   --------------  ----- \n",
      " 0   Title    1862 non-null   object\n",
      " 1   Upvotes  1862 non-null   int64 \n",
      " 2   URL      1862 non-null   object\n",
      " 3   Created  1862 non-null   int64 \n",
      " 4   Text     1862 non-null   object\n",
      "dtypes: int64(2), object(3)\n",
      "memory usage: 87.3+ KB\n"
     ]
    }
   ],
   "source": [
    "samsung.info()"
   ]
  },
  {
   "cell_type": "code",
   "execution_count": 29,
   "id": "1569aff5-f9c5-452f-9669-5475cf2fc511",
   "metadata": {},
   "outputs": [],
   "source": [
    "samsung['sentiment'] = samsung['Text'].apply(get_sentiment)"
   ]
  },
  {
   "cell_type": "code",
   "execution_count": 30,
   "id": "5b1ffa41-cccd-4a91-acdc-5081d75208b5",
   "metadata": {},
   "outputs": [
    {
     "data": {
      "text/plain": [
       "sentiment\n",
       " 0.000000    248\n",
       " 0.500000     42\n",
       " 0.095248     31\n",
       " 0.200000     21\n",
       " 0.100000     17\n",
       "            ... \n",
       " 0.375000      1\n",
       " 0.037577      1\n",
       "-0.135000      1\n",
       " 0.316667      1\n",
       " 0.121188      1\n",
       "Name: count, Length: 618, dtype: int64"
      ]
     },
     "execution_count": 30,
     "metadata": {},
     "output_type": "execute_result"
    }
   ],
   "source": [
    "samsung['sentiment'].value_counts()"
   ]
  },
  {
   "cell_type": "code",
   "execution_count": 31,
   "id": "370d2389-d624-4fcd-955b-11f8ad0ce54f",
   "metadata": {},
   "outputs": [],
   "source": [
    "samsung['location'] = samsung['Text'].apply(extract_location)"
   ]
  },
  {
   "cell_type": "code",
   "execution_count": 32,
   "id": "8dff6eaf-dfaf-45d2-96bb-ea910eca0ad2",
   "metadata": {},
   "outputs": [
    {
     "data": {
      "text/plain": [
       "location\n",
       "S24        69\n",
       "AI         38\n",
       "US         26\n",
       "S25U       14\n",
       "Canada     11\n",
       "           ..\n",
       "New S24     1\n",
       "Youtube     1\n",
       "A20         1\n",
       "UN1CA       1\n",
       "YouTube     1\n",
       "Name: count, Length: 77, dtype: int64"
      ]
     },
     "execution_count": 32,
     "metadata": {},
     "output_type": "execute_result"
    }
   ],
   "source": [
    "samsung['location'].value_counts()"
   ]
  },
  {
   "cell_type": "code",
   "execution_count": 33,
   "id": "b80233e1-5d1d-4dab-a8c7-16fc7d78bd8c",
   "metadata": {},
   "outputs": [
    {
     "data": {
      "text/plain": [
       "array([None, 'S24', 'korea', 'S25U', 'Crinicle', 'MKBHD', 'canada',\n",
       "       'India', 'AI', 'UK', 'Nicaragua', 'china', 'US', 'USA', 'Steam',\n",
       "       'Canada', 'india', 'N20U', 'Tizen', 'netflix', 'Germany',\n",
       "       'Florida', 'Gboard', 'Galaxy', 'A73', 'Reddit', 'kinda', 'oneui6',\n",
       "       'Greentoe', 'Vodafone Ireland', 'n’t', 'Anker', 'Cheapo', 'GB',\n",
       "       'Netflix', 'Q60D', 'SF', 'Norway', 'Mobile', 'Manitoba', 'EQ',\n",
       "       'uk', 'New S24', 'Youtube', '🖊', 'Chritmas', 'A20', 'P.S.', 's6',\n",
       "       'UN1CA', 'Chipsets', 'Gemini', \"SHOULDN'T\", 'Bixby', 'Texas',\n",
       "       ':))', 'Exynos', 'Edge', 'Peru', 'Bandori', 'TT', '9/1/2023',\n",
       "       'FedEx', 'Costa Rica', 'VA', 'M13', 'LG', 'ZERO', 'Us', 'Siri',\n",
       "       'Whatsapp', 'BT', 'Fold(I', 'Japan', 'Hubbys', 'Discord', 'PiP',\n",
       "       'YouTube'], dtype=object)"
      ]
     },
     "execution_count": 33,
     "metadata": {},
     "output_type": "execute_result"
    }
   ],
   "source": [
    "samsung['location'].unique()"
   ]
  },
  {
   "cell_type": "code",
   "execution_count": 34,
   "id": "2618617b-812a-4b55-b8be-9fd244219424",
   "metadata": {},
   "outputs": [],
   "source": [
    "samsung['country'] = samsung['location'].apply(extract_valid_country)"
   ]
  },
  {
   "cell_type": "code",
   "execution_count": 35,
   "id": "dd70d439-1888-4b41-a6c4-30fd2fc122ca",
   "metadata": {},
   "outputs": [
    {
     "data": {
      "text/plain": [
       "0       None\n",
       "1       None\n",
       "2       None\n",
       "3       None\n",
       "4       None\n",
       "        ... \n",
       "9375    None\n",
       "9413    None\n",
       "9420    None\n",
       "9429    None\n",
       "9444    None\n",
       "Name: country, Length: 1862, dtype: object"
      ]
     },
     "execution_count": 35,
     "metadata": {},
     "output_type": "execute_result"
    }
   ],
   "source": [
    "samsung['country']"
   ]
  },
  {
   "cell_type": "code",
   "execution_count": 36,
   "id": "ef1e5d56-851c-4a98-b6c6-c52587047120",
   "metadata": {},
   "outputs": [],
   "source": [
    "samsung = samsung[samsung['country'].notna()]"
   ]
  },
  {
   "cell_type": "code",
   "execution_count": 37,
   "id": "e7ce0108-e119-46d9-bcc9-8e3a55b333c7",
   "metadata": {},
   "outputs": [
    {
     "data": {
      "text/plain": [
       "44          Canada\n",
       "52           India\n",
       "78       Nicaragua\n",
       "85           China\n",
       "114         Canada\n",
       "130          India\n",
       "166        Germany\n",
       "177         Canada\n",
       "364         Norway\n",
       "421         Canada\n",
       "517          India\n",
       "616          India\n",
       "627          India\n",
       "636         Canada\n",
       "689           Peru\n",
       "743     Costa Rica\n",
       "844          India\n",
       "862          Japan\n",
       "877         Canada\n",
       "945          India\n",
       "1027     Nicaragua\n",
       "1034         China\n",
       "1126        Canada\n",
       "1370        Canada\n",
       "1585        Canada\n",
       "1638          Peru\n",
       "1894         India\n",
       "1976     Nicaragua\n",
       "1983         China\n",
       "2064       Germany\n",
       "2075        Canada\n",
       "2319        Canada\n",
       "2534        Canada\n",
       "2641    Costa Rica\n",
       "2925     Nicaragua\n",
       "3013       Germany\n",
       "3536          Peru\n",
       "3874     Nicaragua\n",
       "4217        Canada\n",
       "4485          Peru\n",
       "5381        Canada\n",
       "5690         India\n",
       "6115        Canada\n",
       "6437    Costa Rica\n",
       "Name: country, dtype: object"
      ]
     },
     "execution_count": 37,
     "metadata": {},
     "output_type": "execute_result"
    }
   ],
   "source": [
    "samsung['country']"
   ]
  },
  {
   "cell_type": "code",
   "execution_count": 38,
   "id": "888d144f-3ea5-47fd-a2f1-ae7685689891",
   "metadata": {},
   "outputs": [],
   "source": [
    "location_samsung = samsung.groupby('country')['sentiment'].mean().reset_index()"
   ]
  },
  {
   "cell_type": "code",
   "execution_count": 39,
   "id": "beb25a2c-0a86-409c-bf7d-f816550f4dc9",
   "metadata": {},
   "outputs": [
    {
     "data": {
      "text/html": [
       "<div>\n",
       "<style scoped>\n",
       "    .dataframe tbody tr th:only-of-type {\n",
       "        vertical-align: middle;\n",
       "    }\n",
       "\n",
       "    .dataframe tbody tr th {\n",
       "        vertical-align: top;\n",
       "    }\n",
       "\n",
       "    .dataframe thead th {\n",
       "        text-align: right;\n",
       "    }\n",
       "</style>\n",
       "<table border=\"1\" class=\"dataframe\">\n",
       "  <thead>\n",
       "    <tr style=\"text-align: right;\">\n",
       "      <th></th>\n",
       "      <th>country</th>\n",
       "      <th>sentiment</th>\n",
       "    </tr>\n",
       "  </thead>\n",
       "  <tbody>\n",
       "    <tr>\n",
       "      <th>0</th>\n",
       "      <td>Canada</td>\n",
       "      <td>0.126760</td>\n",
       "    </tr>\n",
       "    <tr>\n",
       "      <th>1</th>\n",
       "      <td>China</td>\n",
       "      <td>0.108333</td>\n",
       "    </tr>\n",
       "    <tr>\n",
       "      <th>2</th>\n",
       "      <td>Costa Rica</td>\n",
       "      <td>-0.060768</td>\n",
       "    </tr>\n",
       "    <tr>\n",
       "      <th>3</th>\n",
       "      <td>Germany</td>\n",
       "      <td>0.122884</td>\n",
       "    </tr>\n",
       "    <tr>\n",
       "      <th>4</th>\n",
       "      <td>India</td>\n",
       "      <td>0.149873</td>\n",
       "    </tr>\n",
       "    <tr>\n",
       "      <th>5</th>\n",
       "      <td>Japan</td>\n",
       "      <td>0.250000</td>\n",
       "    </tr>\n",
       "    <tr>\n",
       "      <th>6</th>\n",
       "      <td>Nicaragua</td>\n",
       "      <td>0.044478</td>\n",
       "    </tr>\n",
       "    <tr>\n",
       "      <th>7</th>\n",
       "      <td>Norway</td>\n",
       "      <td>0.119444</td>\n",
       "    </tr>\n",
       "    <tr>\n",
       "      <th>8</th>\n",
       "      <td>Peru</td>\n",
       "      <td>0.100394</td>\n",
       "    </tr>\n",
       "  </tbody>\n",
       "</table>\n",
       "</div>"
      ],
      "text/plain": [
       "      country  sentiment\n",
       "0      Canada   0.126760\n",
       "1       China   0.108333\n",
       "2  Costa Rica  -0.060768\n",
       "3     Germany   0.122884\n",
       "4       India   0.149873\n",
       "5       Japan   0.250000\n",
       "6   Nicaragua   0.044478\n",
       "7      Norway   0.119444\n",
       "8        Peru   0.100394"
      ]
     },
     "execution_count": 39,
     "metadata": {},
     "output_type": "execute_result"
    }
   ],
   "source": [
    "location_samsung"
   ]
  },
  {
   "cell_type": "code",
   "execution_count": 77,
   "id": "9a1f9fec-5526-4ee2-8e69-f969dc6d3d20",
   "metadata": {},
   "outputs": [
    {
     "data": {
      "image/png": "[encoded data removed]",
      "text/plain": [
       "<Figure size 2000x1200 with 1 Axes>"
      ]
     },
     "metadata": {},
     "output_type": "display_data"
    }
   ],
   "source": [
    "plt.figure(figsize=(20, 12))  # A more reasonable size for the plot\n",
    "location_samsung.sort_values('sentiment', ascending=False, inplace=True)\n",
    "\n",
    "# Create the horizontal bar plot\n",
    "plt.barh(location_samsung['country'], location_samsung['sentiment'])\n",
    "\n",
    "# Labels and title with larger font sizes for better readability\n",
    "plt.xlabel('Average Sentiment', fontsize=18)\n",
    "plt.ylabel('Location', fontsize=18)\n",
    "plt.title('Geographical Sentiment Analysis for Samsung', fontsize=20)\n",
    "\n",
    "plt.xticks(fontsize=14)  # Adjusting font size for sentiment values (x-axis)\n",
    "plt.yticks(fontsize=14)  # Adjusting font size for country names (y-axis)\n",
    "\n",
    "# Display the plot\n",
    "plt.show()"
   ]
  },
  {
   "cell_type": "markdown",
   "id": "684f000e-e06a-476c-b99f-b9dfe01e2ee1",
   "metadata": {},
   "source": [
    "# for xiaomi"
   ]
  },
  {
   "cell_type": "code",
   "execution_count": 41,
   "id": "749e05e6-6bb8-40ba-b2ea-c1abeadb555e",
   "metadata": {},
   "outputs": [],
   "source": [
    "xiaomi = pd.read_json(\"reddit_xiaomi.json\")"
   ]
  },
  {
   "cell_type": "code",
   "execution_count": 42,
   "id": "89f36a1b-10bd-40f9-8d59-bed3d04637cb",
   "metadata": {},
   "outputs": [
    {
     "data": {
      "text/html": [
       "<div>\n",
       "<style scoped>\n",
       "    .dataframe tbody tr th:only-of-type {\n",
       "        vertical-align: middle;\n",
       "    }\n",
       "\n",
       "    .dataframe tbody tr th {\n",
       "        vertical-align: top;\n",
       "    }\n",
       "\n",
       "    .dataframe thead th {\n",
       "        text-align: right;\n",
       "    }\n",
       "</style>\n",
       "<table border=\"1\" class=\"dataframe\">\n",
       "  <thead>\n",
       "    <tr style=\"text-align: right;\">\n",
       "      <th></th>\n",
       "      <th>Title</th>\n",
       "      <th>Upvotes</th>\n",
       "      <th>URL</th>\n",
       "      <th>Created</th>\n",
       "      <th>Text</th>\n",
       "    </tr>\n",
       "  </thead>\n",
       "  <tbody>\n",
       "    <tr>\n",
       "      <th>0</th>\n",
       "      <td>How to reduce spacing between icons in a folder</td>\n",
       "      <td>2</td>\n",
       "      <td>https://www.reddit.com/r/Xiaomi/comments/1hyt7...</td>\n",
       "      <td>1736591477</td>\n",
       "      <td>I just acquired a device with hyper os 2 and I...</td>\n",
       "    </tr>\n",
       "    <tr>\n",
       "      <th>1</th>\n",
       "      <td>Are you disappointed from Xiaomi Redmi Note 14...</td>\n",
       "      <td>6</td>\n",
       "      <td>https://www.reddit.com/r/Xiaomi/comments/1hysw...</td>\n",
       "      <td>1736590096</td>\n",
       "      <td>Did the Global versions of these devices disap...</td>\n",
       "    </tr>\n",
       "    <tr>\n",
       "      <th>2</th>\n",
       "      <td>Xiaomi Scooter 4 lite 2nd gen</td>\n",
       "      <td>1</td>\n",
       "      <td>https://www.reddit.com/r/Xiaomi/comments/1hysf...</td>\n",
       "      <td>1736588006</td>\n",
       "      <td>Hi all,\\n\\nI received the Xiaomi scooter 4 lit...</td>\n",
       "    </tr>\n",
       "    <tr>\n",
       "      <th>3</th>\n",
       "      <td>Xiaomi Smart Speaker (IR)- Not connecting to M...</td>\n",
       "      <td>1</td>\n",
       "      <td>https://www.reddit.com/r/Xiaomi/comments/1hys8...</td>\n",
       "      <td>1736587093</td>\n",
       "      <td>Hi everyone,\\n\\nI recently got the Xiaomi Smar...</td>\n",
       "    </tr>\n",
       "    <tr>\n",
       "      <th>4</th>\n",
       "      <td>Who switched from Samsung S24 Ultra to Xiaomi ...</td>\n",
       "      <td>1</td>\n",
       "      <td>https://www.reddit.com/r/Xiaomi/comments/1hyr5...</td>\n",
       "      <td>1736582173</td>\n",
       "      <td>I would like to hear the impressions. Generall...</td>\n",
       "    </tr>\n",
       "    <tr>\n",
       "      <th>...</th>\n",
       "      <td>...</td>\n",
       "      <td>...</td>\n",
       "      <td>...</td>\n",
       "      <td>...</td>\n",
       "      <td>...</td>\n",
       "    </tr>\n",
       "    <tr>\n",
       "      <th>9425</th>\n",
       "      <td>Mi9T  No Scan app</td>\n",
       "      <td>1</td>\n",
       "      <td>https://www.reddit.com/r/Xiaomi/comments/1gxzl...</td>\n",
       "      <td>1732368456</td>\n",
       "      <td>Mi9T\\n\\nMy scanning app has disappeared.\\n\\nWh...</td>\n",
       "    </tr>\n",
       "    <tr>\n",
       "      <th>9426</th>\n",
       "      <td>What is this error mean? Cordless Vacuum Cleaner</td>\n",
       "      <td>1</td>\n",
       "      <td>https://www.reddit.com/r/Xiaomi/comments/1gxwk...</td>\n",
       "      <td>1732357129</td>\n",
       "      <td>Can someone please help what this error mean? ...</td>\n",
       "    </tr>\n",
       "    <tr>\n",
       "      <th>9427</th>\n",
       "      <td>Using EDL mode to flash LineageOS on snapdrago...</td>\n",
       "      <td>2</td>\n",
       "      <td>https://www.reddit.com/r/Xiaomi/comments/1gxwh...</td>\n",
       "      <td>1732356770</td>\n",
       "      <td>Hello there. I have a Xiaomi Redmi Note 8T pho...</td>\n",
       "    </tr>\n",
       "    <tr>\n",
       "      <th>9428</th>\n",
       "      <td>Help with private folder</td>\n",
       "      <td>2</td>\n",
       "      <td>http://google.com</td>\n",
       "      <td>1732355173</td>\n",
       "      <td>For some reason i forgot the privacy protectio...</td>\n",
       "    </tr>\n",
       "    <tr>\n",
       "      <th>9429</th>\n",
       "      <td>Redmi note 13 or 14 pro plus?</td>\n",
       "      <td>9</td>\n",
       "      <td>https://www.reddit.com/r/Xiaomi/comments/1gxv9...</td>\n",
       "      <td>1732351484</td>\n",
       "      <td>I am currently deciding between these two phon...</td>\n",
       "    </tr>\n",
       "  </tbody>\n",
       "</table>\n",
       "<p>9430 rows × 5 columns</p>\n",
       "</div>"
      ],
      "text/plain": [
       "                                                  Title  Upvotes  \\\n",
       "0      How to reduce spacing between icons in a folder         2   \n",
       "1     Are you disappointed from Xiaomi Redmi Note 14...        6   \n",
       "2                         Xiaomi Scooter 4 lite 2nd gen        1   \n",
       "3     Xiaomi Smart Speaker (IR)- Not connecting to M...        1   \n",
       "4     Who switched from Samsung S24 Ultra to Xiaomi ...        1   \n",
       "...                                                 ...      ...   \n",
       "9425                                  Mi9T  No Scan app        1   \n",
       "9426   What is this error mean? Cordless Vacuum Cleaner        1   \n",
       "9427  Using EDL mode to flash LineageOS on snapdrago...        2   \n",
       "9428                           Help with private folder        2   \n",
       "9429                     Redmi note 13 or 14 pro plus?         9   \n",
       "\n",
       "                                                    URL     Created  \\\n",
       "0     https://www.reddit.com/r/Xiaomi/comments/1hyt7...  1736591477   \n",
       "1     https://www.reddit.com/r/Xiaomi/comments/1hysw...  1736590096   \n",
       "2     https://www.reddit.com/r/Xiaomi/comments/1hysf...  1736588006   \n",
       "3     https://www.reddit.com/r/Xiaomi/comments/1hys8...  1736587093   \n",
       "4     https://www.reddit.com/r/Xiaomi/comments/1hyr5...  1736582173   \n",
       "...                                                 ...         ...   \n",
       "9425  https://www.reddit.com/r/Xiaomi/comments/1gxzl...  1732368456   \n",
       "9426  https://www.reddit.com/r/Xiaomi/comments/1gxwk...  1732357129   \n",
       "9427  https://www.reddit.com/r/Xiaomi/comments/1gxwh...  1732356770   \n",
       "9428                                  http://google.com  1732355173   \n",
       "9429  https://www.reddit.com/r/Xiaomi/comments/1gxv9...  1732351484   \n",
       "\n",
       "                                                   Text  \n",
       "0     I just acquired a device with hyper os 2 and I...  \n",
       "1     Did the Global versions of these devices disap...  \n",
       "2     Hi all,\\n\\nI received the Xiaomi scooter 4 lit...  \n",
       "3     Hi everyone,\\n\\nI recently got the Xiaomi Smar...  \n",
       "4     I would like to hear the impressions. Generall...  \n",
       "...                                                 ...  \n",
       "9425  Mi9T\\n\\nMy scanning app has disappeared.\\n\\nWh...  \n",
       "9426  Can someone please help what this error mean? ...  \n",
       "9427  Hello there. I have a Xiaomi Redmi Note 8T pho...  \n",
       "9428  For some reason i forgot the privacy protectio...  \n",
       "9429  I am currently deciding between these two phon...  \n",
       "\n",
       "[9430 rows x 5 columns]"
      ]
     },
     "execution_count": 42,
     "metadata": {},
     "output_type": "execute_result"
    }
   ],
   "source": [
    "xiaomi"
   ]
  },
  {
   "cell_type": "code",
   "execution_count": 43,
   "id": "32174e37-c2ea-42fa-ae00-eb465b3a8a92",
   "metadata": {},
   "outputs": [],
   "source": [
    "xiaomi = xiaomi.drop_duplicates()"
   ]
  },
  {
   "cell_type": "code",
   "execution_count": 44,
   "id": "2cd5bde3-8076-4180-9e3f-092d3cd2ad09",
   "metadata": {},
   "outputs": [
    {
     "name": "stdout",
     "output_type": "stream",
     "text": [
      "<class 'pandas.core.frame.DataFrame'>\n",
      "Index: 1523 entries, 0 to 9298\n",
      "Data columns (total 5 columns):\n",
      " #   Column   Non-Null Count  Dtype \n",
      "---  ------   --------------  ----- \n",
      " 0   Title    1523 non-null   object\n",
      " 1   Upvotes  1523 non-null   int64 \n",
      " 2   URL      1523 non-null   object\n",
      " 3   Created  1523 non-null   int64 \n",
      " 4   Text     1523 non-null   object\n",
      "dtypes: int64(2), object(3)\n",
      "memory usage: 71.4+ KB\n"
     ]
    }
   ],
   "source": [
    "xiaomi.info()"
   ]
  },
  {
   "cell_type": "code",
   "execution_count": 45,
   "id": "2b3d403f-a306-42ef-9d56-86afb443a8f3",
   "metadata": {},
   "outputs": [
    {
     "name": "stderr",
     "output_type": "stream",
     "text": [
      "C:\\Users\\DELL\\AppData\\Local\\Temp\\ipykernel_288\\852827905.py:1: SettingWithCopyWarning: \n",
      "A value is trying to be set on a copy of a slice from a DataFrame.\n",
      "Try using .loc[row_indexer,col_indexer] = value instead\n",
      "\n",
      "See the caveats in the documentation: https://pandas.pydata.org/pandas-docs/stable/user_guide/indexing.html#returning-a-view-versus-a-copy\n",
      "  xiaomi['sentiment'] = xiaomi['Text'].apply(get_sentiment)\n"
     ]
    }
   ],
   "source": [
    "xiaomi['sentiment'] = xiaomi['Text'].apply(get_sentiment)"
   ]
  },
  {
   "cell_type": "code",
   "execution_count": 46,
   "id": "7103132f-dc49-41ae-8b33-56f95da640d5",
   "metadata": {},
   "outputs": [
    {
     "data": {
      "text/plain": [
       "sentiment\n",
       " 0.000000    340\n",
       " 0.200000     34\n",
       " 0.250000     21\n",
       " 0.100000     18\n",
       " 0.166667     14\n",
       "            ... \n",
       "-0.006250      1\n",
       " 0.398095      1\n",
       " 0.192188      1\n",
       "-0.133333      1\n",
       " 0.150198      1\n",
       "Name: count, Length: 521, dtype: int64"
      ]
     },
     "execution_count": 46,
     "metadata": {},
     "output_type": "execute_result"
    }
   ],
   "source": [
    "xiaomi['sentiment'].value_counts()"
   ]
  },
  {
   "cell_type": "code",
   "execution_count": 47,
   "id": "1eb0cfda-81d1-4920-a8b5-b5cfe059219a",
   "metadata": {},
   "outputs": [
    {
     "name": "stderr",
     "output_type": "stream",
     "text": [
      "C:\\Users\\DELL\\AppData\\Local\\Temp\\ipykernel_288\\3758043800.py:1: SettingWithCopyWarning: \n",
      "A value is trying to be set on a copy of a slice from a DataFrame.\n",
      "Try using .loc[row_indexer,col_indexer] = value instead\n",
      "\n",
      "See the caveats in the documentation: https://pandas.pydata.org/pandas-docs/stable/user_guide/indexing.html#returning-a-view-versus-a-copy\n",
      "  xiaomi['location'] = xiaomi['Text'].apply(extract_location)\n"
     ]
    }
   ],
   "source": [
    "xiaomi['location'] = xiaomi['Text'].apply(extract_location)"
   ]
  },
  {
   "cell_type": "code",
   "execution_count": 48,
   "id": "279cdc9b-aa30-443a-9913-291461f47e69",
   "metadata": {},
   "outputs": [
    {
     "data": {
      "text/plain": [
       "location\n",
       "china          12\n",
       "Spotify        11\n",
       "Reddit         10\n",
       "China           8\n",
       "UK              8\n",
       "               ..\n",
       "new Zealand     1\n",
       "Cyprus          1\n",
       "Malaysia        1\n",
       "Gboard          1\n",
       "BT              1\n",
       "Name: count, Length: 62, dtype: int64"
      ]
     },
     "execution_count": 48,
     "metadata": {},
     "output_type": "execute_result"
    }
   ],
   "source": [
    "xiaomi['location'].value_counts()"
   ]
  },
  {
   "cell_type": "code",
   "execution_count": 49,
   "id": "b479b8d0-5f32-4637-b12a-1ebe3e6ff030",
   "metadata": {},
   "outputs": [
    {
     "data": {
      "text/plain": [
       "array([None, 'India', 'YT', 'china', 'UK', 'Brazil', 'Hong Kong',\n",
       "       'germany', 'Cambodia', 'USA', 'F1', 'South Africa', 'italy',\n",
       "       'Gemini', 'Australia', 'Philippines', 'Spotify', 'com.mojang',\n",
       "       'Xiami', 'new Zealand', 'Uk', 'Cyprus', 'Italy', 'China', 'Alarm',\n",
       "       'Spain', 'japan', 'Pakistan', 'Gboard', 'Malaysia', 'cba', 'AI',\n",
       "       'Beijing', 'Netflix', 'YouTube', 'Xperia', 'NE', 'Tokopedia',\n",
       "       'Canada', 'GB', 'US', 'india', 'Airplane', 'pro+', 'BT', 'normaly',\n",
       "       'puedo', 'P.S.', 'hydrogel', 'Reddit', 'Vietnam', 'Dashlane',\n",
       "       'netflix', '|:-|:-|:-|', 'HyperOS', 'Germany', 'us', 'Issue',\n",
       "       'Truecaller', 'n’t', 'Macedonia', 'colombia', 'Pro+'], dtype=object)"
      ]
     },
     "execution_count": 49,
     "metadata": {},
     "output_type": "execute_result"
    }
   ],
   "source": [
    "xiaomi['location'].unique()"
   ]
  },
  {
   "cell_type": "code",
   "execution_count": 50,
   "id": "42e6b2f6-16f9-41f3-acb3-7c570b869646",
   "metadata": {},
   "outputs": [
    {
     "name": "stderr",
     "output_type": "stream",
     "text": [
      "C:\\Users\\DELL\\AppData\\Local\\Temp\\ipykernel_288\\1854055770.py:1: SettingWithCopyWarning: \n",
      "A value is trying to be set on a copy of a slice from a DataFrame.\n",
      "Try using .loc[row_indexer,col_indexer] = value instead\n",
      "\n",
      "See the caveats in the documentation: https://pandas.pydata.org/pandas-docs/stable/user_guide/indexing.html#returning-a-view-versus-a-copy\n",
      "  xiaomi['country'] = xiaomi['location'].apply(extract_valid_country)\n"
     ]
    }
   ],
   "source": [
    "xiaomi['country'] = xiaomi['location'].apply(extract_valid_country)"
   ]
  },
  {
   "cell_type": "code",
   "execution_count": 51,
   "id": "9eddc98c-acf5-4fbe-bd1c-2b61e9ae0d4d",
   "metadata": {},
   "outputs": [
    {
     "data": {
      "text/plain": [
       "0        None\n",
       "1       India\n",
       "2        None\n",
       "3        None\n",
       "4        None\n",
       "        ...  \n",
       "9013     None\n",
       "9114     None\n",
       "9219     None\n",
       "9280     None\n",
       "9298     None\n",
       "Name: country, Length: 1523, dtype: object"
      ]
     },
     "execution_count": 51,
     "metadata": {},
     "output_type": "execute_result"
    }
   ],
   "source": [
    "xiaomi['country']"
   ]
  },
  {
   "cell_type": "code",
   "execution_count": 52,
   "id": "a8cbe236-5a78-4b1a-89c7-9b3ecf65ff43",
   "metadata": {},
   "outputs": [],
   "source": [
    "xiaomi = xiaomi[xiaomi['country'].notna()]"
   ]
  },
  {
   "cell_type": "code",
   "execution_count": 53,
   "id": "d7816868-ec51-454d-9814-0520500d31a2",
   "metadata": {},
   "outputs": [
    {
     "data": {
      "text/plain": [
       "1           India\n",
       "14          China\n",
       "36         Brazil\n",
       "46      Hong Kong\n",
       "49        Germany\n",
       "          ...    \n",
       "5559        China\n",
       "5734     Cambodia\n",
       "6512      Germany\n",
       "6695        China\n",
       "8931       Canada\n",
       "Name: country, Length: 62, dtype: object"
      ]
     },
     "execution_count": 53,
     "metadata": {},
     "output_type": "execute_result"
    }
   ],
   "source": [
    "xiaomi['country']"
   ]
  },
  {
   "cell_type": "code",
   "execution_count": 54,
   "id": "3e90d595-daf6-43dd-8ae0-fae17a6249fb",
   "metadata": {},
   "outputs": [],
   "source": [
    "location_xiaomi = xiaomi.groupby('country')['sentiment'].mean().reset_index()"
   ]
  },
  {
   "cell_type": "code",
   "execution_count": 55,
   "id": "d4919963-2f17-4bf3-ab38-b4526bb679e9",
   "metadata": {},
   "outputs": [
    {
     "data": {
      "text/html": [
       "<div>\n",
       "<style scoped>\n",
       "    .dataframe tbody tr th:only-of-type {\n",
       "        vertical-align: middle;\n",
       "    }\n",
       "\n",
       "    .dataframe tbody tr th {\n",
       "        vertical-align: top;\n",
       "    }\n",
       "\n",
       "    .dataframe thead th {\n",
       "        text-align: right;\n",
       "    }\n",
       "</style>\n",
       "<table border=\"1\" class=\"dataframe\">\n",
       "  <thead>\n",
       "    <tr style=\"text-align: right;\">\n",
       "      <th></th>\n",
       "      <th>country</th>\n",
       "      <th>sentiment</th>\n",
       "    </tr>\n",
       "  </thead>\n",
       "  <tbody>\n",
       "    <tr>\n",
       "      <th>0</th>\n",
       "      <td>Australia</td>\n",
       "      <td>-0.014005</td>\n",
       "    </tr>\n",
       "    <tr>\n",
       "      <th>1</th>\n",
       "      <td>Brazil</td>\n",
       "      <td>-0.019598</td>\n",
       "    </tr>\n",
       "    <tr>\n",
       "      <th>2</th>\n",
       "      <td>Cambodia</td>\n",
       "      <td>0.191667</td>\n",
       "    </tr>\n",
       "    <tr>\n",
       "      <th>3</th>\n",
       "      <td>Canada</td>\n",
       "      <td>0.131818</td>\n",
       "    </tr>\n",
       "    <tr>\n",
       "      <th>4</th>\n",
       "      <td>China</td>\n",
       "      <td>0.170202</td>\n",
       "    </tr>\n",
       "    <tr>\n",
       "      <th>5</th>\n",
       "      <td>Colombia</td>\n",
       "      <td>0.235000</td>\n",
       "    </tr>\n",
       "    <tr>\n",
       "      <th>6</th>\n",
       "      <td>Cyprus</td>\n",
       "      <td>0.083333</td>\n",
       "    </tr>\n",
       "    <tr>\n",
       "      <th>7</th>\n",
       "      <td>Germany</td>\n",
       "      <td>0.177464</td>\n",
       "    </tr>\n",
       "    <tr>\n",
       "      <th>8</th>\n",
       "      <td>Hong Kong</td>\n",
       "      <td>-0.109375</td>\n",
       "    </tr>\n",
       "    <tr>\n",
       "      <th>9</th>\n",
       "      <td>India</td>\n",
       "      <td>0.171627</td>\n",
       "    </tr>\n",
       "    <tr>\n",
       "      <th>10</th>\n",
       "      <td>Italy</td>\n",
       "      <td>0.009988</td>\n",
       "    </tr>\n",
       "    <tr>\n",
       "      <th>11</th>\n",
       "      <td>Japan</td>\n",
       "      <td>0.000000</td>\n",
       "    </tr>\n",
       "    <tr>\n",
       "      <th>12</th>\n",
       "      <td>Malaysia</td>\n",
       "      <td>0.170635</td>\n",
       "    </tr>\n",
       "    <tr>\n",
       "      <th>13</th>\n",
       "      <td>New Zealand</td>\n",
       "      <td>0.268182</td>\n",
       "    </tr>\n",
       "    <tr>\n",
       "      <th>14</th>\n",
       "      <td>Pakistan</td>\n",
       "      <td>0.021136</td>\n",
       "    </tr>\n",
       "    <tr>\n",
       "      <th>15</th>\n",
       "      <td>Philippines</td>\n",
       "      <td>-0.047500</td>\n",
       "    </tr>\n",
       "    <tr>\n",
       "      <th>16</th>\n",
       "      <td>South Africa</td>\n",
       "      <td>0.103947</td>\n",
       "    </tr>\n",
       "    <tr>\n",
       "      <th>17</th>\n",
       "      <td>Spain</td>\n",
       "      <td>0.198039</td>\n",
       "    </tr>\n",
       "  </tbody>\n",
       "</table>\n",
       "</div>"
      ],
      "text/plain": [
       "         country  sentiment\n",
       "0      Australia  -0.014005\n",
       "1         Brazil  -0.019598\n",
       "2       Cambodia   0.191667\n",
       "3         Canada   0.131818\n",
       "4          China   0.170202\n",
       "5       Colombia   0.235000\n",
       "6         Cyprus   0.083333\n",
       "7        Germany   0.177464\n",
       "8      Hong Kong  -0.109375\n",
       "9          India   0.171627\n",
       "10         Italy   0.009988\n",
       "11         Japan   0.000000\n",
       "12      Malaysia   0.170635\n",
       "13   New Zealand   0.268182\n",
       "14      Pakistan   0.021136\n",
       "15   Philippines  -0.047500\n",
       "16  South Africa   0.103947\n",
       "17         Spain   0.198039"
      ]
     },
     "execution_count": 55,
     "metadata": {},
     "output_type": "execute_result"
    }
   ],
   "source": [
    "location_xiaomi"
   ]
  },
  {
   "cell_type": "code",
   "execution_count": 76,
   "id": "ceef6944-2f6b-4641-9617-d9be4cfd2c26",
   "metadata": {},
   "outputs": [
    {
     "data": {
      "image/png": "[encoded data removed]",
      "text/plain": [
       "<Figure size 2000x1200 with 1 Axes>"
      ]
     },
     "metadata": {},
     "output_type": "display_data"
    }
   ],
   "source": [
    "plt.figure(figsize=(20, 12))  # A more manageable figure size for better visibility\n",
    "location_xiaomi.sort_values('sentiment', ascending=False, inplace=True)\n",
    "\n",
    "# Create the horizontal bar plot\n",
    "plt.barh(location_xiaomi['country'], location_xiaomi['sentiment'])\n",
    "\n",
    "# Labels and title with larger font sizes for better readability\n",
    "plt.xlabel('Average Sentiment', fontsize=18)\n",
    "plt.ylabel('Location', fontsize=18)\n",
    "plt.title('Geographical Sentiment Analysis for Xiaomi', fontsize=20)\n",
    "\n",
    "plt.xticks(fontsize=14)  # Adjusting font size for sentiment values (x-axis)\n",
    "plt.yticks(fontsize=14)  # Adjusting font size for country names (y-axis)\n",
    "\n",
    "# Display the plot\n",
    "plt.show()"
   ]
  },
  {
   "cell_type": "markdown",
   "id": "500cc90e-a5c1-44a0-8d7b-f778a37c1b60",
   "metadata": {},
   "source": [
    "## for oneplus"
   ]
  },
  {
   "cell_type": "code",
   "execution_count": 57,
   "id": "6093233e-85a5-4c8b-b4c4-cdf76ccda263",
   "metadata": {},
   "outputs": [],
   "source": [
    "oneplus = pd.read_json(\"reddit_oneplus.json\")"
   ]
  },
  {
   "cell_type": "code",
   "execution_count": 58,
   "id": "fbc251ce-e2d2-4567-8e24-f50807bef283",
   "metadata": {},
   "outputs": [
    {
     "data": {
      "text/html": [
       "<div>\n",
       "<style scoped>\n",
       "    .dataframe tbody tr th:only-of-type {\n",
       "        vertical-align: middle;\n",
       "    }\n",
       "\n",
       "    .dataframe tbody tr th {\n",
       "        vertical-align: top;\n",
       "    }\n",
       "\n",
       "    .dataframe thead th {\n",
       "        text-align: right;\n",
       "    }\n",
       "</style>\n",
       "<table border=\"1\" class=\"dataframe\">\n",
       "  <thead>\n",
       "    <tr style=\"text-align: right;\">\n",
       "      <th></th>\n",
       "      <th>Title</th>\n",
       "      <th>Upvotes</th>\n",
       "      <th>URL</th>\n",
       "      <th>Created</th>\n",
       "      <th>Text</th>\n",
       "    </tr>\n",
       "  </thead>\n",
       "  <tbody>\n",
       "    <tr>\n",
       "      <th>0</th>\n",
       "      <td>is the update policy of 1+ still bi-monthly se...</td>\n",
       "      <td>1</td>\n",
       "      <td>https://www.reddit.com/r/oneplus/comments/1hys...</td>\n",
       "      <td>1736588333</td>\n",
       "      <td>So far I understood Samsung and Pixel already ...</td>\n",
       "    </tr>\n",
       "    <tr>\n",
       "      <th>1</th>\n",
       "      <td>Unable to return my 13 (UK)</td>\n",
       "      <td>1</td>\n",
       "      <td>https://www.reddit.com/r/oneplus/comments/1hyr...</td>\n",
       "      <td>1736585480</td>\n",
       "      <td>Is there something wrong with the website? The...</td>\n",
       "    </tr>\n",
       "    <tr>\n",
       "      <th>2</th>\n",
       "      <td>Reason to upgrade</td>\n",
       "      <td>2</td>\n",
       "      <td>https://www.reddit.com/r/oneplus/comments/1hyr...</td>\n",
       "      <td>1736584744</td>\n",
       "      <td>Alright, so OP 13 is all the new hype right no...</td>\n",
       "    </tr>\n",
       "    <tr>\n",
       "      <th>3</th>\n",
       "      <td>How does the Spigen case look with the blue ve...</td>\n",
       "      <td>1</td>\n",
       "      <td>https://www.reddit.com/r/oneplus/comments/1hyr...</td>\n",
       "      <td>1736584540</td>\n",
       "      <td>If anyone is using this combo, I'd appreciate ...</td>\n",
       "    </tr>\n",
       "    <tr>\n",
       "      <th>4</th>\n",
       "      <td>Facing UPI and banking issues on my OP6</td>\n",
       "      <td>1</td>\n",
       "      <td>https://www.reddit.com/r/oneplus/comments/1hyr...</td>\n",
       "      <td>1736583721</td>\n",
       "      <td>On my OP6 banking apps are not responding righ...</td>\n",
       "    </tr>\n",
       "    <tr>\n",
       "      <th>...</th>\n",
       "      <td>...</td>\n",
       "      <td>...</td>\n",
       "      <td>...</td>\n",
       "      <td>...</td>\n",
       "      <td>...</td>\n",
       "    </tr>\n",
       "    <tr>\n",
       "      <th>9853</th>\n",
       "      <td>Unable to Use Google Wallet on OnePlus 8T - Pl...</td>\n",
       "      <td>2</td>\n",
       "      <td>https://www.reddit.com/r/oneplus/comments/1hkk...</td>\n",
       "      <td>1734949429</td>\n",
       "      <td>Hello everyone,  \\n  \\nI'm reaching out to sha...</td>\n",
       "    </tr>\n",
       "    <tr>\n",
       "      <th>9854</th>\n",
       "      <td>Help with Oneplus 12! Extremely urgent!</td>\n",
       "      <td>1</td>\n",
       "      <td>https://www.reddit.com/r/oneplus/comments/1hkj...</td>\n",
       "      <td>1734943397</td>\n",
       "      <td>Im freaking the hell out because I leave for v...</td>\n",
       "    </tr>\n",
       "    <tr>\n",
       "      <th>9855</th>\n",
       "      <td>Do they give free screen replacement?</td>\n",
       "      <td>1</td>\n",
       "      <td>https://www.reddit.com/r/oneplus/comments/1hkj...</td>\n",
       "      <td>1734940465</td>\n",
       "      <td>My 9R got a green line today morning. I have s...</td>\n",
       "    </tr>\n",
       "    <tr>\n",
       "      <th>9856</th>\n",
       "      <td>Package installer doesn't let me install combi...</td>\n",
       "      <td>1</td>\n",
       "      <td>https://www.reddit.com/r/oneplus/comments/1hki...</td>\n",
       "      <td>1734939985</td>\n",
       "      <td>I have an one plus ace 3 with cn firmware. \\nI...</td>\n",
       "    </tr>\n",
       "    <tr>\n",
       "      <th>9857</th>\n",
       "      <td>Oneplus 13</td>\n",
       "      <td>3</td>\n",
       "      <td>https://www.reddit.com/r/oneplus/comments/1hki...</td>\n",
       "      <td>1734936057</td>\n",
       "      <td>Hi I'm deciding to buy oneplus 13.. problem is...</td>\n",
       "    </tr>\n",
       "  </tbody>\n",
       "</table>\n",
       "<p>9858 rows × 5 columns</p>\n",
       "</div>"
      ],
      "text/plain": [
       "                                                  Title  Upvotes  \\\n",
       "0     is the update policy of 1+ still bi-monthly se...        1   \n",
       "1                           Unable to return my 13 (UK)        1   \n",
       "2                                     Reason to upgrade        2   \n",
       "3     How does the Spigen case look with the blue ve...        1   \n",
       "4               Facing UPI and banking issues on my OP6        1   \n",
       "...                                                 ...      ...   \n",
       "9853  Unable to Use Google Wallet on OnePlus 8T - Pl...        2   \n",
       "9854            Help with Oneplus 12! Extremely urgent!        1   \n",
       "9855              Do they give free screen replacement?        1   \n",
       "9856  Package installer doesn't let me install combi...        1   \n",
       "9857                                         Oneplus 13        3   \n",
       "\n",
       "                                                    URL     Created  \\\n",
       "0     https://www.reddit.com/r/oneplus/comments/1hys...  1736588333   \n",
       "1     https://www.reddit.com/r/oneplus/comments/1hyr...  1736585480   \n",
       "2     https://www.reddit.com/r/oneplus/comments/1hyr...  1736584744   \n",
       "3     https://www.reddit.com/r/oneplus/comments/1hyr...  1736584540   \n",
       "4     https://www.reddit.com/r/oneplus/comments/1hyr...  1736583721   \n",
       "...                                                 ...         ...   \n",
       "9853  https://www.reddit.com/r/oneplus/comments/1hkk...  1734949429   \n",
       "9854  https://www.reddit.com/r/oneplus/comments/1hkj...  1734943397   \n",
       "9855  https://www.reddit.com/r/oneplus/comments/1hkj...  1734940465   \n",
       "9856  https://www.reddit.com/r/oneplus/comments/1hki...  1734939985   \n",
       "9857  https://www.reddit.com/r/oneplus/comments/1hki...  1734936057   \n",
       "\n",
       "                                                   Text  \n",
       "0     So far I understood Samsung and Pixel already ...  \n",
       "1     Is there something wrong with the website? The...  \n",
       "2     Alright, so OP 13 is all the new hype right no...  \n",
       "3     If anyone is using this combo, I'd appreciate ...  \n",
       "4     On my OP6 banking apps are not responding righ...  \n",
       "...                                                 ...  \n",
       "9853  Hello everyone,  \\n  \\nI'm reaching out to sha...  \n",
       "9854  Im freaking the hell out because I leave for v...  \n",
       "9855  My 9R got a green line today morning. I have s...  \n",
       "9856  I have an one plus ace 3 with cn firmware. \\nI...  \n",
       "9857  Hi I'm deciding to buy oneplus 13.. problem is...  \n",
       "\n",
       "[9858 rows x 5 columns]"
      ]
     },
     "execution_count": 58,
     "metadata": {},
     "output_type": "execute_result"
    }
   ],
   "source": [
    "oneplus"
   ]
  },
  {
   "cell_type": "code",
   "execution_count": 59,
   "id": "d2ae2f05-4a59-4479-b6be-b771dc618a6c",
   "metadata": {},
   "outputs": [],
   "source": [
    "oneplus = oneplus.drop_duplicates()"
   ]
  },
  {
   "cell_type": "code",
   "execution_count": 60,
   "id": "c5b2566e-ee42-4d6a-a41d-d8caebbf1538",
   "metadata": {},
   "outputs": [
    {
     "name": "stdout",
     "output_type": "stream",
     "text": [
      "<class 'pandas.core.frame.DataFrame'>\n",
      "Index: 1940 entries, 0 to 9850\n",
      "Data columns (total 5 columns):\n",
      " #   Column   Non-Null Count  Dtype \n",
      "---  ------   --------------  ----- \n",
      " 0   Title    1940 non-null   object\n",
      " 1   Upvotes  1940 non-null   int64 \n",
      " 2   URL      1940 non-null   object\n",
      " 3   Created  1940 non-null   int64 \n",
      " 4   Text     1940 non-null   object\n",
      "dtypes: int64(2), object(3)\n",
      "memory usage: 90.9+ KB\n"
     ]
    }
   ],
   "source": [
    "oneplus.info()"
   ]
  },
  {
   "cell_type": "code",
   "execution_count": 61,
   "id": "ae6fd6b9-0c90-40f0-8915-20ce887a6f00",
   "metadata": {},
   "outputs": [
    {
     "name": "stderr",
     "output_type": "stream",
     "text": [
      "C:\\Users\\DELL\\AppData\\Local\\Temp\\ipykernel_288\\3283841834.py:1: SettingWithCopyWarning: \n",
      "A value is trying to be set on a copy of a slice from a DataFrame.\n",
      "Try using .loc[row_indexer,col_indexer] = value instead\n",
      "\n",
      "See the caveats in the documentation: https://pandas.pydata.org/pandas-docs/stable/user_guide/indexing.html#returning-a-view-versus-a-copy\n",
      "  oneplus['sentiment'] = oneplus['Text'].apply(get_sentiment)\n"
     ]
    }
   ],
   "source": [
    "oneplus['sentiment'] = oneplus['Text'].apply(get_sentiment)"
   ]
  },
  {
   "cell_type": "code",
   "execution_count": 62,
   "id": "2bd3658b-13dc-457c-8932-98cb642c04b7",
   "metadata": {},
   "outputs": [
    {
     "data": {
      "text/plain": [
       "sentiment\n",
       " 0.000000    604\n",
       " 0.200000     29\n",
       " 0.250000     24\n",
       " 0.166667     22\n",
       " 0.500000     18\n",
       "            ... \n",
       " 0.275000      1\n",
       " 0.172222      1\n",
       " 0.030159      1\n",
       " 0.231746      1\n",
       "-0.033144      1\n",
       "Name: count, Length: 550, dtype: int64"
      ]
     },
     "execution_count": 62,
     "metadata": {},
     "output_type": "execute_result"
    }
   ],
   "source": [
    "oneplus['sentiment'].value_counts()"
   ]
  },
  {
   "cell_type": "code",
   "execution_count": 63,
   "id": "e97acf86-f99b-4264-bd8b-e016f2325401",
   "metadata": {},
   "outputs": [
    {
     "name": "stderr",
     "output_type": "stream",
     "text": [
      "C:\\Users\\DELL\\AppData\\Local\\Temp\\ipykernel_288\\293404174.py:1: SettingWithCopyWarning: \n",
      "A value is trying to be set on a copy of a slice from a DataFrame.\n",
      "Try using .loc[row_indexer,col_indexer] = value instead\n",
      "\n",
      "See the caveats in the documentation: https://pandas.pydata.org/pandas-docs/stable/user_guide/indexing.html#returning-a-view-versus-a-copy\n",
      "  oneplus['location'] = oneplus['Text'].apply(extract_location)\n"
     ]
    }
   ],
   "source": [
    "oneplus['location'] = oneplus['Text'].apply(extract_location)"
   ]
  },
  {
   "cell_type": "code",
   "execution_count": 64,
   "id": "6bb322b7-4c9b-48a8-90aa-0819751034fb",
   "metadata": {},
   "outputs": [
    {
     "data": {
      "text/plain": [
       "location\n",
       "US                                                                                                                       34\n",
       "China                                                                                                                    23\n",
       "India                                                                                                                    20\n",
       "AI                                                                                                                       14\n",
       "UK                                                                                                                       14\n",
       "                                                                                                                         ..\n",
       "Israel                                                                                                                    1\n",
       "https://preview.redd.it/98tjvr6boqbe1.jpg?width=3072&format=pjpg&auto=webp&s=a927a4dca452e59fffdf26a15dd590fcf48b4655     1\n",
       "Norway                                                                                                                    1\n",
       "U.S                                                                                                                       1\n",
       "United States                                                                                                             1\n",
       "Name: count, Length: 62, dtype: int64"
      ]
     },
     "execution_count": 64,
     "metadata": {},
     "output_type": "execute_result"
    }
   ],
   "source": [
    "oneplus['location'].value_counts()"
   ]
  },
  {
   "cell_type": "code",
   "execution_count": 65,
   "id": "ffebf26f-a209-4b2f-91f2-a1e9826b3e24",
   "metadata": {},
   "outputs": [
    {
     "data": {
      "text/plain": [
       "array([None, 'AI', 'US', 'Philippines', 'MagSafe', 'Canada', 'YouTube',\n",
       "       'Verizon', 'Tradingshenzhen', 'london', 'Oppo', 'India', 'Romania',\n",
       "       'NZ', 'AIRVOOC', 'States', 'USA', 'Kinda', 'China', 'Arcadia',\n",
       "       'Mouse', 'eu',\n",
       "       'https://preview.redd.it/98tjvr6boqbe1.jpg?width=3072&format=pjpg&auto=webp&s=a927a4dca452e59fffdf26a15dd590fcf48b4655',\n",
       "       'EU', 'America', 'UK', 'Austria', 'Black', 'U.S', 'Norway',\n",
       "       'Spotify', 'Israel', 'china', '~70%', 'Belgium', 'Shelf', 'UC',\n",
       "       '144hz', 'Clicky', 'United States', 'Germany', 'Activities',\n",
       "       'cambodia', 'Australia', 'Criteria', 'GB', 'OOS15', 'Photos',\n",
       "       'S24', 'india', 'netflix', 'Shenzhen', 'Boston', 'Italy', 'Texas',\n",
       "       'N30', 'Oman', 'Gecko', 'U.S.', 'California', 'Amsterdam',\n",
       "       'KB2003\\\\_14.0.0.301', 'Singapore'], dtype=object)"
      ]
     },
     "execution_count": 65,
     "metadata": {},
     "output_type": "execute_result"
    }
   ],
   "source": [
    "oneplus['location'].unique()"
   ]
  },
  {
   "cell_type": "code",
   "execution_count": 66,
   "id": "afe61de2-31b3-489e-9778-00278403d15b",
   "metadata": {},
   "outputs": [
    {
     "name": "stderr",
     "output_type": "stream",
     "text": [
      "C:\\Users\\DELL\\AppData\\Local\\Temp\\ipykernel_288\\1367692555.py:1: SettingWithCopyWarning: \n",
      "A value is trying to be set on a copy of a slice from a DataFrame.\n",
      "Try using .loc[row_indexer,col_indexer] = value instead\n",
      "\n",
      "See the caveats in the documentation: https://pandas.pydata.org/pandas-docs/stable/user_guide/indexing.html#returning-a-view-versus-a-copy\n",
      "  oneplus['country'] = oneplus['location'].apply(extract_valid_country)\n"
     ]
    }
   ],
   "source": [
    "oneplus['country'] = oneplus['location'].apply(extract_valid_country)"
   ]
  },
  {
   "cell_type": "code",
   "execution_count": 67,
   "id": "33299972-fbaf-45d6-9bad-aba22ceb7a39",
   "metadata": {},
   "outputs": [
    {
     "data": {
      "text/plain": [
       "0       None\n",
       "1       None\n",
       "2       None\n",
       "3       None\n",
       "4       None\n",
       "        ... \n",
       "9722    None\n",
       "9731    None\n",
       "9810    None\n",
       "9829    None\n",
       "9850    None\n",
       "Name: country, Length: 1940, dtype: object"
      ]
     },
     "execution_count": 67,
     "metadata": {},
     "output_type": "execute_result"
    }
   ],
   "source": [
    "oneplus['country']"
   ]
  },
  {
   "cell_type": "code",
   "execution_count": 68,
   "id": "30e256a4-f886-4718-9633-7448470e6ba4",
   "metadata": {},
   "outputs": [],
   "source": [
    "oneplus = oneplus[oneplus['country'].notna()]"
   ]
  },
  {
   "cell_type": "code",
   "execution_count": 69,
   "id": "5bab4b09-d1b2-4e9a-b882-1c92d9a2043e",
   "metadata": {},
   "outputs": [
    {
     "data": {
      "text/plain": [
       "13      Philippines\n",
       "24           Canada\n",
       "85            India\n",
       "92          Romania\n",
       "148           China\n",
       "           ...     \n",
       "6271        Romania\n",
       "6433          India\n",
       "6672          China\n",
       "8035          China\n",
       "8297          China\n",
       "Name: country, Length: 85, dtype: object"
      ]
     },
     "execution_count": 69,
     "metadata": {},
     "output_type": "execute_result"
    }
   ],
   "source": [
    "oneplus['country']"
   ]
  },
  {
   "cell_type": "code",
   "execution_count": 70,
   "id": "aba35f55-dda2-4839-af68-b8b30fc73928",
   "metadata": {},
   "outputs": [],
   "source": [
    "location_oneplus = oneplus.groupby('country')['sentiment'].mean().reset_index()"
   ]
  },
  {
   "cell_type": "code",
   "execution_count": 71,
   "id": "f3062972-5189-419e-9504-f5aefa9b04ea",
   "metadata": {},
   "outputs": [
    {
     "data": {
      "text/html": [
       "<div>\n",
       "<style scoped>\n",
       "    .dataframe tbody tr th:only-of-type {\n",
       "        vertical-align: middle;\n",
       "    }\n",
       "\n",
       "    .dataframe tbody tr th {\n",
       "        vertical-align: top;\n",
       "    }\n",
       "\n",
       "    .dataframe thead th {\n",
       "        text-align: right;\n",
       "    }\n",
       "</style>\n",
       "<table border=\"1\" class=\"dataframe\">\n",
       "  <thead>\n",
       "    <tr style=\"text-align: right;\">\n",
       "      <th></th>\n",
       "      <th>country</th>\n",
       "      <th>sentiment</th>\n",
       "    </tr>\n",
       "  </thead>\n",
       "  <tbody>\n",
       "    <tr>\n",
       "      <th>0</th>\n",
       "      <td>Australia</td>\n",
       "      <td>0.083333</td>\n",
       "    </tr>\n",
       "    <tr>\n",
       "      <th>1</th>\n",
       "      <td>Austria</td>\n",
       "      <td>0.225000</td>\n",
       "    </tr>\n",
       "    <tr>\n",
       "      <th>2</th>\n",
       "      <td>Belgium</td>\n",
       "      <td>0.185440</td>\n",
       "    </tr>\n",
       "    <tr>\n",
       "      <th>3</th>\n",
       "      <td>Cambodia</td>\n",
       "      <td>-0.291667</td>\n",
       "    </tr>\n",
       "    <tr>\n",
       "      <th>4</th>\n",
       "      <td>Canada</td>\n",
       "      <td>0.095522</td>\n",
       "    </tr>\n",
       "    <tr>\n",
       "      <th>5</th>\n",
       "      <td>China</td>\n",
       "      <td>0.073858</td>\n",
       "    </tr>\n",
       "    <tr>\n",
       "      <th>6</th>\n",
       "      <td>Germany</td>\n",
       "      <td>-0.060000</td>\n",
       "    </tr>\n",
       "    <tr>\n",
       "      <th>7</th>\n",
       "      <td>India</td>\n",
       "      <td>0.064206</td>\n",
       "    </tr>\n",
       "    <tr>\n",
       "      <th>8</th>\n",
       "      <td>Israel</td>\n",
       "      <td>0.145455</td>\n",
       "    </tr>\n",
       "    <tr>\n",
       "      <th>9</th>\n",
       "      <td>Italy</td>\n",
       "      <td>-0.275000</td>\n",
       "    </tr>\n",
       "    <tr>\n",
       "      <th>10</th>\n",
       "      <td>Norway</td>\n",
       "      <td>0.000000</td>\n",
       "    </tr>\n",
       "    <tr>\n",
       "      <th>11</th>\n",
       "      <td>Oman</td>\n",
       "      <td>0.225000</td>\n",
       "    </tr>\n",
       "    <tr>\n",
       "      <th>12</th>\n",
       "      <td>Philippines</td>\n",
       "      <td>-0.012500</td>\n",
       "    </tr>\n",
       "    <tr>\n",
       "      <th>13</th>\n",
       "      <td>Romania</td>\n",
       "      <td>0.524688</td>\n",
       "    </tr>\n",
       "    <tr>\n",
       "      <th>14</th>\n",
       "      <td>Singapore</td>\n",
       "      <td>0.366667</td>\n",
       "    </tr>\n",
       "    <tr>\n",
       "      <th>15</th>\n",
       "      <td>United States</td>\n",
       "      <td>0.000000</td>\n",
       "    </tr>\n",
       "  </tbody>\n",
       "</table>\n",
       "</div>"
      ],
      "text/plain": [
       "          country  sentiment\n",
       "0       Australia   0.083333\n",
       "1         Austria   0.225000\n",
       "2         Belgium   0.185440\n",
       "3        Cambodia  -0.291667\n",
       "4          Canada   0.095522\n",
       "5           China   0.073858\n",
       "6         Germany  -0.060000\n",
       "7           India   0.064206\n",
       "8          Israel   0.145455\n",
       "9           Italy  -0.275000\n",
       "10         Norway   0.000000\n",
       "11           Oman   0.225000\n",
       "12    Philippines  -0.012500\n",
       "13        Romania   0.524688\n",
       "14      Singapore   0.366667\n",
       "15  United States   0.000000"
      ]
     },
     "execution_count": 71,
     "metadata": {},
     "output_type": "execute_result"
    }
   ],
   "source": [
    "location_oneplus"
   ]
  },
  {
   "cell_type": "code",
   "execution_count": 75,
   "id": "362e8cf8-7718-4ea1-baa3-ac1774306bf2",
   "metadata": {},
   "outputs": [
    {
     "data": {
      "image/png": "[encoded data removed]",
      "text/plain": [
       "<Figure size 2000x1200 with 1 Axes>"
      ]
     },
     "metadata": {},
     "output_type": "display_data"
    }
   ],
   "source": [
    "plt.figure(figsize=(20, 12))  # A more balanced figure size for better visibility\n",
    "location_oneplus.sort_values('sentiment', ascending=False, inplace=True)\n",
    "\n",
    "# Create the horizontal bar plot\n",
    "plt.barh(location_oneplus['country'], location_oneplus['sentiment'])\n",
    "\n",
    "# Set labels and title with larger font sizes\n",
    "plt.xlabel('Average Sentiment', fontsize=18)\n",
    "plt.ylabel('Location', fontsize=18)\n",
    "plt.title('Geographical Sentiment Analysis for OnePlus', fontsize=20)\n",
    "\n",
    "plt.xticks(fontsize=14)  # Adjusting font size for sentiment values (x-axis)\n",
    "plt.yticks(fontsize=14)  # Adjusting font size for country names (y-axis)\n",
    "\n",
    "# Display the plot\n",
    "plt.show()"
   ]
  },
  {
   "cell_type": "code",
   "execution_count": 73,
   "id": "142c742d-0a11-47ee-ade2-98df07245ced",
   "metadata": {},
   "outputs": [],
   "source": [
    "## so till now we have done the Geographical sentiment analysis of each smartphone data."
   ]
  }
 ],
 "metadata": {
  "kernelspec": {
   "display_name": "Python 3 (ipykernel)",
   "language": "python",
   "name": "python3"
  },
  "language_info": {
   "codemirror_mode": {
    "name": "ipython",
    "version": 3
   },
   "file_extension": ".py",
   "mimetype": "text/x-python",
   "name": "python",
   "nbconvert_exporter": "python",
   "pygments_lexer": "ipython3",
   "version": "3.11.7"
  }
 },
 "nbformat": 4,
 "nbformat_minor": 5
}
