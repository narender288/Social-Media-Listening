{
 "cells": [
  {
   "cell_type": "markdown",
   "id": "7353c0d7-7294-4643-af66-ff563c8b57a6",
   "metadata": {},
   "source": [
    "# iphone - model Specific Information"
   ]
  },
  {
   "cell_type": "code",
   "execution_count": 1,
   "id": "dafc81b6-ad50-4758-9fcc-e9d888a686a0",
   "metadata": {},
   "outputs": [],
   "source": [
    "import pandas as pd"
   ]
  },
  {
   "cell_type": "code",
   "execution_count": 2,
   "id": "0ac218ba-8167-47d3-9650-1b1d0247209c",
   "metadata": {},
   "outputs": [],
   "source": [
    "iphone = pd.read_json(\"reddit_iphone.json\")"
   ]
  },
  {
   "cell_type": "code",
   "execution_count": 3,
   "id": "97e0f2e3-3d15-429b-a6d3-e053992d1614",
   "metadata": {},
   "outputs": [
    {
     "data": {
      "text/html": [
       "<div>\n",
       "<style scoped>\n",
       "    .dataframe tbody tr th:only-of-type {\n",
       "        vertical-align: middle;\n",
       "    }\n",
       "\n",
       "    .dataframe tbody tr th {\n",
       "        vertical-align: top;\n",
       "    }\n",
       "\n",
       "    .dataframe thead th {\n",
       "        text-align: right;\n",
       "    }\n",
       "</style>\n",
       "<table border=\"1\" class=\"dataframe\">\n",
       "  <thead>\n",
       "    <tr style=\"text-align: right;\">\n",
       "      <th></th>\n",
       "      <th>Title</th>\n",
       "      <th>Upvotes</th>\n",
       "      <th>URL</th>\n",
       "      <th>Created</th>\n",
       "      <th>Text</th>\n",
       "    </tr>\n",
       "  </thead>\n",
       "  <tbody>\n",
       "    <tr>\n",
       "      <th>0</th>\n",
       "      <td>14 PM drain during the night</td>\n",
       "      <td>1</td>\n",
       "      <td>https://www.reddit.com/r/iphone/comments/1hytb...</td>\n",
       "      <td>1736591880</td>\n",
       "      <td>My 14 PM just few days ago always drain from 7...</td>\n",
       "    </tr>\n",
       "    <tr>\n",
       "      <th>1</th>\n",
       "      <td>Screen recorder doesn’t record audio</td>\n",
       "      <td>1</td>\n",
       "      <td>https://www.reddit.com/r/iphone/comments/1hyta...</td>\n",
       "      <td>1736591865</td>\n",
       "      <td>Hey! When I record a video using the screen re...</td>\n",
       "    </tr>\n",
       "    <tr>\n",
       "      <th>2</th>\n",
       "      <td>What are your opinions on the iPhone 13?</td>\n",
       "      <td>1</td>\n",
       "      <td>https://www.reddit.com/r/iphone/comments/1hyt5...</td>\n",
       "      <td>1736591161</td>\n",
       "      <td>I’ve been using my iPhone 11 for a few years n...</td>\n",
       "    </tr>\n",
       "    <tr>\n",
       "      <th>3</th>\n",
       "      <td>damaged camera?</td>\n",
       "      <td>1</td>\n",
       "      <td>https://www.reddit.com/gallery/1hyt5bj</td>\n",
       "      <td>1736591152</td>\n",
       "      <td>No text</td>\n",
       "    </tr>\n",
       "    <tr>\n",
       "      <th>4</th>\n",
       "      <td>Genuine components on refurbished iPhones</td>\n",
       "      <td>2</td>\n",
       "      <td>https://www.reddit.com/r/iphone/comments/1hysr...</td>\n",
       "      <td>1736589444</td>\n",
       "      <td>I am about to buy a refurbished iPhone on Amaz...</td>\n",
       "    </tr>\n",
       "    <tr>\n",
       "      <th>...</th>\n",
       "      <td>...</td>\n",
       "      <td>...</td>\n",
       "      <td>...</td>\n",
       "      <td>...</td>\n",
       "      <td>...</td>\n",
       "    </tr>\n",
       "    <tr>\n",
       "      <th>9810</th>\n",
       "      <td>16 Pro Max Flashlight</td>\n",
       "      <td>9</td>\n",
       "      <td>https://www.reddit.com/r/iphone/comments/1htvm...</td>\n",
       "      <td>1736045008</td>\n",
       "      <td>For some reason on my 16 pro max, whenever I e...</td>\n",
       "    </tr>\n",
       "    <tr>\n",
       "      <th>9811</th>\n",
       "      <td>World's 1st iPhone for the Planet Mars. (Teste...</td>\n",
       "      <td>113</td>\n",
       "      <td>https://www.reddit.com/gallery/1htvj76</td>\n",
       "      <td>1736044750</td>\n",
       "      <td>No text</td>\n",
       "    </tr>\n",
       "    <tr>\n",
       "      <th>9812</th>\n",
       "      <td>Malware??</td>\n",
       "      <td>0</td>\n",
       "      <td>https://i.redd.it/h9nkrrdc83be1.jpeg</td>\n",
       "      <td>1736044746</td>\n",
       "      <td>I’m not sure if this is the right place to pos...</td>\n",
       "    </tr>\n",
       "    <tr>\n",
       "      <th>9813</th>\n",
       "      <td>Dictation is replacing text</td>\n",
       "      <td>1</td>\n",
       "      <td>https://www.reddit.com/r/iphone/comments/1htvd...</td>\n",
       "      <td>1736044278</td>\n",
       "      <td>This phrase is not listed in my text replaceme...</td>\n",
       "    </tr>\n",
       "    <tr>\n",
       "      <th>9814</th>\n",
       "      <td>Non-magnetic charger for standby feature</td>\n",
       "      <td>1</td>\n",
       "      <td>https://www.reddit.com/r/iphone/comments/1htv2...</td>\n",
       "      <td>1736043330</td>\n",
       "      <td>I'm looking for a cradle type charger for my i...</td>\n",
       "    </tr>\n",
       "  </tbody>\n",
       "</table>\n",
       "<p>9815 rows × 5 columns</p>\n",
       "</div>"
      ],
      "text/plain": [
       "                                                  Title  Upvotes  \\\n",
       "0                          14 PM drain during the night        1   \n",
       "1                  Screen recorder doesn’t record audio        1   \n",
       "2              What are your opinions on the iPhone 13?        1   \n",
       "3                                       damaged camera?        1   \n",
       "4             Genuine components on refurbished iPhones        2   \n",
       "...                                                 ...      ...   \n",
       "9810                             16 Pro Max Flashlight         9   \n",
       "9811  World's 1st iPhone for the Planet Mars. (Teste...      113   \n",
       "9812                                         Malware??         0   \n",
       "9813                        Dictation is replacing text        1   \n",
       "9814           Non-magnetic charger for standby feature        1   \n",
       "\n",
       "                                                    URL     Created  \\\n",
       "0     https://www.reddit.com/r/iphone/comments/1hytb...  1736591880   \n",
       "1     https://www.reddit.com/r/iphone/comments/1hyta...  1736591865   \n",
       "2     https://www.reddit.com/r/iphone/comments/1hyt5...  1736591161   \n",
       "3                https://www.reddit.com/gallery/1hyt5bj  1736591152   \n",
       "4     https://www.reddit.com/r/iphone/comments/1hysr...  1736589444   \n",
       "...                                                 ...         ...   \n",
       "9810  https://www.reddit.com/r/iphone/comments/1htvm...  1736045008   \n",
       "9811             https://www.reddit.com/gallery/1htvj76  1736044750   \n",
       "9812               https://i.redd.it/h9nkrrdc83be1.jpeg  1736044746   \n",
       "9813  https://www.reddit.com/r/iphone/comments/1htvd...  1736044278   \n",
       "9814  https://www.reddit.com/r/iphone/comments/1htv2...  1736043330   \n",
       "\n",
       "                                                   Text  \n",
       "0     My 14 PM just few days ago always drain from 7...  \n",
       "1     Hey! When I record a video using the screen re...  \n",
       "2     I’ve been using my iPhone 11 for a few years n...  \n",
       "3                                               No text  \n",
       "4     I am about to buy a refurbished iPhone on Amaz...  \n",
       "...                                                 ...  \n",
       "9810  For some reason on my 16 pro max, whenever I e...  \n",
       "9811                                            No text  \n",
       "9812  I’m not sure if this is the right place to pos...  \n",
       "9813  This phrase is not listed in my text replaceme...  \n",
       "9814  I'm looking for a cradle type charger for my i...  \n",
       "\n",
       "[9815 rows x 5 columns]"
      ]
     },
     "execution_count": 3,
     "metadata": {},
     "output_type": "execute_result"
    }
   ],
   "source": [
    "iphone"
   ]
  },
  {
   "cell_type": "code",
   "execution_count": 4,
   "id": "bbab4e3a-9ffa-47db-bb69-13229befcd08",
   "metadata": {},
   "outputs": [],
   "source": [
    "iphone = iphone.drop_duplicates()"
   ]
  },
  {
   "cell_type": "code",
   "execution_count": 5,
   "id": "eb57a6c6-2eb3-418a-abef-3d358af86189",
   "metadata": {},
   "outputs": [
    {
     "data": {
      "text/html": [
       "<div>\n",
       "<style scoped>\n",
       "    .dataframe tbody tr th:only-of-type {\n",
       "        vertical-align: middle;\n",
       "    }\n",
       "\n",
       "    .dataframe tbody tr th {\n",
       "        vertical-align: top;\n",
       "    }\n",
       "\n",
       "    .dataframe thead th {\n",
       "        text-align: right;\n",
       "    }\n",
       "</style>\n",
       "<table border=\"1\" class=\"dataframe\">\n",
       "  <thead>\n",
       "    <tr style=\"text-align: right;\">\n",
       "      <th></th>\n",
       "      <th>Title</th>\n",
       "      <th>Upvotes</th>\n",
       "      <th>URL</th>\n",
       "      <th>Created</th>\n",
       "      <th>Text</th>\n",
       "    </tr>\n",
       "  </thead>\n",
       "  <tbody>\n",
       "    <tr>\n",
       "      <th>0</th>\n",
       "      <td>14 PM drain during the night</td>\n",
       "      <td>1</td>\n",
       "      <td>https://www.reddit.com/r/iphone/comments/1hytb...</td>\n",
       "      <td>1736591880</td>\n",
       "      <td>My 14 PM just few days ago always drain from 7...</td>\n",
       "    </tr>\n",
       "    <tr>\n",
       "      <th>1</th>\n",
       "      <td>Screen recorder doesn’t record audio</td>\n",
       "      <td>1</td>\n",
       "      <td>https://www.reddit.com/r/iphone/comments/1hyta...</td>\n",
       "      <td>1736591865</td>\n",
       "      <td>Hey! When I record a video using the screen re...</td>\n",
       "    </tr>\n",
       "    <tr>\n",
       "      <th>2</th>\n",
       "      <td>What are your opinions on the iPhone 13?</td>\n",
       "      <td>1</td>\n",
       "      <td>https://www.reddit.com/r/iphone/comments/1hyt5...</td>\n",
       "      <td>1736591161</td>\n",
       "      <td>I’ve been using my iPhone 11 for a few years n...</td>\n",
       "    </tr>\n",
       "    <tr>\n",
       "      <th>3</th>\n",
       "      <td>damaged camera?</td>\n",
       "      <td>1</td>\n",
       "      <td>https://www.reddit.com/gallery/1hyt5bj</td>\n",
       "      <td>1736591152</td>\n",
       "      <td>No text</td>\n",
       "    </tr>\n",
       "    <tr>\n",
       "      <th>4</th>\n",
       "      <td>Genuine components on refurbished iPhones</td>\n",
       "      <td>2</td>\n",
       "      <td>https://www.reddit.com/r/iphone/comments/1hysr...</td>\n",
       "      <td>1736589444</td>\n",
       "      <td>I am about to buy a refurbished iPhone on Amaz...</td>\n",
       "    </tr>\n",
       "    <tr>\n",
       "      <th>...</th>\n",
       "      <td>...</td>\n",
       "      <td>...</td>\n",
       "      <td>...</td>\n",
       "      <td>...</td>\n",
       "      <td>...</td>\n",
       "    </tr>\n",
       "    <tr>\n",
       "      <th>9548</th>\n",
       "      <td>What are your top pet peeves about iPhone whet...</td>\n",
       "      <td>4</td>\n",
       "      <td>https://www.reddit.com/r/iphone/comments/1hv8y...</td>\n",
       "      <td>1736195363</td>\n",
       "      <td>My number one issue is when I am on a phone ca...</td>\n",
       "    </tr>\n",
       "    <tr>\n",
       "      <th>9575</th>\n",
       "      <td>Iphone15pro - charging/nothing is plugged in. ...</td>\n",
       "      <td>4</td>\n",
       "      <td>https://i.redd.it/ee3p2ui2kebe1.jpeg</td>\n",
       "      <td>1736181866</td>\n",
       "      <td>The iPhone shows that it’s charging even thoug...</td>\n",
       "    </tr>\n",
       "    <tr>\n",
       "      <th>9601</th>\n",
       "      <td>I really cannot find Apps that utilise the Dyn...</td>\n",
       "      <td>690</td>\n",
       "      <td>https://i.redd.it/6frm5bstfdbe1.jpeg</td>\n",
       "      <td>1736168331</td>\n",
       "      <td>Hi all,\\n\\nI really cannot find Apps that util...</td>\n",
       "    </tr>\n",
       "    <tr>\n",
       "      <th>9689</th>\n",
       "      <td>Can I lock myself into a focus mode for a time?</td>\n",
       "      <td>1</td>\n",
       "      <td>https://www.reddit.com/r/iphone/comments/1huhe...</td>\n",
       "      <td>1736111388</td>\n",
       "      <td>I've set up my work focus mode to lock me out ...</td>\n",
       "    </tr>\n",
       "    <tr>\n",
       "      <th>9703</th>\n",
       "      <td>Which Safari Extensions you’re using?</td>\n",
       "      <td>449</td>\n",
       "      <td>https://i.redd.it/rwd09zhna8be1.jpeg</td>\n",
       "      <td>1736106057</td>\n",
       "      <td>No text</td>\n",
       "    </tr>\n",
       "  </tbody>\n",
       "</table>\n",
       "<p>1562 rows × 5 columns</p>\n",
       "</div>"
      ],
      "text/plain": [
       "                                                  Title  Upvotes  \\\n",
       "0                          14 PM drain during the night        1   \n",
       "1                  Screen recorder doesn’t record audio        1   \n",
       "2              What are your opinions on the iPhone 13?        1   \n",
       "3                                       damaged camera?        1   \n",
       "4             Genuine components on refurbished iPhones        2   \n",
       "...                                                 ...      ...   \n",
       "9548  What are your top pet peeves about iPhone whet...        4   \n",
       "9575  Iphone15pro - charging/nothing is plugged in. ...        4   \n",
       "9601  I really cannot find Apps that utilise the Dyn...      690   \n",
       "9689    Can I lock myself into a focus mode for a time?        1   \n",
       "9703             Which Safari Extensions you’re using?       449   \n",
       "\n",
       "                                                    URL     Created  \\\n",
       "0     https://www.reddit.com/r/iphone/comments/1hytb...  1736591880   \n",
       "1     https://www.reddit.com/r/iphone/comments/1hyta...  1736591865   \n",
       "2     https://www.reddit.com/r/iphone/comments/1hyt5...  1736591161   \n",
       "3                https://www.reddit.com/gallery/1hyt5bj  1736591152   \n",
       "4     https://www.reddit.com/r/iphone/comments/1hysr...  1736589444   \n",
       "...                                                 ...         ...   \n",
       "9548  https://www.reddit.com/r/iphone/comments/1hv8y...  1736195363   \n",
       "9575               https://i.redd.it/ee3p2ui2kebe1.jpeg  1736181866   \n",
       "9601               https://i.redd.it/6frm5bstfdbe1.jpeg  1736168331   \n",
       "9689  https://www.reddit.com/r/iphone/comments/1huhe...  1736111388   \n",
       "9703               https://i.redd.it/rwd09zhna8be1.jpeg  1736106057   \n",
       "\n",
       "                                                   Text  \n",
       "0     My 14 PM just few days ago always drain from 7...  \n",
       "1     Hey! When I record a video using the screen re...  \n",
       "2     I’ve been using my iPhone 11 for a few years n...  \n",
       "3                                               No text  \n",
       "4     I am about to buy a refurbished iPhone on Amaz...  \n",
       "...                                                 ...  \n",
       "9548  My number one issue is when I am on a phone ca...  \n",
       "9575  The iPhone shows that it’s charging even thoug...  \n",
       "9601  Hi all,\\n\\nI really cannot find Apps that util...  \n",
       "9689  I've set up my work focus mode to lock me out ...  \n",
       "9703                                            No text  \n",
       "\n",
       "[1562 rows x 5 columns]"
      ]
     },
     "execution_count": 5,
     "metadata": {},
     "output_type": "execute_result"
    }
   ],
   "source": [
    "iphone"
   ]
  },
  {
   "cell_type": "code",
   "execution_count": 6,
   "id": "18f5f9b3-1b5b-4380-88e3-b0b31c2b83c1",
   "metadata": {},
   "outputs": [
    {
     "data": {
      "text/plain": [
       "Index(['Title', 'Upvotes', 'URL', 'Created', 'Text'], dtype='object')"
      ]
     },
     "execution_count": 6,
     "metadata": {},
     "output_type": "execute_result"
    }
   ],
   "source": [
    "iphone.columns"
   ]
  },
  {
   "cell_type": "code",
   "execution_count": 7,
   "id": "f01ebbf6-5ec5-4f7c-8e89-7097f90a5c89",
   "metadata": {},
   "outputs": [],
   "source": [
    "import re"
   ]
  },
  {
   "cell_type": "code",
   "execution_count": 8,
   "id": "056ca5e9-59e0-4469-b003-37c8c4a40289",
   "metadata": {},
   "outputs": [],
   "source": [
    "iphone_model_pattern = r'iPhone\\s*(\\d{1,3})(?:\\s*(Pro\\s*Max|Pro|Max|Mini|Plus|SE))?'"
   ]
  },
  {
   "cell_type": "code",
   "execution_count": 9,
   "id": "e3bd0e06-1cdc-4152-b58c-99889ef1c199",
   "metadata": {},
   "outputs": [
    {
     "name": "stderr",
     "output_type": "stream",
     "text": [
      "C:\\Users\\DELL\\AppData\\Local\\Temp\\ipykernel_35804\\1061917378.py:1: SettingWithCopyWarning: \n",
      "A value is trying to be set on a copy of a slice from a DataFrame.\n",
      "Try using .loc[row_indexer,col_indexer] = value instead\n",
      "\n",
      "See the caveats in the documentation: https://pandas.pydata.org/pandas-docs/stable/user_guide/indexing.html#returning-a-view-versus-a-copy\n",
      "  iphone.loc[:, 'Model'] = iphone['Text'].apply(\n"
     ]
    }
   ],
   "source": [
    "iphone.loc[:, 'Model'] = iphone['Text'].apply(\n",
    "    lambda title: next((f\"iPhone {model}\" for model in re.findall(iphone_model_pattern, str(title))), None)\n",
    ")\n",
    "\n",
    "iphone.loc[:, 'Model'] = iphone['Model'].fillna(\n",
    "    iphone['Text'].apply(\n",
    "        lambda text: next((f\"iPhone {model}\" for model in re.findall(iphone_model_pattern, str(text))), None)\n",
    "    )\n",
    ")"
   ]
  },
  {
   "cell_type": "code",
   "execution_count": 10,
   "id": "52f2d37b-4b29-4383-81fb-ba73174581aa",
   "metadata": {},
   "outputs": [
    {
     "data": {
      "text/html": [
       "<div>\n",
       "<style scoped>\n",
       "    .dataframe tbody tr th:only-of-type {\n",
       "        vertical-align: middle;\n",
       "    }\n",
       "\n",
       "    .dataframe tbody tr th {\n",
       "        vertical-align: top;\n",
       "    }\n",
       "\n",
       "    .dataframe thead th {\n",
       "        text-align: right;\n",
       "    }\n",
       "</style>\n",
       "<table border=\"1\" class=\"dataframe\">\n",
       "  <thead>\n",
       "    <tr style=\"text-align: right;\">\n",
       "      <th></th>\n",
       "      <th>Title</th>\n",
       "      <th>Upvotes</th>\n",
       "      <th>URL</th>\n",
       "      <th>Created</th>\n",
       "      <th>Text</th>\n",
       "      <th>Model</th>\n",
       "    </tr>\n",
       "  </thead>\n",
       "  <tbody>\n",
       "    <tr>\n",
       "      <th>0</th>\n",
       "      <td>14 PM drain during the night</td>\n",
       "      <td>1</td>\n",
       "      <td>https://www.reddit.com/r/iphone/comments/1hytb...</td>\n",
       "      <td>1736591880</td>\n",
       "      <td>My 14 PM just few days ago always drain from 7...</td>\n",
       "      <td>None</td>\n",
       "    </tr>\n",
       "    <tr>\n",
       "      <th>1</th>\n",
       "      <td>Screen recorder doesn’t record audio</td>\n",
       "      <td>1</td>\n",
       "      <td>https://www.reddit.com/r/iphone/comments/1hyta...</td>\n",
       "      <td>1736591865</td>\n",
       "      <td>Hey! When I record a video using the screen re...</td>\n",
       "      <td>None</td>\n",
       "    </tr>\n",
       "    <tr>\n",
       "      <th>2</th>\n",
       "      <td>What are your opinions on the iPhone 13?</td>\n",
       "      <td>1</td>\n",
       "      <td>https://www.reddit.com/r/iphone/comments/1hyt5...</td>\n",
       "      <td>1736591161</td>\n",
       "      <td>I’ve been using my iPhone 11 for a few years n...</td>\n",
       "      <td>iPhone ('11', '')</td>\n",
       "    </tr>\n",
       "    <tr>\n",
       "      <th>3</th>\n",
       "      <td>damaged camera?</td>\n",
       "      <td>1</td>\n",
       "      <td>https://www.reddit.com/gallery/1hyt5bj</td>\n",
       "      <td>1736591152</td>\n",
       "      <td>No text</td>\n",
       "      <td>None</td>\n",
       "    </tr>\n",
       "    <tr>\n",
       "      <th>4</th>\n",
       "      <td>Genuine components on refurbished iPhones</td>\n",
       "      <td>2</td>\n",
       "      <td>https://www.reddit.com/r/iphone/comments/1hysr...</td>\n",
       "      <td>1736589444</td>\n",
       "      <td>I am about to buy a refurbished iPhone on Amaz...</td>\n",
       "      <td>None</td>\n",
       "    </tr>\n",
       "    <tr>\n",
       "      <th>...</th>\n",
       "      <td>...</td>\n",
       "      <td>...</td>\n",
       "      <td>...</td>\n",
       "      <td>...</td>\n",
       "      <td>...</td>\n",
       "      <td>...</td>\n",
       "    </tr>\n",
       "    <tr>\n",
       "      <th>9548</th>\n",
       "      <td>What are your top pet peeves about iPhone whet...</td>\n",
       "      <td>4</td>\n",
       "      <td>https://www.reddit.com/r/iphone/comments/1hv8y...</td>\n",
       "      <td>1736195363</td>\n",
       "      <td>My number one issue is when I am on a phone ca...</td>\n",
       "      <td>None</td>\n",
       "    </tr>\n",
       "    <tr>\n",
       "      <th>9575</th>\n",
       "      <td>Iphone15pro - charging/nothing is plugged in. ...</td>\n",
       "      <td>4</td>\n",
       "      <td>https://i.redd.it/ee3p2ui2kebe1.jpeg</td>\n",
       "      <td>1736181866</td>\n",
       "      <td>The iPhone shows that it’s charging even thoug...</td>\n",
       "      <td>None</td>\n",
       "    </tr>\n",
       "    <tr>\n",
       "      <th>9601</th>\n",
       "      <td>I really cannot find Apps that utilise the Dyn...</td>\n",
       "      <td>690</td>\n",
       "      <td>https://i.redd.it/6frm5bstfdbe1.jpeg</td>\n",
       "      <td>1736168331</td>\n",
       "      <td>Hi all,\\n\\nI really cannot find Apps that util...</td>\n",
       "      <td>None</td>\n",
       "    </tr>\n",
       "    <tr>\n",
       "      <th>9689</th>\n",
       "      <td>Can I lock myself into a focus mode for a time?</td>\n",
       "      <td>1</td>\n",
       "      <td>https://www.reddit.com/r/iphone/comments/1huhe...</td>\n",
       "      <td>1736111388</td>\n",
       "      <td>I've set up my work focus mode to lock me out ...</td>\n",
       "      <td>None</td>\n",
       "    </tr>\n",
       "    <tr>\n",
       "      <th>9703</th>\n",
       "      <td>Which Safari Extensions you’re using?</td>\n",
       "      <td>449</td>\n",
       "      <td>https://i.redd.it/rwd09zhna8be1.jpeg</td>\n",
       "      <td>1736106057</td>\n",
       "      <td>No text</td>\n",
       "      <td>None</td>\n",
       "    </tr>\n",
       "  </tbody>\n",
       "</table>\n",
       "<p>1562 rows × 6 columns</p>\n",
       "</div>"
      ],
      "text/plain": [
       "                                                  Title  Upvotes  \\\n",
       "0                          14 PM drain during the night        1   \n",
       "1                  Screen recorder doesn’t record audio        1   \n",
       "2              What are your opinions on the iPhone 13?        1   \n",
       "3                                       damaged camera?        1   \n",
       "4             Genuine components on refurbished iPhones        2   \n",
       "...                                                 ...      ...   \n",
       "9548  What are your top pet peeves about iPhone whet...        4   \n",
       "9575  Iphone15pro - charging/nothing is plugged in. ...        4   \n",
       "9601  I really cannot find Apps that utilise the Dyn...      690   \n",
       "9689    Can I lock myself into a focus mode for a time?        1   \n",
       "9703             Which Safari Extensions you’re using?       449   \n",
       "\n",
       "                                                    URL     Created  \\\n",
       "0     https://www.reddit.com/r/iphone/comments/1hytb...  1736591880   \n",
       "1     https://www.reddit.com/r/iphone/comments/1hyta...  1736591865   \n",
       "2     https://www.reddit.com/r/iphone/comments/1hyt5...  1736591161   \n",
       "3                https://www.reddit.com/gallery/1hyt5bj  1736591152   \n",
       "4     https://www.reddit.com/r/iphone/comments/1hysr...  1736589444   \n",
       "...                                                 ...         ...   \n",
       "9548  https://www.reddit.com/r/iphone/comments/1hv8y...  1736195363   \n",
       "9575               https://i.redd.it/ee3p2ui2kebe1.jpeg  1736181866   \n",
       "9601               https://i.redd.it/6frm5bstfdbe1.jpeg  1736168331   \n",
       "9689  https://www.reddit.com/r/iphone/comments/1huhe...  1736111388   \n",
       "9703               https://i.redd.it/rwd09zhna8be1.jpeg  1736106057   \n",
       "\n",
       "                                                   Text              Model  \n",
       "0     My 14 PM just few days ago always drain from 7...               None  \n",
       "1     Hey! When I record a video using the screen re...               None  \n",
       "2     I’ve been using my iPhone 11 for a few years n...  iPhone ('11', '')  \n",
       "3                                               No text               None  \n",
       "4     I am about to buy a refurbished iPhone on Amaz...               None  \n",
       "...                                                 ...                ...  \n",
       "9548  My number one issue is when I am on a phone ca...               None  \n",
       "9575  The iPhone shows that it’s charging even thoug...               None  \n",
       "9601  Hi all,\\n\\nI really cannot find Apps that util...               None  \n",
       "9689  I've set up my work focus mode to lock me out ...               None  \n",
       "9703                                            No text               None  \n",
       "\n",
       "[1562 rows x 6 columns]"
      ]
     },
     "execution_count": 10,
     "metadata": {},
     "output_type": "execute_result"
    }
   ],
   "source": [
    "iphone"
   ]
  },
  {
   "cell_type": "code",
   "execution_count": 11,
   "id": "b45d2081-c1f5-4d58-9f53-ddc0bd703070",
   "metadata": {},
   "outputs": [],
   "source": [
    "iphone = iphone[iphone['Model'].notna()]"
   ]
  },
  {
   "cell_type": "code",
   "execution_count": 12,
   "id": "78ec1c85-8d93-4a64-b760-ce4f2e955f05",
   "metadata": {},
   "outputs": [
    {
     "data": {
      "text/plain": [
       "Model\n",
       "iPhone ('16', '')           46\n",
       "iPhone ('16', 'Pro')        33\n",
       "iPhone ('16', 'Pro Max')    31\n",
       "iPhone ('13', '')           26\n",
       "iPhone ('15', '')           26\n",
       "iPhone ('14', '')           25\n",
       "iPhone ('12', '')           15\n",
       "iPhone ('11', '')           11\n",
       "iPhone ('13', 'Pro')        11\n",
       "iPhone ('8', 'Plus')         9\n",
       "iPhone ('15', 'Pro Max')     8\n",
       "iPhone ('7', '')             7\n",
       "iPhone ('11', 'Pro')         7\n",
       "iPhone ('15', 'Pro')         6\n",
       "iPhone ('10', '')            5\n",
       "iPhone ('14', 'Pro Max')     3\n",
       "iPhone ('5', '')             3\n",
       "iPhone ('14', 'Pro')         3\n",
       "iPhone ('4', '')             3\n",
       "iPhone ('3', '')             2\n",
       "iPhone ('15', 'Plus')        2\n",
       "iPhone ('12', 'Pro Max')     2\n",
       "iPhone ('12', 'Mini')        1\n",
       "iPhone ('7', 'Plus')         1\n",
       "iPhone ('6', '')             1\n",
       "iPhone ('13', 'Pro Max')     1\n",
       "iPhone ('16', 'Plus')        1\n",
       "iPhone ('16', 'ProMax')      1\n",
       "iPhone ('8', '')             1\n",
       "iPhone ('13', 'Mini')        1\n",
       "Name: count, dtype: int64"
      ]
     },
     "execution_count": 12,
     "metadata": {},
     "output_type": "execute_result"
    }
   ],
   "source": [
    "iphone['Model'].value_counts()"
   ]
  },
  {
   "cell_type": "code",
   "execution_count": 13,
   "id": "fb24e7b5-8aaf-4452-801c-33d7fe2156b1",
   "metadata": {},
   "outputs": [
    {
     "data": {
      "text/plain": [
       "array([\"iPhone ('11', '')\", \"iPhone ('16', '')\", \"iPhone ('15', 'Pro')\",\n",
       "       \"iPhone ('16', 'Pro Max')\", \"iPhone ('15', '')\",\n",
       "       \"iPhone ('16', 'ProMax')\", \"iPhone ('16', 'Pro')\",\n",
       "       \"iPhone ('5', '')\", \"iPhone ('14', '')\", \"iPhone ('13', 'Pro')\",\n",
       "       \"iPhone ('8', '')\", \"iPhone ('4', '')\", \"iPhone ('6', '')\",\n",
       "       \"iPhone ('13', '')\", \"iPhone ('15', 'Pro Max')\",\n",
       "       \"iPhone ('3', '')\", \"iPhone ('12', '')\", \"iPhone ('8', 'Plus')\",\n",
       "       \"iPhone ('16', 'Plus')\", \"iPhone ('14', 'Pro')\",\n",
       "       \"iPhone ('12', 'Pro Max')\", \"iPhone ('13', 'Mini')\",\n",
       "       \"iPhone ('13', 'Pro Max')\", \"iPhone ('7', '')\",\n",
       "       \"iPhone ('14', 'Pro Max')\", \"iPhone ('7', 'Plus')\",\n",
       "       \"iPhone ('10', '')\", \"iPhone ('15', 'Plus')\",\n",
       "       \"iPhone ('12', 'Mini')\", \"iPhone ('11', 'Pro')\"], dtype=object)"
      ]
     },
     "execution_count": 13,
     "metadata": {},
     "output_type": "execute_result"
    }
   ],
   "source": [
    "iphone['Model'].unique()"
   ]
  },
  {
   "cell_type": "code",
   "execution_count": 14,
   "id": "6ed82f9b-091a-4549-aba7-3693e4c29185",
   "metadata": {},
   "outputs": [
    {
     "name": "stdout",
     "output_type": "stream",
     "text": [
      "<class 'pandas.core.frame.DataFrame'>\n",
      "Index: 292 entries, 2 to 9071\n",
      "Data columns (total 6 columns):\n",
      " #   Column   Non-Null Count  Dtype \n",
      "---  ------   --------------  ----- \n",
      " 0   Title    292 non-null    object\n",
      " 1   Upvotes  292 non-null    int64 \n",
      " 2   URL      292 non-null    object\n",
      " 3   Created  292 non-null    int64 \n",
      " 4   Text     292 non-null    object\n",
      " 5   Model    292 non-null    object\n",
      "dtypes: int64(2), object(4)\n",
      "memory usage: 16.0+ KB\n"
     ]
    }
   ],
   "source": [
    "iphone.info()"
   ]
  },
  {
   "cell_type": "code",
   "execution_count": 15,
   "id": "d4de70d4-886c-4e64-b690-0830a528985e",
   "metadata": {},
   "outputs": [],
   "source": [
    "import nltk\n",
    "from nltk.corpus import stopwords"
   ]
  },
  {
   "cell_type": "code",
   "execution_count": 16,
   "id": "659e269d-3124-4a14-bfa1-2fdb5029d282",
   "metadata": {},
   "outputs": [],
   "source": [
    "def clean_text(text):\n",
    "    # Convert the text to lowercase\n",
    "    text = text.lower()\n",
    "    \n",
    "    # Remove parentheses, single quotes, and commas\n",
    "    text = re.sub(r\"[(),']\", \"\", text)\n",
    "    \n",
    "    # Removing stopwords\n",
    "    stop_words = set(stopwords.words('english'))\n",
    "    words = text.split()\n",
    "    text = ' '.join([word for word in words if word not in stop_words])\n",
    "\n",
    "    # Removing extra spaces\n",
    "    text = ' '.join(text.split())\n",
    "\n",
    "    return text"
   ]
  },
  {
   "cell_type": "code",
   "execution_count": 17,
   "id": "fecae161-5197-42f8-be1d-6444479460d2",
   "metadata": {},
   "outputs": [
    {
     "name": "stderr",
     "output_type": "stream",
     "text": [
      "C:\\Users\\DELL\\AppData\\Local\\Temp\\ipykernel_35804\\2265049197.py:1: SettingWithCopyWarning: \n",
      "A value is trying to be set on a copy of a slice from a DataFrame.\n",
      "Try using .loc[row_indexer,col_indexer] = value instead\n",
      "\n",
      "See the caveats in the documentation: https://pandas.pydata.org/pandas-docs/stable/user_guide/indexing.html#returning-a-view-versus-a-copy\n",
      "  iphone['Model'] = iphone['Model'].apply(clean_text)\n"
     ]
    }
   ],
   "source": [
    "iphone['Model'] = iphone['Model'].apply(clean_text)"
   ]
  },
  {
   "cell_type": "code",
   "execution_count": 197,
   "id": "bf7af050-2bdd-44dd-a066-b6f13e5e5d03",
   "metadata": {
    "scrolled": true
   },
   "outputs": [
    {
     "data": {
      "text/plain": [
       "array(['iphone 11', 'iphone 16', 'iphone 15 pro', 'iphone 16 pro max',\n",
       "       'iphone 15', 'iphone 16 promax', 'iphone 16 pro', 'iphone 5',\n",
       "       'iphone 14', 'iphone 13 pro', 'iphone 8', 'iphone 4', 'iphone 6',\n",
       "       'iphone 13', 'iphone 15 pro max', 'iphone 3', 'iphone 12',\n",
       "       'iphone 8 plus', 'iphone 16 plus', 'iphone 14 pro',\n",
       "       'iphone 12 pro max', 'iphone 13 mini', 'iphone 13 pro max',\n",
       "       'iphone 7', 'iphone 14 pro max', 'iphone 7 plus', 'iphone 10',\n",
       "       'iphone 15 plus', 'iphone 12 mini', 'iphone 11 pro'], dtype=object)"
      ]
     },
     "execution_count": 197,
     "metadata": {},
     "output_type": "execute_result"
    }
   ],
   "source": [
    "iphone['Model'].unique()"
   ]
  },
  {
   "cell_type": "markdown",
   "id": "c6f7b742-e9e9-4484-8f12-dd382af7380f",
   "metadata": {},
   "source": [
    "# for camera "
   ]
  },
  {
   "cell_type": "code",
   "execution_count": 18,
   "id": "2b433e8b-44e0-4bbc-935a-e55909861e30",
   "metadata": {},
   "outputs": [],
   "source": [
    "camera_keywords = ['MP', 'megapixels', 'camera', 'lens', 'wide', 'ultrawide', 'telephoto']"
   ]
  },
  {
   "cell_type": "code",
   "execution_count": 19,
   "id": "6442e5b3-5311-44ed-bed9-fb1af7e994dd",
   "metadata": {},
   "outputs": [],
   "source": [
    "def extract_camera_info(text):\n",
    "    if any(keyword in text.lower() for keyword in camera_keywords):\n",
    "        # Include resolution (MP/megapixels) and other camera-related features in regex\n",
    "        camera_info = re.findall(r'(\\d{1,2})\\s*(MP|megapixels|camera|lens|wide|ultrawide|telephoto)', text)\n",
    "        return camera_info if camera_info else \"No specific camera info found\"\n",
    "    return \"No camera-related info in the text\""
   ]
  },
  {
   "cell_type": "code",
   "execution_count": 20,
   "id": "7d67d6aa-de9a-4c1f-b3a4-af6802eb88a5",
   "metadata": {},
   "outputs": [
    {
     "name": "stderr",
     "output_type": "stream",
     "text": [
      "C:\\Users\\DELL\\AppData\\Local\\Temp\\ipykernel_35804\\726836613.py:1: SettingWithCopyWarning: \n",
      "A value is trying to be set on a copy of a slice from a DataFrame.\n",
      "Try using .loc[row_indexer,col_indexer] = value instead\n",
      "\n",
      "See the caveats in the documentation: https://pandas.pydata.org/pandas-docs/stable/user_guide/indexing.html#returning-a-view-versus-a-copy\n",
      "  iphone.loc[:, 'camera_info'] = iphone['Text'].apply(extract_camera_info)\n"
     ]
    }
   ],
   "source": [
    "iphone.loc[:, 'camera_info'] = iphone['Text'].apply(extract_camera_info)"
   ]
  },
  {
   "cell_type": "code",
   "execution_count": 21,
   "id": "0db653e5-dce1-4cae-9c2a-fb565d62c0f2",
   "metadata": {},
   "outputs": [],
   "source": [
    "camera_df = iphone[['Model', 'camera_info','Text']]"
   ]
  },
  {
   "cell_type": "code",
   "execution_count": 22,
   "id": "47d541b3-f079-4928-aebc-ee2bb5d13ff5",
   "metadata": {},
   "outputs": [
    {
     "name": "stdout",
     "output_type": "stream",
     "text": [
      "<class 'pandas.core.frame.DataFrame'>\n",
      "Index: 292 entries, 2 to 9071\n",
      "Data columns (total 3 columns):\n",
      " #   Column       Non-Null Count  Dtype \n",
      "---  ------       --------------  ----- \n",
      " 0   Model        292 non-null    object\n",
      " 1   camera_info  292 non-null    object\n",
      " 2   Text         292 non-null    object\n",
      "dtypes: object(3)\n",
      "memory usage: 9.1+ KB\n"
     ]
    }
   ],
   "source": [
    "camera_df.info()"
   ]
  },
  {
   "cell_type": "code",
   "execution_count": 23,
   "id": "d2854a2d-0858-4c97-a0d3-3eddf50b9d9f",
   "metadata": {},
   "outputs": [
    {
     "data": {
      "text/html": [
       "<div>\n",
       "<style scoped>\n",
       "    .dataframe tbody tr th:only-of-type {\n",
       "        vertical-align: middle;\n",
       "    }\n",
       "\n",
       "    .dataframe tbody tr th {\n",
       "        vertical-align: top;\n",
       "    }\n",
       "\n",
       "    .dataframe thead th {\n",
       "        text-align: right;\n",
       "    }\n",
       "</style>\n",
       "<table border=\"1\" class=\"dataframe\">\n",
       "  <thead>\n",
       "    <tr style=\"text-align: right;\">\n",
       "      <th></th>\n",
       "      <th>Model</th>\n",
       "      <th>camera_info</th>\n",
       "      <th>Text</th>\n",
       "    </tr>\n",
       "  </thead>\n",
       "  <tbody>\n",
       "    <tr>\n",
       "      <th>2</th>\n",
       "      <td>iphone 11</td>\n",
       "      <td>No camera-related info in the text</td>\n",
       "      <td>I’ve been using my iPhone 11 for a few years n...</td>\n",
       "    </tr>\n",
       "    <tr>\n",
       "      <th>11</th>\n",
       "      <td>iphone 16</td>\n",
       "      <td>No camera-related info in the text</td>\n",
       "      <td>Hi! I have recently bought my iPhone 16 pro ma...</td>\n",
       "    </tr>\n",
       "    <tr>\n",
       "      <th>16</th>\n",
       "      <td>iphone 11</td>\n",
       "      <td>No camera-related info in the text</td>\n",
       "      <td>Hey, does someone know why I can’t install the...</td>\n",
       "    </tr>\n",
       "    <tr>\n",
       "      <th>20</th>\n",
       "      <td>iphone 15 pro</td>\n",
       "      <td>No camera-related info in the text</td>\n",
       "      <td>I recently noticed an issue on my iPhone after...</td>\n",
       "    </tr>\n",
       "    <tr>\n",
       "      <th>23</th>\n",
       "      <td>iphone 16 pro max</td>\n",
       "      <td>No specific camera info found</td>\n",
       "      <td>Someone PLEASE help\\nI recently got the iPhone...</td>\n",
       "    </tr>\n",
       "    <tr>\n",
       "      <th>...</th>\n",
       "      <td>...</td>\n",
       "      <td>...</td>\n",
       "      <td>...</td>\n",
       "    </tr>\n",
       "    <tr>\n",
       "      <th>8703</th>\n",
       "      <td>iphone 16 pro</td>\n",
       "      <td>No camera-related info in the text</td>\n",
       "      <td>Just got an iPhone 16 Pro and keep on getting ...</td>\n",
       "    </tr>\n",
       "    <tr>\n",
       "      <th>8888</th>\n",
       "      <td>iphone 16 pro</td>\n",
       "      <td>No specific camera info found</td>\n",
       "      <td>We're a few months into the iPhone 16 Pro: doe...</td>\n",
       "    </tr>\n",
       "    <tr>\n",
       "      <th>8979</th>\n",
       "      <td>iphone 13</td>\n",
       "      <td>No camera-related info in the text</td>\n",
       "      <td>Since the release of the iPhone 13 mini, I’ve ...</td>\n",
       "    </tr>\n",
       "    <tr>\n",
       "      <th>9041</th>\n",
       "      <td>iphone 8 plus</td>\n",
       "      <td>No camera-related info in the text</td>\n",
       "      <td>I have an iPhone 8 Plus that just lies around ...</td>\n",
       "    </tr>\n",
       "    <tr>\n",
       "      <th>9071</th>\n",
       "      <td>iphone 16 pro</td>\n",
       "      <td>No camera-related info in the text</td>\n",
       "      <td>I've only had my iPhone 16 Pro max for four ho...</td>\n",
       "    </tr>\n",
       "  </tbody>\n",
       "</table>\n",
       "<p>292 rows × 3 columns</p>\n",
       "</div>"
      ],
      "text/plain": [
       "                  Model                         camera_info  \\\n",
       "2             iphone 11  No camera-related info in the text   \n",
       "11            iphone 16  No camera-related info in the text   \n",
       "16            iphone 11  No camera-related info in the text   \n",
       "20        iphone 15 pro  No camera-related info in the text   \n",
       "23    iphone 16 pro max       No specific camera info found   \n",
       "...                 ...                                 ...   \n",
       "8703      iphone 16 pro  No camera-related info in the text   \n",
       "8888      iphone 16 pro       No specific camera info found   \n",
       "8979          iphone 13  No camera-related info in the text   \n",
       "9041      iphone 8 plus  No camera-related info in the text   \n",
       "9071      iphone 16 pro  No camera-related info in the text   \n",
       "\n",
       "                                                   Text  \n",
       "2     I’ve been using my iPhone 11 for a few years n...  \n",
       "11    Hi! I have recently bought my iPhone 16 pro ma...  \n",
       "16    Hey, does someone know why I can’t install the...  \n",
       "20    I recently noticed an issue on my iPhone after...  \n",
       "23    Someone PLEASE help\\nI recently got the iPhone...  \n",
       "...                                                 ...  \n",
       "8703  Just got an iPhone 16 Pro and keep on getting ...  \n",
       "8888  We're a few months into the iPhone 16 Pro: doe...  \n",
       "8979  Since the release of the iPhone 13 mini, I’ve ...  \n",
       "9041  I have an iPhone 8 Plus that just lies around ...  \n",
       "9071  I've only had my iPhone 16 Pro max for four ho...  \n",
       "\n",
       "[292 rows x 3 columns]"
      ]
     },
     "execution_count": 23,
     "metadata": {},
     "output_type": "execute_result"
    }
   ],
   "source": [
    "camera_df"
   ]
  },
  {
   "cell_type": "code",
   "execution_count": 24,
   "id": "b7b0b990-4d01-4d83-98b0-f2a09fc8a9d1",
   "metadata": {
    "scrolled": true
   },
   "outputs": [
    {
     "data": {
      "text/plain": [
       "camera_info\n",
       "No camera-related info in the text    246\n",
       "No specific camera info found          46\n",
       "Name: count, dtype: int64"
      ]
     },
     "execution_count": 24,
     "metadata": {},
     "output_type": "execute_result"
    }
   ],
   "source": [
    "camera_df['camera_info'].value_counts()"
   ]
  },
  {
   "cell_type": "code",
   "execution_count": 199,
   "id": "384a46f0-d278-4320-b21f-57c682196751",
   "metadata": {},
   "outputs": [],
   "source": [
    "Camera = camera_df[~camera_df['camera_info'].isin([\"No camera-related info in the text\"])]"
   ]
  },
  {
   "cell_type": "code",
   "execution_count": 200,
   "id": "976d9a70-b525-4758-8e2e-992962601987",
   "metadata": {},
   "outputs": [
    {
     "data": {
      "text/html": [
       "<div>\n",
       "<style scoped>\n",
       "    .dataframe tbody tr th:only-of-type {\n",
       "        vertical-align: middle;\n",
       "    }\n",
       "\n",
       "    .dataframe tbody tr th {\n",
       "        vertical-align: top;\n",
       "    }\n",
       "\n",
       "    .dataframe thead th {\n",
       "        text-align: right;\n",
       "    }\n",
       "</style>\n",
       "<table border=\"1\" class=\"dataframe\">\n",
       "  <thead>\n",
       "    <tr style=\"text-align: right;\">\n",
       "      <th></th>\n",
       "      <th>Model</th>\n",
       "      <th>camera_info</th>\n",
       "      <th>Text</th>\n",
       "    </tr>\n",
       "  </thead>\n",
       "  <tbody>\n",
       "    <tr>\n",
       "      <th>23</th>\n",
       "      <td>iphone 16 pro max</td>\n",
       "      <td>No specific camera info found</td>\n",
       "      <td>Someone PLEASE help\\nI recently got the iPhone...</td>\n",
       "    </tr>\n",
       "    <tr>\n",
       "      <th>55</th>\n",
       "      <td>iphone 16 pro</td>\n",
       "      <td>No specific camera info found</td>\n",
       "      <td>We're a few months into the iPhone 16 Pro: doe...</td>\n",
       "    </tr>\n",
       "    <tr>\n",
       "      <th>126</th>\n",
       "      <td>iphone 11</td>\n",
       "      <td>No specific camera info found</td>\n",
       "      <td>Hi everyone , I’m coming from the iPhone 11. I...</td>\n",
       "    </tr>\n",
       "    <tr>\n",
       "      <th>173</th>\n",
       "      <td>iphone 16</td>\n",
       "      <td>No specific camera info found</td>\n",
       "      <td>Hi everyone. Does anyone using iPhone 16 supca...</td>\n",
       "    </tr>\n",
       "    <tr>\n",
       "      <th>176</th>\n",
       "      <td>iphone 16 pro</td>\n",
       "      <td>No specific camera info found</td>\n",
       "      <td>Hi everyone,\\n\\nI’m on the hunt for a case wit...</td>\n",
       "    </tr>\n",
       "    <tr>\n",
       "      <th>190</th>\n",
       "      <td>iphone 16 pro max</td>\n",
       "      <td>No specific camera info found</td>\n",
       "      <td>Just upgraded to the iPhone 16 Pro Max from th...</td>\n",
       "    </tr>\n",
       "    <tr>\n",
       "      <th>222</th>\n",
       "      <td>iphone 16 plus</td>\n",
       "      <td>No specific camera info found</td>\n",
       "      <td>I own iPhone 16 Plus. After updating 18.2.1 I ...</td>\n",
       "    </tr>\n",
       "    <tr>\n",
       "      <th>228</th>\n",
       "      <td>iphone 12 pro max</td>\n",
       "      <td>No specific camera info found</td>\n",
       "      <td>My phones front main camera is super blurry no...</td>\n",
       "    </tr>\n",
       "    <tr>\n",
       "      <th>285</th>\n",
       "      <td>iphone 16</td>\n",
       "      <td>No specific camera info found</td>\n",
       "      <td>This issue has been going on since iPhone X.  ...</td>\n",
       "    </tr>\n",
       "    <tr>\n",
       "      <th>317</th>\n",
       "      <td>iphone 13</td>\n",
       "      <td>No specific camera info found</td>\n",
       "      <td>I am obviously very much enjoying my new phone...</td>\n",
       "    </tr>\n",
       "    <tr>\n",
       "      <th>470</th>\n",
       "      <td>iphone 15 pro</td>\n",
       "      <td>No specific camera info found</td>\n",
       "      <td>I want to use my Eventide Mixinglink to create...</td>\n",
       "    </tr>\n",
       "    <tr>\n",
       "      <th>515</th>\n",
       "      <td>iphone 10</td>\n",
       "      <td>No specific camera info found</td>\n",
       "      <td>My iPhone 10 tinged purple and the top half of...</td>\n",
       "    </tr>\n",
       "    <tr>\n",
       "      <th>596</th>\n",
       "      <td>iphone 11</td>\n",
       "      <td>No specific camera info found</td>\n",
       "      <td>Last night, I updated to 18.2.1. Today, there ...</td>\n",
       "    </tr>\n",
       "    <tr>\n",
       "      <th>671</th>\n",
       "      <td>iphone 13</td>\n",
       "      <td>No specific camera info found</td>\n",
       "      <td>Hello. I don’t know why but all of a sudden my...</td>\n",
       "    </tr>\n",
       "    <tr>\n",
       "      <th>687</th>\n",
       "      <td>iphone 14</td>\n",
       "      <td>No specific camera info found</td>\n",
       "      <td>I have had my refurbished (\"excellent conditio...</td>\n",
       "    </tr>\n",
       "    <tr>\n",
       "      <th>727</th>\n",
       "      <td>iphone 13 pro</td>\n",
       "      <td>No specific camera info found</td>\n",
       "      <td>Hi everyone,\\nI recently got an iPhone 13 Pro ...</td>\n",
       "    </tr>\n",
       "    <tr>\n",
       "      <th>746</th>\n",
       "      <td>iphone 16 pro max</td>\n",
       "      <td>No specific camera info found</td>\n",
       "      <td>I have encountered an issue with dust inside t...</td>\n",
       "    </tr>\n",
       "    <tr>\n",
       "      <th>761</th>\n",
       "      <td>iphone 16</td>\n",
       "      <td>No specific camera info found</td>\n",
       "      <td>Here’s a photo that I took but it’s in 5x zoom...</td>\n",
       "    </tr>\n",
       "    <tr>\n",
       "      <th>846</th>\n",
       "      <td>iphone 15 plus</td>\n",
       "      <td>No specific camera info found</td>\n",
       "      <td>I just bought a new iPhone 15 Plus, and I’ve n...</td>\n",
       "    </tr>\n",
       "    <tr>\n",
       "      <th>858</th>\n",
       "      <td>iphone 11</td>\n",
       "      <td>No specific camera info found</td>\n",
       "      <td>For context, I have an iPhone 11. The screen h...</td>\n",
       "    </tr>\n",
       "    <tr>\n",
       "      <th>880</th>\n",
       "      <td>iphone 15</td>\n",
       "      <td>No specific camera info found</td>\n",
       "      <td>I hate my iPhone 15 pro max camera!! I have a ...</td>\n",
       "    </tr>\n",
       "    <tr>\n",
       "      <th>952</th>\n",
       "      <td>iphone 16</td>\n",
       "      <td>No specific camera info found</td>\n",
       "      <td>Ho comprato da meno di un mese un iPhone 16 pr...</td>\n",
       "    </tr>\n",
       "    <tr>\n",
       "      <th>966</th>\n",
       "      <td>iphone 14</td>\n",
       "      <td>No specific camera info found</td>\n",
       "      <td>Personally, I would love to see Apple reintrod...</td>\n",
       "    </tr>\n",
       "    <tr>\n",
       "      <th>1037</th>\n",
       "      <td>iphone 16 pro</td>\n",
       "      <td>No specific camera info found</td>\n",
       "      <td>We're a few months into the iPhone 16 Pro: doe...</td>\n",
       "    </tr>\n",
       "    <tr>\n",
       "      <th>1172</th>\n",
       "      <td>iphone 16 pro max</td>\n",
       "      <td>No specific camera info found</td>\n",
       "      <td>Just upgraded to the iPhone 16 Pro Max from th...</td>\n",
       "    </tr>\n",
       "    <tr>\n",
       "      <th>1497</th>\n",
       "      <td>iphone 10</td>\n",
       "      <td>No specific camera info found</td>\n",
       "      <td>My iPhone 10 tinged purple and the top half of...</td>\n",
       "    </tr>\n",
       "    <tr>\n",
       "      <th>1728</th>\n",
       "      <td>iphone 16 pro max</td>\n",
       "      <td>No specific camera info found</td>\n",
       "      <td>I have encountered an issue with dust inside t...</td>\n",
       "    </tr>\n",
       "    <tr>\n",
       "      <th>1948</th>\n",
       "      <td>iphone 14</td>\n",
       "      <td>No specific camera info found</td>\n",
       "      <td>Personally, I would love to see Apple reintrod...</td>\n",
       "    </tr>\n",
       "    <tr>\n",
       "      <th>1987</th>\n",
       "      <td>iphone 16 pro max</td>\n",
       "      <td>No specific camera info found</td>\n",
       "      <td>Someone PLEASE help\\nI recently got the iPhone...</td>\n",
       "    </tr>\n",
       "    <tr>\n",
       "      <th>2019</th>\n",
       "      <td>iphone 16 pro</td>\n",
       "      <td>No specific camera info found</td>\n",
       "      <td>We're a few months into the iPhone 16 Pro: doe...</td>\n",
       "    </tr>\n",
       "    <tr>\n",
       "      <th>2479</th>\n",
       "      <td>iphone 10</td>\n",
       "      <td>No specific camera info found</td>\n",
       "      <td>My iPhone 10 tinged purple and the top half of...</td>\n",
       "    </tr>\n",
       "    <tr>\n",
       "      <th>3135</th>\n",
       "      <td>iphone 16 pro max</td>\n",
       "      <td>No specific camera info found</td>\n",
       "      <td>Just upgraded to the iPhone 16 Pro Max from th...</td>\n",
       "    </tr>\n",
       "    <tr>\n",
       "      <th>3460</th>\n",
       "      <td>iphone 10</td>\n",
       "      <td>No specific camera info found</td>\n",
       "      <td>My iPhone 10 tinged purple and the top half of...</td>\n",
       "    </tr>\n",
       "    <tr>\n",
       "      <th>3691</th>\n",
       "      <td>iphone 16 pro max</td>\n",
       "      <td>No specific camera info found</td>\n",
       "      <td>I have encountered an issue with dust inside t...</td>\n",
       "    </tr>\n",
       "    <tr>\n",
       "      <th>3911</th>\n",
       "      <td>iphone 14</td>\n",
       "      <td>No specific camera info found</td>\n",
       "      <td>Personally, I would love to see Apple reintrod...</td>\n",
       "    </tr>\n",
       "    <tr>\n",
       "      <th>3950</th>\n",
       "      <td>iphone 16 pro max</td>\n",
       "      <td>No specific camera info found</td>\n",
       "      <td>Someone PLEASE help\\nI recently got the iPhone...</td>\n",
       "    </tr>\n",
       "    <tr>\n",
       "      <th>4116</th>\n",
       "      <td>iphone 16 pro max</td>\n",
       "      <td>No specific camera info found</td>\n",
       "      <td>Just upgraded to the iPhone 16 Pro Max from th...</td>\n",
       "    </tr>\n",
       "    <tr>\n",
       "      <th>4441</th>\n",
       "      <td>iphone 10</td>\n",
       "      <td>No specific camera info found</td>\n",
       "      <td>My iPhone 10 tinged purple and the top half of...</td>\n",
       "    </tr>\n",
       "    <tr>\n",
       "      <th>5653</th>\n",
       "      <td>iphone 16 pro max</td>\n",
       "      <td>No specific camera info found</td>\n",
       "      <td>I have encountered an issue with dust inside t...</td>\n",
       "    </tr>\n",
       "    <tr>\n",
       "      <th>5943</th>\n",
       "      <td>iphone 16 pro</td>\n",
       "      <td>No specific camera info found</td>\n",
       "      <td>We're a few months into the iPhone 16 Pro: doe...</td>\n",
       "    </tr>\n",
       "    <tr>\n",
       "      <th>6924</th>\n",
       "      <td>iphone 16 pro</td>\n",
       "      <td>No specific camera info found</td>\n",
       "      <td>We're a few months into the iPhone 16 Pro: doe...</td>\n",
       "    </tr>\n",
       "    <tr>\n",
       "      <th>7042</th>\n",
       "      <td>iphone 16</td>\n",
       "      <td>No specific camera info found</td>\n",
       "      <td>Hi everyone. Does anyone using iPhone 16 supca...</td>\n",
       "    </tr>\n",
       "    <tr>\n",
       "      <th>7835</th>\n",
       "      <td>iphone 14</td>\n",
       "      <td>No specific camera info found</td>\n",
       "      <td>Personally, I would love to see Apple reintrod...</td>\n",
       "    </tr>\n",
       "    <tr>\n",
       "      <th>7906</th>\n",
       "      <td>iphone 16 pro</td>\n",
       "      <td>No specific camera info found</td>\n",
       "      <td>We're a few months into the iPhone 16 Pro: doe...</td>\n",
       "    </tr>\n",
       "    <tr>\n",
       "      <th>8597</th>\n",
       "      <td>iphone 16 pro max</td>\n",
       "      <td>No specific camera info found</td>\n",
       "      <td>I have encountered an issue with dust inside t...</td>\n",
       "    </tr>\n",
       "    <tr>\n",
       "      <th>8888</th>\n",
       "      <td>iphone 16 pro</td>\n",
       "      <td>No specific camera info found</td>\n",
       "      <td>We're a few months into the iPhone 16 Pro: doe...</td>\n",
       "    </tr>\n",
       "  </tbody>\n",
       "</table>\n",
       "</div>"
      ],
      "text/plain": [
       "                  Model                    camera_info  \\\n",
       "23    iphone 16 pro max  No specific camera info found   \n",
       "55        iphone 16 pro  No specific camera info found   \n",
       "126           iphone 11  No specific camera info found   \n",
       "173           iphone 16  No specific camera info found   \n",
       "176       iphone 16 pro  No specific camera info found   \n",
       "190   iphone 16 pro max  No specific camera info found   \n",
       "222      iphone 16 plus  No specific camera info found   \n",
       "228   iphone 12 pro max  No specific camera info found   \n",
       "285           iphone 16  No specific camera info found   \n",
       "317           iphone 13  No specific camera info found   \n",
       "470       iphone 15 pro  No specific camera info found   \n",
       "515           iphone 10  No specific camera info found   \n",
       "596           iphone 11  No specific camera info found   \n",
       "671           iphone 13  No specific camera info found   \n",
       "687           iphone 14  No specific camera info found   \n",
       "727       iphone 13 pro  No specific camera info found   \n",
       "746   iphone 16 pro max  No specific camera info found   \n",
       "761           iphone 16  No specific camera info found   \n",
       "846      iphone 15 plus  No specific camera info found   \n",
       "858           iphone 11  No specific camera info found   \n",
       "880           iphone 15  No specific camera info found   \n",
       "952           iphone 16  No specific camera info found   \n",
       "966           iphone 14  No specific camera info found   \n",
       "1037      iphone 16 pro  No specific camera info found   \n",
       "1172  iphone 16 pro max  No specific camera info found   \n",
       "1497          iphone 10  No specific camera info found   \n",
       "1728  iphone 16 pro max  No specific camera info found   \n",
       "1948          iphone 14  No specific camera info found   \n",
       "1987  iphone 16 pro max  No specific camera info found   \n",
       "2019      iphone 16 pro  No specific camera info found   \n",
       "2479          iphone 10  No specific camera info found   \n",
       "3135  iphone 16 pro max  No specific camera info found   \n",
       "3460          iphone 10  No specific camera info found   \n",
       "3691  iphone 16 pro max  No specific camera info found   \n",
       "3911          iphone 14  No specific camera info found   \n",
       "3950  iphone 16 pro max  No specific camera info found   \n",
       "4116  iphone 16 pro max  No specific camera info found   \n",
       "4441          iphone 10  No specific camera info found   \n",
       "5653  iphone 16 pro max  No specific camera info found   \n",
       "5943      iphone 16 pro  No specific camera info found   \n",
       "6924      iphone 16 pro  No specific camera info found   \n",
       "7042          iphone 16  No specific camera info found   \n",
       "7835          iphone 14  No specific camera info found   \n",
       "7906      iphone 16 pro  No specific camera info found   \n",
       "8597  iphone 16 pro max  No specific camera info found   \n",
       "8888      iphone 16 pro  No specific camera info found   \n",
       "\n",
       "                                                   Text  \n",
       "23    Someone PLEASE help\\nI recently got the iPhone...  \n",
       "55    We're a few months into the iPhone 16 Pro: doe...  \n",
       "126   Hi everyone , I’m coming from the iPhone 11. I...  \n",
       "173   Hi everyone. Does anyone using iPhone 16 supca...  \n",
       "176   Hi everyone,\\n\\nI’m on the hunt for a case wit...  \n",
       "190   Just upgraded to the iPhone 16 Pro Max from th...  \n",
       "222   I own iPhone 16 Plus. After updating 18.2.1 I ...  \n",
       "228   My phones front main camera is super blurry no...  \n",
       "285   This issue has been going on since iPhone X.  ...  \n",
       "317   I am obviously very much enjoying my new phone...  \n",
       "470   I want to use my Eventide Mixinglink to create...  \n",
       "515   My iPhone 10 tinged purple and the top half of...  \n",
       "596   Last night, I updated to 18.2.1. Today, there ...  \n",
       "671   Hello. I don’t know why but all of a sudden my...  \n",
       "687   I have had my refurbished (\"excellent conditio...  \n",
       "727   Hi everyone,\\nI recently got an iPhone 13 Pro ...  \n",
       "746   I have encountered an issue with dust inside t...  \n",
       "761   Here’s a photo that I took but it’s in 5x zoom...  \n",
       "846   I just bought a new iPhone 15 Plus, and I’ve n...  \n",
       "858   For context, I have an iPhone 11. The screen h...  \n",
       "880   I hate my iPhone 15 pro max camera!! I have a ...  \n",
       "952   Ho comprato da meno di un mese un iPhone 16 pr...  \n",
       "966   Personally, I would love to see Apple reintrod...  \n",
       "1037  We're a few months into the iPhone 16 Pro: doe...  \n",
       "1172  Just upgraded to the iPhone 16 Pro Max from th...  \n",
       "1497  My iPhone 10 tinged purple and the top half of...  \n",
       "1728  I have encountered an issue with dust inside t...  \n",
       "1948  Personally, I would love to see Apple reintrod...  \n",
       "1987  Someone PLEASE help\\nI recently got the iPhone...  \n",
       "2019  We're a few months into the iPhone 16 Pro: doe...  \n",
       "2479  My iPhone 10 tinged purple and the top half of...  \n",
       "3135  Just upgraded to the iPhone 16 Pro Max from th...  \n",
       "3460  My iPhone 10 tinged purple and the top half of...  \n",
       "3691  I have encountered an issue with dust inside t...  \n",
       "3911  Personally, I would love to see Apple reintrod...  \n",
       "3950  Someone PLEASE help\\nI recently got the iPhone...  \n",
       "4116  Just upgraded to the iPhone 16 Pro Max from th...  \n",
       "4441  My iPhone 10 tinged purple and the top half of...  \n",
       "5653  I have encountered an issue with dust inside t...  \n",
       "5943  We're a few months into the iPhone 16 Pro: doe...  \n",
       "6924  We're a few months into the iPhone 16 Pro: doe...  \n",
       "7042  Hi everyone. Does anyone using iPhone 16 supca...  \n",
       "7835  Personally, I would love to see Apple reintrod...  \n",
       "7906  We're a few months into the iPhone 16 Pro: doe...  \n",
       "8597  I have encountered an issue with dust inside t...  \n",
       "8888  We're a few months into the iPhone 16 Pro: doe...  "
      ]
     },
     "execution_count": 200,
     "metadata": {},
     "output_type": "execute_result"
    }
   ],
   "source": [
    "Camera"
   ]
  },
  {
   "cell_type": "code",
   "execution_count": 201,
   "id": "9df5d62d-15da-45c0-9b99-66830cb23fe7",
   "metadata": {},
   "outputs": [
    {
     "name": "stdout",
     "output_type": "stream",
     "text": [
      "<class 'pandas.core.frame.DataFrame'>\n",
      "Index: 46 entries, 23 to 8888\n",
      "Data columns (total 3 columns):\n",
      " #   Column       Non-Null Count  Dtype \n",
      "---  ------       --------------  ----- \n",
      " 0   Model        46 non-null     object\n",
      " 1   camera_info  46 non-null     object\n",
      " 2   Text         46 non-null     object\n",
      "dtypes: object(3)\n",
      "memory usage: 1.4+ KB\n"
     ]
    }
   ],
   "source": [
    "Camera.info()"
   ]
  },
  {
   "cell_type": "code",
   "execution_count": 202,
   "id": "49957d5b-75a9-4ac2-8f78-a0c8c9ea9368",
   "metadata": {},
   "outputs": [
    {
     "name": "stderr",
     "output_type": "stream",
     "text": [
      "C:\\Users\\DELL\\AppData\\Local\\Temp\\ipykernel_35804\\3055240110.py:1: SettingWithCopyWarning: \n",
      "A value is trying to be set on a copy of a slice from a DataFrame.\n",
      "Try using .loc[row_indexer,col_indexer] = value instead\n",
      "\n",
      "See the caveats in the documentation: https://pandas.pydata.org/pandas-docs/stable/user_guide/indexing.html#returning-a-view-versus-a-copy\n",
      "  Camera['camera_info'] = Camera['camera_info'].apply(tuple)\n",
      "C:\\Users\\DELL\\AppData\\Local\\Temp\\ipykernel_35804\\3055240110.py:2: SettingWithCopyWarning: \n",
      "A value is trying to be set on a copy of a slice from a DataFrame.\n",
      "Try using .loc[row_indexer,col_indexer] = value instead\n",
      "\n",
      "See the caveats in the documentation: https://pandas.pydata.org/pandas-docs/stable/user_guide/indexing.html#returning-a-view-versus-a-copy\n",
      "  Camera['Text'] = Camera['Text'].apply(tuple)\n"
     ]
    }
   ],
   "source": [
    "Camera['camera_info'] = Camera['camera_info'].apply(tuple)\n",
    "Camera['Text'] = Camera['Text'].apply(tuple)"
   ]
  },
  {
   "cell_type": "code",
   "execution_count": 203,
   "id": "d9d554b7-2f02-4b49-8f3b-8a28a1c690ca",
   "metadata": {},
   "outputs": [
    {
     "name": "stdout",
     "output_type": "stream",
     "text": [
      "<class 'pandas.core.frame.DataFrame'>\n",
      "Index: 23 entries, 23 to 966\n",
      "Data columns (total 3 columns):\n",
      " #   Column       Non-Null Count  Dtype \n",
      "---  ------       --------------  ----- \n",
      " 0   Model        23 non-null     object\n",
      " 1   camera_info  23 non-null     object\n",
      " 2   Text         23 non-null     object\n",
      "dtypes: object(3)\n",
      "memory usage: 736.0+ bytes\n"
     ]
    }
   ],
   "source": [
    "Camera = Camera.drop_duplicates()\n",
    "Camera.info()"
   ]
  },
  {
   "cell_type": "code",
   "execution_count": 204,
   "id": "58763b0c-9582-4454-bcb2-5809621fedc9",
   "metadata": {},
   "outputs": [],
   "source": [
    "from vaderSentiment.vaderSentiment import SentimentIntensityAnalyzer"
   ]
  },
  {
   "cell_type": "code",
   "execution_count": 205,
   "id": "54615dba-95b8-46ac-87f8-d5e1754e5b72",
   "metadata": {},
   "outputs": [],
   "source": [
    "ana = SentimentIntensityAnalyzer()"
   ]
  },
  {
   "cell_type": "code",
   "execution_count": 206,
   "id": "482d2f9d-56f4-454d-9bc9-17af9f1b24dc",
   "metadata": {},
   "outputs": [],
   "source": [
    "def get_sentiment_score(text):\n",
    "    # Get sentiment score (compound score is the final sentiment)\n",
    "    sentiment = ana.polarity_scores(text)\n",
    "    return sentiment['compound'] "
   ]
  },
  {
   "cell_type": "code",
   "execution_count": 207,
   "id": "51195017-0443-456a-81c1-27b08d368c13",
   "metadata": {},
   "outputs": [
    {
     "name": "stderr",
     "output_type": "stream",
     "text": [
      "C:\\Users\\DELL\\AppData\\Local\\Temp\\ipykernel_35804\\495197553.py:1: SettingWithCopyWarning: \n",
      "A value is trying to be set on a copy of a slice from a DataFrame.\n",
      "Try using .loc[row_indexer,col_indexer] = value instead\n",
      "\n",
      "See the caveats in the documentation: https://pandas.pydata.org/pandas-docs/stable/user_guide/indexing.html#returning-a-view-versus-a-copy\n",
      "  Camera['Sentiment'] = Camera['Text'].apply(lambda x: get_sentiment_score(x))\n"
     ]
    }
   ],
   "source": [
    "Camera['Sentiment'] = Camera['Text'].apply(lambda x: get_sentiment_score(x))"
   ]
  },
  {
   "cell_type": "code",
   "execution_count": 208,
   "id": "25949743-4d37-4ec6-8a4d-777ed04aa9d9",
   "metadata": {},
   "outputs": [],
   "source": [
    "# Group by Model and calculate the average sentiment score for each model\n",
    "Camera_Modelwise = Camera.groupby('Model')['Sentiment'].mean().reset_index()"
   ]
  },
  {
   "cell_type": "code",
   "execution_count": 209,
   "id": "16c713ab-8214-4648-a8a3-6782ecfe7054",
   "metadata": {},
   "outputs": [
    {
     "data": {
      "text/html": [
       "<div>\n",
       "<style scoped>\n",
       "    .dataframe tbody tr th:only-of-type {\n",
       "        vertical-align: middle;\n",
       "    }\n",
       "\n",
       "    .dataframe tbody tr th {\n",
       "        vertical-align: top;\n",
       "    }\n",
       "\n",
       "    .dataframe thead th {\n",
       "        text-align: right;\n",
       "    }\n",
       "</style>\n",
       "<table border=\"1\" class=\"dataframe\">\n",
       "  <thead>\n",
       "    <tr style=\"text-align: right;\">\n",
       "      <th></th>\n",
       "      <th>Model</th>\n",
       "      <th>Sentiment</th>\n",
       "    </tr>\n",
       "  </thead>\n",
       "  <tbody>\n",
       "    <tr>\n",
       "      <th>0</th>\n",
       "      <td>iphone 10</td>\n",
       "      <td>0.700300</td>\n",
       "    </tr>\n",
       "    <tr>\n",
       "      <th>1</th>\n",
       "      <td>iphone 11</td>\n",
       "      <td>0.106267</td>\n",
       "    </tr>\n",
       "    <tr>\n",
       "      <th>2</th>\n",
       "      <td>iphone 12 pro max</td>\n",
       "      <td>-0.841800</td>\n",
       "    </tr>\n",
       "    <tr>\n",
       "      <th>3</th>\n",
       "      <td>iphone 13</td>\n",
       "      <td>-0.013650</td>\n",
       "    </tr>\n",
       "    <tr>\n",
       "      <th>4</th>\n",
       "      <td>iphone 13 pro</td>\n",
       "      <td>0.920000</td>\n",
       "    </tr>\n",
       "    <tr>\n",
       "      <th>5</th>\n",
       "      <td>iphone 14</td>\n",
       "      <td>-0.603350</td>\n",
       "    </tr>\n",
       "    <tr>\n",
       "      <th>6</th>\n",
       "      <td>iphone 15</td>\n",
       "      <td>0.664500</td>\n",
       "    </tr>\n",
       "    <tr>\n",
       "      <th>7</th>\n",
       "      <td>iphone 15 plus</td>\n",
       "      <td>0.000000</td>\n",
       "    </tr>\n",
       "    <tr>\n",
       "      <th>8</th>\n",
       "      <td>iphone 15 pro</td>\n",
       "      <td>-0.556200</td>\n",
       "    </tr>\n",
       "    <tr>\n",
       "      <th>9</th>\n",
       "      <td>iphone 16</td>\n",
       "      <td>0.166575</td>\n",
       "    </tr>\n",
       "    <tr>\n",
       "      <th>10</th>\n",
       "      <td>iphone 16 plus</td>\n",
       "      <td>-0.077200</td>\n",
       "    </tr>\n",
       "    <tr>\n",
       "      <th>11</th>\n",
       "      <td>iphone 16 pro</td>\n",
       "      <td>0.712000</td>\n",
       "    </tr>\n",
       "    <tr>\n",
       "      <th>12</th>\n",
       "      <td>iphone 16 pro max</td>\n",
       "      <td>0.631267</td>\n",
       "    </tr>\n",
       "  </tbody>\n",
       "</table>\n",
       "</div>"
      ],
      "text/plain": [
       "                Model  Sentiment\n",
       "0           iphone 10   0.700300\n",
       "1           iphone 11   0.106267\n",
       "2   iphone 12 pro max  -0.841800\n",
       "3           iphone 13  -0.013650\n",
       "4       iphone 13 pro   0.920000\n",
       "5           iphone 14  -0.603350\n",
       "6           iphone 15   0.664500\n",
       "7      iphone 15 plus   0.000000\n",
       "8       iphone 15 pro  -0.556200\n",
       "9           iphone 16   0.166575\n",
       "10     iphone 16 plus  -0.077200\n",
       "11      iphone 16 pro   0.712000\n",
       "12  iphone 16 pro max   0.631267"
      ]
     },
     "execution_count": 209,
     "metadata": {},
     "output_type": "execute_result"
    }
   ],
   "source": [
    "Camera_Modelwise"
   ]
  },
  {
   "cell_type": "code",
   "execution_count": 210,
   "id": "8d22a6ec-b8b7-40cf-bbae-210681ad984b",
   "metadata": {},
   "outputs": [],
   "source": [
    "import matplotlib.pyplot as plt"
   ]
  },
  {
   "cell_type": "code",
   "execution_count": 211,
   "id": "3d32758c-3565-4024-ad62-64e326efd24d",
   "metadata": {},
   "outputs": [
    {
     "data": {
      "image/png": "[encoded data removed]",
      "text/plain": [
       "<Figure size 1200x600 with 1 Axes>"
      ]
     },
     "metadata": {},
     "output_type": "display_data"
    }
   ],
   "source": [
    "plt.figure(figsize=(12, 6))\n",
    "plt.bar(Camera_Modelwise['Model'], Camera_Modelwise['Sentiment'], color='skyblue')\n",
    "plt.xlabel('iPhone Model',size = 14)\n",
    "plt.ylabel('Average Sentiment Score', size = 14)\n",
    "plt.xticks(rotation=90)\n",
    "plt.show()"
   ]
  },
  {
   "cell_type": "code",
   "execution_count": 38,
   "id": "7a439a38-46d1-4e38-8aa5-03953d7bea26",
   "metadata": {},
   "outputs": [],
   "source": [
    "## for example in below cases.\n",
    "texts = [\n",
    "    \"The iPhone 13 has a 12 MP camera.\",\n",
    "    \"The iPhone 15 has a 64 MP camera.\",\n",
    "    \"Battery is too powerfull\",\n",
    "    \"No camera information in this text.\"\n",
    "]"
   ]
  },
  {
   "cell_type": "code",
   "execution_count": 39,
   "id": "dcf84e25-e31e-49bd-b195-2954ef2b8f28",
   "metadata": {},
   "outputs": [
    {
     "name": "stdout",
     "output_type": "stream",
     "text": [
      "[('12', 'MP')]\n",
      "[('64', 'MP')]\n",
      "No camera-related info in the text\n",
      "No specific camera info found\n"
     ]
    }
   ],
   "source": [
    "for text in texts:\n",
    "    print(extract_camera_info(text))"
   ]
  },
  {
   "cell_type": "markdown",
   "id": "761d7070-cbc1-452b-9db5-53b2f84dab0e",
   "metadata": {},
   "source": [
    "## for Battery"
   ]
  },
  {
   "cell_type": "code",
   "execution_count": 40,
   "id": "d1311107-fc88-4c6b-8be1-f880a0a9c59f",
   "metadata": {},
   "outputs": [],
   "source": [
    "battery_keywords = ['battery', 'mAh', 'capacity', 'charging', 'life']"
   ]
  },
  {
   "cell_type": "code",
   "execution_count": 41,
   "id": "a762ae43-747e-4442-a9d6-6b745e35b286",
   "metadata": {},
   "outputs": [],
   "source": [
    "def extract_battery_info(text):\n",
    "    if any(keyword in text.lower() for keyword in battery_keywords):\n",
    "        # Extract battery-related data using regex\n",
    "        battery_info = re.findall(r'(\\d{3,4})\\s*(mAh|capacity|battery)', text)\n",
    "        \n",
    "        # Return battery info if found, else return a default message\n",
    "        if battery_info:\n",
    "            return battery_info\n",
    "        else:\n",
    "            return \"No specific battery info found\"  # Default message when no details are found\n",
    "    return \"No battery-related info in the text\"  # Default message when no battery keywords are found"
   ]
  },
  {
   "cell_type": "code",
   "execution_count": 42,
   "id": "5a36d251-957c-416b-807a-279269c67ae2",
   "metadata": {},
   "outputs": [
    {
     "name": "stderr",
     "output_type": "stream",
     "text": [
      "C:\\Users\\DELL\\AppData\\Local\\Temp\\ipykernel_35804\\3125609203.py:1: SettingWithCopyWarning: \n",
      "A value is trying to be set on a copy of a slice from a DataFrame.\n",
      "Try using .loc[row_indexer,col_indexer] = value instead\n",
      "\n",
      "See the caveats in the documentation: https://pandas.pydata.org/pandas-docs/stable/user_guide/indexing.html#returning-a-view-versus-a-copy\n",
      "  iphone.loc[:, 'battery_info'] = iphone['Text'].apply(extract_battery_info)\n"
     ]
    }
   ],
   "source": [
    "iphone.loc[:, 'battery_info'] = iphone['Text'].apply(extract_battery_info)"
   ]
  },
  {
   "cell_type": "code",
   "execution_count": 43,
   "id": "80c29479-4947-4540-ba2a-826a60444443",
   "metadata": {},
   "outputs": [],
   "source": [
    "battery_df = iphone[['Model', 'battery_info','Text']]"
   ]
  },
  {
   "cell_type": "code",
   "execution_count": 44,
   "id": "7ca7b0b9-6430-44a5-97ab-86d8e99031a5",
   "metadata": {},
   "outputs": [
    {
     "name": "stdout",
     "output_type": "stream",
     "text": [
      "<class 'pandas.core.frame.DataFrame'>\n",
      "Index: 292 entries, 2 to 9071\n",
      "Data columns (total 3 columns):\n",
      " #   Column        Non-Null Count  Dtype \n",
      "---  ------        --------------  ----- \n",
      " 0   Model         292 non-null    object\n",
      " 1   battery_info  292 non-null    object\n",
      " 2   Text          292 non-null    object\n",
      "dtypes: object(3)\n",
      "memory usage: 9.1+ KB\n"
     ]
    }
   ],
   "source": [
    "battery_df.info()"
   ]
  },
  {
   "cell_type": "code",
   "execution_count": 45,
   "id": "2c3c5222-a9a0-4327-9163-f0e3fd88e882",
   "metadata": {},
   "outputs": [
    {
     "data": {
      "text/html": [
       "<div>\n",
       "<style scoped>\n",
       "    .dataframe tbody tr th:only-of-type {\n",
       "        vertical-align: middle;\n",
       "    }\n",
       "\n",
       "    .dataframe tbody tr th {\n",
       "        vertical-align: top;\n",
       "    }\n",
       "\n",
       "    .dataframe thead th {\n",
       "        text-align: right;\n",
       "    }\n",
       "</style>\n",
       "<table border=\"1\" class=\"dataframe\">\n",
       "  <thead>\n",
       "    <tr style=\"text-align: right;\">\n",
       "      <th></th>\n",
       "      <th>Model</th>\n",
       "      <th>battery_info</th>\n",
       "      <th>Text</th>\n",
       "    </tr>\n",
       "  </thead>\n",
       "  <tbody>\n",
       "    <tr>\n",
       "      <th>2</th>\n",
       "      <td>iphone 11</td>\n",
       "      <td>No battery-related info in the text</td>\n",
       "      <td>I’ve been using my iPhone 11 for a few years n...</td>\n",
       "    </tr>\n",
       "    <tr>\n",
       "      <th>11</th>\n",
       "      <td>iphone 16</td>\n",
       "      <td>No specific battery info found</td>\n",
       "      <td>Hi! I have recently bought my iPhone 16 pro ma...</td>\n",
       "    </tr>\n",
       "    <tr>\n",
       "      <th>16</th>\n",
       "      <td>iphone 11</td>\n",
       "      <td>No battery-related info in the text</td>\n",
       "      <td>Hey, does someone know why I can’t install the...</td>\n",
       "    </tr>\n",
       "    <tr>\n",
       "      <th>20</th>\n",
       "      <td>iphone 15 pro</td>\n",
       "      <td>No battery-related info in the text</td>\n",
       "      <td>I recently noticed an issue on my iPhone after...</td>\n",
       "    </tr>\n",
       "    <tr>\n",
       "      <th>23</th>\n",
       "      <td>iphone 16 pro max</td>\n",
       "      <td>No battery-related info in the text</td>\n",
       "      <td>Someone PLEASE help\\nI recently got the iPhone...</td>\n",
       "    </tr>\n",
       "    <tr>\n",
       "      <th>...</th>\n",
       "      <td>...</td>\n",
       "      <td>...</td>\n",
       "      <td>...</td>\n",
       "    </tr>\n",
       "    <tr>\n",
       "      <th>8703</th>\n",
       "      <td>iphone 16 pro</td>\n",
       "      <td>No battery-related info in the text</td>\n",
       "      <td>Just got an iPhone 16 Pro and keep on getting ...</td>\n",
       "    </tr>\n",
       "    <tr>\n",
       "      <th>8888</th>\n",
       "      <td>iphone 16 pro</td>\n",
       "      <td>No battery-related info in the text</td>\n",
       "      <td>We're a few months into the iPhone 16 Pro: doe...</td>\n",
       "    </tr>\n",
       "    <tr>\n",
       "      <th>8979</th>\n",
       "      <td>iphone 13</td>\n",
       "      <td>No specific battery info found</td>\n",
       "      <td>Since the release of the iPhone 13 mini, I’ve ...</td>\n",
       "    </tr>\n",
       "    <tr>\n",
       "      <th>9041</th>\n",
       "      <td>iphone 8 plus</td>\n",
       "      <td>No specific battery info found</td>\n",
       "      <td>I have an iPhone 8 Plus that just lies around ...</td>\n",
       "    </tr>\n",
       "    <tr>\n",
       "      <th>9071</th>\n",
       "      <td>iphone 16 pro</td>\n",
       "      <td>No battery-related info in the text</td>\n",
       "      <td>I've only had my iPhone 16 Pro max for four ho...</td>\n",
       "    </tr>\n",
       "  </tbody>\n",
       "</table>\n",
       "<p>292 rows × 3 columns</p>\n",
       "</div>"
      ],
      "text/plain": [
       "                  Model                         battery_info  \\\n",
       "2             iphone 11  No battery-related info in the text   \n",
       "11            iphone 16       No specific battery info found   \n",
       "16            iphone 11  No battery-related info in the text   \n",
       "20        iphone 15 pro  No battery-related info in the text   \n",
       "23    iphone 16 pro max  No battery-related info in the text   \n",
       "...                 ...                                  ...   \n",
       "8703      iphone 16 pro  No battery-related info in the text   \n",
       "8888      iphone 16 pro  No battery-related info in the text   \n",
       "8979          iphone 13       No specific battery info found   \n",
       "9041      iphone 8 plus       No specific battery info found   \n",
       "9071      iphone 16 pro  No battery-related info in the text   \n",
       "\n",
       "                                                   Text  \n",
       "2     I’ve been using my iPhone 11 for a few years n...  \n",
       "11    Hi! I have recently bought my iPhone 16 pro ma...  \n",
       "16    Hey, does someone know why I can’t install the...  \n",
       "20    I recently noticed an issue on my iPhone after...  \n",
       "23    Someone PLEASE help\\nI recently got the iPhone...  \n",
       "...                                                 ...  \n",
       "8703  Just got an iPhone 16 Pro and keep on getting ...  \n",
       "8888  We're a few months into the iPhone 16 Pro: doe...  \n",
       "8979  Since the release of the iPhone 13 mini, I’ve ...  \n",
       "9041  I have an iPhone 8 Plus that just lies around ...  \n",
       "9071  I've only had my iPhone 16 Pro max for four ho...  \n",
       "\n",
       "[292 rows x 3 columns]"
      ]
     },
     "execution_count": 45,
     "metadata": {},
     "output_type": "execute_result"
    }
   ],
   "source": [
    "battery_df"
   ]
  },
  {
   "cell_type": "code",
   "execution_count": 46,
   "id": "6809cf29-5358-43c2-854c-1d473b4f3bd3",
   "metadata": {},
   "outputs": [
    {
     "data": {
      "text/plain": [
       "battery_info\n",
       "No battery-related info in the text    252\n",
       "No specific battery info found          40\n",
       "Name: count, dtype: int64"
      ]
     },
     "execution_count": 46,
     "metadata": {},
     "output_type": "execute_result"
    }
   ],
   "source": [
    "battery_df['battery_info'].value_counts()"
   ]
  },
  {
   "cell_type": "code",
   "execution_count": 47,
   "id": "55ad312a-f97c-450e-80ed-d1abbb5ffab5",
   "metadata": {},
   "outputs": [],
   "source": [
    "Battery = battery_df[~battery_df['battery_info'].isin([\"No battery-related info in the text\"])]"
   ]
  },
  {
   "cell_type": "code",
   "execution_count": 48,
   "id": "c283195d-f944-4d08-9518-ff8091296337",
   "metadata": {},
   "outputs": [
    {
     "name": "stdout",
     "output_type": "stream",
     "text": [
      "<class 'pandas.core.frame.DataFrame'>\n",
      "Index: 40 entries, 11 to 9041\n",
      "Data columns (total 3 columns):\n",
      " #   Column        Non-Null Count  Dtype \n",
      "---  ------        --------------  ----- \n",
      " 0   Model         40 non-null     object\n",
      " 1   battery_info  40 non-null     object\n",
      " 2   Text          40 non-null     object\n",
      "dtypes: object(3)\n",
      "memory usage: 1.2+ KB\n"
     ]
    }
   ],
   "source": [
    "Battery.info()"
   ]
  },
  {
   "cell_type": "code",
   "execution_count": 49,
   "id": "fe76bc8e-b789-4d01-91c4-38286ecda535",
   "metadata": {},
   "outputs": [
    {
     "name": "stderr",
     "output_type": "stream",
     "text": [
      "C:\\Users\\DELL\\AppData\\Local\\Temp\\ipykernel_35804\\4013129355.py:1: SettingWithCopyWarning: \n",
      "A value is trying to be set on a copy of a slice from a DataFrame.\n",
      "Try using .loc[row_indexer,col_indexer] = value instead\n",
      "\n",
      "See the caveats in the documentation: https://pandas.pydata.org/pandas-docs/stable/user_guide/indexing.html#returning-a-view-versus-a-copy\n",
      "  Battery['battery_info'] = Battery['battery_info'].apply(tuple)\n",
      "C:\\Users\\DELL\\AppData\\Local\\Temp\\ipykernel_35804\\4013129355.py:2: SettingWithCopyWarning: \n",
      "A value is trying to be set on a copy of a slice from a DataFrame.\n",
      "Try using .loc[row_indexer,col_indexer] = value instead\n",
      "\n",
      "See the caveats in the documentation: https://pandas.pydata.org/pandas-docs/stable/user_guide/indexing.html#returning-a-view-versus-a-copy\n",
      "  Battery['Text'] = Battery['Text'].apply(tuple)\n"
     ]
    }
   ],
   "source": [
    "Battery['battery_info'] = Battery['battery_info'].apply(tuple)\n",
    "Battery['Text'] = Battery['Text'].apply(tuple)"
   ]
  },
  {
   "cell_type": "code",
   "execution_count": 50,
   "id": "9aa0dd07-fd81-43bb-a283-94f8e42b5263",
   "metadata": {},
   "outputs": [
    {
     "name": "stdout",
     "output_type": "stream",
     "text": [
      "<class 'pandas.core.frame.DataFrame'>\n",
      "Index: 20 entries, 11 to 858\n",
      "Data columns (total 3 columns):\n",
      " #   Column        Non-Null Count  Dtype \n",
      "---  ------        --------------  ----- \n",
      " 0   Model         20 non-null     object\n",
      " 1   battery_info  20 non-null     object\n",
      " 2   Text          20 non-null     object\n",
      "dtypes: object(3)\n",
      "memory usage: 640.0+ bytes\n"
     ]
    }
   ],
   "source": [
    "Battery = Battery.drop_duplicates()\n",
    "Battery.info()"
   ]
  },
  {
   "cell_type": "code",
   "execution_count": 51,
   "id": "12502268-2b65-438e-9288-2af45835178e",
   "metadata": {},
   "outputs": [],
   "source": [
    "Battery['Sentiment'] = Battery['Text'].apply(lambda x: get_sentiment_score(x))"
   ]
  },
  {
   "cell_type": "code",
   "execution_count": 52,
   "id": "9604fb66-e651-4308-88f2-7c64025f1e01",
   "metadata": {},
   "outputs": [],
   "source": [
    "Battery_Modelwise = Battery.groupby('Model')['Sentiment'].mean().reset_index()"
   ]
  },
  {
   "cell_type": "code",
   "execution_count": 53,
   "id": "9643f6df-827b-45d0-b2cd-71b3c9427e53",
   "metadata": {},
   "outputs": [
    {
     "data": {
      "text/html": [
       "<div>\n",
       "<style scoped>\n",
       "    .dataframe tbody tr th:only-of-type {\n",
       "        vertical-align: middle;\n",
       "    }\n",
       "\n",
       "    .dataframe tbody tr th {\n",
       "        vertical-align: top;\n",
       "    }\n",
       "\n",
       "    .dataframe thead th {\n",
       "        text-align: right;\n",
       "    }\n",
       "</style>\n",
       "<table border=\"1\" class=\"dataframe\">\n",
       "  <thead>\n",
       "    <tr style=\"text-align: right;\">\n",
       "      <th></th>\n",
       "      <th>Model</th>\n",
       "      <th>Sentiment</th>\n",
       "    </tr>\n",
       "  </thead>\n",
       "  <tbody>\n",
       "    <tr>\n",
       "      <th>0</th>\n",
       "      <td>iphone 11</td>\n",
       "      <td>-0.005767</td>\n",
       "    </tr>\n",
       "    <tr>\n",
       "      <th>1</th>\n",
       "      <td>iphone 12</td>\n",
       "      <td>0.827500</td>\n",
       "    </tr>\n",
       "    <tr>\n",
       "      <th>2</th>\n",
       "      <td>iphone 13</td>\n",
       "      <td>-0.243833</td>\n",
       "    </tr>\n",
       "    <tr>\n",
       "      <th>3</th>\n",
       "      <td>iphone 14</td>\n",
       "      <td>-0.260700</td>\n",
       "    </tr>\n",
       "    <tr>\n",
       "      <th>4</th>\n",
       "      <td>iphone 14 pro</td>\n",
       "      <td>0.826800</td>\n",
       "    </tr>\n",
       "    <tr>\n",
       "      <th>5</th>\n",
       "      <td>iphone 16</td>\n",
       "      <td>0.552150</td>\n",
       "    </tr>\n",
       "    <tr>\n",
       "      <th>6</th>\n",
       "      <td>iphone 16 pro</td>\n",
       "      <td>-0.004350</td>\n",
       "    </tr>\n",
       "    <tr>\n",
       "      <th>7</th>\n",
       "      <td>iphone 16 pro max</td>\n",
       "      <td>0.773500</td>\n",
       "    </tr>\n",
       "    <tr>\n",
       "      <th>8</th>\n",
       "      <td>iphone 5</td>\n",
       "      <td>0.976600</td>\n",
       "    </tr>\n",
       "    <tr>\n",
       "      <th>9</th>\n",
       "      <td>iphone 8 plus</td>\n",
       "      <td>0.903400</td>\n",
       "    </tr>\n",
       "  </tbody>\n",
       "</table>\n",
       "</div>"
      ],
      "text/plain": [
       "               Model  Sentiment\n",
       "0          iphone 11  -0.005767\n",
       "1          iphone 12   0.827500\n",
       "2          iphone 13  -0.243833\n",
       "3          iphone 14  -0.260700\n",
       "4      iphone 14 pro   0.826800\n",
       "5          iphone 16   0.552150\n",
       "6      iphone 16 pro  -0.004350\n",
       "7  iphone 16 pro max   0.773500\n",
       "8           iphone 5   0.976600\n",
       "9      iphone 8 plus   0.903400"
      ]
     },
     "execution_count": 53,
     "metadata": {},
     "output_type": "execute_result"
    }
   ],
   "source": [
    "Battery_Modelwise"
   ]
  },
  {
   "cell_type": "code",
   "execution_count": 54,
   "id": "730c9693-06a5-4883-b7ad-d5c24b612cb2",
   "metadata": {},
   "outputs": [
    {
     "data": {
      "image/png": "[encoded data removed]",
      "text/plain": [
       "<Figure size 1200x600 with 1 Axes>"
      ]
     },
     "metadata": {},
     "output_type": "display_data"
    }
   ],
   "source": [
    "plt.figure(figsize=(12, 6))\n",
    "plt.bar(Battery_Modelwise['Model'], Battery_Modelwise['Sentiment'], color='skyblue')\n",
    "plt.xlabel('iPhone Model',size = 14)\n",
    "plt.ylabel('Average Sentiment Score', size = 14)\n",
    "plt.xticks(rotation=90)\n",
    "plt.show()"
   ]
  },
  {
   "cell_type": "markdown",
   "id": "2842ac7d-e817-4a28-8d15-f30761da12e9",
   "metadata": {},
   "source": [
    "## for Storage"
   ]
  },
  {
   "cell_type": "code",
   "execution_count": 55,
   "id": "9e3932c2-59bb-4241-a3b3-b41f43b69ff5",
   "metadata": {},
   "outputs": [],
   "source": [
    "storage_keywords = ['storage', 'GB', 'RAM', 'internal storage']"
   ]
  },
  {
   "cell_type": "code",
   "execution_count": 56,
   "id": "5207492b-9bdd-416b-ba42-7c9ecce1882a",
   "metadata": {},
   "outputs": [],
   "source": [
    "def extract_storage_info(text):\n",
    "    if any(keyword in text.lower() for keyword in storage_keywords):\n",
    "        # Use a regex to capture storage capacity (GB or TB)\n",
    "        storage_info = re.findall(r'(\\d{1,4})\\s*(GB|GBs|TB|TBs)', text)\n",
    "        \n",
    "        # Return the extracted storage info if found, else return None\n",
    "        return storage_info if storage_info else \"No specific storage info found\"\n",
    "    return \"No storage-related info in the text\""
   ]
  },
  {
   "cell_type": "code",
   "execution_count": 57,
   "id": "f2400773-8a7d-4bd4-82cf-df9d801452fe",
   "metadata": {},
   "outputs": [
    {
     "name": "stderr",
     "output_type": "stream",
     "text": [
      "C:\\Users\\DELL\\AppData\\Local\\Temp\\ipykernel_35804\\2665219103.py:1: SettingWithCopyWarning: \n",
      "A value is trying to be set on a copy of a slice from a DataFrame.\n",
      "Try using .loc[row_indexer,col_indexer] = value instead\n",
      "\n",
      "See the caveats in the documentation: https://pandas.pydata.org/pandas-docs/stable/user_guide/indexing.html#returning-a-view-versus-a-copy\n",
      "  iphone.loc[:, 'Storage_info'] = iphone['Text'].apply(extract_storage_info)\n"
     ]
    }
   ],
   "source": [
    "iphone.loc[:, 'Storage_info'] = iphone['Text'].apply(extract_storage_info)"
   ]
  },
  {
   "cell_type": "code",
   "execution_count": 58,
   "id": "0bd3d5a8-98a6-4226-b3f0-40e159bf4609",
   "metadata": {},
   "outputs": [],
   "source": [
    "storage_df = iphone[['Model', 'Storage_info' , 'Text']]"
   ]
  },
  {
   "cell_type": "code",
   "execution_count": 59,
   "id": "d51c3971-fe66-4480-b4c4-e082a7c7fbc5",
   "metadata": {},
   "outputs": [
    {
     "data": {
      "text/html": [
       "<div>\n",
       "<style scoped>\n",
       "    .dataframe tbody tr th:only-of-type {\n",
       "        vertical-align: middle;\n",
       "    }\n",
       "\n",
       "    .dataframe tbody tr th {\n",
       "        vertical-align: top;\n",
       "    }\n",
       "\n",
       "    .dataframe thead th {\n",
       "        text-align: right;\n",
       "    }\n",
       "</style>\n",
       "<table border=\"1\" class=\"dataframe\">\n",
       "  <thead>\n",
       "    <tr style=\"text-align: right;\">\n",
       "      <th></th>\n",
       "      <th>Model</th>\n",
       "      <th>Storage_info</th>\n",
       "      <th>Text</th>\n",
       "    </tr>\n",
       "  </thead>\n",
       "  <tbody>\n",
       "    <tr>\n",
       "      <th>2</th>\n",
       "      <td>iphone 11</td>\n",
       "      <td>No storage-related info in the text</td>\n",
       "      <td>I’ve been using my iPhone 11 for a few years n...</td>\n",
       "    </tr>\n",
       "    <tr>\n",
       "      <th>11</th>\n",
       "      <td>iphone 16</td>\n",
       "      <td>No storage-related info in the text</td>\n",
       "      <td>Hi! I have recently bought my iPhone 16 pro ma...</td>\n",
       "    </tr>\n",
       "    <tr>\n",
       "      <th>16</th>\n",
       "      <td>iphone 11</td>\n",
       "      <td>No storage-related info in the text</td>\n",
       "      <td>Hey, does someone know why I can’t install the...</td>\n",
       "    </tr>\n",
       "    <tr>\n",
       "      <th>20</th>\n",
       "      <td>iphone 15 pro</td>\n",
       "      <td>No storage-related info in the text</td>\n",
       "      <td>I recently noticed an issue on my iPhone after...</td>\n",
       "    </tr>\n",
       "    <tr>\n",
       "      <th>23</th>\n",
       "      <td>iphone 16 pro max</td>\n",
       "      <td>No storage-related info in the text</td>\n",
       "      <td>Someone PLEASE help\\nI recently got the iPhone...</td>\n",
       "    </tr>\n",
       "    <tr>\n",
       "      <th>...</th>\n",
       "      <td>...</td>\n",
       "      <td>...</td>\n",
       "      <td>...</td>\n",
       "    </tr>\n",
       "    <tr>\n",
       "      <th>8703</th>\n",
       "      <td>iphone 16 pro</td>\n",
       "      <td>No storage-related info in the text</td>\n",
       "      <td>Just got an iPhone 16 Pro and keep on getting ...</td>\n",
       "    </tr>\n",
       "    <tr>\n",
       "      <th>8888</th>\n",
       "      <td>iphone 16 pro</td>\n",
       "      <td>No storage-related info in the text</td>\n",
       "      <td>We're a few months into the iPhone 16 Pro: doe...</td>\n",
       "    </tr>\n",
       "    <tr>\n",
       "      <th>8979</th>\n",
       "      <td>iphone 13</td>\n",
       "      <td>No storage-related info in the text</td>\n",
       "      <td>Since the release of the iPhone 13 mini, I’ve ...</td>\n",
       "    </tr>\n",
       "    <tr>\n",
       "      <th>9041</th>\n",
       "      <td>iphone 8 plus</td>\n",
       "      <td>No storage-related info in the text</td>\n",
       "      <td>I have an iPhone 8 Plus that just lies around ...</td>\n",
       "    </tr>\n",
       "    <tr>\n",
       "      <th>9071</th>\n",
       "      <td>iphone 16 pro</td>\n",
       "      <td>No storage-related info in the text</td>\n",
       "      <td>I've only had my iPhone 16 Pro max for four ho...</td>\n",
       "    </tr>\n",
       "  </tbody>\n",
       "</table>\n",
       "<p>292 rows × 3 columns</p>\n",
       "</div>"
      ],
      "text/plain": [
       "                  Model                         Storage_info  \\\n",
       "2             iphone 11  No storage-related info in the text   \n",
       "11            iphone 16  No storage-related info in the text   \n",
       "16            iphone 11  No storage-related info in the text   \n",
       "20        iphone 15 pro  No storage-related info in the text   \n",
       "23    iphone 16 pro max  No storage-related info in the text   \n",
       "...                 ...                                  ...   \n",
       "8703      iphone 16 pro  No storage-related info in the text   \n",
       "8888      iphone 16 pro  No storage-related info in the text   \n",
       "8979          iphone 13  No storage-related info in the text   \n",
       "9041      iphone 8 plus  No storage-related info in the text   \n",
       "9071      iphone 16 pro  No storage-related info in the text   \n",
       "\n",
       "                                                   Text  \n",
       "2     I’ve been using my iPhone 11 for a few years n...  \n",
       "11    Hi! I have recently bought my iPhone 16 pro ma...  \n",
       "16    Hey, does someone know why I can’t install the...  \n",
       "20    I recently noticed an issue on my iPhone after...  \n",
       "23    Someone PLEASE help\\nI recently got the iPhone...  \n",
       "...                                                 ...  \n",
       "8703  Just got an iPhone 16 Pro and keep on getting ...  \n",
       "8888  We're a few months into the iPhone 16 Pro: doe...  \n",
       "8979  Since the release of the iPhone 13 mini, I’ve ...  \n",
       "9041  I have an iPhone 8 Plus that just lies around ...  \n",
       "9071  I've only had my iPhone 16 Pro max for four ho...  \n",
       "\n",
       "[292 rows x 3 columns]"
      ]
     },
     "execution_count": 59,
     "metadata": {},
     "output_type": "execute_result"
    }
   ],
   "source": [
    "storage_df"
   ]
  },
  {
   "cell_type": "code",
   "execution_count": 60,
   "id": "a1053fc2-8de1-4ca3-9844-7f2f27956181",
   "metadata": {},
   "outputs": [
    {
     "data": {
      "text/plain": [
       "Storage_info\n",
       "No storage-related info in the text    281\n",
       "No specific storage info found          10\n",
       "[(50, GB)]                               1\n",
       "Name: count, dtype: int64"
      ]
     },
     "execution_count": 60,
     "metadata": {},
     "output_type": "execute_result"
    }
   ],
   "source": [
    "storage_df['Storage_info'].value_counts()"
   ]
  },
  {
   "cell_type": "code",
   "execution_count": 61,
   "id": "a7401ff0-9373-431b-9bf2-dddfdd5c10a0",
   "metadata": {},
   "outputs": [],
   "source": [
    "Storage = storage_df[~storage_df['Storage_info'].isin([\"No storage-related info in the text\"])]"
   ]
  },
  {
   "cell_type": "code",
   "execution_count": 62,
   "id": "c9ae2ea1-c6d8-4563-aec5-32b025378cea",
   "metadata": {},
   "outputs": [
    {
     "name": "stdout",
     "output_type": "stream",
     "text": [
      "<class 'pandas.core.frame.DataFrame'>\n",
      "Index: 11 entries, 98 to 7506\n",
      "Data columns (total 3 columns):\n",
      " #   Column        Non-Null Count  Dtype \n",
      "---  ------        --------------  ----- \n",
      " 0   Model         11 non-null     object\n",
      " 1   Storage_info  11 non-null     object\n",
      " 2   Text          11 non-null     object\n",
      "dtypes: object(3)\n",
      "memory usage: 352.0+ bytes\n"
     ]
    }
   ],
   "source": [
    "Storage.info()"
   ]
  },
  {
   "cell_type": "code",
   "execution_count": 63,
   "id": "c27f5158-8651-4be7-9d26-8f301a9cbd66",
   "metadata": {},
   "outputs": [
    {
     "name": "stderr",
     "output_type": "stream",
     "text": [
      "C:\\Users\\DELL\\AppData\\Local\\Temp\\ipykernel_35804\\1634322082.py:1: SettingWithCopyWarning: \n",
      "A value is trying to be set on a copy of a slice from a DataFrame.\n",
      "Try using .loc[row_indexer,col_indexer] = value instead\n",
      "\n",
      "See the caveats in the documentation: https://pandas.pydata.org/pandas-docs/stable/user_guide/indexing.html#returning-a-view-versus-a-copy\n",
      "  Storage['Storage_info'] = Storage['Storage_info'].apply(tuple)\n",
      "C:\\Users\\DELL\\AppData\\Local\\Temp\\ipykernel_35804\\1634322082.py:2: SettingWithCopyWarning: \n",
      "A value is trying to be set on a copy of a slice from a DataFrame.\n",
      "Try using .loc[row_indexer,col_indexer] = value instead\n",
      "\n",
      "See the caveats in the documentation: https://pandas.pydata.org/pandas-docs/stable/user_guide/indexing.html#returning-a-view-versus-a-copy\n",
      "  Storage['Text'] = Storage['Text'].apply(tuple)\n"
     ]
    }
   ],
   "source": [
    "Storage['Storage_info'] = Storage['Storage_info'].apply(tuple)\n",
    "Storage['Text'] = Storage['Text'].apply(tuple)"
   ]
  },
  {
   "cell_type": "code",
   "execution_count": 64,
   "id": "99789c17-0bf4-48f8-85c1-81dcde1494c1",
   "metadata": {},
   "outputs": [
    {
     "name": "stdout",
     "output_type": "stream",
     "text": [
      "<class 'pandas.core.frame.DataFrame'>\n",
      "Index: 8 entries, 98 to 672\n",
      "Data columns (total 3 columns):\n",
      " #   Column        Non-Null Count  Dtype \n",
      "---  ------        --------------  ----- \n",
      " 0   Model         8 non-null      object\n",
      " 1   Storage_info  8 non-null      object\n",
      " 2   Text          8 non-null      object\n",
      "dtypes: object(3)\n",
      "memory usage: 256.0+ bytes\n"
     ]
    }
   ],
   "source": [
    "Storage = Storage.drop_duplicates()\n",
    "Storage.info()"
   ]
  },
  {
   "cell_type": "code",
   "execution_count": 65,
   "id": "7d8ffea1-cb74-4056-9b6a-44e6eb8c0a99",
   "metadata": {},
   "outputs": [],
   "source": [
    "Storage['Sentiment'] = Storage['Text'].apply(lambda x: get_sentiment_score(x))"
   ]
  },
  {
   "cell_type": "code",
   "execution_count": 66,
   "id": "7aaa8b86-e20f-4c2e-9ffa-3df64d774c2f",
   "metadata": {},
   "outputs": [],
   "source": [
    "Storage_Modelwise = Storage.groupby('Model')['Sentiment'].mean().reset_index()"
   ]
  },
  {
   "cell_type": "code",
   "execution_count": 67,
   "id": "826866e3-7d96-4e7b-96bf-c747166c6865",
   "metadata": {},
   "outputs": [
    {
     "data": {
      "text/html": [
       "<div>\n",
       "<style scoped>\n",
       "    .dataframe tbody tr th:only-of-type {\n",
       "        vertical-align: middle;\n",
       "    }\n",
       "\n",
       "    .dataframe tbody tr th {\n",
       "        vertical-align: top;\n",
       "    }\n",
       "\n",
       "    .dataframe thead th {\n",
       "        text-align: right;\n",
       "    }\n",
       "</style>\n",
       "<table border=\"1\" class=\"dataframe\">\n",
       "  <thead>\n",
       "    <tr style=\"text-align: right;\">\n",
       "      <th></th>\n",
       "      <th>Model</th>\n",
       "      <th>Sentiment</th>\n",
       "    </tr>\n",
       "  </thead>\n",
       "  <tbody>\n",
       "    <tr>\n",
       "      <th>0</th>\n",
       "      <td>iphone 11</td>\n",
       "      <td>0.9274</td>\n",
       "    </tr>\n",
       "    <tr>\n",
       "      <th>1</th>\n",
       "      <td>iphone 12</td>\n",
       "      <td>0.4159</td>\n",
       "    </tr>\n",
       "    <tr>\n",
       "      <th>2</th>\n",
       "      <td>iphone 13 pro</td>\n",
       "      <td>-0.9871</td>\n",
       "    </tr>\n",
       "    <tr>\n",
       "      <th>3</th>\n",
       "      <td>iphone 15</td>\n",
       "      <td>0.6984</td>\n",
       "    </tr>\n",
       "    <tr>\n",
       "      <th>4</th>\n",
       "      <td>iphone 15 plus</td>\n",
       "      <td>0.2406</td>\n",
       "    </tr>\n",
       "    <tr>\n",
       "      <th>5</th>\n",
       "      <td>iphone 16</td>\n",
       "      <td>0.2640</td>\n",
       "    </tr>\n",
       "    <tr>\n",
       "      <th>6</th>\n",
       "      <td>iphone 7</td>\n",
       "      <td>0.6124</td>\n",
       "    </tr>\n",
       "  </tbody>\n",
       "</table>\n",
       "</div>"
      ],
      "text/plain": [
       "            Model  Sentiment\n",
       "0       iphone 11     0.9274\n",
       "1       iphone 12     0.4159\n",
       "2   iphone 13 pro    -0.9871\n",
       "3       iphone 15     0.6984\n",
       "4  iphone 15 plus     0.2406\n",
       "5       iphone 16     0.2640\n",
       "6        iphone 7     0.6124"
      ]
     },
     "execution_count": 67,
     "metadata": {},
     "output_type": "execute_result"
    }
   ],
   "source": [
    "Storage_Modelwise"
   ]
  },
  {
   "cell_type": "code",
   "execution_count": 68,
   "id": "63bd5e68-3ac0-4a47-9cb7-3e2c9ea125f7",
   "metadata": {},
   "outputs": [
    {
     "data": {
      "image/png": "[encoded data removed]",
      "text/plain": [
       "<Figure size 1200x600 with 1 Axes>"
      ]
     },
     "metadata": {},
     "output_type": "display_data"
    }
   ],
   "source": [
    "plt.figure(figsize=(12, 6))\n",
    "plt.bar(Storage_Modelwise['Model'], Storage_Modelwise['Sentiment'], color='skyblue')\n",
    "plt.xlabel('iPhone Model',size = 14)\n",
    "plt.ylabel('Average Sentiment Score', size = 14)\n",
    "plt.xticks(rotation=0)\n",
    "plt.show()"
   ]
  },
  {
   "cell_type": "markdown",
   "id": "9be96cc7-039a-4b48-b408-df2292c78ced",
   "metadata": {},
   "source": [
    "## for Software"
   ]
  },
  {
   "cell_type": "code",
   "execution_count": 69,
   "id": "6b85a794-4564-4772-8b3d-b61fc263c005",
   "metadata": {},
   "outputs": [],
   "source": [
    "software_keywords = ['iOS', 'software', 'version', 'update']"
   ]
  },
  {
   "cell_type": "code",
   "execution_count": 70,
   "id": "1dd950a8-b39b-49f2-9720-3220bed61597",
   "metadata": {},
   "outputs": [],
   "source": [
    "def extract_software_info(text):\n",
    "    if any(keyword in text.lower() for keyword in software_keywords):\n",
    "        # Extract software version using regex\n",
    "        software_info = re.findall(r'(\\d{1,2}\\.\\d{1,2}\\.\\d{1,2})', text)\n",
    "        \n",
    "        # Return software info if found, else return a default message\n",
    "        if software_info:\n",
    "            return software_info\n",
    "        else:\n",
    "            return \"No specific software info found\"  # Default message when no details are found\n",
    "    return \"No software-related info in the text\"  # Default message when no software keywords are found"
   ]
  },
  {
   "cell_type": "code",
   "execution_count": 71,
   "id": "1a4d1950-f8e9-4ba2-b038-811d63326637",
   "metadata": {},
   "outputs": [
    {
     "name": "stderr",
     "output_type": "stream",
     "text": [
      "C:\\Users\\DELL\\AppData\\Local\\Temp\\ipykernel_35804\\523294686.py:1: SettingWithCopyWarning: \n",
      "A value is trying to be set on a copy of a slice from a DataFrame.\n",
      "Try using .loc[row_indexer,col_indexer] = value instead\n",
      "\n",
      "See the caveats in the documentation: https://pandas.pydata.org/pandas-docs/stable/user_guide/indexing.html#returning-a-view-versus-a-copy\n",
      "  iphone.loc[:, 'Software_info'] = iphone['Text'].apply(extract_software_info)\n"
     ]
    }
   ],
   "source": [
    "iphone.loc[:, 'Software_info'] = iphone['Text'].apply(extract_software_info)"
   ]
  },
  {
   "cell_type": "code",
   "execution_count": 72,
   "id": "af2ff8e1-88bd-4021-91bc-bf97e6792187",
   "metadata": {},
   "outputs": [],
   "source": [
    "software_df = iphone[['Model', 'Software_info','Text']]"
   ]
  },
  {
   "cell_type": "code",
   "execution_count": 73,
   "id": "a39c6232-d26e-4044-ae9a-1343ac0829c4",
   "metadata": {},
   "outputs": [
    {
     "data": {
      "text/html": [
       "<div>\n",
       "<style scoped>\n",
       "    .dataframe tbody tr th:only-of-type {\n",
       "        vertical-align: middle;\n",
       "    }\n",
       "\n",
       "    .dataframe tbody tr th {\n",
       "        vertical-align: top;\n",
       "    }\n",
       "\n",
       "    .dataframe thead th {\n",
       "        text-align: right;\n",
       "    }\n",
       "</style>\n",
       "<table border=\"1\" class=\"dataframe\">\n",
       "  <thead>\n",
       "    <tr style=\"text-align: right;\">\n",
       "      <th></th>\n",
       "      <th>Model</th>\n",
       "      <th>Software_info</th>\n",
       "      <th>Text</th>\n",
       "    </tr>\n",
       "  </thead>\n",
       "  <tbody>\n",
       "    <tr>\n",
       "      <th>2</th>\n",
       "      <td>iphone 11</td>\n",
       "      <td>No software-related info in the text</td>\n",
       "      <td>I’ve been using my iPhone 11 for a few years n...</td>\n",
       "    </tr>\n",
       "    <tr>\n",
       "      <th>11</th>\n",
       "      <td>iphone 16</td>\n",
       "      <td>No software-related info in the text</td>\n",
       "      <td>Hi! I have recently bought my iPhone 16 pro ma...</td>\n",
       "    </tr>\n",
       "    <tr>\n",
       "      <th>16</th>\n",
       "      <td>iphone 11</td>\n",
       "      <td>[18.2.1, 15.3.1]</td>\n",
       "      <td>Hey, does someone know why I can’t install the...</td>\n",
       "    </tr>\n",
       "    <tr>\n",
       "      <th>20</th>\n",
       "      <td>iphone 15 pro</td>\n",
       "      <td>No software-related info in the text</td>\n",
       "      <td>I recently noticed an issue on my iPhone after...</td>\n",
       "    </tr>\n",
       "    <tr>\n",
       "      <th>23</th>\n",
       "      <td>iphone 16 pro max</td>\n",
       "      <td>No software-related info in the text</td>\n",
       "      <td>Someone PLEASE help\\nI recently got the iPhone...</td>\n",
       "    </tr>\n",
       "    <tr>\n",
       "      <th>...</th>\n",
       "      <td>...</td>\n",
       "      <td>...</td>\n",
       "      <td>...</td>\n",
       "    </tr>\n",
       "    <tr>\n",
       "      <th>8703</th>\n",
       "      <td>iphone 16 pro</td>\n",
       "      <td>No software-related info in the text</td>\n",
       "      <td>Just got an iPhone 16 Pro and keep on getting ...</td>\n",
       "    </tr>\n",
       "    <tr>\n",
       "      <th>8888</th>\n",
       "      <td>iphone 16 pro</td>\n",
       "      <td>No software-related info in the text</td>\n",
       "      <td>We're a few months into the iPhone 16 Pro: doe...</td>\n",
       "    </tr>\n",
       "    <tr>\n",
       "      <th>8979</th>\n",
       "      <td>iphone 13</td>\n",
       "      <td>No software-related info in the text</td>\n",
       "      <td>Since the release of the iPhone 13 mini, I’ve ...</td>\n",
       "    </tr>\n",
       "    <tr>\n",
       "      <th>9041</th>\n",
       "      <td>iphone 8 plus</td>\n",
       "      <td>No specific software info found</td>\n",
       "      <td>I have an iPhone 8 Plus that just lies around ...</td>\n",
       "    </tr>\n",
       "    <tr>\n",
       "      <th>9071</th>\n",
       "      <td>iphone 16 pro</td>\n",
       "      <td>No software-related info in the text</td>\n",
       "      <td>I've only had my iPhone 16 Pro max for four ho...</td>\n",
       "    </tr>\n",
       "  </tbody>\n",
       "</table>\n",
       "<p>292 rows × 3 columns</p>\n",
       "</div>"
      ],
      "text/plain": [
       "                  Model                         Software_info  \\\n",
       "2             iphone 11  No software-related info in the text   \n",
       "11            iphone 16  No software-related info in the text   \n",
       "16            iphone 11                      [18.2.1, 15.3.1]   \n",
       "20        iphone 15 pro  No software-related info in the text   \n",
       "23    iphone 16 pro max  No software-related info in the text   \n",
       "...                 ...                                   ...   \n",
       "8703      iphone 16 pro  No software-related info in the text   \n",
       "8888      iphone 16 pro  No software-related info in the text   \n",
       "8979          iphone 13  No software-related info in the text   \n",
       "9041      iphone 8 plus       No specific software info found   \n",
       "9071      iphone 16 pro  No software-related info in the text   \n",
       "\n",
       "                                                   Text  \n",
       "2     I’ve been using my iPhone 11 for a few years n...  \n",
       "11    Hi! I have recently bought my iPhone 16 pro ma...  \n",
       "16    Hey, does someone know why I can’t install the...  \n",
       "20    I recently noticed an issue on my iPhone after...  \n",
       "23    Someone PLEASE help\\nI recently got the iPhone...  \n",
       "...                                                 ...  \n",
       "8703  Just got an iPhone 16 Pro and keep on getting ...  \n",
       "8888  We're a few months into the iPhone 16 Pro: doe...  \n",
       "8979  Since the release of the iPhone 13 mini, I’ve ...  \n",
       "9041  I have an iPhone 8 Plus that just lies around ...  \n",
       "9071  I've only had my iPhone 16 Pro max for four ho...  \n",
       "\n",
       "[292 rows x 3 columns]"
      ]
     },
     "execution_count": 73,
     "metadata": {},
     "output_type": "execute_result"
    }
   ],
   "source": [
    "software_df"
   ]
  },
  {
   "cell_type": "code",
   "execution_count": 74,
   "id": "5e1f515b-d1c8-4a93-96e5-dedebf655cf7",
   "metadata": {},
   "outputs": [
    {
     "data": {
      "text/plain": [
       "Software_info\n",
       "No software-related info in the text    256\n",
       "No specific software info found          29\n",
       "[18.2.1]                                  3\n",
       "[18.2.1, 15.3.1]                          1\n",
       "[17.5.1]                                  1\n",
       "[16.7.1]                                  1\n",
       "[18.2.0]                                  1\n",
       "Name: count, dtype: int64"
      ]
     },
     "execution_count": 74,
     "metadata": {},
     "output_type": "execute_result"
    }
   ],
   "source": [
    "software_df['Software_info'].value_counts()"
   ]
  },
  {
   "cell_type": "code",
   "execution_count": 75,
   "id": "4391bfe1-18cf-4de5-8f8e-5445bb959edd",
   "metadata": {},
   "outputs": [],
   "source": [
    "Software = software_df[~software_df['Software_info'].isin([\"No software-related info in the text\"])]"
   ]
  },
  {
   "cell_type": "code",
   "execution_count": 76,
   "id": "d9217ba1-b6af-4a62-bd91-0bdadb9ad108",
   "metadata": {},
   "outputs": [
    {
     "data": {
      "text/html": [
       "<div>\n",
       "<style scoped>\n",
       "    .dataframe tbody tr th:only-of-type {\n",
       "        vertical-align: middle;\n",
       "    }\n",
       "\n",
       "    .dataframe tbody tr th {\n",
       "        vertical-align: top;\n",
       "    }\n",
       "\n",
       "    .dataframe thead th {\n",
       "        text-align: right;\n",
       "    }\n",
       "</style>\n",
       "<table border=\"1\" class=\"dataframe\">\n",
       "  <thead>\n",
       "    <tr style=\"text-align: right;\">\n",
       "      <th></th>\n",
       "      <th>Model</th>\n",
       "      <th>Software_info</th>\n",
       "      <th>Text</th>\n",
       "    </tr>\n",
       "  </thead>\n",
       "  <tbody>\n",
       "    <tr>\n",
       "      <th>16</th>\n",
       "      <td>iphone 11</td>\n",
       "      <td>[18.2.1, 15.3.1]</td>\n",
       "      <td>Hey, does someone know why I can’t install the...</td>\n",
       "    </tr>\n",
       "    <tr>\n",
       "      <th>46</th>\n",
       "      <td>iphone 16 promax</td>\n",
       "      <td>No specific software info found</td>\n",
       "      <td>*September 2024* \\- The 'OneTime Pro NanoArmou...</td>\n",
       "    </tr>\n",
       "    <tr>\n",
       "      <th>126</th>\n",
       "      <td>iphone 11</td>\n",
       "      <td>No specific software info found</td>\n",
       "      <td>Hi everyone , I’m coming from the iPhone 11. I...</td>\n",
       "    </tr>\n",
       "    <tr>\n",
       "      <th>184</th>\n",
       "      <td>iphone 15 pro max</td>\n",
       "      <td>No specific software info found</td>\n",
       "      <td>Hello,\\n\\nThe screen on my iPhone 15 Pro Max (...</td>\n",
       "    </tr>\n",
       "    <tr>\n",
       "      <th>199</th>\n",
       "      <td>iphone 11</td>\n",
       "      <td>[17.5.1]</td>\n",
       "      <td>Hi everyone. It's been a month I've been exper...</td>\n",
       "    </tr>\n",
       "    <tr>\n",
       "      <th>208</th>\n",
       "      <td>iphone 8 plus</td>\n",
       "      <td>No specific software info found</td>\n",
       "      <td>I have an iPhone 8 Plus that just lies around ...</td>\n",
       "    </tr>\n",
       "    <tr>\n",
       "      <th>222</th>\n",
       "      <td>iphone 16 plus</td>\n",
       "      <td>[18.2.1]</td>\n",
       "      <td>I own iPhone 16 Plus. After updating 18.2.1 I ...</td>\n",
       "    </tr>\n",
       "    <tr>\n",
       "      <th>274</th>\n",
       "      <td>iphone 16 pro</td>\n",
       "      <td>No specific software info found</td>\n",
       "      <td>So this post will be a rant, as I am mad on th...</td>\n",
       "    </tr>\n",
       "    <tr>\n",
       "      <th>284</th>\n",
       "      <td>iphone 15</td>\n",
       "      <td>No specific software info found</td>\n",
       "      <td>I dont know what it is but the messages app co...</td>\n",
       "    </tr>\n",
       "    <tr>\n",
       "      <th>285</th>\n",
       "      <td>iphone 16</td>\n",
       "      <td>No specific software info found</td>\n",
       "      <td>This issue has been going on since iPhone X.  ...</td>\n",
       "    </tr>\n",
       "    <tr>\n",
       "      <th>300</th>\n",
       "      <td>iphone 8 plus</td>\n",
       "      <td>[16.7.1]</td>\n",
       "      <td>I put up my old iPhone 8 Plus for sale on FB M...</td>\n",
       "    </tr>\n",
       "    <tr>\n",
       "      <th>303</th>\n",
       "      <td>iphone 12</td>\n",
       "      <td>No specific software info found</td>\n",
       "      <td>For the past few weeks my old phone (iPhone 12...</td>\n",
       "    </tr>\n",
       "    <tr>\n",
       "      <th>414</th>\n",
       "      <td>iphone 13</td>\n",
       "      <td>No specific software info found</td>\n",
       "      <td>Hello everyone,\\nI am using my iPhone 13 2.5 y...</td>\n",
       "    </tr>\n",
       "    <tr>\n",
       "      <th>423</th>\n",
       "      <td>iphone 14</td>\n",
       "      <td>No specific software info found</td>\n",
       "      <td>iPhone 14 pro max (Australian version) i’ve ow...</td>\n",
       "    </tr>\n",
       "    <tr>\n",
       "      <th>442</th>\n",
       "      <td>iphone 7</td>\n",
       "      <td>No specific software info found</td>\n",
       "      <td>I have an iPhone 7 (the base 32gb with only 2g...</td>\n",
       "    </tr>\n",
       "    <tr>\n",
       "      <th>499</th>\n",
       "      <td>iphone 15</td>\n",
       "      <td>[18.2.1]</td>\n",
       "      <td>At 1080p 60 fps quicktap there is a jitter u c...</td>\n",
       "    </tr>\n",
       "    <tr>\n",
       "      <th>500</th>\n",
       "      <td>iphone 16</td>\n",
       "      <td>[18.2.0]</td>\n",
       "      <td>Hey iPhone users, just wondering if anyone has...</td>\n",
       "    </tr>\n",
       "    <tr>\n",
       "      <th>566</th>\n",
       "      <td>iphone 14</td>\n",
       "      <td>No specific software info found</td>\n",
       "      <td>Hey,\\n\\nI bought my son a used iPhone 14 which...</td>\n",
       "    </tr>\n",
       "    <tr>\n",
       "      <th>596</th>\n",
       "      <td>iphone 11</td>\n",
       "      <td>[18.2.1]</td>\n",
       "      <td>Last night, I updated to 18.2.1. Today, there ...</td>\n",
       "    </tr>\n",
       "    <tr>\n",
       "      <th>620</th>\n",
       "      <td>iphone 15</td>\n",
       "      <td>No specific software info found</td>\n",
       "      <td>hello everyone! I have an iPhone XR bought in ...</td>\n",
       "    </tr>\n",
       "    <tr>\n",
       "      <th>638</th>\n",
       "      <td>iphone 13</td>\n",
       "      <td>No specific software info found</td>\n",
       "      <td>I traded in an iPhone 13 pro max which Apple ...</td>\n",
       "    </tr>\n",
       "    <tr>\n",
       "      <th>646</th>\n",
       "      <td>iphone 12</td>\n",
       "      <td>No specific software info found</td>\n",
       "      <td>iPhone 12 pro max, latest public iOS update to...</td>\n",
       "    </tr>\n",
       "    <tr>\n",
       "      <th>655</th>\n",
       "      <td>iphone 16 pro</td>\n",
       "      <td>No specific software info found</td>\n",
       "      <td>Forgive me if this is a very silly question. I...</td>\n",
       "    </tr>\n",
       "    <tr>\n",
       "      <th>704</th>\n",
       "      <td>iphone 15</td>\n",
       "      <td>No specific software info found</td>\n",
       "      <td>I bought a Sandisk Portable SSD (1tb) to direc...</td>\n",
       "    </tr>\n",
       "    <tr>\n",
       "      <th>727</th>\n",
       "      <td>iphone 13 pro</td>\n",
       "      <td>No specific software info found</td>\n",
       "      <td>Hi everyone,\\nI recently got an iPhone 13 Pro ...</td>\n",
       "    </tr>\n",
       "    <tr>\n",
       "      <th>831</th>\n",
       "      <td>iphone 15</td>\n",
       "      <td>No specific software info found</td>\n",
       "      <td>Recently, I've been having issues with echoing...</td>\n",
       "    </tr>\n",
       "    <tr>\n",
       "      <th>846</th>\n",
       "      <td>iphone 15 plus</td>\n",
       "      <td>No specific software info found</td>\n",
       "      <td>I just bought a new iPhone 15 Plus, and I’ve n...</td>\n",
       "    </tr>\n",
       "    <tr>\n",
       "      <th>893</th>\n",
       "      <td>iphone 15</td>\n",
       "      <td>No specific software info found</td>\n",
       "      <td>I really didn’t want to update to ios18\\nIt ma...</td>\n",
       "    </tr>\n",
       "    <tr>\n",
       "      <th>939</th>\n",
       "      <td>iphone 15 pro</td>\n",
       "      <td>No specific software info found</td>\n",
       "      <td>As the title implies.\\n\\nHow do you fix this?\\...</td>\n",
       "    </tr>\n",
       "    <tr>\n",
       "      <th>1190</th>\n",
       "      <td>iphone 8 plus</td>\n",
       "      <td>No specific software info found</td>\n",
       "      <td>I have an iPhone 8 Plus that just lies around ...</td>\n",
       "    </tr>\n",
       "    <tr>\n",
       "      <th>2172</th>\n",
       "      <td>iphone 8 plus</td>\n",
       "      <td>No specific software info found</td>\n",
       "      <td>I have an iPhone 8 Plus that just lies around ...</td>\n",
       "    </tr>\n",
       "    <tr>\n",
       "      <th>3153</th>\n",
       "      <td>iphone 8 plus</td>\n",
       "      <td>No specific software info found</td>\n",
       "      <td>I have an iPhone 8 Plus that just lies around ...</td>\n",
       "    </tr>\n",
       "    <tr>\n",
       "      <th>5115</th>\n",
       "      <td>iphone 8 plus</td>\n",
       "      <td>No specific software info found</td>\n",
       "      <td>I have an iPhone 8 Plus that just lies around ...</td>\n",
       "    </tr>\n",
       "    <tr>\n",
       "      <th>6096</th>\n",
       "      <td>iphone 8 plus</td>\n",
       "      <td>No specific software info found</td>\n",
       "      <td>I have an iPhone 8 Plus that just lies around ...</td>\n",
       "    </tr>\n",
       "    <tr>\n",
       "      <th>7077</th>\n",
       "      <td>iphone 8 plus</td>\n",
       "      <td>No specific software info found</td>\n",
       "      <td>I have an iPhone 8 Plus that just lies around ...</td>\n",
       "    </tr>\n",
       "    <tr>\n",
       "      <th>9041</th>\n",
       "      <td>iphone 8 plus</td>\n",
       "      <td>No specific software info found</td>\n",
       "      <td>I have an iPhone 8 Plus that just lies around ...</td>\n",
       "    </tr>\n",
       "  </tbody>\n",
       "</table>\n",
       "</div>"
      ],
      "text/plain": [
       "                  Model                    Software_info  \\\n",
       "16            iphone 11                 [18.2.1, 15.3.1]   \n",
       "46     iphone 16 promax  No specific software info found   \n",
       "126           iphone 11  No specific software info found   \n",
       "184   iphone 15 pro max  No specific software info found   \n",
       "199           iphone 11                         [17.5.1]   \n",
       "208       iphone 8 plus  No specific software info found   \n",
       "222      iphone 16 plus                         [18.2.1]   \n",
       "274       iphone 16 pro  No specific software info found   \n",
       "284           iphone 15  No specific software info found   \n",
       "285           iphone 16  No specific software info found   \n",
       "300       iphone 8 plus                         [16.7.1]   \n",
       "303           iphone 12  No specific software info found   \n",
       "414           iphone 13  No specific software info found   \n",
       "423           iphone 14  No specific software info found   \n",
       "442            iphone 7  No specific software info found   \n",
       "499           iphone 15                         [18.2.1]   \n",
       "500           iphone 16                         [18.2.0]   \n",
       "566           iphone 14  No specific software info found   \n",
       "596           iphone 11                         [18.2.1]   \n",
       "620           iphone 15  No specific software info found   \n",
       "638           iphone 13  No specific software info found   \n",
       "646           iphone 12  No specific software info found   \n",
       "655       iphone 16 pro  No specific software info found   \n",
       "704           iphone 15  No specific software info found   \n",
       "727       iphone 13 pro  No specific software info found   \n",
       "831           iphone 15  No specific software info found   \n",
       "846      iphone 15 plus  No specific software info found   \n",
       "893           iphone 15  No specific software info found   \n",
       "939       iphone 15 pro  No specific software info found   \n",
       "1190      iphone 8 plus  No specific software info found   \n",
       "2172      iphone 8 plus  No specific software info found   \n",
       "3153      iphone 8 plus  No specific software info found   \n",
       "5115      iphone 8 plus  No specific software info found   \n",
       "6096      iphone 8 plus  No specific software info found   \n",
       "7077      iphone 8 plus  No specific software info found   \n",
       "9041      iphone 8 plus  No specific software info found   \n",
       "\n",
       "                                                   Text  \n",
       "16    Hey, does someone know why I can’t install the...  \n",
       "46    *September 2024* \\- The 'OneTime Pro NanoArmou...  \n",
       "126   Hi everyone , I’m coming from the iPhone 11. I...  \n",
       "184   Hello,\\n\\nThe screen on my iPhone 15 Pro Max (...  \n",
       "199   Hi everyone. It's been a month I've been exper...  \n",
       "208   I have an iPhone 8 Plus that just lies around ...  \n",
       "222   I own iPhone 16 Plus. After updating 18.2.1 I ...  \n",
       "274   So this post will be a rant, as I am mad on th...  \n",
       "284   I dont know what it is but the messages app co...  \n",
       "285   This issue has been going on since iPhone X.  ...  \n",
       "300   I put up my old iPhone 8 Plus for sale on FB M...  \n",
       "303   For the past few weeks my old phone (iPhone 12...  \n",
       "414   Hello everyone,\\nI am using my iPhone 13 2.5 y...  \n",
       "423   iPhone 14 pro max (Australian version) i’ve ow...  \n",
       "442   I have an iPhone 7 (the base 32gb with only 2g...  \n",
       "499   At 1080p 60 fps quicktap there is a jitter u c...  \n",
       "500   Hey iPhone users, just wondering if anyone has...  \n",
       "566   Hey,\\n\\nI bought my son a used iPhone 14 which...  \n",
       "596   Last night, I updated to 18.2.1. Today, there ...  \n",
       "620   hello everyone! I have an iPhone XR bought in ...  \n",
       "638    I traded in an iPhone 13 pro max which Apple ...  \n",
       "646   iPhone 12 pro max, latest public iOS update to...  \n",
       "655   Forgive me if this is a very silly question. I...  \n",
       "704   I bought a Sandisk Portable SSD (1tb) to direc...  \n",
       "727   Hi everyone,\\nI recently got an iPhone 13 Pro ...  \n",
       "831   Recently, I've been having issues with echoing...  \n",
       "846   I just bought a new iPhone 15 Plus, and I’ve n...  \n",
       "893   I really didn’t want to update to ios18\\nIt ma...  \n",
       "939   As the title implies.\\n\\nHow do you fix this?\\...  \n",
       "1190  I have an iPhone 8 Plus that just lies around ...  \n",
       "2172  I have an iPhone 8 Plus that just lies around ...  \n",
       "3153  I have an iPhone 8 Plus that just lies around ...  \n",
       "5115  I have an iPhone 8 Plus that just lies around ...  \n",
       "6096  I have an iPhone 8 Plus that just lies around ...  \n",
       "7077  I have an iPhone 8 Plus that just lies around ...  \n",
       "9041  I have an iPhone 8 Plus that just lies around ...  "
      ]
     },
     "execution_count": 76,
     "metadata": {},
     "output_type": "execute_result"
    }
   ],
   "source": [
    "Software"
   ]
  },
  {
   "cell_type": "code",
   "execution_count": 77,
   "id": "6afbaa06-650b-4d80-8fe8-48a5fcad9102",
   "metadata": {},
   "outputs": [
    {
     "name": "stderr",
     "output_type": "stream",
     "text": [
      "C:\\Users\\DELL\\AppData\\Local\\Temp\\ipykernel_35804\\3740791268.py:1: SettingWithCopyWarning: \n",
      "A value is trying to be set on a copy of a slice from a DataFrame.\n",
      "Try using .loc[row_indexer,col_indexer] = value instead\n",
      "\n",
      "See the caveats in the documentation: https://pandas.pydata.org/pandas-docs/stable/user_guide/indexing.html#returning-a-view-versus-a-copy\n",
      "  Software['Software_info'] = Software['Software_info'].apply(tuple)\n",
      "C:\\Users\\DELL\\AppData\\Local\\Temp\\ipykernel_35804\\3740791268.py:2: SettingWithCopyWarning: \n",
      "A value is trying to be set on a copy of a slice from a DataFrame.\n",
      "Try using .loc[row_indexer,col_indexer] = value instead\n",
      "\n",
      "See the caveats in the documentation: https://pandas.pydata.org/pandas-docs/stable/user_guide/indexing.html#returning-a-view-versus-a-copy\n",
      "  Software['Text'] = Software['Text'].apply(tuple)\n"
     ]
    }
   ],
   "source": [
    "Software['Software_info'] = Software['Software_info'].apply(tuple)\n",
    "Software['Text'] = Software['Text'].apply(tuple)"
   ]
  },
  {
   "cell_type": "code",
   "execution_count": 78,
   "id": "f3a2c119-55d3-4671-95bb-2595db3d4027",
   "metadata": {},
   "outputs": [
    {
     "name": "stdout",
     "output_type": "stream",
     "text": [
      "<class 'pandas.core.frame.DataFrame'>\n",
      "Index: 29 entries, 16 to 939\n",
      "Data columns (total 3 columns):\n",
      " #   Column         Non-Null Count  Dtype \n",
      "---  ------         --------------  ----- \n",
      " 0   Model          29 non-null     object\n",
      " 1   Software_info  29 non-null     object\n",
      " 2   Text           29 non-null     object\n",
      "dtypes: object(3)\n",
      "memory usage: 928.0+ bytes\n"
     ]
    }
   ],
   "source": [
    "Software = Software.drop_duplicates()\n",
    "Software.info()"
   ]
  },
  {
   "cell_type": "code",
   "execution_count": 79,
   "id": "69bea88b-f943-4d87-8487-e2ef715e06fb",
   "metadata": {},
   "outputs": [
    {
     "name": "stderr",
     "output_type": "stream",
     "text": [
      "C:\\Users\\DELL\\AppData\\Local\\Temp\\ipykernel_35804\\330373274.py:1: SettingWithCopyWarning: \n",
      "A value is trying to be set on a copy of a slice from a DataFrame.\n",
      "Try using .loc[row_indexer,col_indexer] = value instead\n",
      "\n",
      "See the caveats in the documentation: https://pandas.pydata.org/pandas-docs/stable/user_guide/indexing.html#returning-a-view-versus-a-copy\n",
      "  Software['Sentiment'] = Software['Text'].apply(lambda x: get_sentiment_score(x))\n"
     ]
    }
   ],
   "source": [
    "Software['Sentiment'] = Software['Text'].apply(lambda x: get_sentiment_score(x))"
   ]
  },
  {
   "cell_type": "code",
   "execution_count": 80,
   "id": "c3d88eb7-10c2-41d1-9a8c-36780e841b76",
   "metadata": {},
   "outputs": [
    {
     "name": "stdout",
     "output_type": "stream",
     "text": [
      "<class 'pandas.core.frame.DataFrame'>\n",
      "Index: 29 entries, 16 to 939\n",
      "Data columns (total 4 columns):\n",
      " #   Column         Non-Null Count  Dtype  \n",
      "---  ------         --------------  -----  \n",
      " 0   Model          29 non-null     object \n",
      " 1   Software_info  29 non-null     object \n",
      " 2   Text           29 non-null     object \n",
      " 3   Sentiment      29 non-null     float64\n",
      "dtypes: float64(1), object(3)\n",
      "memory usage: 1.1+ KB\n"
     ]
    }
   ],
   "source": [
    "Software.info()"
   ]
  },
  {
   "cell_type": "code",
   "execution_count": 81,
   "id": "37dae900-bff1-4699-8f33-bad3ac0e3e66",
   "metadata": {},
   "outputs": [],
   "source": [
    "Software_Modelwise = Software.groupby('Model')['Sentiment'].mean().reset_index()"
   ]
  },
  {
   "cell_type": "code",
   "execution_count": 82,
   "id": "02746627-bd7f-4d4a-9ae3-bb4b07c66a9d",
   "metadata": {},
   "outputs": [
    {
     "data": {
      "text/html": [
       "<div>\n",
       "<style scoped>\n",
       "    .dataframe tbody tr th:only-of-type {\n",
       "        vertical-align: middle;\n",
       "    }\n",
       "\n",
       "    .dataframe tbody tr th {\n",
       "        vertical-align: top;\n",
       "    }\n",
       "\n",
       "    .dataframe thead th {\n",
       "        text-align: right;\n",
       "    }\n",
       "</style>\n",
       "<table border=\"1\" class=\"dataframe\">\n",
       "  <thead>\n",
       "    <tr style=\"text-align: right;\">\n",
       "      <th></th>\n",
       "      <th>Model</th>\n",
       "      <th>Sentiment</th>\n",
       "    </tr>\n",
       "  </thead>\n",
       "  <tbody>\n",
       "    <tr>\n",
       "      <th>0</th>\n",
       "      <td>iphone 11</td>\n",
       "      <td>0.559925</td>\n",
       "    </tr>\n",
       "    <tr>\n",
       "      <th>1</th>\n",
       "      <td>iphone 12</td>\n",
       "      <td>0.624500</td>\n",
       "    </tr>\n",
       "    <tr>\n",
       "      <th>2</th>\n",
       "      <td>iphone 13</td>\n",
       "      <td>0.226700</td>\n",
       "    </tr>\n",
       "    <tr>\n",
       "      <th>3</th>\n",
       "      <td>iphone 13 pro</td>\n",
       "      <td>0.920000</td>\n",
       "    </tr>\n",
       "    <tr>\n",
       "      <th>4</th>\n",
       "      <td>iphone 14</td>\n",
       "      <td>-0.033950</td>\n",
       "    </tr>\n",
       "    <tr>\n",
       "      <th>5</th>\n",
       "      <td>iphone 15</td>\n",
       "      <td>0.188167</td>\n",
       "    </tr>\n",
       "    <tr>\n",
       "      <th>6</th>\n",
       "      <td>iphone 15 plus</td>\n",
       "      <td>0.000000</td>\n",
       "    </tr>\n",
       "    <tr>\n",
       "      <th>7</th>\n",
       "      <td>iphone 15 pro</td>\n",
       "      <td>-0.873800</td>\n",
       "    </tr>\n",
       "    <tr>\n",
       "      <th>8</th>\n",
       "      <td>iphone 15 pro max</td>\n",
       "      <td>0.907200</td>\n",
       "    </tr>\n",
       "    <tr>\n",
       "      <th>9</th>\n",
       "      <td>iphone 16</td>\n",
       "      <td>0.225750</td>\n",
       "    </tr>\n",
       "    <tr>\n",
       "      <th>10</th>\n",
       "      <td>iphone 16 plus</td>\n",
       "      <td>-0.077200</td>\n",
       "    </tr>\n",
       "    <tr>\n",
       "      <th>11</th>\n",
       "      <td>iphone 16 pro</td>\n",
       "      <td>-0.037800</td>\n",
       "    </tr>\n",
       "    <tr>\n",
       "      <th>12</th>\n",
       "      <td>iphone 16 promax</td>\n",
       "      <td>-0.564500</td>\n",
       "    </tr>\n",
       "    <tr>\n",
       "      <th>13</th>\n",
       "      <td>iphone 7</td>\n",
       "      <td>0.612400</td>\n",
       "    </tr>\n",
       "    <tr>\n",
       "      <th>14</th>\n",
       "      <td>iphone 8 plus</td>\n",
       "      <td>0.025900</td>\n",
       "    </tr>\n",
       "  </tbody>\n",
       "</table>\n",
       "</div>"
      ],
      "text/plain": [
       "                Model  Sentiment\n",
       "0           iphone 11   0.559925\n",
       "1           iphone 12   0.624500\n",
       "2           iphone 13   0.226700\n",
       "3       iphone 13 pro   0.920000\n",
       "4           iphone 14  -0.033950\n",
       "5           iphone 15   0.188167\n",
       "6      iphone 15 plus   0.000000\n",
       "7       iphone 15 pro  -0.873800\n",
       "8   iphone 15 pro max   0.907200\n",
       "9           iphone 16   0.225750\n",
       "10     iphone 16 plus  -0.077200\n",
       "11      iphone 16 pro  -0.037800\n",
       "12   iphone 16 promax  -0.564500\n",
       "13           iphone 7   0.612400\n",
       "14      iphone 8 plus   0.025900"
      ]
     },
     "execution_count": 82,
     "metadata": {},
     "output_type": "execute_result"
    }
   ],
   "source": [
    "Software_Modelwise"
   ]
  },
  {
   "cell_type": "code",
   "execution_count": 83,
   "id": "91d4a65d-a2de-4142-b994-9c3f3a807f9f",
   "metadata": {},
   "outputs": [
    {
     "data": {
      "image/png": "[encoded data removed]",
      "text/plain": [
       "<Figure size 1200x600 with 1 Axes>"
      ]
     },
     "metadata": {},
     "output_type": "display_data"
    }
   ],
   "source": [
    "plt.figure(figsize=(12, 6))\n",
    "plt.bar(Software_Modelwise['Model'], Software_Modelwise['Sentiment'], color='skyblue')\n",
    "plt.xlabel('iPhone Model',size = 14)\n",
    "plt.ylabel('Average Sentiment Score', size = 14)\n",
    "plt.xticks(rotation=90)\n",
    "plt.show()"
   ]
  },
  {
   "cell_type": "markdown",
   "id": "7c46243b-43a8-4742-a862-ff3322a4625e",
   "metadata": {},
   "source": [
    "## for Look like Design their Material, Color, Finish and all."
   ]
  },
  {
   "cell_type": "code",
   "execution_count": 84,
   "id": "fd734d07-dc15-4d53-8369-9fceb6e1143a",
   "metadata": {},
   "outputs": [],
   "source": [
    "design_keywords = ['design', 'material', 'color', 'finish']"
   ]
  },
  {
   "cell_type": "code",
   "execution_count": 85,
   "id": "0cd56381-8aa8-4594-b015-79acf3725dac",
   "metadata": {},
   "outputs": [],
   "source": [
    "def extract_style_info(text):\n",
    "    if any(keyword in text.lower() for keyword in design_keywords):\n",
    "        # Use regex to extract design-related features\n",
    "        design_info = re.findall(r'(sleek|premium|matte|glass|metal|aluminum|ceramic|plastic)', text, re.IGNORECASE)\n",
    "        \n",
    "        # Return design info if found, else return a default message\n",
    "        if design_info:\n",
    "            return design_info\n",
    "        else:\n",
    "            return \"No specific style info found\"  # Default message when no details are found\n",
    "    return \"No style-related info in the text\"  # Default message when no design keywords are found"
   ]
  },
  {
   "cell_type": "code",
   "execution_count": 86,
   "id": "34116ab1-99df-40b3-9fa1-eabb3aec942b",
   "metadata": {},
   "outputs": [
    {
     "name": "stderr",
     "output_type": "stream",
     "text": [
      "C:\\Users\\DELL\\AppData\\Local\\Temp\\ipykernel_35804\\610965367.py:1: SettingWithCopyWarning: \n",
      "A value is trying to be set on a copy of a slice from a DataFrame.\n",
      "Try using .loc[row_indexer,col_indexer] = value instead\n",
      "\n",
      "See the caveats in the documentation: https://pandas.pydata.org/pandas-docs/stable/user_guide/indexing.html#returning-a-view-versus-a-copy\n",
      "  iphone.loc[:, 'Style_info'] = iphone['Text'].apply(extract_style_info)\n"
     ]
    }
   ],
   "source": [
    "iphone.loc[:, 'Style_info'] = iphone['Text'].apply(extract_style_info)"
   ]
  },
  {
   "cell_type": "code",
   "execution_count": 87,
   "id": "675f0d10-f83f-4c8f-abe2-3268fc3325b6",
   "metadata": {},
   "outputs": [],
   "source": [
    "style_df = iphone[['Model', 'Style_info','Text']]"
   ]
  },
  {
   "cell_type": "code",
   "execution_count": 88,
   "id": "b1b1bce4-7c36-423e-9e7d-cd627aec8e71",
   "metadata": {},
   "outputs": [
    {
     "data": {
      "text/html": [
       "<div>\n",
       "<style scoped>\n",
       "    .dataframe tbody tr th:only-of-type {\n",
       "        vertical-align: middle;\n",
       "    }\n",
       "\n",
       "    .dataframe tbody tr th {\n",
       "        vertical-align: top;\n",
       "    }\n",
       "\n",
       "    .dataframe thead th {\n",
       "        text-align: right;\n",
       "    }\n",
       "</style>\n",
       "<table border=\"1\" class=\"dataframe\">\n",
       "  <thead>\n",
       "    <tr style=\"text-align: right;\">\n",
       "      <th></th>\n",
       "      <th>Model</th>\n",
       "      <th>Style_info</th>\n",
       "      <th>Text</th>\n",
       "    </tr>\n",
       "  </thead>\n",
       "  <tbody>\n",
       "    <tr>\n",
       "      <th>2</th>\n",
       "      <td>iphone 11</td>\n",
       "      <td>No style-related info in the text</td>\n",
       "      <td>I’ve been using my iPhone 11 for a few years n...</td>\n",
       "    </tr>\n",
       "    <tr>\n",
       "      <th>11</th>\n",
       "      <td>iphone 16</td>\n",
       "      <td>No style-related info in the text</td>\n",
       "      <td>Hi! I have recently bought my iPhone 16 pro ma...</td>\n",
       "    </tr>\n",
       "    <tr>\n",
       "      <th>16</th>\n",
       "      <td>iphone 11</td>\n",
       "      <td>No style-related info in the text</td>\n",
       "      <td>Hey, does someone know why I can’t install the...</td>\n",
       "    </tr>\n",
       "    <tr>\n",
       "      <th>20</th>\n",
       "      <td>iphone 15 pro</td>\n",
       "      <td>No style-related info in the text</td>\n",
       "      <td>I recently noticed an issue on my iPhone after...</td>\n",
       "    </tr>\n",
       "    <tr>\n",
       "      <th>23</th>\n",
       "      <td>iphone 16 pro max</td>\n",
       "      <td>No style-related info in the text</td>\n",
       "      <td>Someone PLEASE help\\nI recently got the iPhone...</td>\n",
       "    </tr>\n",
       "    <tr>\n",
       "      <th>...</th>\n",
       "      <td>...</td>\n",
       "      <td>...</td>\n",
       "      <td>...</td>\n",
       "    </tr>\n",
       "    <tr>\n",
       "      <th>8703</th>\n",
       "      <td>iphone 16 pro</td>\n",
       "      <td>No style-related info in the text</td>\n",
       "      <td>Just got an iPhone 16 Pro and keep on getting ...</td>\n",
       "    </tr>\n",
       "    <tr>\n",
       "      <th>8888</th>\n",
       "      <td>iphone 16 pro</td>\n",
       "      <td>No style-related info in the text</td>\n",
       "      <td>We're a few months into the iPhone 16 Pro: doe...</td>\n",
       "    </tr>\n",
       "    <tr>\n",
       "      <th>8979</th>\n",
       "      <td>iphone 13</td>\n",
       "      <td>No style-related info in the text</td>\n",
       "      <td>Since the release of the iPhone 13 mini, I’ve ...</td>\n",
       "    </tr>\n",
       "    <tr>\n",
       "      <th>9041</th>\n",
       "      <td>iphone 8 plus</td>\n",
       "      <td>No style-related info in the text</td>\n",
       "      <td>I have an iPhone 8 Plus that just lies around ...</td>\n",
       "    </tr>\n",
       "    <tr>\n",
       "      <th>9071</th>\n",
       "      <td>iphone 16 pro</td>\n",
       "      <td>No style-related info in the text</td>\n",
       "      <td>I've only had my iPhone 16 Pro max for four ho...</td>\n",
       "    </tr>\n",
       "  </tbody>\n",
       "</table>\n",
       "<p>292 rows × 3 columns</p>\n",
       "</div>"
      ],
      "text/plain": [
       "                  Model                         Style_info  \\\n",
       "2             iphone 11  No style-related info in the text   \n",
       "11            iphone 16  No style-related info in the text   \n",
       "16            iphone 11  No style-related info in the text   \n",
       "20        iphone 15 pro  No style-related info in the text   \n",
       "23    iphone 16 pro max  No style-related info in the text   \n",
       "...                 ...                                ...   \n",
       "8703      iphone 16 pro  No style-related info in the text   \n",
       "8888      iphone 16 pro  No style-related info in the text   \n",
       "8979          iphone 13  No style-related info in the text   \n",
       "9041      iphone 8 plus  No style-related info in the text   \n",
       "9071      iphone 16 pro  No style-related info in the text   \n",
       "\n",
       "                                                   Text  \n",
       "2     I’ve been using my iPhone 11 for a few years n...  \n",
       "11    Hi! I have recently bought my iPhone 16 pro ma...  \n",
       "16    Hey, does someone know why I can’t install the...  \n",
       "20    I recently noticed an issue on my iPhone after...  \n",
       "23    Someone PLEASE help\\nI recently got the iPhone...  \n",
       "...                                                 ...  \n",
       "8703  Just got an iPhone 16 Pro and keep on getting ...  \n",
       "8888  We're a few months into the iPhone 16 Pro: doe...  \n",
       "8979  Since the release of the iPhone 13 mini, I’ve ...  \n",
       "9041  I have an iPhone 8 Plus that just lies around ...  \n",
       "9071  I've only had my iPhone 16 Pro max for four ho...  \n",
       "\n",
       "[292 rows x 3 columns]"
      ]
     },
     "execution_count": 88,
     "metadata": {},
     "output_type": "execute_result"
    }
   ],
   "source": [
    "style_df"
   ]
  },
  {
   "cell_type": "code",
   "execution_count": 89,
   "id": "62ae5a0c-dd1c-404f-978e-9dc292319289",
   "metadata": {},
   "outputs": [
    {
     "data": {
      "text/plain": [
       "Style_info\n",
       "No style-related info in the text    270\n",
       "No specific style info found          11\n",
       "[sleek]                                6\n",
       "[aluminum, aluminum]                   4\n",
       "[Metal]                                1\n",
       "Name: count, dtype: int64"
      ]
     },
     "execution_count": 89,
     "metadata": {},
     "output_type": "execute_result"
    }
   ],
   "source": [
    "style_df['Style_info'].value_counts()"
   ]
  },
  {
   "cell_type": "code",
   "execution_count": 90,
   "id": "9276e32c-b205-4542-83fb-b0542c1a3174",
   "metadata": {},
   "outputs": [],
   "source": [
    "Style = style_df[~style_df['Style_info'].isin([\"No style-related info in the text\"])]"
   ]
  },
  {
   "cell_type": "code",
   "execution_count": 91,
   "id": "53c401d5-0de8-40ae-9e00-1a037a1dac8f",
   "metadata": {},
   "outputs": [
    {
     "data": {
      "text/html": [
       "<div>\n",
       "<style scoped>\n",
       "    .dataframe tbody tr th:only-of-type {\n",
       "        vertical-align: middle;\n",
       "    }\n",
       "\n",
       "    .dataframe tbody tr th {\n",
       "        vertical-align: top;\n",
       "    }\n",
       "\n",
       "    .dataframe thead th {\n",
       "        text-align: right;\n",
       "    }\n",
       "</style>\n",
       "<table border=\"1\" class=\"dataframe\">\n",
       "  <thead>\n",
       "    <tr style=\"text-align: right;\">\n",
       "      <th></th>\n",
       "      <th>Model</th>\n",
       "      <th>Style_info</th>\n",
       "      <th>Text</th>\n",
       "    </tr>\n",
       "  </thead>\n",
       "  <tbody>\n",
       "    <tr>\n",
       "      <th>98</th>\n",
       "      <td>iphone 13 pro</td>\n",
       "      <td>No specific style info found</td>\n",
       "      <td>I'm gonna post this on iPhone and the subreddi...</td>\n",
       "    </tr>\n",
       "    <tr>\n",
       "      <th>197</th>\n",
       "      <td>iphone 15</td>\n",
       "      <td>No specific style info found</td>\n",
       "      <td>My phone with a case is just too heavy. I wann...</td>\n",
       "    </tr>\n",
       "    <tr>\n",
       "      <th>409</th>\n",
       "      <td>iphone 16 pro</td>\n",
       "      <td>No specific style info found</td>\n",
       "      <td>I got a new iPhone 16 Pro the week before Chri...</td>\n",
       "    </tr>\n",
       "    <tr>\n",
       "      <th>452</th>\n",
       "      <td>iphone 16</td>\n",
       "      <td>No specific style info found</td>\n",
       "      <td>I was debating between the pink and teal iPhon...</td>\n",
       "    </tr>\n",
       "    <tr>\n",
       "      <th>497</th>\n",
       "      <td>iphone 13</td>\n",
       "      <td>No specific style info found</td>\n",
       "      <td>Is it normal for my iPhone 13 (base model) scr...</td>\n",
       "    </tr>\n",
       "    <tr>\n",
       "      <th>633</th>\n",
       "      <td>iphone 13</td>\n",
       "      <td>No specific style info found</td>\n",
       "      <td>I know this will sound silly to most, but I ju...</td>\n",
       "    </tr>\n",
       "    <tr>\n",
       "      <th>708</th>\n",
       "      <td>iphone 16 pro max</td>\n",
       "      <td>[sleek]</td>\n",
       "      <td>So, here’s a cautionary tale for my fellow iPh...</td>\n",
       "    </tr>\n",
       "    <tr>\n",
       "      <th>751</th>\n",
       "      <td>iphone 16 pro max</td>\n",
       "      <td>No specific style info found</td>\n",
       "      <td>Hello, I have an iPhone 16 Pro Max and I’m on ...</td>\n",
       "    </tr>\n",
       "    <tr>\n",
       "      <th>868</th>\n",
       "      <td>iphone 16 pro</td>\n",
       "      <td>[Metal]</td>\n",
       "      <td>I have already exchanged my iPhone 16 Pro for ...</td>\n",
       "    </tr>\n",
       "    <tr>\n",
       "      <th>940</th>\n",
       "      <td>iphone 16</td>\n",
       "      <td>No specific style info found</td>\n",
       "      <td>I recently got an iPhone 16 PM and during setu...</td>\n",
       "    </tr>\n",
       "    <tr>\n",
       "      <th>966</th>\n",
       "      <td>iphone 14</td>\n",
       "      <td>[aluminum, aluminum]</td>\n",
       "      <td>Personally, I would love to see Apple reintrod...</td>\n",
       "    </tr>\n",
       "    <tr>\n",
       "      <th>1391</th>\n",
       "      <td>iphone 16 pro</td>\n",
       "      <td>No specific style info found</td>\n",
       "      <td>I got a new iPhone 16 Pro the week before Chri...</td>\n",
       "    </tr>\n",
       "    <tr>\n",
       "      <th>1690</th>\n",
       "      <td>iphone 16 pro max</td>\n",
       "      <td>[sleek]</td>\n",
       "      <td>So, here’s a cautionary tale for my fellow iPh...</td>\n",
       "    </tr>\n",
       "    <tr>\n",
       "      <th>1948</th>\n",
       "      <td>iphone 14</td>\n",
       "      <td>[aluminum, aluminum]</td>\n",
       "      <td>Personally, I would love to see Apple reintrod...</td>\n",
       "    </tr>\n",
       "    <tr>\n",
       "      <th>3354</th>\n",
       "      <td>iphone 16 pro</td>\n",
       "      <td>No specific style info found</td>\n",
       "      <td>I got a new iPhone 16 Pro the week before Chri...</td>\n",
       "    </tr>\n",
       "    <tr>\n",
       "      <th>3911</th>\n",
       "      <td>iphone 14</td>\n",
       "      <td>[aluminum, aluminum]</td>\n",
       "      <td>Personally, I would love to see Apple reintrod...</td>\n",
       "    </tr>\n",
       "    <tr>\n",
       "      <th>4634</th>\n",
       "      <td>iphone 16 pro max</td>\n",
       "      <td>[sleek]</td>\n",
       "      <td>So, here’s a cautionary tale for my fellow iPh...</td>\n",
       "    </tr>\n",
       "    <tr>\n",
       "      <th>5615</th>\n",
       "      <td>iphone 16 pro max</td>\n",
       "      <td>[sleek]</td>\n",
       "      <td>So, here’s a cautionary tale for my fellow iPh...</td>\n",
       "    </tr>\n",
       "    <tr>\n",
       "      <th>6596</th>\n",
       "      <td>iphone 16 pro max</td>\n",
       "      <td>[sleek]</td>\n",
       "      <td>So, here’s a cautionary tale for my fellow iPh...</td>\n",
       "    </tr>\n",
       "    <tr>\n",
       "      <th>7278</th>\n",
       "      <td>iphone 16 pro</td>\n",
       "      <td>No specific style info found</td>\n",
       "      <td>I got a new iPhone 16 Pro the week before Chri...</td>\n",
       "    </tr>\n",
       "    <tr>\n",
       "      <th>7835</th>\n",
       "      <td>iphone 14</td>\n",
       "      <td>[aluminum, aluminum]</td>\n",
       "      <td>Personally, I would love to see Apple reintrod...</td>\n",
       "    </tr>\n",
       "    <tr>\n",
       "      <th>8559</th>\n",
       "      <td>iphone 16 pro max</td>\n",
       "      <td>[sleek]</td>\n",
       "      <td>So, here’s a cautionary tale for my fellow iPh...</td>\n",
       "    </tr>\n",
       "  </tbody>\n",
       "</table>\n",
       "</div>"
      ],
      "text/plain": [
       "                  Model                    Style_info  \\\n",
       "98        iphone 13 pro  No specific style info found   \n",
       "197           iphone 15  No specific style info found   \n",
       "409       iphone 16 pro  No specific style info found   \n",
       "452           iphone 16  No specific style info found   \n",
       "497           iphone 13  No specific style info found   \n",
       "633           iphone 13  No specific style info found   \n",
       "708   iphone 16 pro max                       [sleek]   \n",
       "751   iphone 16 pro max  No specific style info found   \n",
       "868       iphone 16 pro                       [Metal]   \n",
       "940           iphone 16  No specific style info found   \n",
       "966           iphone 14          [aluminum, aluminum]   \n",
       "1391      iphone 16 pro  No specific style info found   \n",
       "1690  iphone 16 pro max                       [sleek]   \n",
       "1948          iphone 14          [aluminum, aluminum]   \n",
       "3354      iphone 16 pro  No specific style info found   \n",
       "3911          iphone 14          [aluminum, aluminum]   \n",
       "4634  iphone 16 pro max                       [sleek]   \n",
       "5615  iphone 16 pro max                       [sleek]   \n",
       "6596  iphone 16 pro max                       [sleek]   \n",
       "7278      iphone 16 pro  No specific style info found   \n",
       "7835          iphone 14          [aluminum, aluminum]   \n",
       "8559  iphone 16 pro max                       [sleek]   \n",
       "\n",
       "                                                   Text  \n",
       "98    I'm gonna post this on iPhone and the subreddi...  \n",
       "197   My phone with a case is just too heavy. I wann...  \n",
       "409   I got a new iPhone 16 Pro the week before Chri...  \n",
       "452   I was debating between the pink and teal iPhon...  \n",
       "497   Is it normal for my iPhone 13 (base model) scr...  \n",
       "633   I know this will sound silly to most, but I ju...  \n",
       "708   So, here’s a cautionary tale for my fellow iPh...  \n",
       "751   Hello, I have an iPhone 16 Pro Max and I’m on ...  \n",
       "868   I have already exchanged my iPhone 16 Pro for ...  \n",
       "940   I recently got an iPhone 16 PM and during setu...  \n",
       "966   Personally, I would love to see Apple reintrod...  \n",
       "1391  I got a new iPhone 16 Pro the week before Chri...  \n",
       "1690  So, here’s a cautionary tale for my fellow iPh...  \n",
       "1948  Personally, I would love to see Apple reintrod...  \n",
       "3354  I got a new iPhone 16 Pro the week before Chri...  \n",
       "3911  Personally, I would love to see Apple reintrod...  \n",
       "4634  So, here’s a cautionary tale for my fellow iPh...  \n",
       "5615  So, here’s a cautionary tale for my fellow iPh...  \n",
       "6596  So, here’s a cautionary tale for my fellow iPh...  \n",
       "7278  I got a new iPhone 16 Pro the week before Chri...  \n",
       "7835  Personally, I would love to see Apple reintrod...  \n",
       "8559  So, here’s a cautionary tale for my fellow iPh...  "
      ]
     },
     "execution_count": 91,
     "metadata": {},
     "output_type": "execute_result"
    }
   ],
   "source": [
    "Style"
   ]
  },
  {
   "cell_type": "code",
   "execution_count": 92,
   "id": "8b2a17a8-10d0-4f8a-af26-b8cbf94461b0",
   "metadata": {},
   "outputs": [
    {
     "name": "stderr",
     "output_type": "stream",
     "text": [
      "C:\\Users\\DELL\\AppData\\Local\\Temp\\ipykernel_35804\\1854984082.py:1: SettingWithCopyWarning: \n",
      "A value is trying to be set on a copy of a slice from a DataFrame.\n",
      "Try using .loc[row_indexer,col_indexer] = value instead\n",
      "\n",
      "See the caveats in the documentation: https://pandas.pydata.org/pandas-docs/stable/user_guide/indexing.html#returning-a-view-versus-a-copy\n",
      "  Style['Style_info'] = Style['Style_info'].apply(tuple)\n",
      "C:\\Users\\DELL\\AppData\\Local\\Temp\\ipykernel_35804\\1854984082.py:2: SettingWithCopyWarning: \n",
      "A value is trying to be set on a copy of a slice from a DataFrame.\n",
      "Try using .loc[row_indexer,col_indexer] = value instead\n",
      "\n",
      "See the caveats in the documentation: https://pandas.pydata.org/pandas-docs/stable/user_guide/indexing.html#returning-a-view-versus-a-copy\n",
      "  Style['Text'] = Style['Text'].apply(tuple)\n"
     ]
    }
   ],
   "source": [
    "Style['Style_info'] = Style['Style_info'].apply(tuple)\n",
    "Style['Text'] = Style['Text'].apply(tuple)"
   ]
  },
  {
   "cell_type": "code",
   "execution_count": 93,
   "id": "a474221f-da95-4432-86da-11ed49866f36",
   "metadata": {},
   "outputs": [
    {
     "name": "stdout",
     "output_type": "stream",
     "text": [
      "<class 'pandas.core.frame.DataFrame'>\n",
      "Index: 11 entries, 98 to 966\n",
      "Data columns (total 3 columns):\n",
      " #   Column      Non-Null Count  Dtype \n",
      "---  ------      --------------  ----- \n",
      " 0   Model       11 non-null     object\n",
      " 1   Style_info  11 non-null     object\n",
      " 2   Text        11 non-null     object\n",
      "dtypes: object(3)\n",
      "memory usage: 352.0+ bytes\n"
     ]
    }
   ],
   "source": [
    "Style = Style.drop_duplicates()\n",
    "Style.info()"
   ]
  },
  {
   "cell_type": "code",
   "execution_count": 94,
   "id": "178c54b5-1243-4728-8c0a-c0a19e348ada",
   "metadata": {},
   "outputs": [
    {
     "name": "stderr",
     "output_type": "stream",
     "text": [
      "C:\\Users\\DELL\\AppData\\Local\\Temp\\ipykernel_35804\\4274530902.py:1: SettingWithCopyWarning: \n",
      "A value is trying to be set on a copy of a slice from a DataFrame.\n",
      "Try using .loc[row_indexer,col_indexer] = value instead\n",
      "\n",
      "See the caveats in the documentation: https://pandas.pydata.org/pandas-docs/stable/user_guide/indexing.html#returning-a-view-versus-a-copy\n",
      "  Style['Sentiment'] = Style['Text'].apply(lambda x: get_sentiment_score(x))\n"
     ]
    }
   ],
   "source": [
    "Style['Sentiment'] = Style['Text'].apply(lambda x: get_sentiment_score(x))"
   ]
  },
  {
   "cell_type": "code",
   "execution_count": 95,
   "id": "05efea85-33df-4248-9132-21c3e9aba5b4",
   "metadata": {},
   "outputs": [
    {
     "name": "stdout",
     "output_type": "stream",
     "text": [
      "<class 'pandas.core.frame.DataFrame'>\n",
      "Index: 11 entries, 98 to 966\n",
      "Data columns (total 4 columns):\n",
      " #   Column      Non-Null Count  Dtype  \n",
      "---  ------      --------------  -----  \n",
      " 0   Model       11 non-null     object \n",
      " 1   Style_info  11 non-null     object \n",
      " 2   Text        11 non-null     object \n",
      " 3   Sentiment   11 non-null     float64\n",
      "dtypes: float64(1), object(3)\n",
      "memory usage: 440.0+ bytes\n"
     ]
    }
   ],
   "source": [
    "Style.info()"
   ]
  },
  {
   "cell_type": "code",
   "execution_count": 96,
   "id": "2d234f41-d86b-4819-98f5-ea91fb41a8c5",
   "metadata": {},
   "outputs": [],
   "source": [
    "Style_Modelwise = Style.groupby('Model')['Sentiment'].mean().reset_index()"
   ]
  },
  {
   "cell_type": "code",
   "execution_count": 97,
   "id": "20de2b47-ff26-41ab-a8ec-78eb498065d2",
   "metadata": {},
   "outputs": [
    {
     "data": {
      "text/html": [
       "<div>\n",
       "<style scoped>\n",
       "    .dataframe tbody tr th:only-of-type {\n",
       "        vertical-align: middle;\n",
       "    }\n",
       "\n",
       "    .dataframe tbody tr th {\n",
       "        vertical-align: top;\n",
       "    }\n",
       "\n",
       "    .dataframe thead th {\n",
       "        text-align: right;\n",
       "    }\n",
       "</style>\n",
       "<table border=\"1\" class=\"dataframe\">\n",
       "  <thead>\n",
       "    <tr style=\"text-align: right;\">\n",
       "      <th></th>\n",
       "      <th>Model</th>\n",
       "      <th>Sentiment</th>\n",
       "    </tr>\n",
       "  </thead>\n",
       "  <tbody>\n",
       "    <tr>\n",
       "      <th>0</th>\n",
       "      <td>iphone 13</td>\n",
       "      <td>0.76975</td>\n",
       "    </tr>\n",
       "    <tr>\n",
       "      <th>1</th>\n",
       "      <td>iphone 13 pro</td>\n",
       "      <td>-0.98710</td>\n",
       "    </tr>\n",
       "    <tr>\n",
       "      <th>2</th>\n",
       "      <td>iphone 14</td>\n",
       "      <td>-0.75790</td>\n",
       "    </tr>\n",
       "    <tr>\n",
       "      <th>3</th>\n",
       "      <td>iphone 15</td>\n",
       "      <td>0.47670</td>\n",
       "    </tr>\n",
       "    <tr>\n",
       "      <th>4</th>\n",
       "      <td>iphone 16</td>\n",
       "      <td>0.31075</td>\n",
       "    </tr>\n",
       "    <tr>\n",
       "      <th>5</th>\n",
       "      <td>iphone 16 pro</td>\n",
       "      <td>-0.13815</td>\n",
       "    </tr>\n",
       "    <tr>\n",
       "      <th>6</th>\n",
       "      <td>iphone 16 pro max</td>\n",
       "      <td>0.78210</td>\n",
       "    </tr>\n",
       "  </tbody>\n",
       "</table>\n",
       "</div>"
      ],
      "text/plain": [
       "               Model  Sentiment\n",
       "0          iphone 13    0.76975\n",
       "1      iphone 13 pro   -0.98710\n",
       "2          iphone 14   -0.75790\n",
       "3          iphone 15    0.47670\n",
       "4          iphone 16    0.31075\n",
       "5      iphone 16 pro   -0.13815\n",
       "6  iphone 16 pro max    0.78210"
      ]
     },
     "execution_count": 97,
     "metadata": {},
     "output_type": "execute_result"
    }
   ],
   "source": [
    "Style_Modelwise"
   ]
  },
  {
   "cell_type": "code",
   "execution_count": 98,
   "id": "ed3b6d39-1ef1-4be8-ad71-62a8eccd6bc4",
   "metadata": {},
   "outputs": [
    {
     "data": {
      "image/png": "[encoded data removed]",
      "text/plain": [
       "<Figure size 1200x600 with 1 Axes>"
      ]
     },
     "metadata": {},
     "output_type": "display_data"
    }
   ],
   "source": [
    "plt.figure(figsize=(12, 6))\n",
    "plt.bar(Style_Modelwise['Model'], Style_Modelwise['Sentiment'], color='skyblue')\n",
    "plt.xlabel('iPhone Model',size = 14)\n",
    "plt.ylabel('Average Sentiment Score', size = 14)\n",
    "plt.xticks(rotation=0)\n",
    "plt.show()"
   ]
  },
  {
   "cell_type": "markdown",
   "id": "ab994e9b-589f-4323-9049-f97678a78102",
   "metadata": {},
   "source": [
    "## for Display"
   ]
  },
  {
   "cell_type": "code",
   "execution_count": 99,
   "id": "b2468674-b9e3-4d24-b9fe-d0efe0442986",
   "metadata": {},
   "outputs": [],
   "source": [
    "display_keywords = ['display', 'screen', 'resolution', 'size', 'inch', 'pixels']"
   ]
  },
  {
   "cell_type": "code",
   "execution_count": 100,
   "id": "423198d5-3fdc-4e77-b7fb-567699b0e4ad",
   "metadata": {},
   "outputs": [],
   "source": [
    "def extract_display_info(text):\n",
    "    if any(keyword in text.lower() for keyword in display_keywords):\n",
    "        # Use regex to capture screen size (inches) and resolution (pixels)\n",
    "        display_info = re.findall(r'(\\d{1,2}(\\.\\d+)?)\\s*(inch|inches)|(\\d{3,4}x\\d{3,4})\\s*(pixels|p)', text)\n",
    "        \n",
    "        # Return display info if found, else return a default message\n",
    "        if display_info:\n",
    "            return display_info\n",
    "        else:\n",
    "            return \"No specific display info found\"  # Default message when no details are found\n",
    "    return \"No display-related info in the text\"  # Default message when no display keywords are found"
   ]
  },
  {
   "cell_type": "code",
   "execution_count": 101,
   "id": "66ce8be8-c4f6-4cc5-9670-63abc117aa8c",
   "metadata": {},
   "outputs": [
    {
     "name": "stderr",
     "output_type": "stream",
     "text": [
      "C:\\Users\\DELL\\AppData\\Local\\Temp\\ipykernel_35804\\3293912945.py:1: SettingWithCopyWarning: \n",
      "A value is trying to be set on a copy of a slice from a DataFrame.\n",
      "Try using .loc[row_indexer,col_indexer] = value instead\n",
      "\n",
      "See the caveats in the documentation: https://pandas.pydata.org/pandas-docs/stable/user_guide/indexing.html#returning-a-view-versus-a-copy\n",
      "  iphone.loc[:, 'display_info'] = iphone['Text'].apply(extract_display_info)\n"
     ]
    }
   ],
   "source": [
    "iphone.loc[:, 'display_info'] = iphone['Text'].apply(extract_display_info)"
   ]
  },
  {
   "cell_type": "code",
   "execution_count": 102,
   "id": "0e1c5b5b-c6ca-436a-8551-9e2e5db4b1bf",
   "metadata": {},
   "outputs": [],
   "source": [
    "display_df = iphone[['Model', 'display_info','Text']]"
   ]
  },
  {
   "cell_type": "code",
   "execution_count": 103,
   "id": "16431020-5211-452d-9cae-dd1d250d3c70",
   "metadata": {},
   "outputs": [
    {
     "data": {
      "text/html": [
       "<div>\n",
       "<style scoped>\n",
       "    .dataframe tbody tr th:only-of-type {\n",
       "        vertical-align: middle;\n",
       "    }\n",
       "\n",
       "    .dataframe tbody tr th {\n",
       "        vertical-align: top;\n",
       "    }\n",
       "\n",
       "    .dataframe thead th {\n",
       "        text-align: right;\n",
       "    }\n",
       "</style>\n",
       "<table border=\"1\" class=\"dataframe\">\n",
       "  <thead>\n",
       "    <tr style=\"text-align: right;\">\n",
       "      <th></th>\n",
       "      <th>Model</th>\n",
       "      <th>display_info</th>\n",
       "      <th>Text</th>\n",
       "    </tr>\n",
       "  </thead>\n",
       "  <tbody>\n",
       "    <tr>\n",
       "      <th>2</th>\n",
       "      <td>iphone 11</td>\n",
       "      <td>No display-related info in the text</td>\n",
       "      <td>I’ve been using my iPhone 11 for a few years n...</td>\n",
       "    </tr>\n",
       "    <tr>\n",
       "      <th>11</th>\n",
       "      <td>iphone 16</td>\n",
       "      <td>No display-related info in the text</td>\n",
       "      <td>Hi! I have recently bought my iPhone 16 pro ma...</td>\n",
       "    </tr>\n",
       "    <tr>\n",
       "      <th>16</th>\n",
       "      <td>iphone 11</td>\n",
       "      <td>No display-related info in the text</td>\n",
       "      <td>Hey, does someone know why I can’t install the...</td>\n",
       "    </tr>\n",
       "    <tr>\n",
       "      <th>20</th>\n",
       "      <td>iphone 15 pro</td>\n",
       "      <td>No display-related info in the text</td>\n",
       "      <td>I recently noticed an issue on my iPhone after...</td>\n",
       "    </tr>\n",
       "    <tr>\n",
       "      <th>23</th>\n",
       "      <td>iphone 16 pro max</td>\n",
       "      <td>No display-related info in the text</td>\n",
       "      <td>Someone PLEASE help\\nI recently got the iPhone...</td>\n",
       "    </tr>\n",
       "    <tr>\n",
       "      <th>...</th>\n",
       "      <td>...</td>\n",
       "      <td>...</td>\n",
       "      <td>...</td>\n",
       "    </tr>\n",
       "    <tr>\n",
       "      <th>8703</th>\n",
       "      <td>iphone 16 pro</td>\n",
       "      <td>No display-related info in the text</td>\n",
       "      <td>Just got an iPhone 16 Pro and keep on getting ...</td>\n",
       "    </tr>\n",
       "    <tr>\n",
       "      <th>8888</th>\n",
       "      <td>iphone 16 pro</td>\n",
       "      <td>No display-related info in the text</td>\n",
       "      <td>We're a few months into the iPhone 16 Pro: doe...</td>\n",
       "    </tr>\n",
       "    <tr>\n",
       "      <th>8979</th>\n",
       "      <td>iphone 13</td>\n",
       "      <td>No specific display info found</td>\n",
       "      <td>Since the release of the iPhone 13 mini, I’ve ...</td>\n",
       "    </tr>\n",
       "    <tr>\n",
       "      <th>9041</th>\n",
       "      <td>iphone 8 plus</td>\n",
       "      <td>No display-related info in the text</td>\n",
       "      <td>I have an iPhone 8 Plus that just lies around ...</td>\n",
       "    </tr>\n",
       "    <tr>\n",
       "      <th>9071</th>\n",
       "      <td>iphone 16 pro</td>\n",
       "      <td>No display-related info in the text</td>\n",
       "      <td>I've only had my iPhone 16 Pro max for four ho...</td>\n",
       "    </tr>\n",
       "  </tbody>\n",
       "</table>\n",
       "<p>292 rows × 3 columns</p>\n",
       "</div>"
      ],
      "text/plain": [
       "                  Model                         display_info  \\\n",
       "2             iphone 11  No display-related info in the text   \n",
       "11            iphone 16  No display-related info in the text   \n",
       "16            iphone 11  No display-related info in the text   \n",
       "20        iphone 15 pro  No display-related info in the text   \n",
       "23    iphone 16 pro max  No display-related info in the text   \n",
       "...                 ...                                  ...   \n",
       "8703      iphone 16 pro  No display-related info in the text   \n",
       "8888      iphone 16 pro  No display-related info in the text   \n",
       "8979          iphone 13       No specific display info found   \n",
       "9041      iphone 8 plus  No display-related info in the text   \n",
       "9071      iphone 16 pro  No display-related info in the text   \n",
       "\n",
       "                                                   Text  \n",
       "2     I’ve been using my iPhone 11 for a few years n...  \n",
       "11    Hi! I have recently bought my iPhone 16 pro ma...  \n",
       "16    Hey, does someone know why I can’t install the...  \n",
       "20    I recently noticed an issue on my iPhone after...  \n",
       "23    Someone PLEASE help\\nI recently got the iPhone...  \n",
       "...                                                 ...  \n",
       "8703  Just got an iPhone 16 Pro and keep on getting ...  \n",
       "8888  We're a few months into the iPhone 16 Pro: doe...  \n",
       "8979  Since the release of the iPhone 13 mini, I’ve ...  \n",
       "9041  I have an iPhone 8 Plus that just lies around ...  \n",
       "9071  I've only had my iPhone 16 Pro max for four ho...  \n",
       "\n",
       "[292 rows x 3 columns]"
      ]
     },
     "execution_count": 103,
     "metadata": {},
     "output_type": "execute_result"
    }
   ],
   "source": [
    "display_df"
   ]
  },
  {
   "cell_type": "code",
   "execution_count": 104,
   "id": "41cec5b5-7e43-4577-a1f7-3879f1dca155",
   "metadata": {},
   "outputs": [
    {
     "data": {
      "text/plain": [
       "display_info\n",
       "No display-related info in the text    219\n",
       "No specific display info found          73\n",
       "Name: count, dtype: int64"
      ]
     },
     "execution_count": 104,
     "metadata": {},
     "output_type": "execute_result"
    }
   ],
   "source": [
    "display_df['display_info'].value_counts()"
   ]
  },
  {
   "cell_type": "code",
   "execution_count": 105,
   "id": "43b2ed40-19b7-41d7-8c1a-166f9f086e33",
   "metadata": {},
   "outputs": [],
   "source": [
    "Display = display_df[~display_df['display_info'].isin([\"No display-related info in the text\"])]"
   ]
  },
  {
   "cell_type": "code",
   "execution_count": 106,
   "id": "1f8ab53e-88c5-4431-9f5f-702355dadfde",
   "metadata": {},
   "outputs": [
    {
     "data": {
      "text/html": [
       "<div>\n",
       "<style scoped>\n",
       "    .dataframe tbody tr th:only-of-type {\n",
       "        vertical-align: middle;\n",
       "    }\n",
       "\n",
       "    .dataframe tbody tr th {\n",
       "        vertical-align: top;\n",
       "    }\n",
       "\n",
       "    .dataframe thead th {\n",
       "        text-align: right;\n",
       "    }\n",
       "</style>\n",
       "<table border=\"1\" class=\"dataframe\">\n",
       "  <thead>\n",
       "    <tr style=\"text-align: right;\">\n",
       "      <th></th>\n",
       "      <th>Model</th>\n",
       "      <th>display_info</th>\n",
       "      <th>Text</th>\n",
       "    </tr>\n",
       "  </thead>\n",
       "  <tbody>\n",
       "    <tr>\n",
       "      <th>28</th>\n",
       "      <td>iphone 15</td>\n",
       "      <td>No specific display info found</td>\n",
       "      <td>If I were to go on a fishing trip with my iPho...</td>\n",
       "    </tr>\n",
       "    <tr>\n",
       "      <th>46</th>\n",
       "      <td>iphone 16 promax</td>\n",
       "      <td>No specific display info found</td>\n",
       "      <td>*September 2024* \\- The 'OneTime Pro NanoArmou...</td>\n",
       "    </tr>\n",
       "    <tr>\n",
       "      <th>58</th>\n",
       "      <td>iphone 16 pro</td>\n",
       "      <td>No specific display info found</td>\n",
       "      <td>I can successfully AirPlay media directly from...</td>\n",
       "    </tr>\n",
       "    <tr>\n",
       "      <th>100</th>\n",
       "      <td>iphone 8</td>\n",
       "      <td>No specific display info found</td>\n",
       "      <td>\\nI have an old iPhone 8 I just found and char...</td>\n",
       "    </tr>\n",
       "    <tr>\n",
       "      <th>101</th>\n",
       "      <td>iphone 4</td>\n",
       "      <td>No specific display info found</td>\n",
       "      <td>i found this iPhone 4 in my closet, and wanted...</td>\n",
       "    </tr>\n",
       "    <tr>\n",
       "      <th>...</th>\n",
       "      <td>...</td>\n",
       "      <td>...</td>\n",
       "      <td>...</td>\n",
       "    </tr>\n",
       "    <tr>\n",
       "      <th>7648</th>\n",
       "      <td>iphone 11 pro</td>\n",
       "      <td>No specific display info found</td>\n",
       "      <td>I just started updating this iPhone 11 Pro scr...</td>\n",
       "    </tr>\n",
       "    <tr>\n",
       "      <th>8309</th>\n",
       "      <td>iphone 12</td>\n",
       "      <td>No specific display info found</td>\n",
       "      <td>I have an iPhone 12 and it is driving me crazy...</td>\n",
       "    </tr>\n",
       "    <tr>\n",
       "      <th>8559</th>\n",
       "      <td>iphone 16 pro max</td>\n",
       "      <td>No specific display info found</td>\n",
       "      <td>So, here’s a cautionary tale for my fellow iPh...</td>\n",
       "    </tr>\n",
       "    <tr>\n",
       "      <th>8630</th>\n",
       "      <td>iphone 11 pro</td>\n",
       "      <td>No specific display info found</td>\n",
       "      <td>I just started updating this iPhone 11 Pro scr...</td>\n",
       "    </tr>\n",
       "    <tr>\n",
       "      <th>8979</th>\n",
       "      <td>iphone 13</td>\n",
       "      <td>No specific display info found</td>\n",
       "      <td>Since the release of the iPhone 13 mini, I’ve ...</td>\n",
       "    </tr>\n",
       "  </tbody>\n",
       "</table>\n",
       "<p>73 rows × 3 columns</p>\n",
       "</div>"
      ],
      "text/plain": [
       "                  Model                    display_info  \\\n",
       "28            iphone 15  No specific display info found   \n",
       "46     iphone 16 promax  No specific display info found   \n",
       "58        iphone 16 pro  No specific display info found   \n",
       "100            iphone 8  No specific display info found   \n",
       "101            iphone 4  No specific display info found   \n",
       "...                 ...                             ...   \n",
       "7648      iphone 11 pro  No specific display info found   \n",
       "8309          iphone 12  No specific display info found   \n",
       "8559  iphone 16 pro max  No specific display info found   \n",
       "8630      iphone 11 pro  No specific display info found   \n",
       "8979          iphone 13  No specific display info found   \n",
       "\n",
       "                                                   Text  \n",
       "28    If I were to go on a fishing trip with my iPho...  \n",
       "46    *September 2024* \\- The 'OneTime Pro NanoArmou...  \n",
       "58    I can successfully AirPlay media directly from...  \n",
       "100   \\nI have an old iPhone 8 I just found and char...  \n",
       "101   i found this iPhone 4 in my closet, and wanted...  \n",
       "...                                                 ...  \n",
       "7648  I just started updating this iPhone 11 Pro scr...  \n",
       "8309  I have an iPhone 12 and it is driving me crazy...  \n",
       "8559  So, here’s a cautionary tale for my fellow iPh...  \n",
       "8630  I just started updating this iPhone 11 Pro scr...  \n",
       "8979  Since the release of the iPhone 13 mini, I’ve ...  \n",
       "\n",
       "[73 rows x 3 columns]"
      ]
     },
     "execution_count": 106,
     "metadata": {},
     "output_type": "execute_result"
    }
   ],
   "source": [
    "Display"
   ]
  },
  {
   "cell_type": "code",
   "execution_count": 107,
   "id": "b4c38023-8fd1-4ef4-8686-1d6af57588ed",
   "metadata": {},
   "outputs": [
    {
     "name": "stderr",
     "output_type": "stream",
     "text": [
      "C:\\Users\\DELL\\AppData\\Local\\Temp\\ipykernel_35804\\2382705546.py:1: SettingWithCopyWarning: \n",
      "A value is trying to be set on a copy of a slice from a DataFrame.\n",
      "Try using .loc[row_indexer,col_indexer] = value instead\n",
      "\n",
      "See the caveats in the documentation: https://pandas.pydata.org/pandas-docs/stable/user_guide/indexing.html#returning-a-view-versus-a-copy\n",
      "  Display['display_info'] = Display['display_info'].apply(tuple)\n",
      "C:\\Users\\DELL\\AppData\\Local\\Temp\\ipykernel_35804\\2382705546.py:2: SettingWithCopyWarning: \n",
      "A value is trying to be set on a copy of a slice from a DataFrame.\n",
      "Try using .loc[row_indexer,col_indexer] = value instead\n",
      "\n",
      "See the caveats in the documentation: https://pandas.pydata.org/pandas-docs/stable/user_guide/indexing.html#returning-a-view-versus-a-copy\n",
      "  Display['Text'] = Display['Text'].apply(tuple)\n"
     ]
    }
   ],
   "source": [
    "Display['display_info'] = Display['display_info'].apply(tuple)\n",
    "Display['Text'] = Display['Text'].apply(tuple)"
   ]
  },
  {
   "cell_type": "code",
   "execution_count": 108,
   "id": "3e8022cd-f921-4535-bdbf-58f3434c6ba3",
   "metadata": {},
   "outputs": [
    {
     "name": "stdout",
     "output_type": "stream",
     "text": [
      "<class 'pandas.core.frame.DataFrame'>\n",
      "Index: 40 entries, 28 to 940\n",
      "Data columns (total 3 columns):\n",
      " #   Column        Non-Null Count  Dtype \n",
      "---  ------        --------------  ----- \n",
      " 0   Model         40 non-null     object\n",
      " 1   display_info  40 non-null     object\n",
      " 2   Text          40 non-null     object\n",
      "dtypes: object(3)\n",
      "memory usage: 1.2+ KB\n"
     ]
    }
   ],
   "source": [
    "Display = Display.drop_duplicates()\n",
    "Display.info()"
   ]
  },
  {
   "cell_type": "code",
   "execution_count": 109,
   "id": "950241b9-732f-4bfb-8ead-e9050bb6df8c",
   "metadata": {},
   "outputs": [
    {
     "name": "stderr",
     "output_type": "stream",
     "text": [
      "C:\\Users\\DELL\\AppData\\Local\\Temp\\ipykernel_35804\\1869529478.py:1: SettingWithCopyWarning: \n",
      "A value is trying to be set on a copy of a slice from a DataFrame.\n",
      "Try using .loc[row_indexer,col_indexer] = value instead\n",
      "\n",
      "See the caveats in the documentation: https://pandas.pydata.org/pandas-docs/stable/user_guide/indexing.html#returning-a-view-versus-a-copy\n",
      "  Display['Sentiment'] = Display['Text'].apply(lambda x: get_sentiment_score(x))\n"
     ]
    }
   ],
   "source": [
    "Display['Sentiment'] = Display['Text'].apply(lambda x: get_sentiment_score(x))"
   ]
  },
  {
   "cell_type": "code",
   "execution_count": 110,
   "id": "677023a7-11ec-4299-a60e-b07239014ff1",
   "metadata": {},
   "outputs": [
    {
     "name": "stdout",
     "output_type": "stream",
     "text": [
      "<class 'pandas.core.frame.DataFrame'>\n",
      "Index: 40 entries, 28 to 940\n",
      "Data columns (total 4 columns):\n",
      " #   Column        Non-Null Count  Dtype  \n",
      "---  ------        --------------  -----  \n",
      " 0   Model         40 non-null     object \n",
      " 1   display_info  40 non-null     object \n",
      " 2   Text          40 non-null     object \n",
      " 3   Sentiment     40 non-null     float64\n",
      "dtypes: float64(1), object(3)\n",
      "memory usage: 1.6+ KB\n"
     ]
    }
   ],
   "source": [
    "Display.info()"
   ]
  },
  {
   "cell_type": "code",
   "execution_count": 111,
   "id": "9922ab5d-2036-45e7-b071-4d29f1645b1f",
   "metadata": {},
   "outputs": [],
   "source": [
    "Display_Modelwise = Display.groupby('Model')['Sentiment'].mean().reset_index()"
   ]
  },
  {
   "cell_type": "code",
   "execution_count": 112,
   "id": "2f9699f1-074b-429e-a2dd-f82debe4e255",
   "metadata": {},
   "outputs": [
    {
     "data": {
      "text/html": [
       "<div>\n",
       "<style scoped>\n",
       "    .dataframe tbody tr th:only-of-type {\n",
       "        vertical-align: middle;\n",
       "    }\n",
       "\n",
       "    .dataframe tbody tr th {\n",
       "        vertical-align: top;\n",
       "    }\n",
       "\n",
       "    .dataframe thead th {\n",
       "        text-align: right;\n",
       "    }\n",
       "</style>\n",
       "<table border=\"1\" class=\"dataframe\">\n",
       "  <thead>\n",
       "    <tr style=\"text-align: right;\">\n",
       "      <th></th>\n",
       "      <th>Model</th>\n",
       "      <th>Sentiment</th>\n",
       "    </tr>\n",
       "  </thead>\n",
       "  <tbody>\n",
       "    <tr>\n",
       "      <th>0</th>\n",
       "      <td>iphone 10</td>\n",
       "      <td>0.700300</td>\n",
       "    </tr>\n",
       "    <tr>\n",
       "      <th>1</th>\n",
       "      <td>iphone 11</td>\n",
       "      <td>0.373250</td>\n",
       "    </tr>\n",
       "    <tr>\n",
       "      <th>2</th>\n",
       "      <td>iphone 11 pro</td>\n",
       "      <td>0.739100</td>\n",
       "    </tr>\n",
       "    <tr>\n",
       "      <th>3</th>\n",
       "      <td>iphone 12</td>\n",
       "      <td>0.271300</td>\n",
       "    </tr>\n",
       "    <tr>\n",
       "      <th>4</th>\n",
       "      <td>iphone 13</td>\n",
       "      <td>0.417975</td>\n",
       "    </tr>\n",
       "    <tr>\n",
       "      <th>5</th>\n",
       "      <td>iphone 13 mini</td>\n",
       "      <td>0.817500</td>\n",
       "    </tr>\n",
       "    <tr>\n",
       "      <th>6</th>\n",
       "      <td>iphone 13 pro</td>\n",
       "      <td>0.475400</td>\n",
       "    </tr>\n",
       "    <tr>\n",
       "      <th>7</th>\n",
       "      <td>iphone 14</td>\n",
       "      <td>-0.370333</td>\n",
       "    </tr>\n",
       "    <tr>\n",
       "      <th>8</th>\n",
       "      <td>iphone 15</td>\n",
       "      <td>0.101150</td>\n",
       "    </tr>\n",
       "    <tr>\n",
       "      <th>9</th>\n",
       "      <td>iphone 15 pro</td>\n",
       "      <td>0.466000</td>\n",
       "    </tr>\n",
       "    <tr>\n",
       "      <th>10</th>\n",
       "      <td>iphone 15 pro max</td>\n",
       "      <td>0.907200</td>\n",
       "    </tr>\n",
       "    <tr>\n",
       "      <th>11</th>\n",
       "      <td>iphone 16</td>\n",
       "      <td>0.301988</td>\n",
       "    </tr>\n",
       "    <tr>\n",
       "      <th>12</th>\n",
       "      <td>iphone 16 pro</td>\n",
       "      <td>0.531075</td>\n",
       "    </tr>\n",
       "    <tr>\n",
       "      <th>13</th>\n",
       "      <td>iphone 16 pro max</td>\n",
       "      <td>0.310650</td>\n",
       "    </tr>\n",
       "    <tr>\n",
       "      <th>14</th>\n",
       "      <td>iphone 16 promax</td>\n",
       "      <td>-0.564500</td>\n",
       "    </tr>\n",
       "    <tr>\n",
       "      <th>15</th>\n",
       "      <td>iphone 4</td>\n",
       "      <td>0.000000</td>\n",
       "    </tr>\n",
       "    <tr>\n",
       "      <th>16</th>\n",
       "      <td>iphone 8</td>\n",
       "      <td>0.128000</td>\n",
       "    </tr>\n",
       "  </tbody>\n",
       "</table>\n",
       "</div>"
      ],
      "text/plain": [
       "                Model  Sentiment\n",
       "0           iphone 10   0.700300\n",
       "1           iphone 11   0.373250\n",
       "2       iphone 11 pro   0.739100\n",
       "3           iphone 12   0.271300\n",
       "4           iphone 13   0.417975\n",
       "5      iphone 13 mini   0.817500\n",
       "6       iphone 13 pro   0.475400\n",
       "7           iphone 14  -0.370333\n",
       "8           iphone 15   0.101150\n",
       "9       iphone 15 pro   0.466000\n",
       "10  iphone 15 pro max   0.907200\n",
       "11          iphone 16   0.301988\n",
       "12      iphone 16 pro   0.531075\n",
       "13  iphone 16 pro max   0.310650\n",
       "14   iphone 16 promax  -0.564500\n",
       "15           iphone 4   0.000000\n",
       "16           iphone 8   0.128000"
      ]
     },
     "execution_count": 112,
     "metadata": {},
     "output_type": "execute_result"
    }
   ],
   "source": [
    "Display_Modelwise"
   ]
  },
  {
   "cell_type": "code",
   "execution_count": 113,
   "id": "a1621d5e-a665-4e17-b740-911781966346",
   "metadata": {},
   "outputs": [
    {
     "data": {
      "image/png": "[encoded data removed]",
      "text/plain": [
       "<Figure size 1200x600 with 1 Axes>"
      ]
     },
     "metadata": {},
     "output_type": "display_data"
    }
   ],
   "source": [
    "plt.figure(figsize=(12, 6))\n",
    "plt.bar(Display_Modelwise['Model'], Display_Modelwise['Sentiment'], color='skyblue')\n",
    "plt.xlabel('iPhone Model',size = 14)\n",
    "plt.ylabel('Average Sentiment Score', size = 14)\n",
    "plt.xticks(rotation=90)\n",
    "plt.show()"
   ]
  },
  {
   "cell_type": "markdown",
   "id": "40e09731-7164-4389-bc60-3eef4809b02f",
   "metadata": {},
   "source": [
    "## for water resistance "
   ]
  },
  {
   "cell_type": "code",
   "execution_count": 114,
   "id": "c4c761b9-63fd-4aaf-89c7-6808644285a4",
   "metadata": {},
   "outputs": [],
   "source": [
    "water_resistance_keywords = ['water resistant', 'IP']"
   ]
  },
  {
   "cell_type": "code",
   "execution_count": 115,
   "id": "4a690057-6379-4143-9718-ea9bac1a0c3a",
   "metadata": {},
   "outputs": [],
   "source": [
    "def extract_water_resistance_info(text):\n",
    "    if any(keyword in text.lower() for keyword in water_resistance_keywords):\n",
    "        # Use regex to capture IP ratings like IP67, IP68, etc.\n",
    "        water_resistance_info = re.findall(r'IP\\d{2}', text)\n",
    "        \n",
    "        # Return water resistance info if found, else return a default message\n",
    "        if water_resistance_info:\n",
    "            return water_resistance_info\n",
    "        else:\n",
    "            return \"No specific water resistance info found\"  # Default message when no details are found\n",
    "    return \"No water resistance-related info in the text\"  # Default message when no water resistance keywords are found"
   ]
  },
  {
   "cell_type": "code",
   "execution_count": 116,
   "id": "3d935ed1-60ba-469f-999a-f8596c64242d",
   "metadata": {},
   "outputs": [
    {
     "name": "stderr",
     "output_type": "stream",
     "text": [
      "C:\\Users\\DELL\\AppData\\Local\\Temp\\ipykernel_35804\\1742394292.py:1: SettingWithCopyWarning: \n",
      "A value is trying to be set on a copy of a slice from a DataFrame.\n",
      "Try using .loc[row_indexer,col_indexer] = value instead\n",
      "\n",
      "See the caveats in the documentation: https://pandas.pydata.org/pandas-docs/stable/user_guide/indexing.html#returning-a-view-versus-a-copy\n",
      "  iphone.loc[:, 'Resistance_info'] = iphone['Text'].apply(extract_water_resistance_info)\n"
     ]
    }
   ],
   "source": [
    "iphone.loc[:, 'Resistance_info'] = iphone['Text'].apply(extract_water_resistance_info)"
   ]
  },
  {
   "cell_type": "code",
   "execution_count": 117,
   "id": "9d346a38-9aa9-4479-a066-1c3fe1469d04",
   "metadata": {},
   "outputs": [],
   "source": [
    "resistance_df = iphone[['Model', 'Resistance_info','Text']]"
   ]
  },
  {
   "cell_type": "code",
   "execution_count": 118,
   "id": "9a9bc13c-af58-486d-ad59-60eaa645fc05",
   "metadata": {},
   "outputs": [
    {
     "data": {
      "text/html": [
       "<div>\n",
       "<style scoped>\n",
       "    .dataframe tbody tr th:only-of-type {\n",
       "        vertical-align: middle;\n",
       "    }\n",
       "\n",
       "    .dataframe tbody tr th {\n",
       "        vertical-align: top;\n",
       "    }\n",
       "\n",
       "    .dataframe thead th {\n",
       "        text-align: right;\n",
       "    }\n",
       "</style>\n",
       "<table border=\"1\" class=\"dataframe\">\n",
       "  <thead>\n",
       "    <tr style=\"text-align: right;\">\n",
       "      <th></th>\n",
       "      <th>Model</th>\n",
       "      <th>Resistance_info</th>\n",
       "      <th>Text</th>\n",
       "    </tr>\n",
       "  </thead>\n",
       "  <tbody>\n",
       "    <tr>\n",
       "      <th>2</th>\n",
       "      <td>iphone 11</td>\n",
       "      <td>No water resistance-related info in the text</td>\n",
       "      <td>I’ve been using my iPhone 11 for a few years n...</td>\n",
       "    </tr>\n",
       "    <tr>\n",
       "      <th>11</th>\n",
       "      <td>iphone 16</td>\n",
       "      <td>No water resistance-related info in the text</td>\n",
       "      <td>Hi! I have recently bought my iPhone 16 pro ma...</td>\n",
       "    </tr>\n",
       "    <tr>\n",
       "      <th>16</th>\n",
       "      <td>iphone 11</td>\n",
       "      <td>No water resistance-related info in the text</td>\n",
       "      <td>Hey, does someone know why I can’t install the...</td>\n",
       "    </tr>\n",
       "    <tr>\n",
       "      <th>20</th>\n",
       "      <td>iphone 15 pro</td>\n",
       "      <td>No water resistance-related info in the text</td>\n",
       "      <td>I recently noticed an issue on my iPhone after...</td>\n",
       "    </tr>\n",
       "    <tr>\n",
       "      <th>23</th>\n",
       "      <td>iphone 16 pro max</td>\n",
       "      <td>No water resistance-related info in the text</td>\n",
       "      <td>Someone PLEASE help\\nI recently got the iPhone...</td>\n",
       "    </tr>\n",
       "    <tr>\n",
       "      <th>...</th>\n",
       "      <td>...</td>\n",
       "      <td>...</td>\n",
       "      <td>...</td>\n",
       "    </tr>\n",
       "    <tr>\n",
       "      <th>8703</th>\n",
       "      <td>iphone 16 pro</td>\n",
       "      <td>No water resistance-related info in the text</td>\n",
       "      <td>Just got an iPhone 16 Pro and keep on getting ...</td>\n",
       "    </tr>\n",
       "    <tr>\n",
       "      <th>8888</th>\n",
       "      <td>iphone 16 pro</td>\n",
       "      <td>No water resistance-related info in the text</td>\n",
       "      <td>We're a few months into the iPhone 16 Pro: doe...</td>\n",
       "    </tr>\n",
       "    <tr>\n",
       "      <th>8979</th>\n",
       "      <td>iphone 13</td>\n",
       "      <td>No water resistance-related info in the text</td>\n",
       "      <td>Since the release of the iPhone 13 mini, I’ve ...</td>\n",
       "    </tr>\n",
       "    <tr>\n",
       "      <th>9041</th>\n",
       "      <td>iphone 8 plus</td>\n",
       "      <td>No water resistance-related info in the text</td>\n",
       "      <td>I have an iPhone 8 Plus that just lies around ...</td>\n",
       "    </tr>\n",
       "    <tr>\n",
       "      <th>9071</th>\n",
       "      <td>iphone 16 pro</td>\n",
       "      <td>No water resistance-related info in the text</td>\n",
       "      <td>I've only had my iPhone 16 Pro max for four ho...</td>\n",
       "    </tr>\n",
       "  </tbody>\n",
       "</table>\n",
       "<p>292 rows × 3 columns</p>\n",
       "</div>"
      ],
      "text/plain": [
       "                  Model                               Resistance_info  \\\n",
       "2             iphone 11  No water resistance-related info in the text   \n",
       "11            iphone 16  No water resistance-related info in the text   \n",
       "16            iphone 11  No water resistance-related info in the text   \n",
       "20        iphone 15 pro  No water resistance-related info in the text   \n",
       "23    iphone 16 pro max  No water resistance-related info in the text   \n",
       "...                 ...                                           ...   \n",
       "8703      iphone 16 pro  No water resistance-related info in the text   \n",
       "8888      iphone 16 pro  No water resistance-related info in the text   \n",
       "8979          iphone 13  No water resistance-related info in the text   \n",
       "9041      iphone 8 plus  No water resistance-related info in the text   \n",
       "9071      iphone 16 pro  No water resistance-related info in the text   \n",
       "\n",
       "                                                   Text  \n",
       "2     I’ve been using my iPhone 11 for a few years n...  \n",
       "11    Hi! I have recently bought my iPhone 16 pro ma...  \n",
       "16    Hey, does someone know why I can’t install the...  \n",
       "20    I recently noticed an issue on my iPhone after...  \n",
       "23    Someone PLEASE help\\nI recently got the iPhone...  \n",
       "...                                                 ...  \n",
       "8703  Just got an iPhone 16 Pro and keep on getting ...  \n",
       "8888  We're a few months into the iPhone 16 Pro: doe...  \n",
       "8979  Since the release of the iPhone 13 mini, I’ve ...  \n",
       "9041  I have an iPhone 8 Plus that just lies around ...  \n",
       "9071  I've only had my iPhone 16 Pro max for four ho...  \n",
       "\n",
       "[292 rows x 3 columns]"
      ]
     },
     "execution_count": 118,
     "metadata": {},
     "output_type": "execute_result"
    }
   ],
   "source": [
    "resistance_df"
   ]
  },
  {
   "cell_type": "code",
   "execution_count": 119,
   "id": "49adf3d7-f9ac-4975-87c0-0beef417d1c9",
   "metadata": {},
   "outputs": [
    {
     "data": {
      "text/plain": [
       "Resistance_info\n",
       "No water resistance-related info in the text    292\n",
       "Name: count, dtype: int64"
      ]
     },
     "execution_count": 119,
     "metadata": {},
     "output_type": "execute_result"
    }
   ],
   "source": [
    "resistance_df['Resistance_info'].value_counts()"
   ]
  },
  {
   "cell_type": "code",
   "execution_count": 120,
   "id": "2f2a15de-e818-4327-8f8f-cab52bdbb93c",
   "metadata": {},
   "outputs": [],
   "source": [
    "## hence only one comment is there so no need of comparison and one is iphone 14 that is positive also."
   ]
  },
  {
   "cell_type": "markdown",
   "id": "a3a30a13-4418-4f3e-8dcc-a645e601aaca",
   "metadata": {},
   "source": [
    "## for Charging"
   ]
  },
  {
   "cell_type": "code",
   "execution_count": 121,
   "id": "97192694-2dcf-4b63-8f59-ba11e95a0869",
   "metadata": {},
   "outputs": [],
   "source": [
    "charging_keywords = ['charging', 'fast charging', 'wireless charging', 'Watt']"
   ]
  },
  {
   "cell_type": "code",
   "execution_count": 122,
   "id": "ec6d1bb1-0fc8-444f-aa2a-81cd8cb049ed",
   "metadata": {},
   "outputs": [],
   "source": [
    "def extract_charging_info(text):\n",
    "    if any(keyword in text.lower() for keyword in charging_keywords):\n",
    "        # Use regex to capture charging speed (e.g., 18W, 30W, or 18 Watt)\n",
    "        charging_info = re.findall(r'(\\d{2,3})\\s*(Watt|W)', text)\n",
    "        \n",
    "        # Return charging info if found, else return a default message\n",
    "        if charging_info:\n",
    "            return charging_info\n",
    "        else:\n",
    "            return \"No specific charging info found\"  # Default message when no details are found\n",
    "    return \"No charging-related info in the text\"  # Default message when no charging keywords are found"
   ]
  },
  {
   "cell_type": "code",
   "execution_count": 123,
   "id": "ddf036f1-e18c-4590-9181-88e0bfd4b72d",
   "metadata": {},
   "outputs": [
    {
     "name": "stderr",
     "output_type": "stream",
     "text": [
      "C:\\Users\\DELL\\AppData\\Local\\Temp\\ipykernel_35804\\693260657.py:1: SettingWithCopyWarning: \n",
      "A value is trying to be set on a copy of a slice from a DataFrame.\n",
      "Try using .loc[row_indexer,col_indexer] = value instead\n",
      "\n",
      "See the caveats in the documentation: https://pandas.pydata.org/pandas-docs/stable/user_guide/indexing.html#returning-a-view-versus-a-copy\n",
      "  iphone.loc[:, 'Charging_info'] = iphone['Text'].apply(extract_charging_info)\n"
     ]
    }
   ],
   "source": [
    "iphone.loc[:, 'Charging_info'] = iphone['Text'].apply(extract_charging_info)"
   ]
  },
  {
   "cell_type": "code",
   "execution_count": 124,
   "id": "18cf4672-9f3e-4723-a12f-a480ea5bd4b4",
   "metadata": {},
   "outputs": [],
   "source": [
    "charging_df = iphone[['Model' , 'Charging_info', 'Text']]"
   ]
  },
  {
   "cell_type": "code",
   "execution_count": 125,
   "id": "6f49f92f-92d8-467c-8fe4-a0bf8125ec99",
   "metadata": {},
   "outputs": [
    {
     "data": {
      "text/html": [
       "<div>\n",
       "<style scoped>\n",
       "    .dataframe tbody tr th:only-of-type {\n",
       "        vertical-align: middle;\n",
       "    }\n",
       "\n",
       "    .dataframe tbody tr th {\n",
       "        vertical-align: top;\n",
       "    }\n",
       "\n",
       "    .dataframe thead th {\n",
       "        text-align: right;\n",
       "    }\n",
       "</style>\n",
       "<table border=\"1\" class=\"dataframe\">\n",
       "  <thead>\n",
       "    <tr style=\"text-align: right;\">\n",
       "      <th></th>\n",
       "      <th>Model</th>\n",
       "      <th>Charging_info</th>\n",
       "      <th>Text</th>\n",
       "    </tr>\n",
       "  </thead>\n",
       "  <tbody>\n",
       "    <tr>\n",
       "      <th>2</th>\n",
       "      <td>iphone 11</td>\n",
       "      <td>No charging-related info in the text</td>\n",
       "      <td>I’ve been using my iPhone 11 for a few years n...</td>\n",
       "    </tr>\n",
       "    <tr>\n",
       "      <th>11</th>\n",
       "      <td>iphone 16</td>\n",
       "      <td>No specific charging info found</td>\n",
       "      <td>Hi! I have recently bought my iPhone 16 pro ma...</td>\n",
       "    </tr>\n",
       "    <tr>\n",
       "      <th>16</th>\n",
       "      <td>iphone 11</td>\n",
       "      <td>No charging-related info in the text</td>\n",
       "      <td>Hey, does someone know why I can’t install the...</td>\n",
       "    </tr>\n",
       "    <tr>\n",
       "      <th>20</th>\n",
       "      <td>iphone 15 pro</td>\n",
       "      <td>No charging-related info in the text</td>\n",
       "      <td>I recently noticed an issue on my iPhone after...</td>\n",
       "    </tr>\n",
       "    <tr>\n",
       "      <th>23</th>\n",
       "      <td>iphone 16 pro max</td>\n",
       "      <td>No charging-related info in the text</td>\n",
       "      <td>Someone PLEASE help\\nI recently got the iPhone...</td>\n",
       "    </tr>\n",
       "    <tr>\n",
       "      <th>...</th>\n",
       "      <td>...</td>\n",
       "      <td>...</td>\n",
       "      <td>...</td>\n",
       "    </tr>\n",
       "    <tr>\n",
       "      <th>8703</th>\n",
       "      <td>iphone 16 pro</td>\n",
       "      <td>No charging-related info in the text</td>\n",
       "      <td>Just got an iPhone 16 Pro and keep on getting ...</td>\n",
       "    </tr>\n",
       "    <tr>\n",
       "      <th>8888</th>\n",
       "      <td>iphone 16 pro</td>\n",
       "      <td>No charging-related info in the text</td>\n",
       "      <td>We're a few months into the iPhone 16 Pro: doe...</td>\n",
       "    </tr>\n",
       "    <tr>\n",
       "      <th>8979</th>\n",
       "      <td>iphone 13</td>\n",
       "      <td>No charging-related info in the text</td>\n",
       "      <td>Since the release of the iPhone 13 mini, I’ve ...</td>\n",
       "    </tr>\n",
       "    <tr>\n",
       "      <th>9041</th>\n",
       "      <td>iphone 8 plus</td>\n",
       "      <td>No charging-related info in the text</td>\n",
       "      <td>I have an iPhone 8 Plus that just lies around ...</td>\n",
       "    </tr>\n",
       "    <tr>\n",
       "      <th>9071</th>\n",
       "      <td>iphone 16 pro</td>\n",
       "      <td>No charging-related info in the text</td>\n",
       "      <td>I've only had my iPhone 16 Pro max for four ho...</td>\n",
       "    </tr>\n",
       "  </tbody>\n",
       "</table>\n",
       "<p>292 rows × 3 columns</p>\n",
       "</div>"
      ],
      "text/plain": [
       "                  Model                         Charging_info  \\\n",
       "2             iphone 11  No charging-related info in the text   \n",
       "11            iphone 16       No specific charging info found   \n",
       "16            iphone 11  No charging-related info in the text   \n",
       "20        iphone 15 pro  No charging-related info in the text   \n",
       "23    iphone 16 pro max  No charging-related info in the text   \n",
       "...                 ...                                   ...   \n",
       "8703      iphone 16 pro  No charging-related info in the text   \n",
       "8888      iphone 16 pro  No charging-related info in the text   \n",
       "8979          iphone 13  No charging-related info in the text   \n",
       "9041      iphone 8 plus  No charging-related info in the text   \n",
       "9071      iphone 16 pro  No charging-related info in the text   \n",
       "\n",
       "                                                   Text  \n",
       "2     I’ve been using my iPhone 11 for a few years n...  \n",
       "11    Hi! I have recently bought my iPhone 16 pro ma...  \n",
       "16    Hey, does someone know why I can’t install the...  \n",
       "20    I recently noticed an issue on my iPhone after...  \n",
       "23    Someone PLEASE help\\nI recently got the iPhone...  \n",
       "...                                                 ...  \n",
       "8703  Just got an iPhone 16 Pro and keep on getting ...  \n",
       "8888  We're a few months into the iPhone 16 Pro: doe...  \n",
       "8979  Since the release of the iPhone 13 mini, I’ve ...  \n",
       "9041  I have an iPhone 8 Plus that just lies around ...  \n",
       "9071  I've only had my iPhone 16 Pro max for four ho...  \n",
       "\n",
       "[292 rows x 3 columns]"
      ]
     },
     "execution_count": 125,
     "metadata": {},
     "output_type": "execute_result"
    }
   ],
   "source": [
    "charging_df"
   ]
  },
  {
   "cell_type": "code",
   "execution_count": 126,
   "id": "6e625dc2-e8e2-4897-9909-80253c371125",
   "metadata": {},
   "outputs": [
    {
     "data": {
      "text/plain": [
       "Charging_info\n",
       "No charging-related info in the text    283\n",
       "No specific charging info found           9\n",
       "Name: count, dtype: int64"
      ]
     },
     "execution_count": 126,
     "metadata": {},
     "output_type": "execute_result"
    }
   ],
   "source": [
    "charging_df['Charging_info'].value_counts()"
   ]
  },
  {
   "cell_type": "code",
   "execution_count": 127,
   "id": "c9827aa1-e397-4a21-b3da-7d69d1a8efa5",
   "metadata": {},
   "outputs": [],
   "source": [
    "Charging = charging_df[~charging_df['Charging_info'].isin([\"No charging-related info in the text\"])]"
   ]
  },
  {
   "cell_type": "code",
   "execution_count": 128,
   "id": "5ec5fb82-7c5b-4db0-91ff-420ef5ae1d6b",
   "metadata": {},
   "outputs": [
    {
     "name": "stdout",
     "output_type": "stream",
     "text": [
      "<class 'pandas.core.frame.DataFrame'>\n",
      "Index: 9 entries, 11 to 784\n",
      "Data columns (total 3 columns):\n",
      " #   Column         Non-Null Count  Dtype \n",
      "---  ------         --------------  ----- \n",
      " 0   Model          9 non-null      object\n",
      " 1   Charging_info  9 non-null      object\n",
      " 2   Text           9 non-null      object\n",
      "dtypes: object(3)\n",
      "memory usage: 288.0+ bytes\n"
     ]
    }
   ],
   "source": [
    "Charging.info()"
   ]
  },
  {
   "cell_type": "code",
   "execution_count": 129,
   "id": "5b29ad35-c197-4526-b5ae-002f26db4a45",
   "metadata": {},
   "outputs": [
    {
     "name": "stderr",
     "output_type": "stream",
     "text": [
      "C:\\Users\\DELL\\AppData\\Local\\Temp\\ipykernel_35804\\1845769469.py:1: SettingWithCopyWarning: \n",
      "A value is trying to be set on a copy of a slice from a DataFrame.\n",
      "Try using .loc[row_indexer,col_indexer] = value instead\n",
      "\n",
      "See the caveats in the documentation: https://pandas.pydata.org/pandas-docs/stable/user_guide/indexing.html#returning-a-view-versus-a-copy\n",
      "  Charging['Charging_info'] = Charging['Charging_info'].apply(tuple)\n",
      "C:\\Users\\DELL\\AppData\\Local\\Temp\\ipykernel_35804\\1845769469.py:2: SettingWithCopyWarning: \n",
      "A value is trying to be set on a copy of a slice from a DataFrame.\n",
      "Try using .loc[row_indexer,col_indexer] = value instead\n",
      "\n",
      "See the caveats in the documentation: https://pandas.pydata.org/pandas-docs/stable/user_guide/indexing.html#returning-a-view-versus-a-copy\n",
      "  Charging['Text'] = Charging['Text'].apply(tuple)\n"
     ]
    }
   ],
   "source": [
    "Charging['Charging_info'] = Charging['Charging_info'].apply(tuple)\n",
    "Charging['Text'] = Charging['Text'].apply(tuple)"
   ]
  },
  {
   "cell_type": "code",
   "execution_count": 130,
   "id": "14cd0428-23ea-4735-903d-07c2edd08f2d",
   "metadata": {},
   "outputs": [
    {
     "name": "stdout",
     "output_type": "stream",
     "text": [
      "<class 'pandas.core.frame.DataFrame'>\n",
      "Index: 9 entries, 11 to 784\n",
      "Data columns (total 3 columns):\n",
      " #   Column         Non-Null Count  Dtype \n",
      "---  ------         --------------  ----- \n",
      " 0   Model          9 non-null      object\n",
      " 1   Charging_info  9 non-null      object\n",
      " 2   Text           9 non-null      object\n",
      "dtypes: object(3)\n",
      "memory usage: 288.0+ bytes\n"
     ]
    }
   ],
   "source": [
    "Charging = Charging.drop_duplicates()\n",
    "Charging.info()"
   ]
  },
  {
   "cell_type": "code",
   "execution_count": 131,
   "id": "3ae64900-4c59-4632-93f1-9155c63fade5",
   "metadata": {},
   "outputs": [],
   "source": [
    "Charging['Sentiment'] = Charging['Text'].apply(lambda x: get_sentiment_score(x))"
   ]
  },
  {
   "cell_type": "code",
   "execution_count": 132,
   "id": "b51d9568-8edc-4ef8-9695-1136eff29cea",
   "metadata": {},
   "outputs": [],
   "source": [
    "Charging_Modelwise = Charging.groupby('Model')['Sentiment'].mean().reset_index()"
   ]
  },
  {
   "cell_type": "code",
   "execution_count": 133,
   "id": "bdc98740-670c-4c22-9dc5-dd703b51296e",
   "metadata": {},
   "outputs": [
    {
     "data": {
      "text/html": [
       "<div>\n",
       "<style scoped>\n",
       "    .dataframe tbody tr th:only-of-type {\n",
       "        vertical-align: middle;\n",
       "    }\n",
       "\n",
       "    .dataframe tbody tr th {\n",
       "        vertical-align: top;\n",
       "    }\n",
       "\n",
       "    .dataframe thead th {\n",
       "        text-align: right;\n",
       "    }\n",
       "</style>\n",
       "<table border=\"1\" class=\"dataframe\">\n",
       "  <thead>\n",
       "    <tr style=\"text-align: right;\">\n",
       "      <th></th>\n",
       "      <th>Model</th>\n",
       "      <th>Sentiment</th>\n",
       "    </tr>\n",
       "  </thead>\n",
       "  <tbody>\n",
       "    <tr>\n",
       "      <th>0</th>\n",
       "      <td>iphone 11</td>\n",
       "      <td>-0.77570</td>\n",
       "    </tr>\n",
       "    <tr>\n",
       "      <th>1</th>\n",
       "      <td>iphone 12</td>\n",
       "      <td>0.82750</td>\n",
       "    </tr>\n",
       "    <tr>\n",
       "      <th>2</th>\n",
       "      <td>iphone 13</td>\n",
       "      <td>-0.56110</td>\n",
       "    </tr>\n",
       "    <tr>\n",
       "      <th>3</th>\n",
       "      <td>iphone 14</td>\n",
       "      <td>-0.26070</td>\n",
       "    </tr>\n",
       "    <tr>\n",
       "      <th>4</th>\n",
       "      <td>iphone 16</td>\n",
       "      <td>0.75745</td>\n",
       "    </tr>\n",
       "    <tr>\n",
       "      <th>5</th>\n",
       "      <td>iphone 16 pro</td>\n",
       "      <td>-0.03780</td>\n",
       "    </tr>\n",
       "  </tbody>\n",
       "</table>\n",
       "</div>"
      ],
      "text/plain": [
       "           Model  Sentiment\n",
       "0      iphone 11   -0.77570\n",
       "1      iphone 12    0.82750\n",
       "2      iphone 13   -0.56110\n",
       "3      iphone 14   -0.26070\n",
       "4      iphone 16    0.75745\n",
       "5  iphone 16 pro   -0.03780"
      ]
     },
     "execution_count": 133,
     "metadata": {},
     "output_type": "execute_result"
    }
   ],
   "source": [
    "Charging_Modelwise"
   ]
  },
  {
   "cell_type": "code",
   "execution_count": 134,
   "id": "48cac43f-03f8-49da-a01d-22c5ffabfd5f",
   "metadata": {},
   "outputs": [
    {
     "data": {
      "image/png": "[encoded data removed]",
      "text/plain": [
       "<Figure size 1200x600 with 1 Axes>"
      ]
     },
     "metadata": {},
     "output_type": "display_data"
    }
   ],
   "source": [
    "plt.figure(figsize=(12, 6))\n",
    "plt.bar(Charging_Modelwise['Model'], Charging_Modelwise['Sentiment'], color='skyblue')\n",
    "plt.xlabel('iPhone Model',size = 14)\n",
    "plt.ylabel('Average Sentiment Score', size = 14)\n",
    "plt.xticks(rotation=0, size = 10)\n",
    "plt.show()"
   ]
  },
  {
   "cell_type": "markdown",
   "id": "1c576ee7-1e9f-4428-b64b-745badec49a5",
   "metadata": {},
   "source": [
    "## for weight"
   ]
  },
  {
   "cell_type": "code",
   "execution_count": 135,
   "id": "8955deb5-c837-4c6c-97d3-a785deee60e7",
   "metadata": {},
   "outputs": [],
   "source": [
    "weight_keywords = ['weight', 'grams', 'kg', 'lightweight', 'heavy']"
   ]
  },
  {
   "cell_type": "code",
   "execution_count": 136,
   "id": "c875e3ba-7ddb-4c89-8864-950dfa8b24ad",
   "metadata": {},
   "outputs": [],
   "source": [
    "def extract_weight_info(text):\n",
    "    if any(keyword in text.lower() for keyword in weight_keywords):\n",
    "        weight_info = re.findall(r'(\\d{2,3})\\s*(kg|grams|weight)', text)\n",
    "        return weight_info if weight_info else \"No specific weight info found\"\n",
    "    return \"No weight-related info in the text\""
   ]
  },
  {
   "cell_type": "code",
   "execution_count": 137,
   "id": "0bd29b93-3655-4552-b442-f74f2da59f71",
   "metadata": {},
   "outputs": [
    {
     "name": "stderr",
     "output_type": "stream",
     "text": [
      "C:\\Users\\DELL\\AppData\\Local\\Temp\\ipykernel_35804\\1452290450.py:1: SettingWithCopyWarning: \n",
      "A value is trying to be set on a copy of a slice from a DataFrame.\n",
      "Try using .loc[row_indexer,col_indexer] = value instead\n",
      "\n",
      "See the caveats in the documentation: https://pandas.pydata.org/pandas-docs/stable/user_guide/indexing.html#returning-a-view-versus-a-copy\n",
      "  iphone.loc[:, 'Weight_info'] = iphone['Text'].apply(extract_weight_info)\n"
     ]
    }
   ],
   "source": [
    "iphone.loc[:, 'Weight_info'] = iphone['Text'].apply(extract_weight_info)"
   ]
  },
  {
   "cell_type": "code",
   "execution_count": 138,
   "id": "08e5c415-d725-4dde-9a95-db996d51d7c5",
   "metadata": {},
   "outputs": [],
   "source": [
    "weight_df = iphone[['Model' , 'Weight_info','Text']]"
   ]
  },
  {
   "cell_type": "code",
   "execution_count": 139,
   "id": "f3d630e0-bcf3-415e-80e4-1fadd4d63bd2",
   "metadata": {},
   "outputs": [
    {
     "data": {
      "text/html": [
       "<div>\n",
       "<style scoped>\n",
       "    .dataframe tbody tr th:only-of-type {\n",
       "        vertical-align: middle;\n",
       "    }\n",
       "\n",
       "    .dataframe tbody tr th {\n",
       "        vertical-align: top;\n",
       "    }\n",
       "\n",
       "    .dataframe thead th {\n",
       "        text-align: right;\n",
       "    }\n",
       "</style>\n",
       "<table border=\"1\" class=\"dataframe\">\n",
       "  <thead>\n",
       "    <tr style=\"text-align: right;\">\n",
       "      <th></th>\n",
       "      <th>Model</th>\n",
       "      <th>Weight_info</th>\n",
       "      <th>Text</th>\n",
       "    </tr>\n",
       "  </thead>\n",
       "  <tbody>\n",
       "    <tr>\n",
       "      <th>2</th>\n",
       "      <td>iphone 11</td>\n",
       "      <td>No weight-related info in the text</td>\n",
       "      <td>I’ve been using my iPhone 11 for a few years n...</td>\n",
       "    </tr>\n",
       "    <tr>\n",
       "      <th>11</th>\n",
       "      <td>iphone 16</td>\n",
       "      <td>No weight-related info in the text</td>\n",
       "      <td>Hi! I have recently bought my iPhone 16 pro ma...</td>\n",
       "    </tr>\n",
       "    <tr>\n",
       "      <th>16</th>\n",
       "      <td>iphone 11</td>\n",
       "      <td>No weight-related info in the text</td>\n",
       "      <td>Hey, does someone know why I can’t install the...</td>\n",
       "    </tr>\n",
       "    <tr>\n",
       "      <th>20</th>\n",
       "      <td>iphone 15 pro</td>\n",
       "      <td>No weight-related info in the text</td>\n",
       "      <td>I recently noticed an issue on my iPhone after...</td>\n",
       "    </tr>\n",
       "    <tr>\n",
       "      <th>23</th>\n",
       "      <td>iphone 16 pro max</td>\n",
       "      <td>No specific weight info found</td>\n",
       "      <td>Someone PLEASE help\\nI recently got the iPhone...</td>\n",
       "    </tr>\n",
       "    <tr>\n",
       "      <th>...</th>\n",
       "      <td>...</td>\n",
       "      <td>...</td>\n",
       "      <td>...</td>\n",
       "    </tr>\n",
       "    <tr>\n",
       "      <th>8703</th>\n",
       "      <td>iphone 16 pro</td>\n",
       "      <td>No weight-related info in the text</td>\n",
       "      <td>Just got an iPhone 16 Pro and keep on getting ...</td>\n",
       "    </tr>\n",
       "    <tr>\n",
       "      <th>8888</th>\n",
       "      <td>iphone 16 pro</td>\n",
       "      <td>No weight-related info in the text</td>\n",
       "      <td>We're a few months into the iPhone 16 Pro: doe...</td>\n",
       "    </tr>\n",
       "    <tr>\n",
       "      <th>8979</th>\n",
       "      <td>iphone 13</td>\n",
       "      <td>No weight-related info in the text</td>\n",
       "      <td>Since the release of the iPhone 13 mini, I’ve ...</td>\n",
       "    </tr>\n",
       "    <tr>\n",
       "      <th>9041</th>\n",
       "      <td>iphone 8 plus</td>\n",
       "      <td>No weight-related info in the text</td>\n",
       "      <td>I have an iPhone 8 Plus that just lies around ...</td>\n",
       "    </tr>\n",
       "    <tr>\n",
       "      <th>9071</th>\n",
       "      <td>iphone 16 pro</td>\n",
       "      <td>No weight-related info in the text</td>\n",
       "      <td>I've only had my iPhone 16 Pro max for four ho...</td>\n",
       "    </tr>\n",
       "  </tbody>\n",
       "</table>\n",
       "<p>292 rows × 3 columns</p>\n",
       "</div>"
      ],
      "text/plain": [
       "                  Model                         Weight_info  \\\n",
       "2             iphone 11  No weight-related info in the text   \n",
       "11            iphone 16  No weight-related info in the text   \n",
       "16            iphone 11  No weight-related info in the text   \n",
       "20        iphone 15 pro  No weight-related info in the text   \n",
       "23    iphone 16 pro max       No specific weight info found   \n",
       "...                 ...                                 ...   \n",
       "8703      iphone 16 pro  No weight-related info in the text   \n",
       "8888      iphone 16 pro  No weight-related info in the text   \n",
       "8979          iphone 13  No weight-related info in the text   \n",
       "9041      iphone 8 plus  No weight-related info in the text   \n",
       "9071      iphone 16 pro  No weight-related info in the text   \n",
       "\n",
       "                                                   Text  \n",
       "2     I’ve been using my iPhone 11 for a few years n...  \n",
       "11    Hi! I have recently bought my iPhone 16 pro ma...  \n",
       "16    Hey, does someone know why I can’t install the...  \n",
       "20    I recently noticed an issue on my iPhone after...  \n",
       "23    Someone PLEASE help\\nI recently got the iPhone...  \n",
       "...                                                 ...  \n",
       "8703  Just got an iPhone 16 Pro and keep on getting ...  \n",
       "8888  We're a few months into the iPhone 16 Pro: doe...  \n",
       "8979  Since the release of the iPhone 13 mini, I’ve ...  \n",
       "9041  I have an iPhone 8 Plus that just lies around ...  \n",
       "9071  I've only had my iPhone 16 Pro max for four ho...  \n",
       "\n",
       "[292 rows x 3 columns]"
      ]
     },
     "execution_count": 139,
     "metadata": {},
     "output_type": "execute_result"
    }
   ],
   "source": [
    "weight_df"
   ]
  },
  {
   "cell_type": "code",
   "execution_count": 140,
   "id": "d1263cb3-b653-4f0c-a596-5fea7f419a17",
   "metadata": {},
   "outputs": [
    {
     "data": {
      "text/plain": [
       "Weight_info\n",
       "No weight-related info in the text    282\n",
       "No specific weight info found          10\n",
       "Name: count, dtype: int64"
      ]
     },
     "execution_count": 140,
     "metadata": {},
     "output_type": "execute_result"
    }
   ],
   "source": [
    "weight_df['Weight_info'].value_counts()"
   ]
  },
  {
   "cell_type": "code",
   "execution_count": 141,
   "id": "7c7e8cff-4d1b-4d36-9fb4-3d3893417bce",
   "metadata": {},
   "outputs": [],
   "source": [
    "Weight = weight_df[~weight_df['Weight_info'].isin([\"No weight-related info in the text\"])]"
   ]
  },
  {
   "cell_type": "code",
   "execution_count": 142,
   "id": "745ab9fa-0d8c-4532-864c-eeaba9f34dde",
   "metadata": {},
   "outputs": [
    {
     "data": {
      "text/html": [
       "<div>\n",
       "<style scoped>\n",
       "    .dataframe tbody tr th:only-of-type {\n",
       "        vertical-align: middle;\n",
       "    }\n",
       "\n",
       "    .dataframe tbody tr th {\n",
       "        vertical-align: top;\n",
       "    }\n",
       "\n",
       "    .dataframe thead th {\n",
       "        text-align: right;\n",
       "    }\n",
       "</style>\n",
       "<table border=\"1\" class=\"dataframe\">\n",
       "  <thead>\n",
       "    <tr style=\"text-align: right;\">\n",
       "      <th></th>\n",
       "      <th>Model</th>\n",
       "      <th>Weight_info</th>\n",
       "      <th>Text</th>\n",
       "    </tr>\n",
       "  </thead>\n",
       "  <tbody>\n",
       "    <tr>\n",
       "      <th>23</th>\n",
       "      <td>iphone 16 pro max</td>\n",
       "      <td>No specific weight info found</td>\n",
       "      <td>Someone PLEASE help\\nI recently got the iPhone...</td>\n",
       "    </tr>\n",
       "    <tr>\n",
       "      <th>197</th>\n",
       "      <td>iphone 15</td>\n",
       "      <td>No specific weight info found</td>\n",
       "      <td>My phone with a case is just too heavy. I wann...</td>\n",
       "    </tr>\n",
       "    <tr>\n",
       "      <th>389</th>\n",
       "      <td>iphone 11</td>\n",
       "      <td>No specific weight info found</td>\n",
       "      <td>This started happening around the 6th and has ...</td>\n",
       "    </tr>\n",
       "    <tr>\n",
       "      <th>527</th>\n",
       "      <td>iphone 14</td>\n",
       "      <td>No specific weight info found</td>\n",
       "      <td>My mother in law has dementia and forgets her ...</td>\n",
       "    </tr>\n",
       "    <tr>\n",
       "      <th>966</th>\n",
       "      <td>iphone 14</td>\n",
       "      <td>No specific weight info found</td>\n",
       "      <td>Personally, I would love to see Apple reintrod...</td>\n",
       "    </tr>\n",
       "    <tr>\n",
       "      <th>1948</th>\n",
       "      <td>iphone 14</td>\n",
       "      <td>No specific weight info found</td>\n",
       "      <td>Personally, I would love to see Apple reintrod...</td>\n",
       "    </tr>\n",
       "    <tr>\n",
       "      <th>1987</th>\n",
       "      <td>iphone 16 pro max</td>\n",
       "      <td>No specific weight info found</td>\n",
       "      <td>Someone PLEASE help\\nI recently got the iPhone...</td>\n",
       "    </tr>\n",
       "    <tr>\n",
       "      <th>3911</th>\n",
       "      <td>iphone 14</td>\n",
       "      <td>No specific weight info found</td>\n",
       "      <td>Personally, I would love to see Apple reintrod...</td>\n",
       "    </tr>\n",
       "    <tr>\n",
       "      <th>3950</th>\n",
       "      <td>iphone 16 pro max</td>\n",
       "      <td>No specific weight info found</td>\n",
       "      <td>Someone PLEASE help\\nI recently got the iPhone...</td>\n",
       "    </tr>\n",
       "    <tr>\n",
       "      <th>7835</th>\n",
       "      <td>iphone 14</td>\n",
       "      <td>No specific weight info found</td>\n",
       "      <td>Personally, I would love to see Apple reintrod...</td>\n",
       "    </tr>\n",
       "  </tbody>\n",
       "</table>\n",
       "</div>"
      ],
      "text/plain": [
       "                  Model                    Weight_info  \\\n",
       "23    iphone 16 pro max  No specific weight info found   \n",
       "197           iphone 15  No specific weight info found   \n",
       "389           iphone 11  No specific weight info found   \n",
       "527           iphone 14  No specific weight info found   \n",
       "966           iphone 14  No specific weight info found   \n",
       "1948          iphone 14  No specific weight info found   \n",
       "1987  iphone 16 pro max  No specific weight info found   \n",
       "3911          iphone 14  No specific weight info found   \n",
       "3950  iphone 16 pro max  No specific weight info found   \n",
       "7835          iphone 14  No specific weight info found   \n",
       "\n",
       "                                                   Text  \n",
       "23    Someone PLEASE help\\nI recently got the iPhone...  \n",
       "197   My phone with a case is just too heavy. I wann...  \n",
       "389   This started happening around the 6th and has ...  \n",
       "527   My mother in law has dementia and forgets her ...  \n",
       "966   Personally, I would love to see Apple reintrod...  \n",
       "1948  Personally, I would love to see Apple reintrod...  \n",
       "1987  Someone PLEASE help\\nI recently got the iPhone...  \n",
       "3911  Personally, I would love to see Apple reintrod...  \n",
       "3950  Someone PLEASE help\\nI recently got the iPhone...  \n",
       "7835  Personally, I would love to see Apple reintrod...  "
      ]
     },
     "execution_count": 142,
     "metadata": {},
     "output_type": "execute_result"
    }
   ],
   "source": [
    "Weight"
   ]
  },
  {
   "cell_type": "code",
   "execution_count": 143,
   "id": "4dbf4689-a34c-4584-aeb0-da1a71cac0ee",
   "metadata": {},
   "outputs": [
    {
     "name": "stderr",
     "output_type": "stream",
     "text": [
      "C:\\Users\\DELL\\AppData\\Local\\Temp\\ipykernel_35804\\3485673361.py:1: SettingWithCopyWarning: \n",
      "A value is trying to be set on a copy of a slice from a DataFrame.\n",
      "Try using .loc[row_indexer,col_indexer] = value instead\n",
      "\n",
      "See the caveats in the documentation: https://pandas.pydata.org/pandas-docs/stable/user_guide/indexing.html#returning-a-view-versus-a-copy\n",
      "  Weight['Weight_info'] = Weight['Weight_info'].apply(tuple)\n",
      "C:\\Users\\DELL\\AppData\\Local\\Temp\\ipykernel_35804\\3485673361.py:2: SettingWithCopyWarning: \n",
      "A value is trying to be set on a copy of a slice from a DataFrame.\n",
      "Try using .loc[row_indexer,col_indexer] = value instead\n",
      "\n",
      "See the caveats in the documentation: https://pandas.pydata.org/pandas-docs/stable/user_guide/indexing.html#returning-a-view-versus-a-copy\n",
      "  Weight['Text'] = Weight['Text'].apply(tuple)\n"
     ]
    }
   ],
   "source": [
    "Weight['Weight_info'] = Weight['Weight_info'].apply(tuple)\n",
    "Weight['Text'] = Weight['Text'].apply(tuple)"
   ]
  },
  {
   "cell_type": "code",
   "execution_count": 144,
   "id": "0acf5839-fb56-4091-967c-8351bdc8364b",
   "metadata": {},
   "outputs": [
    {
     "name": "stdout",
     "output_type": "stream",
     "text": [
      "<class 'pandas.core.frame.DataFrame'>\n",
      "Index: 5 entries, 23 to 966\n",
      "Data columns (total 3 columns):\n",
      " #   Column       Non-Null Count  Dtype \n",
      "---  ------       --------------  ----- \n",
      " 0   Model        5 non-null      object\n",
      " 1   Weight_info  5 non-null      object\n",
      " 2   Text         5 non-null      object\n",
      "dtypes: object(3)\n",
      "memory usage: 160.0+ bytes\n"
     ]
    }
   ],
   "source": [
    "Weight = Weight.drop_duplicates()\n",
    "Weight.info()"
   ]
  },
  {
   "cell_type": "code",
   "execution_count": 145,
   "id": "86bcc2e4-0cf5-4474-b61d-24200f950c99",
   "metadata": {},
   "outputs": [
    {
     "name": "stderr",
     "output_type": "stream",
     "text": [
      "C:\\Users\\DELL\\AppData\\Local\\Temp\\ipykernel_35804\\3003127899.py:1: SettingWithCopyWarning: \n",
      "A value is trying to be set on a copy of a slice from a DataFrame.\n",
      "Try using .loc[row_indexer,col_indexer] = value instead\n",
      "\n",
      "See the caveats in the documentation: https://pandas.pydata.org/pandas-docs/stable/user_guide/indexing.html#returning-a-view-versus-a-copy\n",
      "  Weight['Sentiment'] = Weight['Text'].apply(lambda x: get_sentiment_score(x))\n"
     ]
    }
   ],
   "source": [
    "Weight['Sentiment'] = Weight['Text'].apply(lambda x: get_sentiment_score(x))"
   ]
  },
  {
   "cell_type": "code",
   "execution_count": 146,
   "id": "1b8895f6-2215-4b56-a874-beace84f1b43",
   "metadata": {},
   "outputs": [
    {
     "name": "stdout",
     "output_type": "stream",
     "text": [
      "<class 'pandas.core.frame.DataFrame'>\n",
      "Index: 5 entries, 23 to 966\n",
      "Data columns (total 4 columns):\n",
      " #   Column       Non-Null Count  Dtype  \n",
      "---  ------       --------------  -----  \n",
      " 0   Model        5 non-null      object \n",
      " 1   Weight_info  5 non-null      object \n",
      " 2   Text         5 non-null      object \n",
      " 3   Sentiment    5 non-null      float64\n",
      "dtypes: float64(1), object(3)\n",
      "memory usage: 200.0+ bytes\n"
     ]
    }
   ],
   "source": [
    "Weight.info()"
   ]
  },
  {
   "cell_type": "code",
   "execution_count": 147,
   "id": "94e90ff4-7b1b-4422-8a7e-aea9b4bbe85e",
   "metadata": {},
   "outputs": [
    {
     "data": {
      "text/html": [
       "<div>\n",
       "<style scoped>\n",
       "    .dataframe tbody tr th:only-of-type {\n",
       "        vertical-align: middle;\n",
       "    }\n",
       "\n",
       "    .dataframe tbody tr th {\n",
       "        vertical-align: top;\n",
       "    }\n",
       "\n",
       "    .dataframe thead th {\n",
       "        text-align: right;\n",
       "    }\n",
       "</style>\n",
       "<table border=\"1\" class=\"dataframe\">\n",
       "  <thead>\n",
       "    <tr style=\"text-align: right;\">\n",
       "      <th></th>\n",
       "      <th>Model</th>\n",
       "      <th>Sentiment</th>\n",
       "    </tr>\n",
       "  </thead>\n",
       "  <tbody>\n",
       "    <tr>\n",
       "      <th>0</th>\n",
       "      <td>iphone 11</td>\n",
       "      <td>0.1877</td>\n",
       "    </tr>\n",
       "    <tr>\n",
       "      <th>1</th>\n",
       "      <td>iphone 14</td>\n",
       "      <td>0.0807</td>\n",
       "    </tr>\n",
       "    <tr>\n",
       "      <th>2</th>\n",
       "      <td>iphone 15</td>\n",
       "      <td>0.4767</td>\n",
       "    </tr>\n",
       "    <tr>\n",
       "      <th>3</th>\n",
       "      <td>iphone 16 pro max</td>\n",
       "      <td>0.8365</td>\n",
       "    </tr>\n",
       "  </tbody>\n",
       "</table>\n",
       "</div>"
      ],
      "text/plain": [
       "               Model  Sentiment\n",
       "0          iphone 11     0.1877\n",
       "1          iphone 14     0.0807\n",
       "2          iphone 15     0.4767\n",
       "3  iphone 16 pro max     0.8365"
      ]
     },
     "execution_count": 147,
     "metadata": {},
     "output_type": "execute_result"
    }
   ],
   "source": [
    "Weight_Modelwise = Weight.groupby('Model')['Sentiment'].mean().reset_index()\n",
    "Weight_Modelwise"
   ]
  },
  {
   "cell_type": "code",
   "execution_count": 148,
   "id": "2774a71e-a6bf-4c68-a0ec-2edb2e12a6b9",
   "metadata": {},
   "outputs": [
    {
     "data": {
      "image/png": "[encoded data removed]",
      "text/plain": [
       "<Figure size 1200x600 with 1 Axes>"
      ]
     },
     "metadata": {},
     "output_type": "display_data"
    }
   ],
   "source": [
    "plt.figure(figsize=(12, 6))\n",
    "plt.bar(Weight_Modelwise['Model'], Weight_Modelwise['Sentiment'], color='skyblue')\n",
    "plt.xlabel('iPhone Model',size = 14)\n",
    "plt.ylabel('Average Sentiment Score', size = 14)\n",
    "plt.xticks(rotation=0 , size =10)\n",
    "plt.show()"
   ]
  },
  {
   "cell_type": "markdown",
   "id": "d4155847-a88a-414e-9fbc-d3165425be50",
   "metadata": {},
   "source": [
    "## for Biometrics"
   ]
  },
  {
   "cell_type": "code",
   "execution_count": 149,
   "id": "fce1715a-f2e1-4d62-9734-b16b37c68cfe",
   "metadata": {},
   "outputs": [],
   "source": [
    "biometrics_keywords = ['Face ID', 'fingerprint', 'biometric', 'sensor']"
   ]
  },
  {
   "cell_type": "code",
   "execution_count": 150,
   "id": "dda4abab-9955-4e1e-b2a9-f53130ed2a92",
   "metadata": {},
   "outputs": [],
   "source": [
    "def extract_biometrics_info(text):\n",
    "    if any(keyword in text.lower() for keyword in biometrics_keywords):\n",
    "        biometrics_info = re.findall(r'(Face ID|fingerprint|biometric|sensor)', text)\n",
    "        return biometrics_info if biometrics_info else \"No specific biometrics info found\"\n",
    "    return \"No biometrics-related info in the text\""
   ]
  },
  {
   "cell_type": "code",
   "execution_count": 151,
   "id": "b997df43-46db-47ba-b71c-f43627cd8976",
   "metadata": {},
   "outputs": [
    {
     "name": "stderr",
     "output_type": "stream",
     "text": [
      "C:\\Users\\DELL\\AppData\\Local\\Temp\\ipykernel_35804\\3433365878.py:1: SettingWithCopyWarning: \n",
      "A value is trying to be set on a copy of a slice from a DataFrame.\n",
      "Try using .loc[row_indexer,col_indexer] = value instead\n",
      "\n",
      "See the caveats in the documentation: https://pandas.pydata.org/pandas-docs/stable/user_guide/indexing.html#returning-a-view-versus-a-copy\n",
      "  iphone.loc[:, 'Biometrics_info'] = iphone['Text'].apply(extract_biometrics_info)\n"
     ]
    }
   ],
   "source": [
    "iphone.loc[:, 'Biometrics_info'] = iphone['Text'].apply(extract_biometrics_info)"
   ]
  },
  {
   "cell_type": "code",
   "execution_count": 152,
   "id": "cbda8764-913f-45de-8ba2-ffedfa18cf8b",
   "metadata": {},
   "outputs": [],
   "source": [
    "biometrics_df = iphone[['Model' , 'Biometrics_info','Text']]"
   ]
  },
  {
   "cell_type": "code",
   "execution_count": 153,
   "id": "eec84f33-e78e-4f33-b904-b61a2c41150e",
   "metadata": {},
   "outputs": [
    {
     "data": {
      "text/html": [
       "<div>\n",
       "<style scoped>\n",
       "    .dataframe tbody tr th:only-of-type {\n",
       "        vertical-align: middle;\n",
       "    }\n",
       "\n",
       "    .dataframe tbody tr th {\n",
       "        vertical-align: top;\n",
       "    }\n",
       "\n",
       "    .dataframe thead th {\n",
       "        text-align: right;\n",
       "    }\n",
       "</style>\n",
       "<table border=\"1\" class=\"dataframe\">\n",
       "  <thead>\n",
       "    <tr style=\"text-align: right;\">\n",
       "      <th></th>\n",
       "      <th>Model</th>\n",
       "      <th>Biometrics_info</th>\n",
       "      <th>Text</th>\n",
       "    </tr>\n",
       "  </thead>\n",
       "  <tbody>\n",
       "    <tr>\n",
       "      <th>2</th>\n",
       "      <td>iphone 11</td>\n",
       "      <td>No biometrics-related info in the text</td>\n",
       "      <td>I’ve been using my iPhone 11 for a few years n...</td>\n",
       "    </tr>\n",
       "    <tr>\n",
       "      <th>11</th>\n",
       "      <td>iphone 16</td>\n",
       "      <td>No biometrics-related info in the text</td>\n",
       "      <td>Hi! I have recently bought my iPhone 16 pro ma...</td>\n",
       "    </tr>\n",
       "    <tr>\n",
       "      <th>16</th>\n",
       "      <td>iphone 11</td>\n",
       "      <td>No biometrics-related info in the text</td>\n",
       "      <td>Hey, does someone know why I can’t install the...</td>\n",
       "    </tr>\n",
       "    <tr>\n",
       "      <th>20</th>\n",
       "      <td>iphone 15 pro</td>\n",
       "      <td>No biometrics-related info in the text</td>\n",
       "      <td>I recently noticed an issue on my iPhone after...</td>\n",
       "    </tr>\n",
       "    <tr>\n",
       "      <th>23</th>\n",
       "      <td>iphone 16 pro max</td>\n",
       "      <td>No biometrics-related info in the text</td>\n",
       "      <td>Someone PLEASE help\\nI recently got the iPhone...</td>\n",
       "    </tr>\n",
       "    <tr>\n",
       "      <th>...</th>\n",
       "      <td>...</td>\n",
       "      <td>...</td>\n",
       "      <td>...</td>\n",
       "    </tr>\n",
       "    <tr>\n",
       "      <th>8703</th>\n",
       "      <td>iphone 16 pro</td>\n",
       "      <td>No biometrics-related info in the text</td>\n",
       "      <td>Just got an iPhone 16 Pro and keep on getting ...</td>\n",
       "    </tr>\n",
       "    <tr>\n",
       "      <th>8888</th>\n",
       "      <td>iphone 16 pro</td>\n",
       "      <td>No biometrics-related info in the text</td>\n",
       "      <td>We're a few months into the iPhone 16 Pro: doe...</td>\n",
       "    </tr>\n",
       "    <tr>\n",
       "      <th>8979</th>\n",
       "      <td>iphone 13</td>\n",
       "      <td>No biometrics-related info in the text</td>\n",
       "      <td>Since the release of the iPhone 13 mini, I’ve ...</td>\n",
       "    </tr>\n",
       "    <tr>\n",
       "      <th>9041</th>\n",
       "      <td>iphone 8 plus</td>\n",
       "      <td>No biometrics-related info in the text</td>\n",
       "      <td>I have an iPhone 8 Plus that just lies around ...</td>\n",
       "    </tr>\n",
       "    <tr>\n",
       "      <th>9071</th>\n",
       "      <td>iphone 16 pro</td>\n",
       "      <td>No biometrics-related info in the text</td>\n",
       "      <td>I've only had my iPhone 16 Pro max for four ho...</td>\n",
       "    </tr>\n",
       "  </tbody>\n",
       "</table>\n",
       "<p>292 rows × 3 columns</p>\n",
       "</div>"
      ],
      "text/plain": [
       "                  Model                         Biometrics_info  \\\n",
       "2             iphone 11  No biometrics-related info in the text   \n",
       "11            iphone 16  No biometrics-related info in the text   \n",
       "16            iphone 11  No biometrics-related info in the text   \n",
       "20        iphone 15 pro  No biometrics-related info in the text   \n",
       "23    iphone 16 pro max  No biometrics-related info in the text   \n",
       "...                 ...                                     ...   \n",
       "8703      iphone 16 pro  No biometrics-related info in the text   \n",
       "8888      iphone 16 pro  No biometrics-related info in the text   \n",
       "8979          iphone 13  No biometrics-related info in the text   \n",
       "9041      iphone 8 plus  No biometrics-related info in the text   \n",
       "9071      iphone 16 pro  No biometrics-related info in the text   \n",
       "\n",
       "                                                   Text  \n",
       "2     I’ve been using my iPhone 11 for a few years n...  \n",
       "11    Hi! I have recently bought my iPhone 16 pro ma...  \n",
       "16    Hey, does someone know why I can’t install the...  \n",
       "20    I recently noticed an issue on my iPhone after...  \n",
       "23    Someone PLEASE help\\nI recently got the iPhone...  \n",
       "...                                                 ...  \n",
       "8703  Just got an iPhone 16 Pro and keep on getting ...  \n",
       "8888  We're a few months into the iPhone 16 Pro: doe...  \n",
       "8979  Since the release of the iPhone 13 mini, I’ve ...  \n",
       "9041  I have an iPhone 8 Plus that just lies around ...  \n",
       "9071  I've only had my iPhone 16 Pro max for four ho...  \n",
       "\n",
       "[292 rows x 3 columns]"
      ]
     },
     "execution_count": 153,
     "metadata": {},
     "output_type": "execute_result"
    }
   ],
   "source": [
    "biometrics_df"
   ]
  },
  {
   "cell_type": "code",
   "execution_count": 154,
   "id": "4971f114-88ce-4ed3-b6c3-5f0408afb269",
   "metadata": {},
   "outputs": [
    {
     "data": {
      "text/plain": [
       "Biometrics_info\n",
       "No biometrics-related info in the text    292\n",
       "Name: count, dtype: int64"
      ]
     },
     "execution_count": 154,
     "metadata": {},
     "output_type": "execute_result"
    }
   ],
   "source": [
    "biometrics_df['Biometrics_info'].value_counts()"
   ]
  },
  {
   "cell_type": "markdown",
   "id": "ee578cb9-9194-415c-9dba-f95da5a16b77",
   "metadata": {},
   "source": [
    "## for Processor "
   ]
  },
  {
   "cell_type": "code",
   "execution_count": 155,
   "id": "f2877fed-80b5-4670-992a-dba838092818",
   "metadata": {},
   "outputs": [],
   "source": [
    "processor_keywords = ['processor', 'chipset', 'A\\d{1,2}', 'Snapdragon', 'Exynos', 'Apple', 'GPU', 'performance'] "
   ]
  },
  {
   "cell_type": "code",
   "execution_count": 156,
   "id": "19644b79-cf59-49ef-a72f-935533bc5dfc",
   "metadata": {},
   "outputs": [],
   "source": [
    "def extract_processor_info(text):\n",
    "    if any(keyword in text.lower() for keyword in processor_keywords):\n",
    "        processor_info = re.findall(r'(A\\d{1,2}|Snapdragon|Exynos|Apple|GPU|processor|performance)', text)\n",
    "        return processor_info if processor_info else \"No specific processor info found\"\n",
    "    return \"No processor-related info in the text\""
   ]
  },
  {
   "cell_type": "code",
   "execution_count": 157,
   "id": "5c5bb8bb-bf10-480f-94c7-b09a3f454d9a",
   "metadata": {},
   "outputs": [
    {
     "name": "stderr",
     "output_type": "stream",
     "text": [
      "C:\\Users\\DELL\\AppData\\Local\\Temp\\ipykernel_35804\\317251498.py:1: SettingWithCopyWarning: \n",
      "A value is trying to be set on a copy of a slice from a DataFrame.\n",
      "Try using .loc[row_indexer,col_indexer] = value instead\n",
      "\n",
      "See the caveats in the documentation: https://pandas.pydata.org/pandas-docs/stable/user_guide/indexing.html#returning-a-view-versus-a-copy\n",
      "  iphone.loc[:, 'Processor_info'] = iphone['Text'].apply(extract_processor_info)\n"
     ]
    }
   ],
   "source": [
    "iphone.loc[:, 'Processor_info'] = iphone['Text'].apply(extract_processor_info)"
   ]
  },
  {
   "cell_type": "code",
   "execution_count": 158,
   "id": "d2c7b35e-3c95-4ffd-8570-f1aef4d20ddc",
   "metadata": {},
   "outputs": [],
   "source": [
    "processor_df = iphone[['Model' , 'Processor_info','Text']]"
   ]
  },
  {
   "cell_type": "code",
   "execution_count": 159,
   "id": "45fcc2c3-139d-42cf-9d54-8561f0f4ccc7",
   "metadata": {},
   "outputs": [
    {
     "data": {
      "text/html": [
       "<div>\n",
       "<style scoped>\n",
       "    .dataframe tbody tr th:only-of-type {\n",
       "        vertical-align: middle;\n",
       "    }\n",
       "\n",
       "    .dataframe tbody tr th {\n",
       "        vertical-align: top;\n",
       "    }\n",
       "\n",
       "    .dataframe thead th {\n",
       "        text-align: right;\n",
       "    }\n",
       "</style>\n",
       "<table border=\"1\" class=\"dataframe\">\n",
       "  <thead>\n",
       "    <tr style=\"text-align: right;\">\n",
       "      <th></th>\n",
       "      <th>Model</th>\n",
       "      <th>Processor_info</th>\n",
       "      <th>Text</th>\n",
       "    </tr>\n",
       "  </thead>\n",
       "  <tbody>\n",
       "    <tr>\n",
       "      <th>2</th>\n",
       "      <td>iphone 11</td>\n",
       "      <td>No processor-related info in the text</td>\n",
       "      <td>I’ve been using my iPhone 11 for a few years n...</td>\n",
       "    </tr>\n",
       "    <tr>\n",
       "      <th>11</th>\n",
       "      <td>iphone 16</td>\n",
       "      <td>No processor-related info in the text</td>\n",
       "      <td>Hi! I have recently bought my iPhone 16 pro ma...</td>\n",
       "    </tr>\n",
       "    <tr>\n",
       "      <th>16</th>\n",
       "      <td>iphone 11</td>\n",
       "      <td>No processor-related info in the text</td>\n",
       "      <td>Hey, does someone know why I can’t install the...</td>\n",
       "    </tr>\n",
       "    <tr>\n",
       "      <th>20</th>\n",
       "      <td>iphone 15 pro</td>\n",
       "      <td>No processor-related info in the text</td>\n",
       "      <td>I recently noticed an issue on my iPhone after...</td>\n",
       "    </tr>\n",
       "    <tr>\n",
       "      <th>23</th>\n",
       "      <td>iphone 16 pro max</td>\n",
       "      <td>No processor-related info in the text</td>\n",
       "      <td>Someone PLEASE help\\nI recently got the iPhone...</td>\n",
       "    </tr>\n",
       "    <tr>\n",
       "      <th>...</th>\n",
       "      <td>...</td>\n",
       "      <td>...</td>\n",
       "      <td>...</td>\n",
       "    </tr>\n",
       "    <tr>\n",
       "      <th>8703</th>\n",
       "      <td>iphone 16 pro</td>\n",
       "      <td>No processor-related info in the text</td>\n",
       "      <td>Just got an iPhone 16 Pro and keep on getting ...</td>\n",
       "    </tr>\n",
       "    <tr>\n",
       "      <th>8888</th>\n",
       "      <td>iphone 16 pro</td>\n",
       "      <td>No processor-related info in the text</td>\n",
       "      <td>We're a few months into the iPhone 16 Pro: doe...</td>\n",
       "    </tr>\n",
       "    <tr>\n",
       "      <th>8979</th>\n",
       "      <td>iphone 13</td>\n",
       "      <td>No processor-related info in the text</td>\n",
       "      <td>Since the release of the iPhone 13 mini, I’ve ...</td>\n",
       "    </tr>\n",
       "    <tr>\n",
       "      <th>9041</th>\n",
       "      <td>iphone 8 plus</td>\n",
       "      <td>No processor-related info in the text</td>\n",
       "      <td>I have an iPhone 8 Plus that just lies around ...</td>\n",
       "    </tr>\n",
       "    <tr>\n",
       "      <th>9071</th>\n",
       "      <td>iphone 16 pro</td>\n",
       "      <td>No processor-related info in the text</td>\n",
       "      <td>I've only had my iPhone 16 Pro max for four ho...</td>\n",
       "    </tr>\n",
       "  </tbody>\n",
       "</table>\n",
       "<p>292 rows × 3 columns</p>\n",
       "</div>"
      ],
      "text/plain": [
       "                  Model                         Processor_info  \\\n",
       "2             iphone 11  No processor-related info in the text   \n",
       "11            iphone 16  No processor-related info in the text   \n",
       "16            iphone 11  No processor-related info in the text   \n",
       "20        iphone 15 pro  No processor-related info in the text   \n",
       "23    iphone 16 pro max  No processor-related info in the text   \n",
       "...                 ...                                    ...   \n",
       "8703      iphone 16 pro  No processor-related info in the text   \n",
       "8888      iphone 16 pro  No processor-related info in the text   \n",
       "8979          iphone 13  No processor-related info in the text   \n",
       "9041      iphone 8 plus  No processor-related info in the text   \n",
       "9071      iphone 16 pro  No processor-related info in the text   \n",
       "\n",
       "                                                   Text  \n",
       "2     I’ve been using my iPhone 11 for a few years n...  \n",
       "11    Hi! I have recently bought my iPhone 16 pro ma...  \n",
       "16    Hey, does someone know why I can’t install the...  \n",
       "20    I recently noticed an issue on my iPhone after...  \n",
       "23    Someone PLEASE help\\nI recently got the iPhone...  \n",
       "...                                                 ...  \n",
       "8703  Just got an iPhone 16 Pro and keep on getting ...  \n",
       "8888  We're a few months into the iPhone 16 Pro: doe...  \n",
       "8979  Since the release of the iPhone 13 mini, I’ve ...  \n",
       "9041  I have an iPhone 8 Plus that just lies around ...  \n",
       "9071  I've only had my iPhone 16 Pro max for four ho...  \n",
       "\n",
       "[292 rows x 3 columns]"
      ]
     },
     "execution_count": 159,
     "metadata": {},
     "output_type": "execute_result"
    }
   ],
   "source": [
    "processor_df"
   ]
  },
  {
   "cell_type": "code",
   "execution_count": 160,
   "id": "8c721eb9-4d88-45e5-aafe-0729e0b76dde",
   "metadata": {},
   "outputs": [
    {
     "data": {
      "text/plain": [
       "Processor_info\n",
       "No processor-related info in the text    286\n",
       "[performance, A14]                         5\n",
       "[performance]                              1\n",
       "Name: count, dtype: int64"
      ]
     },
     "execution_count": 160,
     "metadata": {},
     "output_type": "execute_result"
    }
   ],
   "source": [
    "processor_df['Processor_info'].value_counts()"
   ]
  },
  {
   "cell_type": "code",
   "execution_count": 161,
   "id": "69ee7352-4d2f-47b1-bdf3-1ad32e18b9f3",
   "metadata": {},
   "outputs": [],
   "source": [
    "Processor = processor_df[~processor_df['Processor_info'].isin([\"No processor-related info in the text\"])]"
   ]
  },
  {
   "cell_type": "code",
   "execution_count": 162,
   "id": "ea5ed6a8-e7fd-4771-8068-93f3ba3418f3",
   "metadata": {},
   "outputs": [
    {
     "data": {
      "text/html": [
       "<div>\n",
       "<style scoped>\n",
       "    .dataframe tbody tr th:only-of-type {\n",
       "        vertical-align: middle;\n",
       "    }\n",
       "\n",
       "    .dataframe tbody tr th {\n",
       "        vertical-align: top;\n",
       "    }\n",
       "\n",
       "    .dataframe thead th {\n",
       "        text-align: right;\n",
       "    }\n",
       "</style>\n",
       "<table border=\"1\" class=\"dataframe\">\n",
       "  <thead>\n",
       "    <tr style=\"text-align: right;\">\n",
       "      <th></th>\n",
       "      <th>Model</th>\n",
       "      <th>Processor_info</th>\n",
       "      <th>Text</th>\n",
       "    </tr>\n",
       "  </thead>\n",
       "  <tbody>\n",
       "    <tr>\n",
       "      <th>641</th>\n",
       "      <td>iphone 7</td>\n",
       "      <td>[performance, A14]</td>\n",
       "      <td>Hi there,\\n\\nAndroid parent here. My 11yo want...</td>\n",
       "    </tr>\n",
       "    <tr>\n",
       "      <th>672</th>\n",
       "      <td>iphone 15 plus</td>\n",
       "      <td>[performance]</td>\n",
       "      <td>Hey everyone, \\n\\nI'm experiencing some annoyi...</td>\n",
       "    </tr>\n",
       "    <tr>\n",
       "      <th>1623</th>\n",
       "      <td>iphone 7</td>\n",
       "      <td>[performance, A14]</td>\n",
       "      <td>Hi there,\\n\\nAndroid parent here. My 11yo want...</td>\n",
       "    </tr>\n",
       "    <tr>\n",
       "      <th>2605</th>\n",
       "      <td>iphone 7</td>\n",
       "      <td>[performance, A14]</td>\n",
       "      <td>Hi there,\\n\\nAndroid parent here. My 11yo want...</td>\n",
       "    </tr>\n",
       "    <tr>\n",
       "      <th>4567</th>\n",
       "      <td>iphone 7</td>\n",
       "      <td>[performance, A14]</td>\n",
       "      <td>Hi there,\\n\\nAndroid parent here. My 11yo want...</td>\n",
       "    </tr>\n",
       "    <tr>\n",
       "      <th>5548</th>\n",
       "      <td>iphone 7</td>\n",
       "      <td>[performance, A14]</td>\n",
       "      <td>Hi there,\\n\\nAndroid parent here. My 11yo want...</td>\n",
       "    </tr>\n",
       "  </tbody>\n",
       "</table>\n",
       "</div>"
      ],
      "text/plain": [
       "               Model      Processor_info  \\\n",
       "641         iphone 7  [performance, A14]   \n",
       "672   iphone 15 plus       [performance]   \n",
       "1623        iphone 7  [performance, A14]   \n",
       "2605        iphone 7  [performance, A14]   \n",
       "4567        iphone 7  [performance, A14]   \n",
       "5548        iphone 7  [performance, A14]   \n",
       "\n",
       "                                                   Text  \n",
       "641   Hi there,\\n\\nAndroid parent here. My 11yo want...  \n",
       "672   Hey everyone, \\n\\nI'm experiencing some annoyi...  \n",
       "1623  Hi there,\\n\\nAndroid parent here. My 11yo want...  \n",
       "2605  Hi there,\\n\\nAndroid parent here. My 11yo want...  \n",
       "4567  Hi there,\\n\\nAndroid parent here. My 11yo want...  \n",
       "5548  Hi there,\\n\\nAndroid parent here. My 11yo want...  "
      ]
     },
     "execution_count": 162,
     "metadata": {},
     "output_type": "execute_result"
    }
   ],
   "source": [
    "Processor"
   ]
  },
  {
   "cell_type": "code",
   "execution_count": 163,
   "id": "a5a976b7-04ce-4461-bb89-1d65078ab736",
   "metadata": {},
   "outputs": [
    {
     "name": "stderr",
     "output_type": "stream",
     "text": [
      "C:\\Users\\DELL\\AppData\\Local\\Temp\\ipykernel_35804\\268342292.py:1: SettingWithCopyWarning: \n",
      "A value is trying to be set on a copy of a slice from a DataFrame.\n",
      "Try using .loc[row_indexer,col_indexer] = value instead\n",
      "\n",
      "See the caveats in the documentation: https://pandas.pydata.org/pandas-docs/stable/user_guide/indexing.html#returning-a-view-versus-a-copy\n",
      "  Processor['Processor_info'] = Processor['Processor_info'].apply(tuple)\n",
      "C:\\Users\\DELL\\AppData\\Local\\Temp\\ipykernel_35804\\268342292.py:2: SettingWithCopyWarning: \n",
      "A value is trying to be set on a copy of a slice from a DataFrame.\n",
      "Try using .loc[row_indexer,col_indexer] = value instead\n",
      "\n",
      "See the caveats in the documentation: https://pandas.pydata.org/pandas-docs/stable/user_guide/indexing.html#returning-a-view-versus-a-copy\n",
      "  Processor['Text'] = Processor['Text'].apply(tuple)\n"
     ]
    }
   ],
   "source": [
    "Processor['Processor_info'] = Processor['Processor_info'].apply(tuple)\n",
    "Processor['Text'] = Processor['Text'].apply(tuple)"
   ]
  },
  {
   "cell_type": "code",
   "execution_count": 164,
   "id": "48268e8b-a710-4906-a01e-ccf5151d18f3",
   "metadata": {},
   "outputs": [
    {
     "name": "stdout",
     "output_type": "stream",
     "text": [
      "<class 'pandas.core.frame.DataFrame'>\n",
      "Index: 2 entries, 641 to 672\n",
      "Data columns (total 3 columns):\n",
      " #   Column          Non-Null Count  Dtype \n",
      "---  ------          --------------  ----- \n",
      " 0   Model           2 non-null      object\n",
      " 1   Processor_info  2 non-null      object\n",
      " 2   Text            2 non-null      object\n",
      "dtypes: object(3)\n",
      "memory usage: 64.0+ bytes\n"
     ]
    }
   ],
   "source": [
    "Processor = Processor.drop_duplicates()\n",
    "Processor.info()"
   ]
  },
  {
   "cell_type": "code",
   "execution_count": 165,
   "id": "50a70505-9997-4b4c-b47e-e3db805771a1",
   "metadata": {},
   "outputs": [
    {
     "name": "stderr",
     "output_type": "stream",
     "text": [
      "C:\\Users\\DELL\\AppData\\Local\\Temp\\ipykernel_35804\\823161481.py:1: SettingWithCopyWarning: \n",
      "A value is trying to be set on a copy of a slice from a DataFrame.\n",
      "Try using .loc[row_indexer,col_indexer] = value instead\n",
      "\n",
      "See the caveats in the documentation: https://pandas.pydata.org/pandas-docs/stable/user_guide/indexing.html#returning-a-view-versus-a-copy\n",
      "  Processor['Sentiment'] = Processor['Text'].apply(lambda x: get_sentiment_score(x))\n"
     ]
    }
   ],
   "source": [
    "Processor['Sentiment'] = Processor['Text'].apply(lambda x: get_sentiment_score(x))"
   ]
  },
  {
   "cell_type": "code",
   "execution_count": 166,
   "id": "2c94e8b1-627a-4bb8-a1cb-a34a703909e1",
   "metadata": {},
   "outputs": [
    {
     "data": {
      "text/html": [
       "<div>\n",
       "<style scoped>\n",
       "    .dataframe tbody tr th:only-of-type {\n",
       "        vertical-align: middle;\n",
       "    }\n",
       "\n",
       "    .dataframe tbody tr th {\n",
       "        vertical-align: top;\n",
       "    }\n",
       "\n",
       "    .dataframe thead th {\n",
       "        text-align: right;\n",
       "    }\n",
       "</style>\n",
       "<table border=\"1\" class=\"dataframe\">\n",
       "  <thead>\n",
       "    <tr style=\"text-align: right;\">\n",
       "      <th></th>\n",
       "      <th>Model</th>\n",
       "      <th>Sentiment</th>\n",
       "    </tr>\n",
       "  </thead>\n",
       "  <tbody>\n",
       "    <tr>\n",
       "      <th>0</th>\n",
       "      <td>iphone 15 plus</td>\n",
       "      <td>0.2406</td>\n",
       "    </tr>\n",
       "    <tr>\n",
       "      <th>1</th>\n",
       "      <td>iphone 7</td>\n",
       "      <td>0.7414</td>\n",
       "    </tr>\n",
       "  </tbody>\n",
       "</table>\n",
       "</div>"
      ],
      "text/plain": [
       "            Model  Sentiment\n",
       "0  iphone 15 plus     0.2406\n",
       "1        iphone 7     0.7414"
      ]
     },
     "execution_count": 166,
     "metadata": {},
     "output_type": "execute_result"
    }
   ],
   "source": [
    "Speed_Modelwise = Processor.groupby('Model')['Sentiment'].mean().reset_index()\n",
    "Speed_Modelwise"
   ]
  },
  {
   "cell_type": "code",
   "execution_count": 167,
   "id": "1f8ccdc4-824e-4af7-92b6-1a4df718ef34",
   "metadata": {},
   "outputs": [
    {
     "data": {
      "image/png": "[encoded data removed]",
      "text/plain": [
       "<Figure size 1200x600 with 1 Axes>"
      ]
     },
     "metadata": {},
     "output_type": "display_data"
    }
   ],
   "source": [
    "plt.figure(figsize=(12, 6))\n",
    "plt.bar(Speed_Modelwise['Model'], Speed_Modelwise['Sentiment'], color='skyblue')\n",
    "plt.xlabel('iPhone Model',size = 14)\n",
    "plt.ylabel('Average Sentiment Score', size = 14)\n",
    "plt.xticks(rotation=0 , size =10)\n",
    "plt.show()"
   ]
  },
  {
   "cell_type": "markdown",
   "id": "b9b307a8-6db8-48e6-864e-86b7ebb9b73f",
   "metadata": {},
   "source": [
    "# About RAM"
   ]
  },
  {
   "cell_type": "code",
   "execution_count": 168,
   "id": "a29af036-c059-4410-8ef0-40e4c60d0bd2",
   "metadata": {},
   "outputs": [],
   "source": [
    "ram_keywords = ['RAM', 'memory', 'GB', 'gigabytes', 'DDR[4-5]']"
   ]
  },
  {
   "cell_type": "code",
   "execution_count": 169,
   "id": "e745d771-89ba-47c4-85ed-d553d0c15d24",
   "metadata": {},
   "outputs": [],
   "source": [
    "def extract_ram_info(text):\n",
    "    if any(keyword in text.lower() for keyword in ram_keywords):\n",
    "        ram_info = re.findall(r'(\\d{1,4})\\s*(GB|gigabytes|DDR[4-5])', text)\n",
    "        return ram_info if ram_info else \"No specific RAM info found\"\n",
    "    return \"No RAM-related info in the text\""
   ]
  },
  {
   "cell_type": "code",
   "execution_count": 170,
   "id": "ed287f8e-a46f-43b1-b42c-c95da9feb54e",
   "metadata": {},
   "outputs": [
    {
     "name": "stderr",
     "output_type": "stream",
     "text": [
      "C:\\Users\\DELL\\AppData\\Local\\Temp\\ipykernel_35804\\2829801210.py:1: SettingWithCopyWarning: \n",
      "A value is trying to be set on a copy of a slice from a DataFrame.\n",
      "Try using .loc[row_indexer,col_indexer] = value instead\n",
      "\n",
      "See the caveats in the documentation: https://pandas.pydata.org/pandas-docs/stable/user_guide/indexing.html#returning-a-view-versus-a-copy\n",
      "  iphone.loc[:, 'RAM_info'] = iphone['Text'].apply(extract_ram_info)\n"
     ]
    }
   ],
   "source": [
    "iphone.loc[:, 'RAM_info'] = iphone['Text'].apply(extract_ram_info)"
   ]
  },
  {
   "cell_type": "code",
   "execution_count": 171,
   "id": "0cb33748-fdd1-47c9-a1ef-eef0d4efbac5",
   "metadata": {},
   "outputs": [],
   "source": [
    "RAM_df = iphone[['Model' , 'RAM_info','Text']]"
   ]
  },
  {
   "cell_type": "code",
   "execution_count": 172,
   "id": "7de01e11-7619-42d9-8fc6-7eaa562f486a",
   "metadata": {},
   "outputs": [
    {
     "data": {
      "text/html": [
       "<div>\n",
       "<style scoped>\n",
       "    .dataframe tbody tr th:only-of-type {\n",
       "        vertical-align: middle;\n",
       "    }\n",
       "\n",
       "    .dataframe tbody tr th {\n",
       "        vertical-align: top;\n",
       "    }\n",
       "\n",
       "    .dataframe thead th {\n",
       "        text-align: right;\n",
       "    }\n",
       "</style>\n",
       "<table border=\"1\" class=\"dataframe\">\n",
       "  <thead>\n",
       "    <tr style=\"text-align: right;\">\n",
       "      <th></th>\n",
       "      <th>Model</th>\n",
       "      <th>RAM_info</th>\n",
       "      <th>Text</th>\n",
       "    </tr>\n",
       "  </thead>\n",
       "  <tbody>\n",
       "    <tr>\n",
       "      <th>2</th>\n",
       "      <td>iphone 11</td>\n",
       "      <td>No RAM-related info in the text</td>\n",
       "      <td>I’ve been using my iPhone 11 for a few years n...</td>\n",
       "    </tr>\n",
       "    <tr>\n",
       "      <th>11</th>\n",
       "      <td>iphone 16</td>\n",
       "      <td>No RAM-related info in the text</td>\n",
       "      <td>Hi! I have recently bought my iPhone 16 pro ma...</td>\n",
       "    </tr>\n",
       "    <tr>\n",
       "      <th>16</th>\n",
       "      <td>iphone 11</td>\n",
       "      <td>No RAM-related info in the text</td>\n",
       "      <td>Hey, does someone know why I can’t install the...</td>\n",
       "    </tr>\n",
       "    <tr>\n",
       "      <th>20</th>\n",
       "      <td>iphone 15 pro</td>\n",
       "      <td>No RAM-related info in the text</td>\n",
       "      <td>I recently noticed an issue on my iPhone after...</td>\n",
       "    </tr>\n",
       "    <tr>\n",
       "      <th>23</th>\n",
       "      <td>iphone 16 pro max</td>\n",
       "      <td>No RAM-related info in the text</td>\n",
       "      <td>Someone PLEASE help\\nI recently got the iPhone...</td>\n",
       "    </tr>\n",
       "    <tr>\n",
       "      <th>...</th>\n",
       "      <td>...</td>\n",
       "      <td>...</td>\n",
       "      <td>...</td>\n",
       "    </tr>\n",
       "    <tr>\n",
       "      <th>8703</th>\n",
       "      <td>iphone 16 pro</td>\n",
       "      <td>No RAM-related info in the text</td>\n",
       "      <td>Just got an iPhone 16 Pro and keep on getting ...</td>\n",
       "    </tr>\n",
       "    <tr>\n",
       "      <th>8888</th>\n",
       "      <td>iphone 16 pro</td>\n",
       "      <td>No RAM-related info in the text</td>\n",
       "      <td>We're a few months into the iPhone 16 Pro: doe...</td>\n",
       "    </tr>\n",
       "    <tr>\n",
       "      <th>8979</th>\n",
       "      <td>iphone 13</td>\n",
       "      <td>No RAM-related info in the text</td>\n",
       "      <td>Since the release of the iPhone 13 mini, I’ve ...</td>\n",
       "    </tr>\n",
       "    <tr>\n",
       "      <th>9041</th>\n",
       "      <td>iphone 8 plus</td>\n",
       "      <td>No RAM-related info in the text</td>\n",
       "      <td>I have an iPhone 8 Plus that just lies around ...</td>\n",
       "    </tr>\n",
       "    <tr>\n",
       "      <th>9071</th>\n",
       "      <td>iphone 16 pro</td>\n",
       "      <td>No RAM-related info in the text</td>\n",
       "      <td>I've only had my iPhone 16 Pro max for four ho...</td>\n",
       "    </tr>\n",
       "  </tbody>\n",
       "</table>\n",
       "<p>292 rows × 3 columns</p>\n",
       "</div>"
      ],
      "text/plain": [
       "                  Model                         RAM_info  \\\n",
       "2             iphone 11  No RAM-related info in the text   \n",
       "11            iphone 16  No RAM-related info in the text   \n",
       "16            iphone 11  No RAM-related info in the text   \n",
       "20        iphone 15 pro  No RAM-related info in the text   \n",
       "23    iphone 16 pro max  No RAM-related info in the text   \n",
       "...                 ...                              ...   \n",
       "8703      iphone 16 pro  No RAM-related info in the text   \n",
       "8888      iphone 16 pro  No RAM-related info in the text   \n",
       "8979          iphone 13  No RAM-related info in the text   \n",
       "9041      iphone 8 plus  No RAM-related info in the text   \n",
       "9071      iphone 16 pro  No RAM-related info in the text   \n",
       "\n",
       "                                                   Text  \n",
       "2     I’ve been using my iPhone 11 for a few years n...  \n",
       "11    Hi! I have recently bought my iPhone 16 pro ma...  \n",
       "16    Hey, does someone know why I can’t install the...  \n",
       "20    I recently noticed an issue on my iPhone after...  \n",
       "23    Someone PLEASE help\\nI recently got the iPhone...  \n",
       "...                                                 ...  \n",
       "8703  Just got an iPhone 16 Pro and keep on getting ...  \n",
       "8888  We're a few months into the iPhone 16 Pro: doe...  \n",
       "8979  Since the release of the iPhone 13 mini, I’ve ...  \n",
       "9041  I have an iPhone 8 Plus that just lies around ...  \n",
       "9071  I've only had my iPhone 16 Pro max for four ho...  \n",
       "\n",
       "[292 rows x 3 columns]"
      ]
     },
     "execution_count": 172,
     "metadata": {},
     "output_type": "execute_result"
    }
   ],
   "source": [
    "RAM_df"
   ]
  },
  {
   "cell_type": "code",
   "execution_count": 173,
   "id": "3c984803-d548-4d87-b4f2-0b1709f14718",
   "metadata": {},
   "outputs": [
    {
     "data": {
      "text/plain": [
       "RAM_info\n",
       "No RAM-related info in the text    292\n",
       "Name: count, dtype: int64"
      ]
     },
     "execution_count": 173,
     "metadata": {},
     "output_type": "execute_result"
    }
   ],
   "source": [
    "RAM_df['RAM_info'].value_counts()"
   ]
  },
  {
   "cell_type": "markdown",
   "id": "49344b33-c6d8-4c86-b811-fb460e41360b",
   "metadata": {},
   "source": [
    "## for Audio Quality"
   ]
  },
  {
   "cell_type": "code",
   "execution_count": 174,
   "id": "74fb5113-def4-45a5-86d3-4c454d236336",
   "metadata": {},
   "outputs": [],
   "source": [
    "audio_keywords = ['stereo speakers', 'audio quality', 'Dolby', 'sound', 'stereo', 'Hi-Fi', 'Dolby Atmos', 'surround sound']"
   ]
  },
  {
   "cell_type": "code",
   "execution_count": 175,
   "id": "869b435d-9399-4e71-96e8-48806c00ab83",
   "metadata": {},
   "outputs": [],
   "source": [
    "def extract_audio_info(text):\n",
    "    if any(keyword in text.lower() for keyword in audio_keywords):\n",
    "        audio_info = re.findall(r'(stereo speakers|audio quality|Dolby|sound|stereo|Hi-Fi|Dolby Atmos|surround sound)', text)\n",
    "        return audio_info if audio_info else \"No specific audio info found\"\n",
    "    return \"No audio-related info in the text\""
   ]
  },
  {
   "cell_type": "code",
   "execution_count": 176,
   "id": "4fbb5e08-fa58-4e30-ab14-095c67e24e9e",
   "metadata": {},
   "outputs": [
    {
     "name": "stderr",
     "output_type": "stream",
     "text": [
      "C:\\Users\\DELL\\AppData\\Local\\Temp\\ipykernel_35804\\1981712282.py:1: SettingWithCopyWarning: \n",
      "A value is trying to be set on a copy of a slice from a DataFrame.\n",
      "Try using .loc[row_indexer,col_indexer] = value instead\n",
      "\n",
      "See the caveats in the documentation: https://pandas.pydata.org/pandas-docs/stable/user_guide/indexing.html#returning-a-view-versus-a-copy\n",
      "  iphone.loc[:, 'Audio_info'] = iphone['Text'].apply(extract_audio_info)\n"
     ]
    }
   ],
   "source": [
    "iphone.loc[:, 'Audio_info'] = iphone['Text'].apply(extract_audio_info)"
   ]
  },
  {
   "cell_type": "code",
   "execution_count": 177,
   "id": "49dad576-469f-4524-a138-e7e4ae43b2d7",
   "metadata": {},
   "outputs": [],
   "source": [
    "audio_df = iphone[['Model' , 'Audio_info','Text']]"
   ]
  },
  {
   "cell_type": "code",
   "execution_count": 178,
   "id": "829f556d-c710-40ca-b1b1-d68814b404bc",
   "metadata": {},
   "outputs": [
    {
     "data": {
      "text/html": [
       "<div>\n",
       "<style scoped>\n",
       "    .dataframe tbody tr th:only-of-type {\n",
       "        vertical-align: middle;\n",
       "    }\n",
       "\n",
       "    .dataframe tbody tr th {\n",
       "        vertical-align: top;\n",
       "    }\n",
       "\n",
       "    .dataframe thead th {\n",
       "        text-align: right;\n",
       "    }\n",
       "</style>\n",
       "<table border=\"1\" class=\"dataframe\">\n",
       "  <thead>\n",
       "    <tr style=\"text-align: right;\">\n",
       "      <th></th>\n",
       "      <th>Model</th>\n",
       "      <th>Audio_info</th>\n",
       "      <th>Text</th>\n",
       "    </tr>\n",
       "  </thead>\n",
       "  <tbody>\n",
       "    <tr>\n",
       "      <th>2</th>\n",
       "      <td>iphone 11</td>\n",
       "      <td>No audio-related info in the text</td>\n",
       "      <td>I’ve been using my iPhone 11 for a few years n...</td>\n",
       "    </tr>\n",
       "    <tr>\n",
       "      <th>11</th>\n",
       "      <td>iphone 16</td>\n",
       "      <td>No audio-related info in the text</td>\n",
       "      <td>Hi! I have recently bought my iPhone 16 pro ma...</td>\n",
       "    </tr>\n",
       "    <tr>\n",
       "      <th>16</th>\n",
       "      <td>iphone 11</td>\n",
       "      <td>No audio-related info in the text</td>\n",
       "      <td>Hey, does someone know why I can’t install the...</td>\n",
       "    </tr>\n",
       "    <tr>\n",
       "      <th>20</th>\n",
       "      <td>iphone 15 pro</td>\n",
       "      <td>No audio-related info in the text</td>\n",
       "      <td>I recently noticed an issue on my iPhone after...</td>\n",
       "    </tr>\n",
       "    <tr>\n",
       "      <th>23</th>\n",
       "      <td>iphone 16 pro max</td>\n",
       "      <td>No audio-related info in the text</td>\n",
       "      <td>Someone PLEASE help\\nI recently got the iPhone...</td>\n",
       "    </tr>\n",
       "    <tr>\n",
       "      <th>...</th>\n",
       "      <td>...</td>\n",
       "      <td>...</td>\n",
       "      <td>...</td>\n",
       "    </tr>\n",
       "    <tr>\n",
       "      <th>8703</th>\n",
       "      <td>iphone 16 pro</td>\n",
       "      <td>No audio-related info in the text</td>\n",
       "      <td>Just got an iPhone 16 Pro and keep on getting ...</td>\n",
       "    </tr>\n",
       "    <tr>\n",
       "      <th>8888</th>\n",
       "      <td>iphone 16 pro</td>\n",
       "      <td>No audio-related info in the text</td>\n",
       "      <td>We're a few months into the iPhone 16 Pro: doe...</td>\n",
       "    </tr>\n",
       "    <tr>\n",
       "      <th>8979</th>\n",
       "      <td>iphone 13</td>\n",
       "      <td>No audio-related info in the text</td>\n",
       "      <td>Since the release of the iPhone 13 mini, I’ve ...</td>\n",
       "    </tr>\n",
       "    <tr>\n",
       "      <th>9041</th>\n",
       "      <td>iphone 8 plus</td>\n",
       "      <td>No audio-related info in the text</td>\n",
       "      <td>I have an iPhone 8 Plus that just lies around ...</td>\n",
       "    </tr>\n",
       "    <tr>\n",
       "      <th>9071</th>\n",
       "      <td>iphone 16 pro</td>\n",
       "      <td>No audio-related info in the text</td>\n",
       "      <td>I've only had my iPhone 16 Pro max for four ho...</td>\n",
       "    </tr>\n",
       "  </tbody>\n",
       "</table>\n",
       "<p>292 rows × 3 columns</p>\n",
       "</div>"
      ],
      "text/plain": [
       "                  Model                         Audio_info  \\\n",
       "2             iphone 11  No audio-related info in the text   \n",
       "11            iphone 16  No audio-related info in the text   \n",
       "16            iphone 11  No audio-related info in the text   \n",
       "20        iphone 15 pro  No audio-related info in the text   \n",
       "23    iphone 16 pro max  No audio-related info in the text   \n",
       "...                 ...                                ...   \n",
       "8703      iphone 16 pro  No audio-related info in the text   \n",
       "8888      iphone 16 pro  No audio-related info in the text   \n",
       "8979          iphone 13  No audio-related info in the text   \n",
       "9041      iphone 8 plus  No audio-related info in the text   \n",
       "9071      iphone 16 pro  No audio-related info in the text   \n",
       "\n",
       "                                                   Text  \n",
       "2     I’ve been using my iPhone 11 for a few years n...  \n",
       "11    Hi! I have recently bought my iPhone 16 pro ma...  \n",
       "16    Hey, does someone know why I can’t install the...  \n",
       "20    I recently noticed an issue on my iPhone after...  \n",
       "23    Someone PLEASE help\\nI recently got the iPhone...  \n",
       "...                                                 ...  \n",
       "8703  Just got an iPhone 16 Pro and keep on getting ...  \n",
       "8888  We're a few months into the iPhone 16 Pro: doe...  \n",
       "8979  Since the release of the iPhone 13 mini, I’ve ...  \n",
       "9041  I have an iPhone 8 Plus that just lies around ...  \n",
       "9071  I've only had my iPhone 16 Pro max for four ho...  \n",
       "\n",
       "[292 rows x 3 columns]"
      ]
     },
     "execution_count": 178,
     "metadata": {},
     "output_type": "execute_result"
    }
   ],
   "source": [
    "audio_df"
   ]
  },
  {
   "cell_type": "code",
   "execution_count": 179,
   "id": "20053c44-d840-4e77-af76-ce1fd71cbf44",
   "metadata": {},
   "outputs": [
    {
     "data": {
      "text/plain": [
       "Audio_info\n",
       "No audio-related info in the text    281\n",
       "[sound]                                9\n",
       "[sound, sound, stereo]                 1\n",
       "No specific audio info found           1\n",
       "Name: count, dtype: int64"
      ]
     },
     "execution_count": 179,
     "metadata": {},
     "output_type": "execute_result"
    }
   ],
   "source": [
    "audio_df['Audio_info'].value_counts()"
   ]
  },
  {
   "cell_type": "code",
   "execution_count": 180,
   "id": "3c39110f-677f-43d1-bd83-58a0b1cd5eb5",
   "metadata": {},
   "outputs": [],
   "source": [
    "Audio = audio_df[~audio_df['Audio_info'].isin([\"No audio-related info in the text\"])]"
   ]
  },
  {
   "cell_type": "code",
   "execution_count": 181,
   "id": "745debb6-554a-428f-becf-2791c54f2a97",
   "metadata": {},
   "outputs": [
    {
     "data": {
      "text/html": [
       "<div>\n",
       "<style scoped>\n",
       "    .dataframe tbody tr th:only-of-type {\n",
       "        vertical-align: middle;\n",
       "    }\n",
       "\n",
       "    .dataframe tbody tr th {\n",
       "        vertical-align: top;\n",
       "    }\n",
       "\n",
       "    .dataframe thead th {\n",
       "        text-align: right;\n",
       "    }\n",
       "</style>\n",
       "<table border=\"1\" class=\"dataframe\">\n",
       "  <thead>\n",
       "    <tr style=\"text-align: right;\">\n",
       "      <th></th>\n",
       "      <th>Model</th>\n",
       "      <th>Audio_info</th>\n",
       "      <th>Text</th>\n",
       "    </tr>\n",
       "  </thead>\n",
       "  <tbody>\n",
       "    <tr>\n",
       "      <th>397</th>\n",
       "      <td>iphone 13 pro</td>\n",
       "      <td>[sound]</td>\n",
       "      <td>Hello everyone,\\n\\nThe main (bottom) speakers ...</td>\n",
       "    </tr>\n",
       "    <tr>\n",
       "      <th>542</th>\n",
       "      <td>iphone 13</td>\n",
       "      <td>[sound]</td>\n",
       "      <td>I have a iPhone 13. The screen looked fine, th...</td>\n",
       "    </tr>\n",
       "    <tr>\n",
       "      <th>575</th>\n",
       "      <td>iphone 14</td>\n",
       "      <td>[sound]</td>\n",
       "      <td>Hi, I’m having trouble finding the correct loc...</td>\n",
       "    </tr>\n",
       "    <tr>\n",
       "      <th>633</th>\n",
       "      <td>iphone 13</td>\n",
       "      <td>[sound]</td>\n",
       "      <td>I know this will sound silly to most, but I ju...</td>\n",
       "    </tr>\n",
       "    <tr>\n",
       "      <th>687</th>\n",
       "      <td>iphone 14</td>\n",
       "      <td>[sound, sound, stereo]</td>\n",
       "      <td>I have had my refurbished (\"excellent conditio...</td>\n",
       "    </tr>\n",
       "    <tr>\n",
       "      <th>740</th>\n",
       "      <td>iphone 13</td>\n",
       "      <td>No specific audio info found</td>\n",
       "      <td>I had an iPhone 13 and just got a new iPhone 1...</td>\n",
       "    </tr>\n",
       "    <tr>\n",
       "      <th>806</th>\n",
       "      <td>iphone 12</td>\n",
       "      <td>[sound]</td>\n",
       "      <td>Hi all. I’m really needing some support and fr...</td>\n",
       "    </tr>\n",
       "    <tr>\n",
       "      <th>1379</th>\n",
       "      <td>iphone 13 pro</td>\n",
       "      <td>[sound]</td>\n",
       "      <td>Hello everyone,\\n\\nThe main (bottom) speakers ...</td>\n",
       "    </tr>\n",
       "    <tr>\n",
       "      <th>3342</th>\n",
       "      <td>iphone 13 pro</td>\n",
       "      <td>[sound]</td>\n",
       "      <td>Hello everyone,\\n\\nThe main (bottom) speakers ...</td>\n",
       "    </tr>\n",
       "    <tr>\n",
       "      <th>6285</th>\n",
       "      <td>iphone 13 pro</td>\n",
       "      <td>[sound]</td>\n",
       "      <td>Hello everyone,\\n\\nThe main (bottom) speakers ...</td>\n",
       "    </tr>\n",
       "    <tr>\n",
       "      <th>8248</th>\n",
       "      <td>iphone 13 pro</td>\n",
       "      <td>[sound]</td>\n",
       "      <td>Hello everyone,\\n\\nThe main (bottom) speakers ...</td>\n",
       "    </tr>\n",
       "  </tbody>\n",
       "</table>\n",
       "</div>"
      ],
      "text/plain": [
       "              Model                    Audio_info  \\\n",
       "397   iphone 13 pro                       [sound]   \n",
       "542       iphone 13                       [sound]   \n",
       "575       iphone 14                       [sound]   \n",
       "633       iphone 13                       [sound]   \n",
       "687       iphone 14        [sound, sound, stereo]   \n",
       "740       iphone 13  No specific audio info found   \n",
       "806       iphone 12                       [sound]   \n",
       "1379  iphone 13 pro                       [sound]   \n",
       "3342  iphone 13 pro                       [sound]   \n",
       "6285  iphone 13 pro                       [sound]   \n",
       "8248  iphone 13 pro                       [sound]   \n",
       "\n",
       "                                                   Text  \n",
       "397   Hello everyone,\\n\\nThe main (bottom) speakers ...  \n",
       "542   I have a iPhone 13. The screen looked fine, th...  \n",
       "575   Hi, I’m having trouble finding the correct loc...  \n",
       "633   I know this will sound silly to most, but I ju...  \n",
       "687   I have had my refurbished (\"excellent conditio...  \n",
       "740   I had an iPhone 13 and just got a new iPhone 1...  \n",
       "806   Hi all. I’m really needing some support and fr...  \n",
       "1379  Hello everyone,\\n\\nThe main (bottom) speakers ...  \n",
       "3342  Hello everyone,\\n\\nThe main (bottom) speakers ...  \n",
       "6285  Hello everyone,\\n\\nThe main (bottom) speakers ...  \n",
       "8248  Hello everyone,\\n\\nThe main (bottom) speakers ...  "
      ]
     },
     "execution_count": 181,
     "metadata": {},
     "output_type": "execute_result"
    }
   ],
   "source": [
    "Audio"
   ]
  },
  {
   "cell_type": "code",
   "execution_count": 182,
   "id": "1a665c87-bef9-4810-a7ee-d00dbe3d2fff",
   "metadata": {},
   "outputs": [
    {
     "name": "stderr",
     "output_type": "stream",
     "text": [
      "C:\\Users\\DELL\\AppData\\Local\\Temp\\ipykernel_35804\\2120487402.py:1: SettingWithCopyWarning: \n",
      "A value is trying to be set on a copy of a slice from a DataFrame.\n",
      "Try using .loc[row_indexer,col_indexer] = value instead\n",
      "\n",
      "See the caveats in the documentation: https://pandas.pydata.org/pandas-docs/stable/user_guide/indexing.html#returning-a-view-versus-a-copy\n",
      "  Audio['Audio_info'] = Audio['Audio_info'].apply(tuple)\n",
      "C:\\Users\\DELL\\AppData\\Local\\Temp\\ipykernel_35804\\2120487402.py:2: SettingWithCopyWarning: \n",
      "A value is trying to be set on a copy of a slice from a DataFrame.\n",
      "Try using .loc[row_indexer,col_indexer] = value instead\n",
      "\n",
      "See the caveats in the documentation: https://pandas.pydata.org/pandas-docs/stable/user_guide/indexing.html#returning-a-view-versus-a-copy\n",
      "  Audio['Text'] = Audio['Text'].apply(tuple)\n"
     ]
    }
   ],
   "source": [
    "Audio['Audio_info'] = Audio['Audio_info'].apply(tuple)\n",
    "Audio['Text'] = Audio['Text'].apply(tuple)"
   ]
  },
  {
   "cell_type": "code",
   "execution_count": 183,
   "id": "044ead96-db93-4f4c-aef7-3bca3fa2f4f2",
   "metadata": {},
   "outputs": [
    {
     "name": "stdout",
     "output_type": "stream",
     "text": [
      "<class 'pandas.core.frame.DataFrame'>\n",
      "Index: 7 entries, 397 to 806\n",
      "Data columns (total 3 columns):\n",
      " #   Column      Non-Null Count  Dtype \n",
      "---  ------      --------------  ----- \n",
      " 0   Model       7 non-null      object\n",
      " 1   Audio_info  7 non-null      object\n",
      " 2   Text        7 non-null      object\n",
      "dtypes: object(3)\n",
      "memory usage: 224.0+ bytes\n"
     ]
    }
   ],
   "source": [
    "Audio = Audio.drop_duplicates()\n",
    "Audio.info()"
   ]
  },
  {
   "cell_type": "code",
   "execution_count": 184,
   "id": "48e559dc-791d-46ca-a812-b95e7e5c6660",
   "metadata": {},
   "outputs": [
    {
     "name": "stderr",
     "output_type": "stream",
     "text": [
      "C:\\Users\\DELL\\AppData\\Local\\Temp\\ipykernel_35804\\1943818332.py:1: SettingWithCopyWarning: \n",
      "A value is trying to be set on a copy of a slice from a DataFrame.\n",
      "Try using .loc[row_indexer,col_indexer] = value instead\n",
      "\n",
      "See the caveats in the documentation: https://pandas.pydata.org/pandas-docs/stable/user_guide/indexing.html#returning-a-view-versus-a-copy\n",
      "  Audio['Sentiment'] = Audio['Text'].apply(lambda x: get_sentiment_score(x))\n"
     ]
    }
   ],
   "source": [
    "Audio['Sentiment'] = Audio['Text'].apply(lambda x: get_sentiment_score(x))"
   ]
  },
  {
   "cell_type": "code",
   "execution_count": 185,
   "id": "ddcbbd34-3fcb-49d0-8b43-f7171f202693",
   "metadata": {},
   "outputs": [
    {
     "data": {
      "text/html": [
       "<div>\n",
       "<style scoped>\n",
       "    .dataframe tbody tr th:only-of-type {\n",
       "        vertical-align: middle;\n",
       "    }\n",
       "\n",
       "    .dataframe tbody tr th {\n",
       "        vertical-align: top;\n",
       "    }\n",
       "\n",
       "    .dataframe thead th {\n",
       "        text-align: right;\n",
       "    }\n",
       "</style>\n",
       "<table border=\"1\" class=\"dataframe\">\n",
       "  <thead>\n",
       "    <tr style=\"text-align: right;\">\n",
       "      <th></th>\n",
       "      <th>Model</th>\n",
       "      <th>Sentiment</th>\n",
       "    </tr>\n",
       "  </thead>\n",
       "  <tbody>\n",
       "    <tr>\n",
       "      <th>0</th>\n",
       "      <td>iphone 12</td>\n",
       "      <td>0.993800</td>\n",
       "    </tr>\n",
       "    <tr>\n",
       "      <th>1</th>\n",
       "      <td>iphone 13</td>\n",
       "      <td>0.506567</td>\n",
       "    </tr>\n",
       "    <tr>\n",
       "      <th>2</th>\n",
       "      <td>iphone 13 pro</td>\n",
       "      <td>-0.100700</td>\n",
       "    </tr>\n",
       "    <tr>\n",
       "      <th>3</th>\n",
       "      <td>iphone 14</td>\n",
       "      <td>-0.250200</td>\n",
       "    </tr>\n",
       "  </tbody>\n",
       "</table>\n",
       "</div>"
      ],
      "text/plain": [
       "           Model  Sentiment\n",
       "0      iphone 12   0.993800\n",
       "1      iphone 13   0.506567\n",
       "2  iphone 13 pro  -0.100700\n",
       "3      iphone 14  -0.250200"
      ]
     },
     "execution_count": 185,
     "metadata": {},
     "output_type": "execute_result"
    }
   ],
   "source": [
    "Speaker_Modelwise = Audio.groupby('Model')['Sentiment'].mean().reset_index()\n",
    "Speaker_Modelwise"
   ]
  },
  {
   "cell_type": "code",
   "execution_count": 186,
   "id": "8133f3c4-8420-40e9-8ab6-696038be8c72",
   "metadata": {},
   "outputs": [
    {
     "data": {
      "image/png": "[encoded data removed]",
      "text/plain": [
       "<Figure size 1200x600 with 1 Axes>"
      ]
     },
     "metadata": {},
     "output_type": "display_data"
    }
   ],
   "source": [
    "plt.figure(figsize=(12, 6))\n",
    "plt.bar(Speaker_Modelwise['Model'], Speaker_Modelwise['Sentiment'], color='skyblue')\n",
    "plt.xlabel('iPhone Model',size = 14)\n",
    "plt.ylabel('Average Sentiment Score', size = 14)\n",
    "plt.xticks(rotation=0 , size =10)\n",
    "plt.show()"
   ]
  },
  {
   "cell_type": "markdown",
   "id": "2a24511d-95de-45a5-b98a-3cc96a590782",
   "metadata": {},
   "source": [
    "## for Gaming performance"
   ]
  },
  {
   "cell_type": "code",
   "execution_count": 187,
   "id": "c67d2153-da73-4ef7-a081-7aecb1ce29ab",
   "metadata": {},
   "outputs": [],
   "source": [
    "gaming_keywords = ['gaming', 'frame rate', 'GPU', 'smooth gameplay', 'gaming mode']"
   ]
  },
  {
   "cell_type": "code",
   "execution_count": 188,
   "id": "44e80ee9-2ce2-415e-a06e-ff8f29fc2422",
   "metadata": {},
   "outputs": [],
   "source": [
    "def extract_gaming_info(text):\n",
    "    if any(keyword in text.lower() for keyword in gaming_keywords):\n",
    "        gaming_info = re.findall(r'(gaming|frame rate|GPU|smooth gameplay|gaming mode)', text)\n",
    "        return gaming_info if gaming_info else \"No specific gaming info found\"\n",
    "    return \"No gaming-related info in the text\""
   ]
  },
  {
   "cell_type": "code",
   "execution_count": 189,
   "id": "3a196582-178e-4a5a-875f-aaaf7107df45",
   "metadata": {},
   "outputs": [
    {
     "name": "stderr",
     "output_type": "stream",
     "text": [
      "C:\\Users\\DELL\\AppData\\Local\\Temp\\ipykernel_35804\\4013944630.py:1: SettingWithCopyWarning: \n",
      "A value is trying to be set on a copy of a slice from a DataFrame.\n",
      "Try using .loc[row_indexer,col_indexer] = value instead\n",
      "\n",
      "See the caveats in the documentation: https://pandas.pydata.org/pandas-docs/stable/user_guide/indexing.html#returning-a-view-versus-a-copy\n",
      "  iphone.loc[:, 'Gaming_info'] = iphone['Text'].apply(extract_gaming_info)\n"
     ]
    }
   ],
   "source": [
    "iphone.loc[:, 'Gaming_info'] = iphone['Text'].apply(extract_gaming_info)"
   ]
  },
  {
   "cell_type": "code",
   "execution_count": 190,
   "id": "e483bf77-c019-4432-b634-f6c13b383c3b",
   "metadata": {},
   "outputs": [],
   "source": [
    "gaming_df = iphone[['Model' , 'Gaming_info','Text']]"
   ]
  },
  {
   "cell_type": "code",
   "execution_count": 191,
   "id": "852fb19c-064b-4c9d-afb7-8df1a4a1ff7d",
   "metadata": {},
   "outputs": [
    {
     "data": {
      "text/html": [
       "<div>\n",
       "<style scoped>\n",
       "    .dataframe tbody tr th:only-of-type {\n",
       "        vertical-align: middle;\n",
       "    }\n",
       "\n",
       "    .dataframe tbody tr th {\n",
       "        vertical-align: top;\n",
       "    }\n",
       "\n",
       "    .dataframe thead th {\n",
       "        text-align: right;\n",
       "    }\n",
       "</style>\n",
       "<table border=\"1\" class=\"dataframe\">\n",
       "  <thead>\n",
       "    <tr style=\"text-align: right;\">\n",
       "      <th></th>\n",
       "      <th>Model</th>\n",
       "      <th>Gaming_info</th>\n",
       "      <th>Text</th>\n",
       "    </tr>\n",
       "  </thead>\n",
       "  <tbody>\n",
       "    <tr>\n",
       "      <th>2</th>\n",
       "      <td>iphone 11</td>\n",
       "      <td>No gaming-related info in the text</td>\n",
       "      <td>I’ve been using my iPhone 11 for a few years n...</td>\n",
       "    </tr>\n",
       "    <tr>\n",
       "      <th>11</th>\n",
       "      <td>iphone 16</td>\n",
       "      <td>No gaming-related info in the text</td>\n",
       "      <td>Hi! I have recently bought my iPhone 16 pro ma...</td>\n",
       "    </tr>\n",
       "    <tr>\n",
       "      <th>16</th>\n",
       "      <td>iphone 11</td>\n",
       "      <td>No gaming-related info in the text</td>\n",
       "      <td>Hey, does someone know why I can’t install the...</td>\n",
       "    </tr>\n",
       "    <tr>\n",
       "      <th>20</th>\n",
       "      <td>iphone 15 pro</td>\n",
       "      <td>No gaming-related info in the text</td>\n",
       "      <td>I recently noticed an issue on my iPhone after...</td>\n",
       "    </tr>\n",
       "    <tr>\n",
       "      <th>23</th>\n",
       "      <td>iphone 16 pro max</td>\n",
       "      <td>No gaming-related info in the text</td>\n",
       "      <td>Someone PLEASE help\\nI recently got the iPhone...</td>\n",
       "    </tr>\n",
       "    <tr>\n",
       "      <th>...</th>\n",
       "      <td>...</td>\n",
       "      <td>...</td>\n",
       "      <td>...</td>\n",
       "    </tr>\n",
       "    <tr>\n",
       "      <th>8703</th>\n",
       "      <td>iphone 16 pro</td>\n",
       "      <td>No gaming-related info in the text</td>\n",
       "      <td>Just got an iPhone 16 Pro and keep on getting ...</td>\n",
       "    </tr>\n",
       "    <tr>\n",
       "      <th>8888</th>\n",
       "      <td>iphone 16 pro</td>\n",
       "      <td>No gaming-related info in the text</td>\n",
       "      <td>We're a few months into the iPhone 16 Pro: doe...</td>\n",
       "    </tr>\n",
       "    <tr>\n",
       "      <th>8979</th>\n",
       "      <td>iphone 13</td>\n",
       "      <td>No gaming-related info in the text</td>\n",
       "      <td>Since the release of the iPhone 13 mini, I’ve ...</td>\n",
       "    </tr>\n",
       "    <tr>\n",
       "      <th>9041</th>\n",
       "      <td>iphone 8 plus</td>\n",
       "      <td>No gaming-related info in the text</td>\n",
       "      <td>I have an iPhone 8 Plus that just lies around ...</td>\n",
       "    </tr>\n",
       "    <tr>\n",
       "      <th>9071</th>\n",
       "      <td>iphone 16 pro</td>\n",
       "      <td>No gaming-related info in the text</td>\n",
       "      <td>I've only had my iPhone 16 Pro max for four ho...</td>\n",
       "    </tr>\n",
       "  </tbody>\n",
       "</table>\n",
       "<p>292 rows × 3 columns</p>\n",
       "</div>"
      ],
      "text/plain": [
       "                  Model                         Gaming_info  \\\n",
       "2             iphone 11  No gaming-related info in the text   \n",
       "11            iphone 16  No gaming-related info in the text   \n",
       "16            iphone 11  No gaming-related info in the text   \n",
       "20        iphone 15 pro  No gaming-related info in the text   \n",
       "23    iphone 16 pro max  No gaming-related info in the text   \n",
       "...                 ...                                 ...   \n",
       "8703      iphone 16 pro  No gaming-related info in the text   \n",
       "8888      iphone 16 pro  No gaming-related info in the text   \n",
       "8979          iphone 13  No gaming-related info in the text   \n",
       "9041      iphone 8 plus  No gaming-related info in the text   \n",
       "9071      iphone 16 pro  No gaming-related info in the text   \n",
       "\n",
       "                                                   Text  \n",
       "2     I’ve been using my iPhone 11 for a few years n...  \n",
       "11    Hi! I have recently bought my iPhone 16 pro ma...  \n",
       "16    Hey, does someone know why I can’t install the...  \n",
       "20    I recently noticed an issue on my iPhone after...  \n",
       "23    Someone PLEASE help\\nI recently got the iPhone...  \n",
       "...                                                 ...  \n",
       "8703  Just got an iPhone 16 Pro and keep on getting ...  \n",
       "8888  We're a few months into the iPhone 16 Pro: doe...  \n",
       "8979  Since the release of the iPhone 13 mini, I’ve ...  \n",
       "9041  I have an iPhone 8 Plus that just lies around ...  \n",
       "9071  I've only had my iPhone 16 Pro max for four ho...  \n",
       "\n",
       "[292 rows x 3 columns]"
      ]
     },
     "execution_count": 191,
     "metadata": {},
     "output_type": "execute_result"
    }
   ],
   "source": [
    "gaming_df"
   ]
  },
  {
   "cell_type": "code",
   "execution_count": 192,
   "id": "47bd3ef4-543b-424a-a915-4a844e385bcb",
   "metadata": {},
   "outputs": [
    {
     "data": {
      "text/plain": [
       "Gaming_info\n",
       "No gaming-related info in the text    292\n",
       "Name: count, dtype: int64"
      ]
     },
     "execution_count": 192,
     "metadata": {},
     "output_type": "execute_result"
    }
   ],
   "source": [
    "gaming_df['Gaming_info'].value_counts()"
   ]
  },
  {
   "cell_type": "code",
   "execution_count": 193,
   "id": "72322d03-f9d5-4706-acae-ea61eeab244a",
   "metadata": {},
   "outputs": [],
   "source": [
    "## Thats all for iphone data, no gaming related comment is done by anyone in iphone data."
   ]
  },
  {
   "cell_type": "code",
   "execution_count": 194,
   "id": "c103ccc8-2eba-4ef9-94ab-8c0d24237404",
   "metadata": {},
   "outputs": [
    {
     "data": {
      "text/plain": [
       "Index(['Title', 'Upvotes', 'URL', 'Created', 'Text', 'Model', 'camera_info',\n",
       "       'battery_info', 'Storage_info', 'Software_info', 'Style_info',\n",
       "       'display_info', 'Resistance_info', 'Charging_info', 'Weight_info',\n",
       "       'Biometrics_info', 'Processor_info', 'RAM_info', 'Audio_info',\n",
       "       'Gaming_info'],\n",
       "      dtype='object')"
      ]
     },
     "execution_count": 194,
     "metadata": {},
     "output_type": "execute_result"
    }
   ],
   "source": [
    "iphone.columns"
   ]
  }
 ],
 "metadata": {
  "kernelspec": {
   "display_name": "Python 3 (ipykernel)",
   "language": "python",
   "name": "python3"
  },
  "language_info": {
   "codemirror_mode": {
    "name": "ipython",
    "version": 3
   },
   "file_extension": ".py",
   "mimetype": "text/x-python",
   "name": "python",
   "nbconvert_exporter": "python",
   "pygments_lexer": "ipython3",
   "version": "3.11.7"
  }
 },
 "nbformat": 4,
 "nbformat_minor": 5
}
