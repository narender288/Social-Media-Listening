{
 "cells": [
  {
   "cell_type": "markdown",
   "id": "7353c0d7-7294-4643-af66-ff563c8b57a6",
   "metadata": {},
   "source": [
    "# xiaomi - model Specific Information"
   ]
  },
  {
   "cell_type": "code",
   "execution_count": 1,
   "id": "dafc81b6-ad50-4758-9fcc-e9d888a686a0",
   "metadata": {},
   "outputs": [],
   "source": [
    "import pandas as pd"
   ]
  },
  {
   "cell_type": "code",
   "execution_count": 2,
   "id": "0ac218ba-8167-47d3-9650-1b1d0247209c",
   "metadata": {},
   "outputs": [],
   "source": [
    "xiaomi = pd.read_json(\"reddit_xiaomi.json\")"
   ]
  },
  {
   "cell_type": "code",
   "execution_count": 3,
   "id": "97e0f2e3-3d15-429b-a6d3-e053992d1614",
   "metadata": {},
   "outputs": [
    {
     "data": {
      "text/html": [
       "<div>\n",
       "<style scoped>\n",
       "    .dataframe tbody tr th:only-of-type {\n",
       "        vertical-align: middle;\n",
       "    }\n",
       "\n",
       "    .dataframe tbody tr th {\n",
       "        vertical-align: top;\n",
       "    }\n",
       "\n",
       "    .dataframe thead th {\n",
       "        text-align: right;\n",
       "    }\n",
       "</style>\n",
       "<table border=\"1\" class=\"dataframe\">\n",
       "  <thead>\n",
       "    <tr style=\"text-align: right;\">\n",
       "      <th></th>\n",
       "      <th>Title</th>\n",
       "      <th>Upvotes</th>\n",
       "      <th>URL</th>\n",
       "      <th>Created</th>\n",
       "      <th>Text</th>\n",
       "    </tr>\n",
       "  </thead>\n",
       "  <tbody>\n",
       "    <tr>\n",
       "      <th>0</th>\n",
       "      <td>How to reduce spacing between icons in a folder</td>\n",
       "      <td>2</td>\n",
       "      <td>https://www.reddit.com/r/Xiaomi/comments/1hyt7...</td>\n",
       "      <td>1736591477</td>\n",
       "      <td>I just acquired a device with hyper os 2 and I...</td>\n",
       "    </tr>\n",
       "    <tr>\n",
       "      <th>1</th>\n",
       "      <td>Are you disappointed from Xiaomi Redmi Note 14...</td>\n",
       "      <td>6</td>\n",
       "      <td>https://www.reddit.com/r/Xiaomi/comments/1hysw...</td>\n",
       "      <td>1736590096</td>\n",
       "      <td>Did the Global versions of these devices disap...</td>\n",
       "    </tr>\n",
       "    <tr>\n",
       "      <th>2</th>\n",
       "      <td>Xiaomi Scooter 4 lite 2nd gen</td>\n",
       "      <td>1</td>\n",
       "      <td>https://www.reddit.com/r/Xiaomi/comments/1hysf...</td>\n",
       "      <td>1736588006</td>\n",
       "      <td>Hi all,\\n\\nI received the Xiaomi scooter 4 lit...</td>\n",
       "    </tr>\n",
       "    <tr>\n",
       "      <th>3</th>\n",
       "      <td>Xiaomi Smart Speaker (IR)- Not connecting to M...</td>\n",
       "      <td>1</td>\n",
       "      <td>https://www.reddit.com/r/Xiaomi/comments/1hys8...</td>\n",
       "      <td>1736587093</td>\n",
       "      <td>Hi everyone,\\n\\nI recently got the Xiaomi Smar...</td>\n",
       "    </tr>\n",
       "    <tr>\n",
       "      <th>4</th>\n",
       "      <td>Who switched from Samsung S24 Ultra to Xiaomi ...</td>\n",
       "      <td>1</td>\n",
       "      <td>https://www.reddit.com/r/Xiaomi/comments/1hyr5...</td>\n",
       "      <td>1736582173</td>\n",
       "      <td>I would like to hear the impressions. Generall...</td>\n",
       "    </tr>\n",
       "    <tr>\n",
       "      <th>...</th>\n",
       "      <td>...</td>\n",
       "      <td>...</td>\n",
       "      <td>...</td>\n",
       "      <td>...</td>\n",
       "      <td>...</td>\n",
       "    </tr>\n",
       "    <tr>\n",
       "      <th>9425</th>\n",
       "      <td>Mi9T  No Scan app</td>\n",
       "      <td>1</td>\n",
       "      <td>https://www.reddit.com/r/Xiaomi/comments/1gxzl...</td>\n",
       "      <td>1732368456</td>\n",
       "      <td>Mi9T\\n\\nMy scanning app has disappeared.\\n\\nWh...</td>\n",
       "    </tr>\n",
       "    <tr>\n",
       "      <th>9426</th>\n",
       "      <td>What is this error mean? Cordless Vacuum Cleaner</td>\n",
       "      <td>1</td>\n",
       "      <td>https://www.reddit.com/r/Xiaomi/comments/1gxwk...</td>\n",
       "      <td>1732357129</td>\n",
       "      <td>Can someone please help what this error mean? ...</td>\n",
       "    </tr>\n",
       "    <tr>\n",
       "      <th>9427</th>\n",
       "      <td>Using EDL mode to flash LineageOS on snapdrago...</td>\n",
       "      <td>2</td>\n",
       "      <td>https://www.reddit.com/r/Xiaomi/comments/1gxwh...</td>\n",
       "      <td>1732356770</td>\n",
       "      <td>Hello there. I have a Xiaomi Redmi Note 8T pho...</td>\n",
       "    </tr>\n",
       "    <tr>\n",
       "      <th>9428</th>\n",
       "      <td>Help with private folder</td>\n",
       "      <td>2</td>\n",
       "      <td>http://google.com</td>\n",
       "      <td>1732355173</td>\n",
       "      <td>For some reason i forgot the privacy protectio...</td>\n",
       "    </tr>\n",
       "    <tr>\n",
       "      <th>9429</th>\n",
       "      <td>Redmi note 13 or 14 pro plus?</td>\n",
       "      <td>9</td>\n",
       "      <td>https://www.reddit.com/r/Xiaomi/comments/1gxv9...</td>\n",
       "      <td>1732351484</td>\n",
       "      <td>I am currently deciding between these two phon...</td>\n",
       "    </tr>\n",
       "  </tbody>\n",
       "</table>\n",
       "<p>9430 rows × 5 columns</p>\n",
       "</div>"
      ],
      "text/plain": [
       "                                                  Title  Upvotes  \\\n",
       "0      How to reduce spacing between icons in a folder         2   \n",
       "1     Are you disappointed from Xiaomi Redmi Note 14...        6   \n",
       "2                         Xiaomi Scooter 4 lite 2nd gen        1   \n",
       "3     Xiaomi Smart Speaker (IR)- Not connecting to M...        1   \n",
       "4     Who switched from Samsung S24 Ultra to Xiaomi ...        1   \n",
       "...                                                 ...      ...   \n",
       "9425                                  Mi9T  No Scan app        1   \n",
       "9426   What is this error mean? Cordless Vacuum Cleaner        1   \n",
       "9427  Using EDL mode to flash LineageOS on snapdrago...        2   \n",
       "9428                           Help with private folder        2   \n",
       "9429                     Redmi note 13 or 14 pro plus?         9   \n",
       "\n",
       "                                                    URL     Created  \\\n",
       "0     https://www.reddit.com/r/Xiaomi/comments/1hyt7...  1736591477   \n",
       "1     https://www.reddit.com/r/Xiaomi/comments/1hysw...  1736590096   \n",
       "2     https://www.reddit.com/r/Xiaomi/comments/1hysf...  1736588006   \n",
       "3     https://www.reddit.com/r/Xiaomi/comments/1hys8...  1736587093   \n",
       "4     https://www.reddit.com/r/Xiaomi/comments/1hyr5...  1736582173   \n",
       "...                                                 ...         ...   \n",
       "9425  https://www.reddit.com/r/Xiaomi/comments/1gxzl...  1732368456   \n",
       "9426  https://www.reddit.com/r/Xiaomi/comments/1gxwk...  1732357129   \n",
       "9427  https://www.reddit.com/r/Xiaomi/comments/1gxwh...  1732356770   \n",
       "9428                                  http://google.com  1732355173   \n",
       "9429  https://www.reddit.com/r/Xiaomi/comments/1gxv9...  1732351484   \n",
       "\n",
       "                                                   Text  \n",
       "0     I just acquired a device with hyper os 2 and I...  \n",
       "1     Did the Global versions of these devices disap...  \n",
       "2     Hi all,\\n\\nI received the Xiaomi scooter 4 lit...  \n",
       "3     Hi everyone,\\n\\nI recently got the Xiaomi Smar...  \n",
       "4     I would like to hear the impressions. Generall...  \n",
       "...                                                 ...  \n",
       "9425  Mi9T\\n\\nMy scanning app has disappeared.\\n\\nWh...  \n",
       "9426  Can someone please help what this error mean? ...  \n",
       "9427  Hello there. I have a Xiaomi Redmi Note 8T pho...  \n",
       "9428  For some reason i forgot the privacy protectio...  \n",
       "9429  I am currently deciding between these two phon...  \n",
       "\n",
       "[9430 rows x 5 columns]"
      ]
     },
     "execution_count": 3,
     "metadata": {},
     "output_type": "execute_result"
    }
   ],
   "source": [
    "xiaomi"
   ]
  },
  {
   "cell_type": "code",
   "execution_count": 4,
   "id": "bbab4e3a-9ffa-47db-bb69-13229befcd08",
   "metadata": {},
   "outputs": [],
   "source": [
    "xiaomi = xiaomi.drop_duplicates()"
   ]
  },
  {
   "cell_type": "code",
   "execution_count": 5,
   "id": "eb57a6c6-2eb3-418a-abef-3d358af86189",
   "metadata": {},
   "outputs": [
    {
     "data": {
      "text/html": [
       "<div>\n",
       "<style scoped>\n",
       "    .dataframe tbody tr th:only-of-type {\n",
       "        vertical-align: middle;\n",
       "    }\n",
       "\n",
       "    .dataframe tbody tr th {\n",
       "        vertical-align: top;\n",
       "    }\n",
       "\n",
       "    .dataframe thead th {\n",
       "        text-align: right;\n",
       "    }\n",
       "</style>\n",
       "<table border=\"1\" class=\"dataframe\">\n",
       "  <thead>\n",
       "    <tr style=\"text-align: right;\">\n",
       "      <th></th>\n",
       "      <th>Title</th>\n",
       "      <th>Upvotes</th>\n",
       "      <th>URL</th>\n",
       "      <th>Created</th>\n",
       "      <th>Text</th>\n",
       "    </tr>\n",
       "  </thead>\n",
       "  <tbody>\n",
       "    <tr>\n",
       "      <th>0</th>\n",
       "      <td>How to reduce spacing between icons in a folder</td>\n",
       "      <td>2</td>\n",
       "      <td>https://www.reddit.com/r/Xiaomi/comments/1hyt7...</td>\n",
       "      <td>1736591477</td>\n",
       "      <td>I just acquired a device with hyper os 2 and I...</td>\n",
       "    </tr>\n",
       "    <tr>\n",
       "      <th>1</th>\n",
       "      <td>Are you disappointed from Xiaomi Redmi Note 14...</td>\n",
       "      <td>6</td>\n",
       "      <td>https://www.reddit.com/r/Xiaomi/comments/1hysw...</td>\n",
       "      <td>1736590096</td>\n",
       "      <td>Did the Global versions of these devices disap...</td>\n",
       "    </tr>\n",
       "    <tr>\n",
       "      <th>2</th>\n",
       "      <td>Xiaomi Scooter 4 lite 2nd gen</td>\n",
       "      <td>1</td>\n",
       "      <td>https://www.reddit.com/r/Xiaomi/comments/1hysf...</td>\n",
       "      <td>1736588006</td>\n",
       "      <td>Hi all,\\n\\nI received the Xiaomi scooter 4 lit...</td>\n",
       "    </tr>\n",
       "    <tr>\n",
       "      <th>3</th>\n",
       "      <td>Xiaomi Smart Speaker (IR)- Not connecting to M...</td>\n",
       "      <td>1</td>\n",
       "      <td>https://www.reddit.com/r/Xiaomi/comments/1hys8...</td>\n",
       "      <td>1736587093</td>\n",
       "      <td>Hi everyone,\\n\\nI recently got the Xiaomi Smar...</td>\n",
       "    </tr>\n",
       "    <tr>\n",
       "      <th>4</th>\n",
       "      <td>Who switched from Samsung S24 Ultra to Xiaomi ...</td>\n",
       "      <td>1</td>\n",
       "      <td>https://www.reddit.com/r/Xiaomi/comments/1hyr5...</td>\n",
       "      <td>1736582173</td>\n",
       "      <td>I would like to hear the impressions. Generall...</td>\n",
       "    </tr>\n",
       "    <tr>\n",
       "      <th>...</th>\n",
       "      <td>...</td>\n",
       "      <td>...</td>\n",
       "      <td>...</td>\n",
       "      <td>...</td>\n",
       "      <td>...</td>\n",
       "    </tr>\n",
       "    <tr>\n",
       "      <th>9013</th>\n",
       "      <td>14 T Pro Standby by drain</td>\n",
       "      <td>11</td>\n",
       "      <td>https://www.reddit.com/r/Xiaomi/comments/1hdoy...</td>\n",
       "      <td>1734131242</td>\n",
       "      <td>Hello, \\nin the last time I noticed an increas...</td>\n",
       "    </tr>\n",
       "    <tr>\n",
       "      <th>9114</th>\n",
       "      <td>Should i go for the redmi 13 pro 5g or poco x6</td>\n",
       "      <td>5</td>\n",
       "      <td>https://www.reddit.com/r/Xiaomi/comments/1h9iu...</td>\n",
       "      <td>1733664464</td>\n",
       "      <td>Where i live the redmi costs $250 and the poco...</td>\n",
       "    </tr>\n",
       "    <tr>\n",
       "      <th>9219</th>\n",
       "      <td>Reverting back to MIUI</td>\n",
       "      <td>34</td>\n",
       "      <td>https://www.reddit.com/r/Xiaomi/comments/1h4v2...</td>\n",
       "      <td>1733146451</td>\n",
       "      <td>Let's face it guys, HyperOS and HyperOS 2 was ...</td>\n",
       "    </tr>\n",
       "    <tr>\n",
       "      <th>9280</th>\n",
       "      <td>I bought a Poco X6 pro for $248 US (at change)</td>\n",
       "      <td>6</td>\n",
       "      <td>https://www.reddit.com/r/Xiaomi/comments/1h2zy...</td>\n",
       "      <td>1732926042</td>\n",
       "      <td>I bought a Poco X6 pro (256gb) for my sister, ...</td>\n",
       "    </tr>\n",
       "    <tr>\n",
       "      <th>9298</th>\n",
       "      <td>HyperOS 2 Horrible Battery Life</td>\n",
       "      <td>24</td>\n",
       "      <td>https://www.reddit.com/r/Xiaomi/comments/1h297...</td>\n",
       "      <td>1732838817</td>\n",
       "      <td>As per title suggested, after updating to Hype...</td>\n",
       "    </tr>\n",
       "  </tbody>\n",
       "</table>\n",
       "<p>1523 rows × 5 columns</p>\n",
       "</div>"
      ],
      "text/plain": [
       "                                                  Title  Upvotes  \\\n",
       "0      How to reduce spacing between icons in a folder         2   \n",
       "1     Are you disappointed from Xiaomi Redmi Note 14...        6   \n",
       "2                         Xiaomi Scooter 4 lite 2nd gen        1   \n",
       "3     Xiaomi Smart Speaker (IR)- Not connecting to M...        1   \n",
       "4     Who switched from Samsung S24 Ultra to Xiaomi ...        1   \n",
       "...                                                 ...      ...   \n",
       "9013                         14 T Pro Standby by drain        11   \n",
       "9114     Should i go for the redmi 13 pro 5g or poco x6        5   \n",
       "9219                             Reverting back to MIUI       34   \n",
       "9280     I bought a Poco X6 pro for $248 US (at change)        6   \n",
       "9298                    HyperOS 2 Horrible Battery Life       24   \n",
       "\n",
       "                                                    URL     Created  \\\n",
       "0     https://www.reddit.com/r/Xiaomi/comments/1hyt7...  1736591477   \n",
       "1     https://www.reddit.com/r/Xiaomi/comments/1hysw...  1736590096   \n",
       "2     https://www.reddit.com/r/Xiaomi/comments/1hysf...  1736588006   \n",
       "3     https://www.reddit.com/r/Xiaomi/comments/1hys8...  1736587093   \n",
       "4     https://www.reddit.com/r/Xiaomi/comments/1hyr5...  1736582173   \n",
       "...                                                 ...         ...   \n",
       "9013  https://www.reddit.com/r/Xiaomi/comments/1hdoy...  1734131242   \n",
       "9114  https://www.reddit.com/r/Xiaomi/comments/1h9iu...  1733664464   \n",
       "9219  https://www.reddit.com/r/Xiaomi/comments/1h4v2...  1733146451   \n",
       "9280  https://www.reddit.com/r/Xiaomi/comments/1h2zy...  1732926042   \n",
       "9298  https://www.reddit.com/r/Xiaomi/comments/1h297...  1732838817   \n",
       "\n",
       "                                                   Text  \n",
       "0     I just acquired a device with hyper os 2 and I...  \n",
       "1     Did the Global versions of these devices disap...  \n",
       "2     Hi all,\\n\\nI received the Xiaomi scooter 4 lit...  \n",
       "3     Hi everyone,\\n\\nI recently got the Xiaomi Smar...  \n",
       "4     I would like to hear the impressions. Generall...  \n",
       "...                                                 ...  \n",
       "9013  Hello, \\nin the last time I noticed an increas...  \n",
       "9114  Where i live the redmi costs $250 and the poco...  \n",
       "9219  Let's face it guys, HyperOS and HyperOS 2 was ...  \n",
       "9280  I bought a Poco X6 pro (256gb) for my sister, ...  \n",
       "9298  As per title suggested, after updating to Hype...  \n",
       "\n",
       "[1523 rows x 5 columns]"
      ]
     },
     "execution_count": 5,
     "metadata": {},
     "output_type": "execute_result"
    }
   ],
   "source": [
    "xiaomi"
   ]
  },
  {
   "cell_type": "code",
   "execution_count": 6,
   "id": "18f5f9b3-1b5b-4380-88e3-b0b31c2b83c1",
   "metadata": {},
   "outputs": [
    {
     "data": {
      "text/plain": [
       "Index(['Title', 'Upvotes', 'URL', 'Created', 'Text'], dtype='object')"
      ]
     },
     "execution_count": 6,
     "metadata": {},
     "output_type": "execute_result"
    }
   ],
   "source": [
    "xiaomi.columns"
   ]
  },
  {
   "cell_type": "code",
   "execution_count": 7,
   "id": "f01ebbf6-5ec5-4f7c-8e89-7097f90a5c89",
   "metadata": {},
   "outputs": [],
   "source": [
    "import re"
   ]
  },
  {
   "cell_type": "code",
   "execution_count": 8,
   "id": "056ca5e9-59e0-4469-b003-37c8c4a40289",
   "metadata": {},
   "outputs": [],
   "source": [
    "xiaomi_model_pattern = r'(Xiaomi\\s*(Mi\\s*\\d{1,3}|Redmi\\s*(Note\\s*\\d{1,3}|K\\d{1,3}|A\\d{1,3}|Pro|Max|C|Pad|K\\d{1,3}))|Redmi\\s*(\\d{1,3}[A-Za-z]*))'"
   ]
  },
  {
   "cell_type": "code",
   "execution_count": 9,
   "id": "e3bd0e06-1cdc-4152-b58c-99889ef1c199",
   "metadata": {},
   "outputs": [
    {
     "name": "stderr",
     "output_type": "stream",
     "text": [
      "C:\\Users\\DELL\\AppData\\Local\\Temp\\ipykernel_36412\\1191337163.py:1: SettingWithCopyWarning: \n",
      "A value is trying to be set on a copy of a slice from a DataFrame.\n",
      "Try using .loc[row_indexer,col_indexer] = value instead\n",
      "\n",
      "See the caveats in the documentation: https://pandas.pydata.org/pandas-docs/stable/user_guide/indexing.html#returning-a-view-versus-a-copy\n",
      "  xiaomi.loc[:, 'Model'] = xiaomi['Text'].apply(\n"
     ]
    }
   ],
   "source": [
    "xiaomi.loc[:, 'Model'] = xiaomi['Text'].apply(\n",
    "    lambda title: next((f\"xiaomi {model}\" for model in re.findall(xiaomi_model_pattern, str(title))), None)\n",
    ")\n",
    "\n",
    "xiaomi.loc[:, 'Model'] = xiaomi['Model'].fillna(\n",
    "    xiaomi['Text'].apply(\n",
    "        lambda text: next((f\"xiaomi {model}\" for model in re.findall(xiaomi_model_pattern, str(text))), None)\n",
    "    )\n",
    ")"
   ]
  },
  {
   "cell_type": "code",
   "execution_count": 10,
   "id": "52f2d37b-4b29-4383-81fb-ba73174581aa",
   "metadata": {},
   "outputs": [
    {
     "data": {
      "text/html": [
       "<div>\n",
       "<style scoped>\n",
       "    .dataframe tbody tr th:only-of-type {\n",
       "        vertical-align: middle;\n",
       "    }\n",
       "\n",
       "    .dataframe tbody tr th {\n",
       "        vertical-align: top;\n",
       "    }\n",
       "\n",
       "    .dataframe thead th {\n",
       "        text-align: right;\n",
       "    }\n",
       "</style>\n",
       "<table border=\"1\" class=\"dataframe\">\n",
       "  <thead>\n",
       "    <tr style=\"text-align: right;\">\n",
       "      <th></th>\n",
       "      <th>Title</th>\n",
       "      <th>Upvotes</th>\n",
       "      <th>URL</th>\n",
       "      <th>Created</th>\n",
       "      <th>Text</th>\n",
       "      <th>Model</th>\n",
       "    </tr>\n",
       "  </thead>\n",
       "  <tbody>\n",
       "    <tr>\n",
       "      <th>0</th>\n",
       "      <td>How to reduce spacing between icons in a folder</td>\n",
       "      <td>2</td>\n",
       "      <td>https://www.reddit.com/r/Xiaomi/comments/1hyt7...</td>\n",
       "      <td>1736591477</td>\n",
       "      <td>I just acquired a device with hyper os 2 and I...</td>\n",
       "      <td>None</td>\n",
       "    </tr>\n",
       "    <tr>\n",
       "      <th>1</th>\n",
       "      <td>Are you disappointed from Xiaomi Redmi Note 14...</td>\n",
       "      <td>6</td>\n",
       "      <td>https://www.reddit.com/r/Xiaomi/comments/1hysw...</td>\n",
       "      <td>1736590096</td>\n",
       "      <td>Did the Global versions of these devices disap...</td>\n",
       "      <td>None</td>\n",
       "    </tr>\n",
       "    <tr>\n",
       "      <th>2</th>\n",
       "      <td>Xiaomi Scooter 4 lite 2nd gen</td>\n",
       "      <td>1</td>\n",
       "      <td>https://www.reddit.com/r/Xiaomi/comments/1hysf...</td>\n",
       "      <td>1736588006</td>\n",
       "      <td>Hi all,\\n\\nI received the Xiaomi scooter 4 lit...</td>\n",
       "      <td>None</td>\n",
       "    </tr>\n",
       "    <tr>\n",
       "      <th>3</th>\n",
       "      <td>Xiaomi Smart Speaker (IR)- Not connecting to M...</td>\n",
       "      <td>1</td>\n",
       "      <td>https://www.reddit.com/r/Xiaomi/comments/1hys8...</td>\n",
       "      <td>1736587093</td>\n",
       "      <td>Hi everyone,\\n\\nI recently got the Xiaomi Smar...</td>\n",
       "      <td>None</td>\n",
       "    </tr>\n",
       "    <tr>\n",
       "      <th>4</th>\n",
       "      <td>Who switched from Samsung S24 Ultra to Xiaomi ...</td>\n",
       "      <td>1</td>\n",
       "      <td>https://www.reddit.com/r/Xiaomi/comments/1hyr5...</td>\n",
       "      <td>1736582173</td>\n",
       "      <td>I would like to hear the impressions. Generall...</td>\n",
       "      <td>None</td>\n",
       "    </tr>\n",
       "    <tr>\n",
       "      <th>...</th>\n",
       "      <td>...</td>\n",
       "      <td>...</td>\n",
       "      <td>...</td>\n",
       "      <td>...</td>\n",
       "      <td>...</td>\n",
       "      <td>...</td>\n",
       "    </tr>\n",
       "    <tr>\n",
       "      <th>9013</th>\n",
       "      <td>14 T Pro Standby by drain</td>\n",
       "      <td>11</td>\n",
       "      <td>https://www.reddit.com/r/Xiaomi/comments/1hdoy...</td>\n",
       "      <td>1734131242</td>\n",
       "      <td>Hello, \\nin the last time I noticed an increas...</td>\n",
       "      <td>None</td>\n",
       "    </tr>\n",
       "    <tr>\n",
       "      <th>9114</th>\n",
       "      <td>Should i go for the redmi 13 pro 5g or poco x6</td>\n",
       "      <td>5</td>\n",
       "      <td>https://www.reddit.com/r/Xiaomi/comments/1h9iu...</td>\n",
       "      <td>1733664464</td>\n",
       "      <td>Where i live the redmi costs $250 and the poco...</td>\n",
       "      <td>None</td>\n",
       "    </tr>\n",
       "    <tr>\n",
       "      <th>9219</th>\n",
       "      <td>Reverting back to MIUI</td>\n",
       "      <td>34</td>\n",
       "      <td>https://www.reddit.com/r/Xiaomi/comments/1h4v2...</td>\n",
       "      <td>1733146451</td>\n",
       "      <td>Let's face it guys, HyperOS and HyperOS 2 was ...</td>\n",
       "      <td>None</td>\n",
       "    </tr>\n",
       "    <tr>\n",
       "      <th>9280</th>\n",
       "      <td>I bought a Poco X6 pro for $248 US (at change)</td>\n",
       "      <td>6</td>\n",
       "      <td>https://www.reddit.com/r/Xiaomi/comments/1h2zy...</td>\n",
       "      <td>1732926042</td>\n",
       "      <td>I bought a Poco X6 pro (256gb) for my sister, ...</td>\n",
       "      <td>None</td>\n",
       "    </tr>\n",
       "    <tr>\n",
       "      <th>9298</th>\n",
       "      <td>HyperOS 2 Horrible Battery Life</td>\n",
       "      <td>24</td>\n",
       "      <td>https://www.reddit.com/r/Xiaomi/comments/1h297...</td>\n",
       "      <td>1732838817</td>\n",
       "      <td>As per title suggested, after updating to Hype...</td>\n",
       "      <td>None</td>\n",
       "    </tr>\n",
       "  </tbody>\n",
       "</table>\n",
       "<p>1523 rows × 6 columns</p>\n",
       "</div>"
      ],
      "text/plain": [
       "                                                  Title  Upvotes  \\\n",
       "0      How to reduce spacing between icons in a folder         2   \n",
       "1     Are you disappointed from Xiaomi Redmi Note 14...        6   \n",
       "2                         Xiaomi Scooter 4 lite 2nd gen        1   \n",
       "3     Xiaomi Smart Speaker (IR)- Not connecting to M...        1   \n",
       "4     Who switched from Samsung S24 Ultra to Xiaomi ...        1   \n",
       "...                                                 ...      ...   \n",
       "9013                         14 T Pro Standby by drain        11   \n",
       "9114     Should i go for the redmi 13 pro 5g or poco x6        5   \n",
       "9219                             Reverting back to MIUI       34   \n",
       "9280     I bought a Poco X6 pro for $248 US (at change)        6   \n",
       "9298                    HyperOS 2 Horrible Battery Life       24   \n",
       "\n",
       "                                                    URL     Created  \\\n",
       "0     https://www.reddit.com/r/Xiaomi/comments/1hyt7...  1736591477   \n",
       "1     https://www.reddit.com/r/Xiaomi/comments/1hysw...  1736590096   \n",
       "2     https://www.reddit.com/r/Xiaomi/comments/1hysf...  1736588006   \n",
       "3     https://www.reddit.com/r/Xiaomi/comments/1hys8...  1736587093   \n",
       "4     https://www.reddit.com/r/Xiaomi/comments/1hyr5...  1736582173   \n",
       "...                                                 ...         ...   \n",
       "9013  https://www.reddit.com/r/Xiaomi/comments/1hdoy...  1734131242   \n",
       "9114  https://www.reddit.com/r/Xiaomi/comments/1h9iu...  1733664464   \n",
       "9219  https://www.reddit.com/r/Xiaomi/comments/1h4v2...  1733146451   \n",
       "9280  https://www.reddit.com/r/Xiaomi/comments/1h2zy...  1732926042   \n",
       "9298  https://www.reddit.com/r/Xiaomi/comments/1h297...  1732838817   \n",
       "\n",
       "                                                   Text Model  \n",
       "0     I just acquired a device with hyper os 2 and I...  None  \n",
       "1     Did the Global versions of these devices disap...  None  \n",
       "2     Hi all,\\n\\nI received the Xiaomi scooter 4 lit...  None  \n",
       "3     Hi everyone,\\n\\nI recently got the Xiaomi Smar...  None  \n",
       "4     I would like to hear the impressions. Generall...  None  \n",
       "...                                                 ...   ...  \n",
       "9013  Hello, \\nin the last time I noticed an increas...  None  \n",
       "9114  Where i live the redmi costs $250 and the poco...  None  \n",
       "9219  Let's face it guys, HyperOS and HyperOS 2 was ...  None  \n",
       "9280  I bought a Poco X6 pro (256gb) for my sister, ...  None  \n",
       "9298  As per title suggested, after updating to Hype...  None  \n",
       "\n",
       "[1523 rows x 6 columns]"
      ]
     },
     "execution_count": 10,
     "metadata": {},
     "output_type": "execute_result"
    }
   ],
   "source": [
    "xiaomi"
   ]
  },
  {
   "cell_type": "code",
   "execution_count": 11,
   "id": "b45d2081-c1f5-4d58-9f53-ddc0bd703070",
   "metadata": {},
   "outputs": [],
   "source": [
    "xiaomi = xiaomi[xiaomi['Model'].notna()]"
   ]
  },
  {
   "cell_type": "code",
   "execution_count": 12,
   "id": "78ec1c85-8d93-4a64-b760-ce4f2e955f05",
   "metadata": {},
   "outputs": [
    {
     "data": {
      "text/plain": [
       "Model\n",
       "xiaomi ('Xiaomi Redmi Note 13', 'Redmi Note 13', 'Note 13', '')    14\n",
       "xiaomi ('Redmi 12', '', '', '12')                                  11\n",
       "xiaomi ('Redmi 13', '', '', '13')                                  10\n",
       "xiaomi ('Redmi 13c', '', '', '13c')                                 7\n",
       "xiaomi ('Xiaomi Mi 10', 'Mi 10', '', '')                            5\n",
       "xiaomi ('Redmi 9C', '', '', '9C')                                   4\n",
       "xiaomi ('Xiaomi Redmi Note 9', 'Redmi Note 9', 'Note 9', '')        4\n",
       "xiaomi ('Xiaomi Mi 9', 'Mi 9', '', '')                              4\n",
       "xiaomi ('Redmi 9', '', '', '9')                                     4\n",
       "xiaomi ('Redmi 13C', '', '', '13C')                                 3\n",
       "xiaomi ('Xiaomi Redmi Note 11', 'Redmi Note 11', 'Note 11', '')     2\n",
       "xiaomi ('Xiaomi Redmi Note 8', 'Redmi Note 8', 'Note 8', '')        2\n",
       "xiaomi ('Redmi 10C', '', '', '10C')                                 2\n",
       "xiaomi ('Xiaomi Redmi Note 10', 'Redmi Note 10', 'Note 10', '')     1\n",
       "xiaomi ('Redmi 7', '', '', '7')                                     1\n",
       "xiaomi ('Redmi 14C', '', '', '14C')                                 1\n",
       "xiaomi ('Xiaomi Redmi Pad', 'Redmi Pad', 'Pad', '')                 1\n",
       "xiaomi ('Xiaomi Mi 11', 'Mi 11', '', '')                            1\n",
       "xiaomi ('Redmi 14T', '', '', '14T')                                 1\n",
       "xiaomi ('Xiaomi Redmi A3', 'Redmi A3', 'A3', '')                    1\n",
       "xiaomi ('Xiaomi Mi 13', 'Mi 13', '', '')                            1\n",
       "xiaomi ('Redmi 10', '', '', '10')                                   1\n",
       "xiaomi ('Xiaomi Redmi Note 12', 'Redmi Note 12', 'Note 12', '')     1\n",
       "xiaomi ('Redmi 14c', '', '', '14c')                                 1\n",
       "xiaomi ('Redmi 6', '', '', '6')                                     1\n",
       "Name: count, dtype: int64"
      ]
     },
     "execution_count": 12,
     "metadata": {},
     "output_type": "execute_result"
    }
   ],
   "source": [
    "xiaomi['Model'].value_counts()"
   ]
  },
  {
   "cell_type": "code",
   "execution_count": 13,
   "id": "f525e45e-ab80-4f37-8a5b-81d745b38391",
   "metadata": {},
   "outputs": [],
   "source": [
    "import nltk\n",
    "from nltk.corpus import stopwords"
   ]
  },
  {
   "cell_type": "code",
   "execution_count": 14,
   "id": "292dac2c-0d3e-441a-a195-9007a24b7f31",
   "metadata": {},
   "outputs": [],
   "source": [
    "def clean_text(text):\n",
    "    # Convert the text to lowercase\n",
    "    text = text.lower()\n",
    "    \n",
    "    # Remove parentheses, single quotes, and commas\n",
    "    text = re.sub(r\"[(),']\", \"\", text)\n",
    "    \n",
    "    # Split text into individual words\n",
    "    words = text.split()\n",
    "    \n",
    "    # Remove 'xiaomi' and repetitions\n",
    "    unique_words = []\n",
    "    seen = set()\n",
    "    \n",
    "    for word in words:\n",
    "        if word == 'xiaomi':\n",
    "            continue  # Skip the word 'xiaomi'\n",
    "        if word not in seen:\n",
    "            seen.add(word)\n",
    "            unique_words.append(word)\n",
    "    \n",
    "    # Join the words back together to form the cleaned text\n",
    "    text = ' '.join(unique_words)\n",
    "    \n",
    "    # Remove extra spaces\n",
    "    text = ' '.join(text.split())\n",
    "\n",
    "    return text"
   ]
  },
  {
   "cell_type": "code",
   "execution_count": 15,
   "id": "4ec3f9b2-05e8-4525-a669-f83a8fc2d1ee",
   "metadata": {},
   "outputs": [
    {
     "name": "stderr",
     "output_type": "stream",
     "text": [
      "C:\\Users\\DELL\\AppData\\Local\\Temp\\ipykernel_36412\\2260910547.py:1: SettingWithCopyWarning: \n",
      "A value is trying to be set on a copy of a slice from a DataFrame.\n",
      "Try using .loc[row_indexer,col_indexer] = value instead\n",
      "\n",
      "See the caveats in the documentation: https://pandas.pydata.org/pandas-docs/stable/user_guide/indexing.html#returning-a-view-versus-a-copy\n",
      "  xiaomi['Model'] = xiaomi['Model'].apply(clean_text)\n"
     ]
    }
   ],
   "source": [
    "xiaomi['Model'] = xiaomi['Model'].apply(clean_text)"
   ]
  },
  {
   "cell_type": "code",
   "execution_count": 16,
   "id": "ae8c198c-a84c-4dc8-960b-3d4ab1de7bf1",
   "metadata": {},
   "outputs": [
    {
     "data": {
      "text/plain": [
       "Model\n",
       "redmi note 13    14\n",
       "redmi 12         11\n",
       "redmi 13         10\n",
       "redmi 13c        10\n",
       "mi 10             5\n",
       "redmi note 9      4\n",
       "mi 9              4\n",
       "redmi 9c          4\n",
       "redmi 9           4\n",
       "redmi 14c         2\n",
       "redmi note 11     2\n",
       "redmi note 8      2\n",
       "redmi 10c         2\n",
       "redmi note 10     1\n",
       "redmi 7           1\n",
       "redmi pad         1\n",
       "mi 11             1\n",
       "redmi 14t         1\n",
       "redmi a3          1\n",
       "mi 13             1\n",
       "redmi 10          1\n",
       "redmi note 12     1\n",
       "redmi 6           1\n",
       "Name: count, dtype: int64"
      ]
     },
     "execution_count": 16,
     "metadata": {},
     "output_type": "execute_result"
    }
   ],
   "source": [
    "xiaomi['Model'].value_counts()"
   ]
  },
  {
   "cell_type": "markdown",
   "id": "c6f7b742-e9e9-4484-8f12-dd382af7380f",
   "metadata": {},
   "source": [
    "# for camera "
   ]
  },
  {
   "cell_type": "code",
   "execution_count": 17,
   "id": "2b433e8b-44e0-4bbc-935a-e55909861e30",
   "metadata": {},
   "outputs": [],
   "source": [
    "camera_keywords = ['MP', 'megapixels', 'camera', 'lens', 'wide', 'ultrawide', 'telephoto']"
   ]
  },
  {
   "cell_type": "code",
   "execution_count": 18,
   "id": "6442e5b3-5311-44ed-bed9-fb1af7e994dd",
   "metadata": {},
   "outputs": [],
   "source": [
    "def extract_camera_info(text):\n",
    "    if any(keyword in text.lower() for keyword in camera_keywords):\n",
    "        # Include resolution (MP/megapixels) and other camera-related features in regex\n",
    "        camera_info = re.findall(r'(\\d{1,2})\\s*(MP|megapixels|camera|lens|wide|ultrawide|telephoto)', text)\n",
    "        return camera_info if camera_info else \"No specific camera info found\"\n",
    "    return \"No camera-related info in the text\""
   ]
  },
  {
   "cell_type": "code",
   "execution_count": 19,
   "id": "7d67d6aa-de9a-4c1f-b3a4-af6802eb88a5",
   "metadata": {},
   "outputs": [
    {
     "name": "stderr",
     "output_type": "stream",
     "text": [
      "C:\\Users\\DELL\\AppData\\Local\\Temp\\ipykernel_36412\\4212717669.py:1: SettingWithCopyWarning: \n",
      "A value is trying to be set on a copy of a slice from a DataFrame.\n",
      "Try using .loc[row_indexer,col_indexer] = value instead\n",
      "\n",
      "See the caveats in the documentation: https://pandas.pydata.org/pandas-docs/stable/user_guide/indexing.html#returning-a-view-versus-a-copy\n",
      "  xiaomi.loc[:, 'camera_info'] = xiaomi['Text'].apply(extract_camera_info)\n"
     ]
    }
   ],
   "source": [
    "xiaomi.loc[:, 'camera_info'] = xiaomi['Text'].apply(extract_camera_info)"
   ]
  },
  {
   "cell_type": "code",
   "execution_count": 20,
   "id": "0db653e5-dce1-4cae-9c2a-fb565d62c0f2",
   "metadata": {},
   "outputs": [],
   "source": [
    "camera_df = xiaomi[['Model', 'camera_info','Text']]"
   ]
  },
  {
   "cell_type": "code",
   "execution_count": 21,
   "id": "47d541b3-f079-4928-aebc-ee2bb5d13ff5",
   "metadata": {},
   "outputs": [
    {
     "name": "stdout",
     "output_type": "stream",
     "text": [
      "<class 'pandas.core.frame.DataFrame'>\n",
      "Index: 84 entries, 43 to 8076\n",
      "Data columns (total 3 columns):\n",
      " #   Column       Non-Null Count  Dtype \n",
      "---  ------       --------------  ----- \n",
      " 0   Model        84 non-null     object\n",
      " 1   camera_info  84 non-null     object\n",
      " 2   Text         84 non-null     object\n",
      "dtypes: object(3)\n",
      "memory usage: 2.6+ KB\n"
     ]
    }
   ],
   "source": [
    "camera_df.info()"
   ]
  },
  {
   "cell_type": "code",
   "execution_count": 22,
   "id": "d2854a2d-0858-4c97-a0d3-3eddf50b9d9f",
   "metadata": {},
   "outputs": [
    {
     "data": {
      "text/html": [
       "<div>\n",
       "<style scoped>\n",
       "    .dataframe tbody tr th:only-of-type {\n",
       "        vertical-align: middle;\n",
       "    }\n",
       "\n",
       "    .dataframe tbody tr th {\n",
       "        vertical-align: top;\n",
       "    }\n",
       "\n",
       "    .dataframe thead th {\n",
       "        text-align: right;\n",
       "    }\n",
       "</style>\n",
       "<table border=\"1\" class=\"dataframe\">\n",
       "  <thead>\n",
       "    <tr style=\"text-align: right;\">\n",
       "      <th></th>\n",
       "      <th>Model</th>\n",
       "      <th>camera_info</th>\n",
       "      <th>Text</th>\n",
       "    </tr>\n",
       "  </thead>\n",
       "  <tbody>\n",
       "    <tr>\n",
       "      <th>43</th>\n",
       "      <td>redmi 14t</td>\n",
       "      <td>No camera-related info in the text</td>\n",
       "      <td>Hello \\nMy Redmi 14T Pro Phone doesn't work an...</td>\n",
       "    </tr>\n",
       "    <tr>\n",
       "      <th>97</th>\n",
       "      <td>redmi note 12</td>\n",
       "      <td>No camera-related info in the text</td>\n",
       "      <td>I am using a Xiaomi Redmi Note 12 Pro, I haven...</td>\n",
       "    </tr>\n",
       "    <tr>\n",
       "      <th>104</th>\n",
       "      <td>redmi 13</td>\n",
       "      <td>No camera-related info in the text</td>\n",
       "      <td>Hi All\\n\\nJust got my Redmi 13 pro plus and I'...</td>\n",
       "    </tr>\n",
       "    <tr>\n",
       "      <th>121</th>\n",
       "      <td>redmi 13c</td>\n",
       "      <td>No camera-related info in the text</td>\n",
       "      <td>Yo! Why don't I have an update for my Redmi 13...</td>\n",
       "    </tr>\n",
       "    <tr>\n",
       "      <th>150</th>\n",
       "      <td>redmi 13c</td>\n",
       "      <td>No camera-related info in the text</td>\n",
       "      <td>Unable to open my notifications / mp on the ph...</td>\n",
       "    </tr>\n",
       "    <tr>\n",
       "      <th>...</th>\n",
       "      <td>...</td>\n",
       "      <td>...</td>\n",
       "      <td>...</td>\n",
       "    </tr>\n",
       "    <tr>\n",
       "      <th>5291</th>\n",
       "      <td>redmi 13</td>\n",
       "      <td>No camera-related info in the text</td>\n",
       "      <td>I got the \"Xiaomi hyper OS\" update (1.0.9.0), ...</td>\n",
       "    </tr>\n",
       "    <tr>\n",
       "      <th>5649</th>\n",
       "      <td>redmi note 13</td>\n",
       "      <td>No camera-related info in the text</td>\n",
       "      <td>Just setting the new Xiaomi Redmi Note 13 4G u...</td>\n",
       "    </tr>\n",
       "    <tr>\n",
       "      <th>6179</th>\n",
       "      <td>redmi 12</td>\n",
       "      <td>No camera-related info in the text</td>\n",
       "      <td>Sooooo....Xiaomi 11 Lite 5G NE Is receiving th...</td>\n",
       "    </tr>\n",
       "    <tr>\n",
       "      <th>7177</th>\n",
       "      <td>redmi 13</td>\n",
       "      <td>No camera-related info in the text</td>\n",
       "      <td>I got the \"Xiaomi hyper OS\" update (1.0.9.0), ...</td>\n",
       "    </tr>\n",
       "    <tr>\n",
       "      <th>8076</th>\n",
       "      <td>redmi 13c</td>\n",
       "      <td>No specific camera info found</td>\n",
       "      <td>So my mom is going to switch from a Samsung Ga...</td>\n",
       "    </tr>\n",
       "  </tbody>\n",
       "</table>\n",
       "<p>84 rows × 3 columns</p>\n",
       "</div>"
      ],
      "text/plain": [
       "              Model                         camera_info  \\\n",
       "43        redmi 14t  No camera-related info in the text   \n",
       "97    redmi note 12  No camera-related info in the text   \n",
       "104        redmi 13  No camera-related info in the text   \n",
       "121       redmi 13c  No camera-related info in the text   \n",
       "150       redmi 13c  No camera-related info in the text   \n",
       "...             ...                                 ...   \n",
       "5291       redmi 13  No camera-related info in the text   \n",
       "5649  redmi note 13  No camera-related info in the text   \n",
       "6179       redmi 12  No camera-related info in the text   \n",
       "7177       redmi 13  No camera-related info in the text   \n",
       "8076      redmi 13c       No specific camera info found   \n",
       "\n",
       "                                                   Text  \n",
       "43    Hello \\nMy Redmi 14T Pro Phone doesn't work an...  \n",
       "97    I am using a Xiaomi Redmi Note 12 Pro, I haven...  \n",
       "104   Hi All\\n\\nJust got my Redmi 13 pro plus and I'...  \n",
       "121   Yo! Why don't I have an update for my Redmi 13...  \n",
       "150   Unable to open my notifications / mp on the ph...  \n",
       "...                                                 ...  \n",
       "5291  I got the \"Xiaomi hyper OS\" update (1.0.9.0), ...  \n",
       "5649  Just setting the new Xiaomi Redmi Note 13 4G u...  \n",
       "6179  Sooooo....Xiaomi 11 Lite 5G NE Is receiving th...  \n",
       "7177  I got the \"Xiaomi hyper OS\" update (1.0.9.0), ...  \n",
       "8076  So my mom is going to switch from a Samsung Ga...  \n",
       "\n",
       "[84 rows x 3 columns]"
      ]
     },
     "execution_count": 22,
     "metadata": {},
     "output_type": "execute_result"
    }
   ],
   "source": [
    "camera_df"
   ]
  },
  {
   "cell_type": "code",
   "execution_count": 23,
   "id": "b7b0b990-4d01-4d83-98b0-f2a09fc8a9d1",
   "metadata": {},
   "outputs": [
    {
     "data": {
      "text/plain": [
       "camera_info\n",
       "No camera-related info in the text    69\n",
       "No specific camera info found         12\n",
       "[(08, MP)]                             3\n",
       "Name: count, dtype: int64"
      ]
     },
     "execution_count": 23,
     "metadata": {},
     "output_type": "execute_result"
    }
   ],
   "source": [
    "camera_df['camera_info'].value_counts()"
   ]
  },
  {
   "cell_type": "code",
   "execution_count": 24,
   "id": "384a46f0-d278-4320-b21f-57c682196751",
   "metadata": {},
   "outputs": [],
   "source": [
    "Camera = camera_df[~camera_df['camera_info'].isin([\"No camera-related info in the text\"])]"
   ]
  },
  {
   "cell_type": "code",
   "execution_count": 25,
   "id": "976d9a70-b525-4758-8e2e-992962601987",
   "metadata": {},
   "outputs": [
    {
     "data": {
      "text/html": [
       "<div>\n",
       "<style scoped>\n",
       "    .dataframe tbody tr th:only-of-type {\n",
       "        vertical-align: middle;\n",
       "    }\n",
       "\n",
       "    .dataframe tbody tr th {\n",
       "        vertical-align: top;\n",
       "    }\n",
       "\n",
       "    .dataframe thead th {\n",
       "        text-align: right;\n",
       "    }\n",
       "</style>\n",
       "<table border=\"1\" class=\"dataframe\">\n",
       "  <thead>\n",
       "    <tr style=\"text-align: right;\">\n",
       "      <th></th>\n",
       "      <th>Model</th>\n",
       "      <th>camera_info</th>\n",
       "      <th>Text</th>\n",
       "    </tr>\n",
       "  </thead>\n",
       "  <tbody>\n",
       "    <tr>\n",
       "      <th>249</th>\n",
       "      <td>redmi 9c</td>\n",
       "      <td>No specific camera info found</td>\n",
       "      <td>**Hi everyone,**\\n\\nI’ve been using a Redmi 9C...</td>\n",
       "    </tr>\n",
       "    <tr>\n",
       "      <th>342</th>\n",
       "      <td>mi 10</td>\n",
       "      <td>[(08, MP)]</td>\n",
       "      <td>Hi all,\\n\\nSo after using the Xiaomi Mi 10T Pr...</td>\n",
       "    </tr>\n",
       "    <tr>\n",
       "      <th>499</th>\n",
       "      <td>redmi 13</td>\n",
       "      <td>No specific camera info found</td>\n",
       "      <td>Well, when I use my normal camera app on my Re...</td>\n",
       "    </tr>\n",
       "    <tr>\n",
       "      <th>532</th>\n",
       "      <td>redmi 13c</td>\n",
       "      <td>No specific camera info found</td>\n",
       "      <td>So my mom is going to switch from a Samsung Ga...</td>\n",
       "    </tr>\n",
       "    <tr>\n",
       "      <th>558</th>\n",
       "      <td>redmi note 11</td>\n",
       "      <td>No specific camera info found</td>\n",
       "      <td>Hey guys, i've come to two options and i want ...</td>\n",
       "    </tr>\n",
       "    <tr>\n",
       "      <th>669</th>\n",
       "      <td>redmi note 13</td>\n",
       "      <td>No specific camera info found</td>\n",
       "      <td>I’m considering upgrading from my Xiaomi Redmi...</td>\n",
       "    </tr>\n",
       "    <tr>\n",
       "      <th>1192</th>\n",
       "      <td>redmi 9c</td>\n",
       "      <td>No specific camera info found</td>\n",
       "      <td>**Hi everyone,**\\n\\nI’ve been using a Redmi 9C...</td>\n",
       "    </tr>\n",
       "    <tr>\n",
       "      <th>1442</th>\n",
       "      <td>redmi 13</td>\n",
       "      <td>No specific camera info found</td>\n",
       "      <td>Well, when I use my normal camera app on my Re...</td>\n",
       "    </tr>\n",
       "    <tr>\n",
       "      <th>1612</th>\n",
       "      <td>redmi note 13</td>\n",
       "      <td>No specific camera info found</td>\n",
       "      <td>I’m considering upgrading from my Xiaomi Redmi...</td>\n",
       "    </tr>\n",
       "    <tr>\n",
       "      <th>2228</th>\n",
       "      <td>mi 10</td>\n",
       "      <td>[(08, MP)]</td>\n",
       "      <td>Hi all,\\n\\nSo after using the Xiaomi Mi 10T Pr...</td>\n",
       "    </tr>\n",
       "    <tr>\n",
       "      <th>2385</th>\n",
       "      <td>redmi 13</td>\n",
       "      <td>No specific camera info found</td>\n",
       "      <td>Well, when I use my normal camera app on my Re...</td>\n",
       "    </tr>\n",
       "    <tr>\n",
       "      <th>3078</th>\n",
       "      <td>redmi 9c</td>\n",
       "      <td>No specific camera info found</td>\n",
       "      <td>**Hi everyone,**\\n\\nI’ve been using a Redmi 9C...</td>\n",
       "    </tr>\n",
       "    <tr>\n",
       "      <th>4021</th>\n",
       "      <td>redmi 9c</td>\n",
       "      <td>No specific camera info found</td>\n",
       "      <td>**Hi everyone,**\\n\\nI’ve been using a Redmi 9C...</td>\n",
       "    </tr>\n",
       "    <tr>\n",
       "      <th>5057</th>\n",
       "      <td>mi 10</td>\n",
       "      <td>[(08, MP)]</td>\n",
       "      <td>Hi all,\\n\\nSo after using the Xiaomi Mi 10T Pr...</td>\n",
       "    </tr>\n",
       "    <tr>\n",
       "      <th>8076</th>\n",
       "      <td>redmi 13c</td>\n",
       "      <td>No specific camera info found</td>\n",
       "      <td>So my mom is going to switch from a Samsung Ga...</td>\n",
       "    </tr>\n",
       "  </tbody>\n",
       "</table>\n",
       "</div>"
      ],
      "text/plain": [
       "              Model                    camera_info  \\\n",
       "249        redmi 9c  No specific camera info found   \n",
       "342           mi 10                     [(08, MP)]   \n",
       "499        redmi 13  No specific camera info found   \n",
       "532       redmi 13c  No specific camera info found   \n",
       "558   redmi note 11  No specific camera info found   \n",
       "669   redmi note 13  No specific camera info found   \n",
       "1192       redmi 9c  No specific camera info found   \n",
       "1442       redmi 13  No specific camera info found   \n",
       "1612  redmi note 13  No specific camera info found   \n",
       "2228          mi 10                     [(08, MP)]   \n",
       "2385       redmi 13  No specific camera info found   \n",
       "3078       redmi 9c  No specific camera info found   \n",
       "4021       redmi 9c  No specific camera info found   \n",
       "5057          mi 10                     [(08, MP)]   \n",
       "8076      redmi 13c  No specific camera info found   \n",
       "\n",
       "                                                   Text  \n",
       "249   **Hi everyone,**\\n\\nI’ve been using a Redmi 9C...  \n",
       "342   Hi all,\\n\\nSo after using the Xiaomi Mi 10T Pr...  \n",
       "499   Well, when I use my normal camera app on my Re...  \n",
       "532   So my mom is going to switch from a Samsung Ga...  \n",
       "558   Hey guys, i've come to two options and i want ...  \n",
       "669   I’m considering upgrading from my Xiaomi Redmi...  \n",
       "1192  **Hi everyone,**\\n\\nI’ve been using a Redmi 9C...  \n",
       "1442  Well, when I use my normal camera app on my Re...  \n",
       "1612  I’m considering upgrading from my Xiaomi Redmi...  \n",
       "2228  Hi all,\\n\\nSo after using the Xiaomi Mi 10T Pr...  \n",
       "2385  Well, when I use my normal camera app on my Re...  \n",
       "3078  **Hi everyone,**\\n\\nI’ve been using a Redmi 9C...  \n",
       "4021  **Hi everyone,**\\n\\nI’ve been using a Redmi 9C...  \n",
       "5057  Hi all,\\n\\nSo after using the Xiaomi Mi 10T Pr...  \n",
       "8076  So my mom is going to switch from a Samsung Ga...  "
      ]
     },
     "execution_count": 25,
     "metadata": {},
     "output_type": "execute_result"
    }
   ],
   "source": [
    "Camera"
   ]
  },
  {
   "cell_type": "code",
   "execution_count": 26,
   "id": "9df5d62d-15da-45c0-9b99-66830cb23fe7",
   "metadata": {},
   "outputs": [
    {
     "name": "stdout",
     "output_type": "stream",
     "text": [
      "<class 'pandas.core.frame.DataFrame'>\n",
      "Index: 15 entries, 249 to 8076\n",
      "Data columns (total 3 columns):\n",
      " #   Column       Non-Null Count  Dtype \n",
      "---  ------       --------------  ----- \n",
      " 0   Model        15 non-null     object\n",
      " 1   camera_info  15 non-null     object\n",
      " 2   Text         15 non-null     object\n",
      "dtypes: object(3)\n",
      "memory usage: 480.0+ bytes\n"
     ]
    }
   ],
   "source": [
    "Camera.info()"
   ]
  },
  {
   "cell_type": "code",
   "execution_count": 27,
   "id": "58763b0c-9582-4454-bcb2-5809621fedc9",
   "metadata": {},
   "outputs": [],
   "source": [
    "from vaderSentiment.vaderSentiment import SentimentIntensityAnalyzer"
   ]
  },
  {
   "cell_type": "code",
   "execution_count": 28,
   "id": "54615dba-95b8-46ac-87f8-d5e1754e5b72",
   "metadata": {},
   "outputs": [],
   "source": [
    "ana = SentimentIntensityAnalyzer()"
   ]
  },
  {
   "cell_type": "code",
   "execution_count": 29,
   "id": "482d2f9d-56f4-454d-9bc9-17af9f1b24dc",
   "metadata": {},
   "outputs": [],
   "source": [
    "def get_sentiment_score(text):\n",
    "    # Get sentiment score (compound score is the final sentiment)\n",
    "    sentiment = ana.polarity_scores(text)\n",
    "    return sentiment['compound'] "
   ]
  },
  {
   "cell_type": "code",
   "execution_count": 30,
   "id": "51195017-0443-456a-81c1-27b08d368c13",
   "metadata": {},
   "outputs": [
    {
     "name": "stderr",
     "output_type": "stream",
     "text": [
      "C:\\Users\\DELL\\AppData\\Local\\Temp\\ipykernel_36412\\495197553.py:1: SettingWithCopyWarning: \n",
      "A value is trying to be set on a copy of a slice from a DataFrame.\n",
      "Try using .loc[row_indexer,col_indexer] = value instead\n",
      "\n",
      "See the caveats in the documentation: https://pandas.pydata.org/pandas-docs/stable/user_guide/indexing.html#returning-a-view-versus-a-copy\n",
      "  Camera['Sentiment'] = Camera['Text'].apply(lambda x: get_sentiment_score(x))\n"
     ]
    }
   ],
   "source": [
    "Camera['Sentiment'] = Camera['Text'].apply(lambda x: get_sentiment_score(x))"
   ]
  },
  {
   "cell_type": "code",
   "execution_count": 31,
   "id": "25949743-4d37-4ec6-8a4d-777ed04aa9d9",
   "metadata": {},
   "outputs": [],
   "source": [
    "# Group by Model and calculate the average sentiment score for each model\n",
    "Camera_Modelwise = Camera.groupby('Model')['Sentiment'].mean().reset_index()"
   ]
  },
  {
   "cell_type": "code",
   "execution_count": 32,
   "id": "16c713ab-8214-4648-a8a3-6782ecfe7054",
   "metadata": {},
   "outputs": [
    {
     "data": {
      "text/html": [
       "<div>\n",
       "<style scoped>\n",
       "    .dataframe tbody tr th:only-of-type {\n",
       "        vertical-align: middle;\n",
       "    }\n",
       "\n",
       "    .dataframe tbody tr th {\n",
       "        vertical-align: top;\n",
       "    }\n",
       "\n",
       "    .dataframe thead th {\n",
       "        text-align: right;\n",
       "    }\n",
       "</style>\n",
       "<table border=\"1\" class=\"dataframe\">\n",
       "  <thead>\n",
       "    <tr style=\"text-align: right;\">\n",
       "      <th></th>\n",
       "      <th>Model</th>\n",
       "      <th>Sentiment</th>\n",
       "    </tr>\n",
       "  </thead>\n",
       "  <tbody>\n",
       "    <tr>\n",
       "      <th>0</th>\n",
       "      <td>mi 10</td>\n",
       "      <td>0.6173</td>\n",
       "    </tr>\n",
       "    <tr>\n",
       "      <th>1</th>\n",
       "      <td>redmi 13</td>\n",
       "      <td>0.9313</td>\n",
       "    </tr>\n",
       "    <tr>\n",
       "      <th>2</th>\n",
       "      <td>redmi 13c</td>\n",
       "      <td>0.5580</td>\n",
       "    </tr>\n",
       "    <tr>\n",
       "      <th>3</th>\n",
       "      <td>redmi 9c</td>\n",
       "      <td>0.9713</td>\n",
       "    </tr>\n",
       "    <tr>\n",
       "      <th>4</th>\n",
       "      <td>redmi note 11</td>\n",
       "      <td>0.7026</td>\n",
       "    </tr>\n",
       "    <tr>\n",
       "      <th>5</th>\n",
       "      <td>redmi note 13</td>\n",
       "      <td>0.9831</td>\n",
       "    </tr>\n",
       "  </tbody>\n",
       "</table>\n",
       "</div>"
      ],
      "text/plain": [
       "           Model  Sentiment\n",
       "0          mi 10     0.6173\n",
       "1       redmi 13     0.9313\n",
       "2      redmi 13c     0.5580\n",
       "3       redmi 9c     0.9713\n",
       "4  redmi note 11     0.7026\n",
       "5  redmi note 13     0.9831"
      ]
     },
     "execution_count": 32,
     "metadata": {},
     "output_type": "execute_result"
    }
   ],
   "source": [
    "Camera_Modelwise"
   ]
  },
  {
   "cell_type": "code",
   "execution_count": 33,
   "id": "8d22a6ec-b8b7-40cf-bbae-210681ad984b",
   "metadata": {},
   "outputs": [],
   "source": [
    "import matplotlib.pyplot as plt"
   ]
  },
  {
   "cell_type": "code",
   "execution_count": 174,
   "id": "3d32758c-3565-4024-ad62-64e326efd24d",
   "metadata": {},
   "outputs": [
    {
     "data": {
      "image/png": "[encoded data removed]",
      "text/plain": [
       "<Figure size 1200x600 with 1 Axes>"
      ]
     },
     "metadata": {},
     "output_type": "display_data"
    }
   ],
   "source": [
    "plt.figure(figsize=(12, 6))\n",
    "plt.bar(Camera_Modelwise['Model'], Camera_Modelwise['Sentiment'], color='skyblue')\n",
    "plt.xlabel('xiaomi Model' , size = 14)\n",
    "plt.ylabel('Average Sentiment Score', size =14)\n",
    "plt.xticks(rotation=0)\n",
    "plt.show()"
   ]
  },
  {
   "cell_type": "markdown",
   "id": "761d7070-cbc1-452b-9db5-53b2f84dab0e",
   "metadata": {},
   "source": [
    "## for Battery"
   ]
  },
  {
   "cell_type": "code",
   "execution_count": 35,
   "id": "d1311107-fc88-4c6b-8be1-f880a0a9c59f",
   "metadata": {},
   "outputs": [],
   "source": [
    "battery_keywords = ['battery', 'mAh', 'capacity', 'charging', 'life']"
   ]
  },
  {
   "cell_type": "code",
   "execution_count": 36,
   "id": "a762ae43-747e-4442-a9d6-6b745e35b286",
   "metadata": {},
   "outputs": [],
   "source": [
    "def extract_battery_info(text):\n",
    "    if any(keyword in text.lower() for keyword in battery_keywords):\n",
    "        # Extract battery-related data using regex\n",
    "        battery_info = re.findall(r'(\\d{3,4})\\s*(mAh|capacity|battery)', text)\n",
    "        \n",
    "        # Return battery info if found, else return a default message\n",
    "        if battery_info:\n",
    "            return battery_info\n",
    "        else:\n",
    "            return \"No specific battery info found\"  # Default message when no details are found\n",
    "    return \"No battery-related info in the text\"  # Default message when no battery keywords are found"
   ]
  },
  {
   "cell_type": "code",
   "execution_count": 37,
   "id": "5a36d251-957c-416b-807a-279269c67ae2",
   "metadata": {},
   "outputs": [
    {
     "name": "stderr",
     "output_type": "stream",
     "text": [
      "C:\\Users\\DELL\\AppData\\Local\\Temp\\ipykernel_36412\\1656703662.py:1: SettingWithCopyWarning: \n",
      "A value is trying to be set on a copy of a slice from a DataFrame.\n",
      "Try using .loc[row_indexer,col_indexer] = value instead\n",
      "\n",
      "See the caveats in the documentation: https://pandas.pydata.org/pandas-docs/stable/user_guide/indexing.html#returning-a-view-versus-a-copy\n",
      "  xiaomi.loc[:, 'battery_info'] = xiaomi['Text'].apply(extract_battery_info)\n"
     ]
    }
   ],
   "source": [
    "xiaomi.loc[:, 'battery_info'] = xiaomi['Text'].apply(extract_battery_info)"
   ]
  },
  {
   "cell_type": "code",
   "execution_count": 38,
   "id": "80c29479-4947-4540-ba2a-826a60444443",
   "metadata": {},
   "outputs": [],
   "source": [
    "battery_df = xiaomi[['Model', 'battery_info','Text']]"
   ]
  },
  {
   "cell_type": "code",
   "execution_count": 39,
   "id": "7ca7b0b9-6430-44a5-97ab-86d8e99031a5",
   "metadata": {},
   "outputs": [
    {
     "name": "stdout",
     "output_type": "stream",
     "text": [
      "<class 'pandas.core.frame.DataFrame'>\n",
      "Index: 84 entries, 43 to 8076\n",
      "Data columns (total 3 columns):\n",
      " #   Column        Non-Null Count  Dtype \n",
      "---  ------        --------------  ----- \n",
      " 0   Model         84 non-null     object\n",
      " 1   battery_info  84 non-null     object\n",
      " 2   Text          84 non-null     object\n",
      "dtypes: object(3)\n",
      "memory usage: 2.6+ KB\n"
     ]
    }
   ],
   "source": [
    "battery_df.info()"
   ]
  },
  {
   "cell_type": "code",
   "execution_count": 40,
   "id": "2c3c5222-a9a0-4327-9163-f0e3fd88e882",
   "metadata": {},
   "outputs": [
    {
     "data": {
      "text/html": [
       "<div>\n",
       "<style scoped>\n",
       "    .dataframe tbody tr th:only-of-type {\n",
       "        vertical-align: middle;\n",
       "    }\n",
       "\n",
       "    .dataframe tbody tr th {\n",
       "        vertical-align: top;\n",
       "    }\n",
       "\n",
       "    .dataframe thead th {\n",
       "        text-align: right;\n",
       "    }\n",
       "</style>\n",
       "<table border=\"1\" class=\"dataframe\">\n",
       "  <thead>\n",
       "    <tr style=\"text-align: right;\">\n",
       "      <th></th>\n",
       "      <th>Model</th>\n",
       "      <th>battery_info</th>\n",
       "      <th>Text</th>\n",
       "    </tr>\n",
       "  </thead>\n",
       "  <tbody>\n",
       "    <tr>\n",
       "      <th>43</th>\n",
       "      <td>redmi 14t</td>\n",
       "      <td>No battery-related info in the text</td>\n",
       "      <td>Hello \\nMy Redmi 14T Pro Phone doesn't work an...</td>\n",
       "    </tr>\n",
       "    <tr>\n",
       "      <th>97</th>\n",
       "      <td>redmi note 12</td>\n",
       "      <td>No battery-related info in the text</td>\n",
       "      <td>I am using a Xiaomi Redmi Note 12 Pro, I haven...</td>\n",
       "    </tr>\n",
       "    <tr>\n",
       "      <th>104</th>\n",
       "      <td>redmi 13</td>\n",
       "      <td>No battery-related info in the text</td>\n",
       "      <td>Hi All\\n\\nJust got my Redmi 13 pro plus and I'...</td>\n",
       "    </tr>\n",
       "    <tr>\n",
       "      <th>121</th>\n",
       "      <td>redmi 13c</td>\n",
       "      <td>No battery-related info in the text</td>\n",
       "      <td>Yo! Why don't I have an update for my Redmi 13...</td>\n",
       "    </tr>\n",
       "    <tr>\n",
       "      <th>150</th>\n",
       "      <td>redmi 13c</td>\n",
       "      <td>No battery-related info in the text</td>\n",
       "      <td>Unable to open my notifications / mp on the ph...</td>\n",
       "    </tr>\n",
       "    <tr>\n",
       "      <th>...</th>\n",
       "      <td>...</td>\n",
       "      <td>...</td>\n",
       "      <td>...</td>\n",
       "    </tr>\n",
       "    <tr>\n",
       "      <th>5291</th>\n",
       "      <td>redmi 13</td>\n",
       "      <td>No battery-related info in the text</td>\n",
       "      <td>I got the \"Xiaomi hyper OS\" update (1.0.9.0), ...</td>\n",
       "    </tr>\n",
       "    <tr>\n",
       "      <th>5649</th>\n",
       "      <td>redmi note 13</td>\n",
       "      <td>No battery-related info in the text</td>\n",
       "      <td>Just setting the new Xiaomi Redmi Note 13 4G u...</td>\n",
       "    </tr>\n",
       "    <tr>\n",
       "      <th>6179</th>\n",
       "      <td>redmi 12</td>\n",
       "      <td>No battery-related info in the text</td>\n",
       "      <td>Sooooo....Xiaomi 11 Lite 5G NE Is receiving th...</td>\n",
       "    </tr>\n",
       "    <tr>\n",
       "      <th>7177</th>\n",
       "      <td>redmi 13</td>\n",
       "      <td>No battery-related info in the text</td>\n",
       "      <td>I got the \"Xiaomi hyper OS\" update (1.0.9.0), ...</td>\n",
       "    </tr>\n",
       "    <tr>\n",
       "      <th>8076</th>\n",
       "      <td>redmi 13c</td>\n",
       "      <td>No specific battery info found</td>\n",
       "      <td>So my mom is going to switch from a Samsung Ga...</td>\n",
       "    </tr>\n",
       "  </tbody>\n",
       "</table>\n",
       "<p>84 rows × 3 columns</p>\n",
       "</div>"
      ],
      "text/plain": [
       "              Model                         battery_info  \\\n",
       "43        redmi 14t  No battery-related info in the text   \n",
       "97    redmi note 12  No battery-related info in the text   \n",
       "104        redmi 13  No battery-related info in the text   \n",
       "121       redmi 13c  No battery-related info in the text   \n",
       "150       redmi 13c  No battery-related info in the text   \n",
       "...             ...                                  ...   \n",
       "5291       redmi 13  No battery-related info in the text   \n",
       "5649  redmi note 13  No battery-related info in the text   \n",
       "6179       redmi 12  No battery-related info in the text   \n",
       "7177       redmi 13  No battery-related info in the text   \n",
       "8076      redmi 13c       No specific battery info found   \n",
       "\n",
       "                                                   Text  \n",
       "43    Hello \\nMy Redmi 14T Pro Phone doesn't work an...  \n",
       "97    I am using a Xiaomi Redmi Note 12 Pro, I haven...  \n",
       "104   Hi All\\n\\nJust got my Redmi 13 pro plus and I'...  \n",
       "121   Yo! Why don't I have an update for my Redmi 13...  \n",
       "150   Unable to open my notifications / mp on the ph...  \n",
       "...                                                 ...  \n",
       "5291  I got the \"Xiaomi hyper OS\" update (1.0.9.0), ...  \n",
       "5649  Just setting the new Xiaomi Redmi Note 13 4G u...  \n",
       "6179  Sooooo....Xiaomi 11 Lite 5G NE Is receiving th...  \n",
       "7177  I got the \"Xiaomi hyper OS\" update (1.0.9.0), ...  \n",
       "8076  So my mom is going to switch from a Samsung Ga...  \n",
       "\n",
       "[84 rows x 3 columns]"
      ]
     },
     "execution_count": 40,
     "metadata": {},
     "output_type": "execute_result"
    }
   ],
   "source": [
    "battery_df"
   ]
  },
  {
   "cell_type": "code",
   "execution_count": 41,
   "id": "6809cf29-5358-43c2-854c-1d473b4f3bd3",
   "metadata": {},
   "outputs": [
    {
     "data": {
      "text/plain": [
       "battery_info\n",
       "No battery-related info in the text    64\n",
       "No specific battery info found         19\n",
       "[(350, mAh), (600, mAh)]                1\n",
       "Name: count, dtype: int64"
      ]
     },
     "execution_count": 41,
     "metadata": {},
     "output_type": "execute_result"
    }
   ],
   "source": [
    "battery_df['battery_info'].value_counts()"
   ]
  },
  {
   "cell_type": "code",
   "execution_count": 42,
   "id": "55ad312a-f97c-450e-80ed-d1abbb5ffab5",
   "metadata": {},
   "outputs": [],
   "source": [
    "Battery = battery_df[~battery_df['battery_info'].isin([\"No battery-related info in the text\"])]"
   ]
  },
  {
   "cell_type": "code",
   "execution_count": 43,
   "id": "c283195d-f944-4d08-9518-ff8091296337",
   "metadata": {},
   "outputs": [
    {
     "name": "stdout",
     "output_type": "stream",
     "text": [
      "<class 'pandas.core.frame.DataFrame'>\n",
      "Index: 20 entries, 249 to 8076\n",
      "Data columns (total 3 columns):\n",
      " #   Column        Non-Null Count  Dtype \n",
      "---  ------        --------------  ----- \n",
      " 0   Model         20 non-null     object\n",
      " 1   battery_info  20 non-null     object\n",
      " 2   Text          20 non-null     object\n",
      "dtypes: object(3)\n",
      "memory usage: 640.0+ bytes\n"
     ]
    }
   ],
   "source": [
    "Battery.info()"
   ]
  },
  {
   "cell_type": "code",
   "execution_count": 44,
   "id": "12502268-2b65-438e-9288-2af45835178e",
   "metadata": {},
   "outputs": [
    {
     "name": "stderr",
     "output_type": "stream",
     "text": [
      "C:\\Users\\DELL\\AppData\\Local\\Temp\\ipykernel_36412\\1699567925.py:1: SettingWithCopyWarning: \n",
      "A value is trying to be set on a copy of a slice from a DataFrame.\n",
      "Try using .loc[row_indexer,col_indexer] = value instead\n",
      "\n",
      "See the caveats in the documentation: https://pandas.pydata.org/pandas-docs/stable/user_guide/indexing.html#returning-a-view-versus-a-copy\n",
      "  Battery['Sentiment'] = Battery['Text'].apply(lambda x: get_sentiment_score(x))\n"
     ]
    }
   ],
   "source": [
    "Battery['Sentiment'] = Battery['Text'].apply(lambda x: get_sentiment_score(x))"
   ]
  },
  {
   "cell_type": "code",
   "execution_count": 45,
   "id": "9604fb66-e651-4308-88f2-7c64025f1e01",
   "metadata": {},
   "outputs": [],
   "source": [
    "Battery_Modelwise = Battery.groupby('Model')['Sentiment'].mean().reset_index()"
   ]
  },
  {
   "cell_type": "code",
   "execution_count": 46,
   "id": "9643f6df-827b-45d0-b2cd-71b3c9427e53",
   "metadata": {},
   "outputs": [
    {
     "data": {
      "text/html": [
       "<div>\n",
       "<style scoped>\n",
       "    .dataframe tbody tr th:only-of-type {\n",
       "        vertical-align: middle;\n",
       "    }\n",
       "\n",
       "    .dataframe tbody tr th {\n",
       "        vertical-align: top;\n",
       "    }\n",
       "\n",
       "    .dataframe thead th {\n",
       "        text-align: right;\n",
       "    }\n",
       "</style>\n",
       "<table border=\"1\" class=\"dataframe\">\n",
       "  <thead>\n",
       "    <tr style=\"text-align: right;\">\n",
       "      <th></th>\n",
       "      <th>Model</th>\n",
       "      <th>Sentiment</th>\n",
       "    </tr>\n",
       "  </thead>\n",
       "  <tbody>\n",
       "    <tr>\n",
       "      <th>0</th>\n",
       "      <td>mi 9</td>\n",
       "      <td>0.469600</td>\n",
       "    </tr>\n",
       "    <tr>\n",
       "      <th>1</th>\n",
       "      <td>redmi 10</td>\n",
       "      <td>0.467800</td>\n",
       "    </tr>\n",
       "    <tr>\n",
       "      <th>2</th>\n",
       "      <td>redmi 13c</td>\n",
       "      <td>0.558000</td>\n",
       "    </tr>\n",
       "    <tr>\n",
       "      <th>3</th>\n",
       "      <td>redmi 6</td>\n",
       "      <td>0.943000</td>\n",
       "    </tr>\n",
       "    <tr>\n",
       "      <th>4</th>\n",
       "      <td>redmi 9c</td>\n",
       "      <td>0.971300</td>\n",
       "    </tr>\n",
       "    <tr>\n",
       "      <th>5</th>\n",
       "      <td>redmi note 11</td>\n",
       "      <td>0.702600</td>\n",
       "    </tr>\n",
       "    <tr>\n",
       "      <th>6</th>\n",
       "      <td>redmi note 13</td>\n",
       "      <td>0.351800</td>\n",
       "    </tr>\n",
       "    <tr>\n",
       "      <th>7</th>\n",
       "      <td>redmi note 9</td>\n",
       "      <td>0.390375</td>\n",
       "    </tr>\n",
       "  </tbody>\n",
       "</table>\n",
       "</div>"
      ],
      "text/plain": [
       "           Model  Sentiment\n",
       "0           mi 9   0.469600\n",
       "1       redmi 10   0.467800\n",
       "2      redmi 13c   0.558000\n",
       "3        redmi 6   0.943000\n",
       "4       redmi 9c   0.971300\n",
       "5  redmi note 11   0.702600\n",
       "6  redmi note 13   0.351800\n",
       "7   redmi note 9   0.390375"
      ]
     },
     "execution_count": 46,
     "metadata": {},
     "output_type": "execute_result"
    }
   ],
   "source": [
    "Battery_Modelwise"
   ]
  },
  {
   "cell_type": "code",
   "execution_count": 47,
   "id": "730c9693-06a5-4883-b7ad-d5c24b612cb2",
   "metadata": {},
   "outputs": [
    {
     "data": {
      "image/png": "[encoded data removed]",
      "text/plain": [
       "<Figure size 1200x600 with 1 Axes>"
      ]
     },
     "metadata": {},
     "output_type": "display_data"
    }
   ],
   "source": [
    "plt.figure(figsize=(12, 6))\n",
    "plt.bar(Battery_Modelwise['Model'], Battery_Modelwise['Sentiment'], color='skyblue')\n",
    "plt.xlabel('xiaomi Model' , size = 14)\n",
    "plt.ylabel('Average Sentiment Score', size =14)\n",
    "plt.xticks(rotation=90)\n",
    "plt.show()"
   ]
  },
  {
   "cell_type": "markdown",
   "id": "2842ac7d-e817-4a28-8d15-f30761da12e9",
   "metadata": {},
   "source": [
    "## for Storage"
   ]
  },
  {
   "cell_type": "code",
   "execution_count": 48,
   "id": "9e3932c2-59bb-4241-a3b3-b41f43b69ff5",
   "metadata": {},
   "outputs": [],
   "source": [
    "storage_keywords = ['storage', 'GB', 'RAM', 'internal storage']"
   ]
  },
  {
   "cell_type": "code",
   "execution_count": 49,
   "id": "5207492b-9bdd-416b-ba42-7c9ecce1882a",
   "metadata": {},
   "outputs": [],
   "source": [
    "def extract_storage_info(text):\n",
    "    if any(keyword in text.lower() for keyword in storage_keywords):\n",
    "        # Use a regex to capture storage capacity (GB or TB)\n",
    "        storage_info = re.findall(r'(\\d{1,4})\\s*(GB|GBs|TB|TBs)', text)\n",
    "        \n",
    "        # Return the extracted storage info if found, else return None\n",
    "        return storage_info if storage_info else \"No specific storage info found\"\n",
    "    return \"No storage-related info in the text\""
   ]
  },
  {
   "cell_type": "code",
   "execution_count": 50,
   "id": "f2400773-8a7d-4bd4-82cf-df9d801452fe",
   "metadata": {},
   "outputs": [
    {
     "name": "stderr",
     "output_type": "stream",
     "text": [
      "C:\\Users\\DELL\\AppData\\Local\\Temp\\ipykernel_36412\\2291087284.py:1: SettingWithCopyWarning: \n",
      "A value is trying to be set on a copy of a slice from a DataFrame.\n",
      "Try using .loc[row_indexer,col_indexer] = value instead\n",
      "\n",
      "See the caveats in the documentation: https://pandas.pydata.org/pandas-docs/stable/user_guide/indexing.html#returning-a-view-versus-a-copy\n",
      "  xiaomi.loc[:, 'Storage_info'] = xiaomi['Text'].apply(extract_storage_info)\n"
     ]
    }
   ],
   "source": [
    "xiaomi.loc[:, 'Storage_info'] = xiaomi['Text'].apply(extract_storage_info)"
   ]
  },
  {
   "cell_type": "code",
   "execution_count": 51,
   "id": "0bd3d5a8-98a6-4226-b3f0-40e159bf4609",
   "metadata": {},
   "outputs": [],
   "source": [
    "storage_df = xiaomi[['Model', 'Storage_info' , 'Text']]"
   ]
  },
  {
   "cell_type": "code",
   "execution_count": 52,
   "id": "d51c3971-fe66-4480-b4c4-e082a7c7fbc5",
   "metadata": {},
   "outputs": [
    {
     "data": {
      "text/html": [
       "<div>\n",
       "<style scoped>\n",
       "    .dataframe tbody tr th:only-of-type {\n",
       "        vertical-align: middle;\n",
       "    }\n",
       "\n",
       "    .dataframe tbody tr th {\n",
       "        vertical-align: top;\n",
       "    }\n",
       "\n",
       "    .dataframe thead th {\n",
       "        text-align: right;\n",
       "    }\n",
       "</style>\n",
       "<table border=\"1\" class=\"dataframe\">\n",
       "  <thead>\n",
       "    <tr style=\"text-align: right;\">\n",
       "      <th></th>\n",
       "      <th>Model</th>\n",
       "      <th>Storage_info</th>\n",
       "      <th>Text</th>\n",
       "    </tr>\n",
       "  </thead>\n",
       "  <tbody>\n",
       "    <tr>\n",
       "      <th>43</th>\n",
       "      <td>redmi 14t</td>\n",
       "      <td>No storage-related info in the text</td>\n",
       "      <td>Hello \\nMy Redmi 14T Pro Phone doesn't work an...</td>\n",
       "    </tr>\n",
       "    <tr>\n",
       "      <th>97</th>\n",
       "      <td>redmi note 12</td>\n",
       "      <td>No storage-related info in the text</td>\n",
       "      <td>I am using a Xiaomi Redmi Note 12 Pro, I haven...</td>\n",
       "    </tr>\n",
       "    <tr>\n",
       "      <th>104</th>\n",
       "      <td>redmi 13</td>\n",
       "      <td>No storage-related info in the text</td>\n",
       "      <td>Hi All\\n\\nJust got my Redmi 13 pro plus and I'...</td>\n",
       "    </tr>\n",
       "    <tr>\n",
       "      <th>121</th>\n",
       "      <td>redmi 13c</td>\n",
       "      <td>No storage-related info in the text</td>\n",
       "      <td>Yo! Why don't I have an update for my Redmi 13...</td>\n",
       "    </tr>\n",
       "    <tr>\n",
       "      <th>150</th>\n",
       "      <td>redmi 13c</td>\n",
       "      <td>No storage-related info in the text</td>\n",
       "      <td>Unable to open my notifications / mp on the ph...</td>\n",
       "    </tr>\n",
       "    <tr>\n",
       "      <th>...</th>\n",
       "      <td>...</td>\n",
       "      <td>...</td>\n",
       "      <td>...</td>\n",
       "    </tr>\n",
       "    <tr>\n",
       "      <th>5291</th>\n",
       "      <td>redmi 13</td>\n",
       "      <td>No storage-related info in the text</td>\n",
       "      <td>I got the \"Xiaomi hyper OS\" update (1.0.9.0), ...</td>\n",
       "    </tr>\n",
       "    <tr>\n",
       "      <th>5649</th>\n",
       "      <td>redmi note 13</td>\n",
       "      <td>No storage-related info in the text</td>\n",
       "      <td>Just setting the new Xiaomi Redmi Note 13 4G u...</td>\n",
       "    </tr>\n",
       "    <tr>\n",
       "      <th>6179</th>\n",
       "      <td>redmi 12</td>\n",
       "      <td>No storage-related info in the text</td>\n",
       "      <td>Sooooo....Xiaomi 11 Lite 5G NE Is receiving th...</td>\n",
       "    </tr>\n",
       "    <tr>\n",
       "      <th>7177</th>\n",
       "      <td>redmi 13</td>\n",
       "      <td>No storage-related info in the text</td>\n",
       "      <td>I got the \"Xiaomi hyper OS\" update (1.0.9.0), ...</td>\n",
       "    </tr>\n",
       "    <tr>\n",
       "      <th>8076</th>\n",
       "      <td>redmi 13c</td>\n",
       "      <td>No storage-related info in the text</td>\n",
       "      <td>So my mom is going to switch from a Samsung Ga...</td>\n",
       "    </tr>\n",
       "  </tbody>\n",
       "</table>\n",
       "<p>84 rows × 3 columns</p>\n",
       "</div>"
      ],
      "text/plain": [
       "              Model                         Storage_info  \\\n",
       "43        redmi 14t  No storage-related info in the text   \n",
       "97    redmi note 12  No storage-related info in the text   \n",
       "104        redmi 13  No storage-related info in the text   \n",
       "121       redmi 13c  No storage-related info in the text   \n",
       "150       redmi 13c  No storage-related info in the text   \n",
       "...             ...                                  ...   \n",
       "5291       redmi 13  No storage-related info in the text   \n",
       "5649  redmi note 13  No storage-related info in the text   \n",
       "6179       redmi 12  No storage-related info in the text   \n",
       "7177       redmi 13  No storage-related info in the text   \n",
       "8076      redmi 13c  No storage-related info in the text   \n",
       "\n",
       "                                                   Text  \n",
       "43    Hello \\nMy Redmi 14T Pro Phone doesn't work an...  \n",
       "97    I am using a Xiaomi Redmi Note 12 Pro, I haven...  \n",
       "104   Hi All\\n\\nJust got my Redmi 13 pro plus and I'...  \n",
       "121   Yo! Why don't I have an update for my Redmi 13...  \n",
       "150   Unable to open my notifications / mp on the ph...  \n",
       "...                                                 ...  \n",
       "5291  I got the \"Xiaomi hyper OS\" update (1.0.9.0), ...  \n",
       "5649  Just setting the new Xiaomi Redmi Note 13 4G u...  \n",
       "6179  Sooooo....Xiaomi 11 Lite 5G NE Is receiving th...  \n",
       "7177  I got the \"Xiaomi hyper OS\" update (1.0.9.0), ...  \n",
       "8076  So my mom is going to switch from a Samsung Ga...  \n",
       "\n",
       "[84 rows x 3 columns]"
      ]
     },
     "execution_count": 52,
     "metadata": {},
     "output_type": "execute_result"
    }
   ],
   "source": [
    "storage_df"
   ]
  },
  {
   "cell_type": "code",
   "execution_count": 53,
   "id": "a1053fc2-8de1-4ca3-9844-7f2f27956181",
   "metadata": {},
   "outputs": [
    {
     "data": {
      "text/plain": [
       "Storage_info\n",
       "No storage-related info in the text         79\n",
       "No specific storage info found               4\n",
       "[(4, GB), (128, GB), (6, GB), (128, GB)]     1\n",
       "Name: count, dtype: int64"
      ]
     },
     "execution_count": 53,
     "metadata": {},
     "output_type": "execute_result"
    }
   ],
   "source": [
    "storage_df['Storage_info'].value_counts()"
   ]
  },
  {
   "cell_type": "code",
   "execution_count": 54,
   "id": "a7401ff0-9373-431b-9bf2-dddfdd5c10a0",
   "metadata": {},
   "outputs": [],
   "source": [
    "Storage = storage_df[~storage_df['Storage_info'].isin([\"No storage-related info in the text\"])]"
   ]
  },
  {
   "cell_type": "code",
   "execution_count": 55,
   "id": "c9ae2ea1-c6d8-4563-aec5-32b025378cea",
   "metadata": {},
   "outputs": [
    {
     "name": "stdout",
     "output_type": "stream",
     "text": [
      "<class 'pandas.core.frame.DataFrame'>\n",
      "Index: 5 entries, 382 to 2385\n",
      "Data columns (total 3 columns):\n",
      " #   Column        Non-Null Count  Dtype \n",
      "---  ------        --------------  ----- \n",
      " 0   Model         5 non-null      object\n",
      " 1   Storage_info  5 non-null      object\n",
      " 2   Text          5 non-null      object\n",
      "dtypes: object(3)\n",
      "memory usage: 160.0+ bytes\n"
     ]
    }
   ],
   "source": [
    "Storage.info()"
   ]
  },
  {
   "cell_type": "code",
   "execution_count": 56,
   "id": "7d8ffea1-cb74-4056-9b6a-44e6eb8c0a99",
   "metadata": {},
   "outputs": [
    {
     "name": "stderr",
     "output_type": "stream",
     "text": [
      "C:\\Users\\DELL\\AppData\\Local\\Temp\\ipykernel_36412\\2795064380.py:1: SettingWithCopyWarning: \n",
      "A value is trying to be set on a copy of a slice from a DataFrame.\n",
      "Try using .loc[row_indexer,col_indexer] = value instead\n",
      "\n",
      "See the caveats in the documentation: https://pandas.pydata.org/pandas-docs/stable/user_guide/indexing.html#returning-a-view-versus-a-copy\n",
      "  Storage['Sentiment'] = Storage['Text'].apply(lambda x: get_sentiment_score(x))\n"
     ]
    }
   ],
   "source": [
    "Storage['Sentiment'] = Storage['Text'].apply(lambda x: get_sentiment_score(x))"
   ]
  },
  {
   "cell_type": "code",
   "execution_count": 57,
   "id": "7aaa8b86-e20f-4c2e-9ffa-3df64d774c2f",
   "metadata": {},
   "outputs": [],
   "source": [
    "Storage_Modelwise = Storage.groupby('Model')['Sentiment'].mean().reset_index()"
   ]
  },
  {
   "cell_type": "code",
   "execution_count": 58,
   "id": "826866e3-7d96-4e7b-96bf-c747166c6865",
   "metadata": {},
   "outputs": [
    {
     "data": {
      "text/html": [
       "<div>\n",
       "<style scoped>\n",
       "    .dataframe tbody tr th:only-of-type {\n",
       "        vertical-align: middle;\n",
       "    }\n",
       "\n",
       "    .dataframe tbody tr th {\n",
       "        vertical-align: top;\n",
       "    }\n",
       "\n",
       "    .dataframe thead th {\n",
       "        text-align: right;\n",
       "    }\n",
       "</style>\n",
       "<table border=\"1\" class=\"dataframe\">\n",
       "  <thead>\n",
       "    <tr style=\"text-align: right;\">\n",
       "      <th></th>\n",
       "      <th>Model</th>\n",
       "      <th>Sentiment</th>\n",
       "    </tr>\n",
       "  </thead>\n",
       "  <tbody>\n",
       "    <tr>\n",
       "      <th>0</th>\n",
       "      <td>redmi 13</td>\n",
       "      <td>0.9313</td>\n",
       "    </tr>\n",
       "    <tr>\n",
       "      <th>1</th>\n",
       "      <td>redmi 13c</td>\n",
       "      <td>0.4836</td>\n",
       "    </tr>\n",
       "    <tr>\n",
       "      <th>2</th>\n",
       "      <td>redmi note 13</td>\n",
       "      <td>0.2960</td>\n",
       "    </tr>\n",
       "  </tbody>\n",
       "</table>\n",
       "</div>"
      ],
      "text/plain": [
       "           Model  Sentiment\n",
       "0       redmi 13     0.9313\n",
       "1      redmi 13c     0.4836\n",
       "2  redmi note 13     0.2960"
      ]
     },
     "execution_count": 58,
     "metadata": {},
     "output_type": "execute_result"
    }
   ],
   "source": [
    "Storage_Modelwise"
   ]
  },
  {
   "cell_type": "code",
   "execution_count": 173,
   "id": "63bd5e68-3ac0-4a47-9cb7-3e2c9ea125f7",
   "metadata": {},
   "outputs": [
    {
     "data": {
      "image/png": "[encoded data removed]",
      "text/plain": [
       "<Figure size 1200x600 with 1 Axes>"
      ]
     },
     "metadata": {},
     "output_type": "display_data"
    }
   ],
   "source": [
    "plt.figure(figsize=(12, 6))\n",
    "plt.bar(Storage_Modelwise['Model'], Storage_Modelwise['Sentiment'], color='skyblue')\n",
    "plt.xlabel('xiaomi Model' , size = 14)\n",
    "plt.ylabel('Average Sentiment Score', size =14)\n",
    "plt.xticks(rotation=0)\n",
    "plt.show()"
   ]
  },
  {
   "cell_type": "markdown",
   "id": "9be96cc7-039a-4b48-b408-df2292c78ced",
   "metadata": {},
   "source": [
    "## for Software"
   ]
  },
  {
   "cell_type": "code",
   "execution_count": 60,
   "id": "6b85a794-4564-4772-8b3d-b61fc263c005",
   "metadata": {},
   "outputs": [],
   "source": [
    "software_keywords = ['iOS', 'software', 'version', 'update']"
   ]
  },
  {
   "cell_type": "code",
   "execution_count": 61,
   "id": "1dd950a8-b39b-49f2-9720-3220bed61597",
   "metadata": {},
   "outputs": [],
   "source": [
    "def extract_software_info(text):\n",
    "    if any(keyword in text.lower() for keyword in software_keywords):\n",
    "        # Extract software version using regex\n",
    "        software_info = re.findall(r'(\\d{1,2}\\.\\d{1,2}\\.\\d{1,2})', text)\n",
    "        \n",
    "        # Return software info if found, else return a default message\n",
    "        if software_info:\n",
    "            return software_info\n",
    "        else:\n",
    "            return \"No specific software info found\"  # Default message when no details are found\n",
    "    return \"No software-related info in the text\"  # Default message when no software keywords are found"
   ]
  },
  {
   "cell_type": "code",
   "execution_count": 62,
   "id": "1a4d1950-f8e9-4ba2-b038-811d63326637",
   "metadata": {},
   "outputs": [
    {
     "name": "stderr",
     "output_type": "stream",
     "text": [
      "C:\\Users\\DELL\\AppData\\Local\\Temp\\ipykernel_36412\\3228674523.py:1: SettingWithCopyWarning: \n",
      "A value is trying to be set on a copy of a slice from a DataFrame.\n",
      "Try using .loc[row_indexer,col_indexer] = value instead\n",
      "\n",
      "See the caveats in the documentation: https://pandas.pydata.org/pandas-docs/stable/user_guide/indexing.html#returning-a-view-versus-a-copy\n",
      "  xiaomi.loc[:, 'Software_info'] = xiaomi['Text'].apply(extract_software_info)\n"
     ]
    }
   ],
   "source": [
    "xiaomi.loc[:, 'Software_info'] = xiaomi['Text'].apply(extract_software_info)"
   ]
  },
  {
   "cell_type": "code",
   "execution_count": 63,
   "id": "af2ff8e1-88bd-4021-91bc-bf97e6792187",
   "metadata": {},
   "outputs": [],
   "source": [
    "software_df = xiaomi[['Model', 'Software_info','Text']]"
   ]
  },
  {
   "cell_type": "code",
   "execution_count": 64,
   "id": "a39c6232-d26e-4044-ae9a-1343ac0829c4",
   "metadata": {},
   "outputs": [
    {
     "data": {
      "text/html": [
       "<div>\n",
       "<style scoped>\n",
       "    .dataframe tbody tr th:only-of-type {\n",
       "        vertical-align: middle;\n",
       "    }\n",
       "\n",
       "    .dataframe tbody tr th {\n",
       "        vertical-align: top;\n",
       "    }\n",
       "\n",
       "    .dataframe thead th {\n",
       "        text-align: right;\n",
       "    }\n",
       "</style>\n",
       "<table border=\"1\" class=\"dataframe\">\n",
       "  <thead>\n",
       "    <tr style=\"text-align: right;\">\n",
       "      <th></th>\n",
       "      <th>Model</th>\n",
       "      <th>Software_info</th>\n",
       "      <th>Text</th>\n",
       "    </tr>\n",
       "  </thead>\n",
       "  <tbody>\n",
       "    <tr>\n",
       "      <th>43</th>\n",
       "      <td>redmi 14t</td>\n",
       "      <td>No software-related info in the text</td>\n",
       "      <td>Hello \\nMy Redmi 14T Pro Phone doesn't work an...</td>\n",
       "    </tr>\n",
       "    <tr>\n",
       "      <th>97</th>\n",
       "      <td>redmi note 12</td>\n",
       "      <td>No specific software info found</td>\n",
       "      <td>I am using a Xiaomi Redmi Note 12 Pro, I haven...</td>\n",
       "    </tr>\n",
       "    <tr>\n",
       "      <th>104</th>\n",
       "      <td>redmi 13</td>\n",
       "      <td>No software-related info in the text</td>\n",
       "      <td>Hi All\\n\\nJust got my Redmi 13 pro plus and I'...</td>\n",
       "    </tr>\n",
       "    <tr>\n",
       "      <th>121</th>\n",
       "      <td>redmi 13c</td>\n",
       "      <td>[14.0.6]</td>\n",
       "      <td>Yo! Why don't I have an update for my Redmi 13...</td>\n",
       "    </tr>\n",
       "    <tr>\n",
       "      <th>150</th>\n",
       "      <td>redmi 13c</td>\n",
       "      <td>No software-related info in the text</td>\n",
       "      <td>Unable to open my notifications / mp on the ph...</td>\n",
       "    </tr>\n",
       "    <tr>\n",
       "      <th>...</th>\n",
       "      <td>...</td>\n",
       "      <td>...</td>\n",
       "      <td>...</td>\n",
       "    </tr>\n",
       "    <tr>\n",
       "      <th>5291</th>\n",
       "      <td>redmi 13</td>\n",
       "      <td>[1.0.9]</td>\n",
       "      <td>I got the \"Xiaomi hyper OS\" update (1.0.9.0), ...</td>\n",
       "    </tr>\n",
       "    <tr>\n",
       "      <th>5649</th>\n",
       "      <td>redmi note 13</td>\n",
       "      <td>[14.0.6, 14.0.6]</td>\n",
       "      <td>Just setting the new Xiaomi Redmi Note 13 4G u...</td>\n",
       "    </tr>\n",
       "    <tr>\n",
       "      <th>6179</th>\n",
       "      <td>redmi 12</td>\n",
       "      <td>No specific software info found</td>\n",
       "      <td>Sooooo....Xiaomi 11 Lite 5G NE Is receiving th...</td>\n",
       "    </tr>\n",
       "    <tr>\n",
       "      <th>7177</th>\n",
       "      <td>redmi 13</td>\n",
       "      <td>[1.0.9]</td>\n",
       "      <td>I got the \"Xiaomi hyper OS\" update (1.0.9.0), ...</td>\n",
       "    </tr>\n",
       "    <tr>\n",
       "      <th>8076</th>\n",
       "      <td>redmi 13c</td>\n",
       "      <td>No specific software info found</td>\n",
       "      <td>So my mom is going to switch from a Samsung Ga...</td>\n",
       "    </tr>\n",
       "  </tbody>\n",
       "</table>\n",
       "<p>84 rows × 3 columns</p>\n",
       "</div>"
      ],
      "text/plain": [
       "              Model                         Software_info  \\\n",
       "43        redmi 14t  No software-related info in the text   \n",
       "97    redmi note 12       No specific software info found   \n",
       "104        redmi 13  No software-related info in the text   \n",
       "121       redmi 13c                              [14.0.6]   \n",
       "150       redmi 13c  No software-related info in the text   \n",
       "...             ...                                   ...   \n",
       "5291       redmi 13                               [1.0.9]   \n",
       "5649  redmi note 13                      [14.0.6, 14.0.6]   \n",
       "6179       redmi 12       No specific software info found   \n",
       "7177       redmi 13                               [1.0.9]   \n",
       "8076      redmi 13c       No specific software info found   \n",
       "\n",
       "                                                   Text  \n",
       "43    Hello \\nMy Redmi 14T Pro Phone doesn't work an...  \n",
       "97    I am using a Xiaomi Redmi Note 12 Pro, I haven...  \n",
       "104   Hi All\\n\\nJust got my Redmi 13 pro plus and I'...  \n",
       "121   Yo! Why don't I have an update for my Redmi 13...  \n",
       "150   Unable to open my notifications / mp on the ph...  \n",
       "...                                                 ...  \n",
       "5291  I got the \"Xiaomi hyper OS\" update (1.0.9.0), ...  \n",
       "5649  Just setting the new Xiaomi Redmi Note 13 4G u...  \n",
       "6179  Sooooo....Xiaomi 11 Lite 5G NE Is receiving th...  \n",
       "7177  I got the \"Xiaomi hyper OS\" update (1.0.9.0), ...  \n",
       "8076  So my mom is going to switch from a Samsung Ga...  \n",
       "\n",
       "[84 rows x 3 columns]"
      ]
     },
     "execution_count": 64,
     "metadata": {},
     "output_type": "execute_result"
    }
   ],
   "source": [
    "software_df"
   ]
  },
  {
   "cell_type": "code",
   "execution_count": 65,
   "id": "5e1f515b-d1c8-4a93-96e5-dedebf655cf7",
   "metadata": {},
   "outputs": [
    {
     "data": {
      "text/plain": [
       "Software_info\n",
       "No software-related info in the text    52\n",
       "No specific software info found         15\n",
       "[1.0.9]                                  5\n",
       "[14.0.6, 14.0.6]                         5\n",
       "[14.0.6]                                 4\n",
       "[10.2.14, 11.0.6]                        1\n",
       "[14.0.8]                                 1\n",
       "[13.0.12]                                1\n",
       "Name: count, dtype: int64"
      ]
     },
     "execution_count": 65,
     "metadata": {},
     "output_type": "execute_result"
    }
   ],
   "source": [
    "software_df['Software_info'].value_counts()"
   ]
  },
  {
   "cell_type": "code",
   "execution_count": 66,
   "id": "4391bfe1-18cf-4de5-8f8e-5445bb959edd",
   "metadata": {},
   "outputs": [],
   "source": [
    "Software = software_df[~software_df['Software_info'].isin([\"No software-related info in the text\"])]"
   ]
  },
  {
   "cell_type": "code",
   "execution_count": 67,
   "id": "d9217ba1-b6af-4a62-bd91-0bdadb9ad108",
   "metadata": {},
   "outputs": [
    {
     "data": {
      "text/html": [
       "<div>\n",
       "<style scoped>\n",
       "    .dataframe tbody tr th:only-of-type {\n",
       "        vertical-align: middle;\n",
       "    }\n",
       "\n",
       "    .dataframe tbody tr th {\n",
       "        vertical-align: top;\n",
       "    }\n",
       "\n",
       "    .dataframe thead th {\n",
       "        text-align: right;\n",
       "    }\n",
       "</style>\n",
       "<table border=\"1\" class=\"dataframe\">\n",
       "  <thead>\n",
       "    <tr style=\"text-align: right;\">\n",
       "      <th></th>\n",
       "      <th>Model</th>\n",
       "      <th>Software_info</th>\n",
       "      <th>Text</th>\n",
       "    </tr>\n",
       "  </thead>\n",
       "  <tbody>\n",
       "    <tr>\n",
       "      <th>97</th>\n",
       "      <td>redmi note 12</td>\n",
       "      <td>No specific software info found</td>\n",
       "      <td>I am using a Xiaomi Redmi Note 12 Pro, I haven...</td>\n",
       "    </tr>\n",
       "    <tr>\n",
       "      <th>121</th>\n",
       "      <td>redmi 13c</td>\n",
       "      <td>[14.0.6]</td>\n",
       "      <td>Yo! Why don't I have an update for my Redmi 13...</td>\n",
       "    </tr>\n",
       "    <tr>\n",
       "      <th>316</th>\n",
       "      <td>redmi 10c</td>\n",
       "      <td>No specific software info found</td>\n",
       "      <td>So I recently started getting notifications fr...</td>\n",
       "    </tr>\n",
       "    <tr>\n",
       "      <th>367</th>\n",
       "      <td>redmi 12</td>\n",
       "      <td>No specific software info found</td>\n",
       "      <td>I have a Redmi 12 which I updated to HyperOS 2...</td>\n",
       "    </tr>\n",
       "    <tr>\n",
       "      <th>382</th>\n",
       "      <td>redmi 13c</td>\n",
       "      <td>No specific software info found</td>\n",
       "      <td>I recently bought a Redmi 13c 4gb+128gb storag...</td>\n",
       "    </tr>\n",
       "    <tr>\n",
       "      <th>385</th>\n",
       "      <td>redmi 12</td>\n",
       "      <td>No specific software info found</td>\n",
       "      <td>I updated my Redmi 12 yesterday and my phone h...</td>\n",
       "    </tr>\n",
       "    <tr>\n",
       "      <th>402</th>\n",
       "      <td>mi 9</td>\n",
       "      <td>[10.2.14, 11.0.6]</td>\n",
       "      <td>Edit: Please if you have any info that could h...</td>\n",
       "    </tr>\n",
       "    <tr>\n",
       "      <th>426</th>\n",
       "      <td>redmi 10</td>\n",
       "      <td>[14.0.8]</td>\n",
       "      <td>Information about device:\\n- Redmi 10\\n- Miui ...</td>\n",
       "    </tr>\n",
       "    <tr>\n",
       "      <th>519</th>\n",
       "      <td>mi 10</td>\n",
       "      <td>[13.0.12]</td>\n",
       "      <td>Hello! \\n\\nToday (14/Dec/2024), my wife's smar...</td>\n",
       "    </tr>\n",
       "    <tr>\n",
       "      <th>521</th>\n",
       "      <td>redmi 12</td>\n",
       "      <td>No specific software info found</td>\n",
       "      <td>Sooooo....Xiaomi 11 Lite 5G NE Is receiving th...</td>\n",
       "    </tr>\n",
       "    <tr>\n",
       "      <th>532</th>\n",
       "      <td>redmi 13c</td>\n",
       "      <td>No specific software info found</td>\n",
       "      <td>So my mom is going to switch from a Samsung Ga...</td>\n",
       "    </tr>\n",
       "    <tr>\n",
       "      <th>576</th>\n",
       "      <td>redmi 13</td>\n",
       "      <td>[1.0.9]</td>\n",
       "      <td>I got the \"Xiaomi hyper OS\" update (1.0.9.0), ...</td>\n",
       "    </tr>\n",
       "    <tr>\n",
       "      <th>669</th>\n",
       "      <td>redmi note 13</td>\n",
       "      <td>No specific software info found</td>\n",
       "      <td>I’m considering upgrading from my Xiaomi Redmi...</td>\n",
       "    </tr>\n",
       "    <tr>\n",
       "      <th>835</th>\n",
       "      <td>redmi note 10</td>\n",
       "      <td>No specific software info found</td>\n",
       "      <td>I own 3 RN10Pro and all of them run official L...</td>\n",
       "    </tr>\n",
       "    <tr>\n",
       "      <th>866</th>\n",
       "      <td>redmi note 13</td>\n",
       "      <td>[14.0.6]</td>\n",
       "      <td>Hi all,\\n\\nI hope you are doing great.\\n\\nI pu...</td>\n",
       "    </tr>\n",
       "    <tr>\n",
       "      <th>934</th>\n",
       "      <td>redmi note 13</td>\n",
       "      <td>[14.0.6, 14.0.6]</td>\n",
       "      <td>Just setting the new Xiaomi Redmi Note 13 4G u...</td>\n",
       "    </tr>\n",
       "    <tr>\n",
       "      <th>936</th>\n",
       "      <td>redmi note 13</td>\n",
       "      <td>[14.0.6, 14.0.6]</td>\n",
       "      <td>I found online that choosing different regions...</td>\n",
       "    </tr>\n",
       "    <tr>\n",
       "      <th>1064</th>\n",
       "      <td>redmi 13c</td>\n",
       "      <td>[14.0.6]</td>\n",
       "      <td>Yo! Why don't I have an update for my Redmi 13...</td>\n",
       "    </tr>\n",
       "    <tr>\n",
       "      <th>1464</th>\n",
       "      <td>redmi 12</td>\n",
       "      <td>No specific software info found</td>\n",
       "      <td>Sooooo....Xiaomi 11 Lite 5G NE Is receiving th...</td>\n",
       "    </tr>\n",
       "    <tr>\n",
       "      <th>1519</th>\n",
       "      <td>redmi 13</td>\n",
       "      <td>[1.0.9]</td>\n",
       "      <td>I got the \"Xiaomi hyper OS\" update (1.0.9.0), ...</td>\n",
       "    </tr>\n",
       "    <tr>\n",
       "      <th>1612</th>\n",
       "      <td>redmi note 13</td>\n",
       "      <td>No specific software info found</td>\n",
       "      <td>I’m considering upgrading from my Xiaomi Redmi...</td>\n",
       "    </tr>\n",
       "    <tr>\n",
       "      <th>1877</th>\n",
       "      <td>redmi note 13</td>\n",
       "      <td>[14.0.6, 14.0.6]</td>\n",
       "      <td>Just setting the new Xiaomi Redmi Note 13 4G u...</td>\n",
       "    </tr>\n",
       "    <tr>\n",
       "      <th>1879</th>\n",
       "      <td>redmi note 13</td>\n",
       "      <td>[14.0.6, 14.0.6]</td>\n",
       "      <td>I found online that choosing different regions...</td>\n",
       "    </tr>\n",
       "    <tr>\n",
       "      <th>2407</th>\n",
       "      <td>redmi 12</td>\n",
       "      <td>No specific software info found</td>\n",
       "      <td>Sooooo....Xiaomi 11 Lite 5G NE Is receiving th...</td>\n",
       "    </tr>\n",
       "    <tr>\n",
       "      <th>3405</th>\n",
       "      <td>redmi 13</td>\n",
       "      <td>[1.0.9]</td>\n",
       "      <td>I got the \"Xiaomi hyper OS\" update (1.0.9.0), ...</td>\n",
       "    </tr>\n",
       "    <tr>\n",
       "      <th>3893</th>\n",
       "      <td>redmi 13c</td>\n",
       "      <td>[14.0.6]</td>\n",
       "      <td>Yo! Why don't I have an update for my Redmi 13...</td>\n",
       "    </tr>\n",
       "    <tr>\n",
       "      <th>5100</th>\n",
       "      <td>redmi 12</td>\n",
       "      <td>No specific software info found</td>\n",
       "      <td>I updated my Redmi 12 yesterday and my phone h...</td>\n",
       "    </tr>\n",
       "    <tr>\n",
       "      <th>5291</th>\n",
       "      <td>redmi 13</td>\n",
       "      <td>[1.0.9]</td>\n",
       "      <td>I got the \"Xiaomi hyper OS\" update (1.0.9.0), ...</td>\n",
       "    </tr>\n",
       "    <tr>\n",
       "      <th>5649</th>\n",
       "      <td>redmi note 13</td>\n",
       "      <td>[14.0.6, 14.0.6]</td>\n",
       "      <td>Just setting the new Xiaomi Redmi Note 13 4G u...</td>\n",
       "    </tr>\n",
       "    <tr>\n",
       "      <th>6179</th>\n",
       "      <td>redmi 12</td>\n",
       "      <td>No specific software info found</td>\n",
       "      <td>Sooooo....Xiaomi 11 Lite 5G NE Is receiving th...</td>\n",
       "    </tr>\n",
       "    <tr>\n",
       "      <th>7177</th>\n",
       "      <td>redmi 13</td>\n",
       "      <td>[1.0.9]</td>\n",
       "      <td>I got the \"Xiaomi hyper OS\" update (1.0.9.0), ...</td>\n",
       "    </tr>\n",
       "    <tr>\n",
       "      <th>8076</th>\n",
       "      <td>redmi 13c</td>\n",
       "      <td>No specific software info found</td>\n",
       "      <td>So my mom is going to switch from a Samsung Ga...</td>\n",
       "    </tr>\n",
       "  </tbody>\n",
       "</table>\n",
       "</div>"
      ],
      "text/plain": [
       "              Model                    Software_info  \\\n",
       "97    redmi note 12  No specific software info found   \n",
       "121       redmi 13c                         [14.0.6]   \n",
       "316       redmi 10c  No specific software info found   \n",
       "367        redmi 12  No specific software info found   \n",
       "382       redmi 13c  No specific software info found   \n",
       "385        redmi 12  No specific software info found   \n",
       "402            mi 9                [10.2.14, 11.0.6]   \n",
       "426        redmi 10                         [14.0.8]   \n",
       "519           mi 10                        [13.0.12]   \n",
       "521        redmi 12  No specific software info found   \n",
       "532       redmi 13c  No specific software info found   \n",
       "576        redmi 13                          [1.0.9]   \n",
       "669   redmi note 13  No specific software info found   \n",
       "835   redmi note 10  No specific software info found   \n",
       "866   redmi note 13                         [14.0.6]   \n",
       "934   redmi note 13                 [14.0.6, 14.0.6]   \n",
       "936   redmi note 13                 [14.0.6, 14.0.6]   \n",
       "1064      redmi 13c                         [14.0.6]   \n",
       "1464       redmi 12  No specific software info found   \n",
       "1519       redmi 13                          [1.0.9]   \n",
       "1612  redmi note 13  No specific software info found   \n",
       "1877  redmi note 13                 [14.0.6, 14.0.6]   \n",
       "1879  redmi note 13                 [14.0.6, 14.0.6]   \n",
       "2407       redmi 12  No specific software info found   \n",
       "3405       redmi 13                          [1.0.9]   \n",
       "3893      redmi 13c                         [14.0.6]   \n",
       "5100       redmi 12  No specific software info found   \n",
       "5291       redmi 13                          [1.0.9]   \n",
       "5649  redmi note 13                 [14.0.6, 14.0.6]   \n",
       "6179       redmi 12  No specific software info found   \n",
       "7177       redmi 13                          [1.0.9]   \n",
       "8076      redmi 13c  No specific software info found   \n",
       "\n",
       "                                                   Text  \n",
       "97    I am using a Xiaomi Redmi Note 12 Pro, I haven...  \n",
       "121   Yo! Why don't I have an update for my Redmi 13...  \n",
       "316   So I recently started getting notifications fr...  \n",
       "367   I have a Redmi 12 which I updated to HyperOS 2...  \n",
       "382   I recently bought a Redmi 13c 4gb+128gb storag...  \n",
       "385   I updated my Redmi 12 yesterday and my phone h...  \n",
       "402   Edit: Please if you have any info that could h...  \n",
       "426   Information about device:\\n- Redmi 10\\n- Miui ...  \n",
       "519   Hello! \\n\\nToday (14/Dec/2024), my wife's smar...  \n",
       "521   Sooooo....Xiaomi 11 Lite 5G NE Is receiving th...  \n",
       "532   So my mom is going to switch from a Samsung Ga...  \n",
       "576   I got the \"Xiaomi hyper OS\" update (1.0.9.0), ...  \n",
       "669   I’m considering upgrading from my Xiaomi Redmi...  \n",
       "835   I own 3 RN10Pro and all of them run official L...  \n",
       "866   Hi all,\\n\\nI hope you are doing great.\\n\\nI pu...  \n",
       "934   Just setting the new Xiaomi Redmi Note 13 4G u...  \n",
       "936   I found online that choosing different regions...  \n",
       "1064  Yo! Why don't I have an update for my Redmi 13...  \n",
       "1464  Sooooo....Xiaomi 11 Lite 5G NE Is receiving th...  \n",
       "1519  I got the \"Xiaomi hyper OS\" update (1.0.9.0), ...  \n",
       "1612  I’m considering upgrading from my Xiaomi Redmi...  \n",
       "1877  Just setting the new Xiaomi Redmi Note 13 4G u...  \n",
       "1879  I found online that choosing different regions...  \n",
       "2407  Sooooo....Xiaomi 11 Lite 5G NE Is receiving th...  \n",
       "3405  I got the \"Xiaomi hyper OS\" update (1.0.9.0), ...  \n",
       "3893  Yo! Why don't I have an update for my Redmi 13...  \n",
       "5100  I updated my Redmi 12 yesterday and my phone h...  \n",
       "5291  I got the \"Xiaomi hyper OS\" update (1.0.9.0), ...  \n",
       "5649  Just setting the new Xiaomi Redmi Note 13 4G u...  \n",
       "6179  Sooooo....Xiaomi 11 Lite 5G NE Is receiving th...  \n",
       "7177  I got the \"Xiaomi hyper OS\" update (1.0.9.0), ...  \n",
       "8076  So my mom is going to switch from a Samsung Ga...  "
      ]
     },
     "execution_count": 67,
     "metadata": {},
     "output_type": "execute_result"
    }
   ],
   "source": [
    "Software"
   ]
  },
  {
   "cell_type": "code",
   "execution_count": 68,
   "id": "69bea88b-f943-4d87-8487-e2ef715e06fb",
   "metadata": {},
   "outputs": [
    {
     "name": "stderr",
     "output_type": "stream",
     "text": [
      "C:\\Users\\DELL\\AppData\\Local\\Temp\\ipykernel_36412\\330373274.py:1: SettingWithCopyWarning: \n",
      "A value is trying to be set on a copy of a slice from a DataFrame.\n",
      "Try using .loc[row_indexer,col_indexer] = value instead\n",
      "\n",
      "See the caveats in the documentation: https://pandas.pydata.org/pandas-docs/stable/user_guide/indexing.html#returning-a-view-versus-a-copy\n",
      "  Software['Sentiment'] = Software['Text'].apply(lambda x: get_sentiment_score(x))\n"
     ]
    }
   ],
   "source": [
    "Software['Sentiment'] = Software['Text'].apply(lambda x: get_sentiment_score(x))"
   ]
  },
  {
   "cell_type": "code",
   "execution_count": 69,
   "id": "c3d88eb7-10c2-41d1-9a8c-36780e841b76",
   "metadata": {},
   "outputs": [
    {
     "name": "stdout",
     "output_type": "stream",
     "text": [
      "<class 'pandas.core.frame.DataFrame'>\n",
      "Index: 32 entries, 97 to 8076\n",
      "Data columns (total 4 columns):\n",
      " #   Column         Non-Null Count  Dtype  \n",
      "---  ------         --------------  -----  \n",
      " 0   Model          32 non-null     object \n",
      " 1   Software_info  32 non-null     object \n",
      " 2   Text           32 non-null     object \n",
      " 3   Sentiment      32 non-null     float64\n",
      "dtypes: float64(1), object(3)\n",
      "memory usage: 1.2+ KB\n"
     ]
    }
   ],
   "source": [
    "Software.info()"
   ]
  },
  {
   "cell_type": "code",
   "execution_count": 70,
   "id": "37dae900-bff1-4699-8f33-bad3ac0e3e66",
   "metadata": {},
   "outputs": [],
   "source": [
    "Software_Modelwise = Software.groupby('Model')['Sentiment'].mean().reset_index()"
   ]
  },
  {
   "cell_type": "code",
   "execution_count": 71,
   "id": "02746627-bd7f-4d4a-9ae3-bb4b07c66a9d",
   "metadata": {},
   "outputs": [
    {
     "data": {
      "text/html": [
       "<div>\n",
       "<style scoped>\n",
       "    .dataframe tbody tr th:only-of-type {\n",
       "        vertical-align: middle;\n",
       "    }\n",
       "\n",
       "    .dataframe tbody tr th {\n",
       "        vertical-align: top;\n",
       "    }\n",
       "\n",
       "    .dataframe thead th {\n",
       "        text-align: right;\n",
       "    }\n",
       "</style>\n",
       "<table border=\"1\" class=\"dataframe\">\n",
       "  <thead>\n",
       "    <tr style=\"text-align: right;\">\n",
       "      <th></th>\n",
       "      <th>Model</th>\n",
       "      <th>Sentiment</th>\n",
       "    </tr>\n",
       "  </thead>\n",
       "  <tbody>\n",
       "    <tr>\n",
       "      <th>0</th>\n",
       "      <td>mi 10</td>\n",
       "      <td>0.400300</td>\n",
       "    </tr>\n",
       "    <tr>\n",
       "      <th>1</th>\n",
       "      <td>mi 9</td>\n",
       "      <td>0.990400</td>\n",
       "    </tr>\n",
       "    <tr>\n",
       "      <th>2</th>\n",
       "      <td>redmi 10</td>\n",
       "      <td>0.467800</td>\n",
       "    </tr>\n",
       "    <tr>\n",
       "      <th>3</th>\n",
       "      <td>redmi 10c</td>\n",
       "      <td>-0.388100</td>\n",
       "    </tr>\n",
       "    <tr>\n",
       "      <th>4</th>\n",
       "      <td>redmi 12</td>\n",
       "      <td>-0.325629</td>\n",
       "    </tr>\n",
       "    <tr>\n",
       "      <th>5</th>\n",
       "      <td>redmi 13</td>\n",
       "      <td>0.168000</td>\n",
       "    </tr>\n",
       "    <tr>\n",
       "      <th>6</th>\n",
       "      <td>redmi 13c</td>\n",
       "      <td>0.266600</td>\n",
       "    </tr>\n",
       "    <tr>\n",
       "      <th>7</th>\n",
       "      <td>redmi note 10</td>\n",
       "      <td>0.824000</td>\n",
       "    </tr>\n",
       "    <tr>\n",
       "      <th>8</th>\n",
       "      <td>redmi note 12</td>\n",
       "      <td>-0.792600</td>\n",
       "    </tr>\n",
       "    <tr>\n",
       "      <th>9</th>\n",
       "      <td>redmi note 13</td>\n",
       "      <td>0.173962</td>\n",
       "    </tr>\n",
       "  </tbody>\n",
       "</table>\n",
       "</div>"
      ],
      "text/plain": [
       "           Model  Sentiment\n",
       "0          mi 10   0.400300\n",
       "1           mi 9   0.990400\n",
       "2       redmi 10   0.467800\n",
       "3      redmi 10c  -0.388100\n",
       "4       redmi 12  -0.325629\n",
       "5       redmi 13   0.168000\n",
       "6      redmi 13c   0.266600\n",
       "7  redmi note 10   0.824000\n",
       "8  redmi note 12  -0.792600\n",
       "9  redmi note 13   0.173962"
      ]
     },
     "execution_count": 71,
     "metadata": {},
     "output_type": "execute_result"
    }
   ],
   "source": [
    "Software_Modelwise"
   ]
  },
  {
   "cell_type": "code",
   "execution_count": 72,
   "id": "91d4a65d-a2de-4142-b994-9c3f3a807f9f",
   "metadata": {},
   "outputs": [
    {
     "data": {
      "image/png": "[encoded data removed]",
      "text/plain": [
       "<Figure size 1200x600 with 1 Axes>"
      ]
     },
     "metadata": {},
     "output_type": "display_data"
    }
   ],
   "source": [
    "plt.figure(figsize=(12, 6))\n",
    "plt.bar(Software_Modelwise['Model'], Software_Modelwise['Sentiment'], color='skyblue')\n",
    "plt.xlabel('xiaomi Model' , size = 14)\n",
    "plt.ylabel('Average Sentiment Score', size =14)\n",
    "plt.xticks(rotation=90)\n",
    "plt.show()"
   ]
  },
  {
   "cell_type": "markdown",
   "id": "7c46243b-43a8-4742-a862-ff3322a4625e",
   "metadata": {},
   "source": [
    "## for Look like Design their Material, Color, Finish and all."
   ]
  },
  {
   "cell_type": "code",
   "execution_count": 73,
   "id": "fd734d07-dc15-4d53-8369-9fceb6e1143a",
   "metadata": {},
   "outputs": [],
   "source": [
    "design_keywords = ['design', 'material', 'color', 'finish']"
   ]
  },
  {
   "cell_type": "code",
   "execution_count": 74,
   "id": "0cd56381-8aa8-4594-b015-79acf3725dac",
   "metadata": {},
   "outputs": [],
   "source": [
    "def extract_style_info(text):\n",
    "    if any(keyword in text.lower() for keyword in design_keywords):\n",
    "        # Use regex to extract design-related features\n",
    "        design_info = re.findall(r'(sleek|premium|matte|glass|metal|aluminum|ceramic|plastic)', text, re.IGNORECASE)\n",
    "        \n",
    "        # Return design info if found, else return a default message\n",
    "        if design_info:\n",
    "            return design_info\n",
    "        else:\n",
    "            return \"No specific style info found\"  # Default message when no details are found\n",
    "    return \"No style-related info in the text\"  # Default message when no design keywords are found"
   ]
  },
  {
   "cell_type": "code",
   "execution_count": 75,
   "id": "34116ab1-99df-40b3-9fa1-eabb3aec942b",
   "metadata": {},
   "outputs": [
    {
     "name": "stderr",
     "output_type": "stream",
     "text": [
      "C:\\Users\\DELL\\AppData\\Local\\Temp\\ipykernel_36412\\1205992271.py:1: SettingWithCopyWarning: \n",
      "A value is trying to be set on a copy of a slice from a DataFrame.\n",
      "Try using .loc[row_indexer,col_indexer] = value instead\n",
      "\n",
      "See the caveats in the documentation: https://pandas.pydata.org/pandas-docs/stable/user_guide/indexing.html#returning-a-view-versus-a-copy\n",
      "  xiaomi.loc[:, 'Style_info'] = xiaomi['Text'].apply(extract_style_info)\n"
     ]
    }
   ],
   "source": [
    "xiaomi.loc[:, 'Style_info'] = xiaomi['Text'].apply(extract_style_info)"
   ]
  },
  {
   "cell_type": "code",
   "execution_count": 76,
   "id": "675f0d10-f83f-4c8f-abe2-3268fc3325b6",
   "metadata": {},
   "outputs": [],
   "source": [
    "style_df = xiaomi[['Model', 'Style_info','Text']]"
   ]
  },
  {
   "cell_type": "code",
   "execution_count": 77,
   "id": "b1b1bce4-7c36-423e-9e7d-cd627aec8e71",
   "metadata": {},
   "outputs": [
    {
     "data": {
      "text/html": [
       "<div>\n",
       "<style scoped>\n",
       "    .dataframe tbody tr th:only-of-type {\n",
       "        vertical-align: middle;\n",
       "    }\n",
       "\n",
       "    .dataframe tbody tr th {\n",
       "        vertical-align: top;\n",
       "    }\n",
       "\n",
       "    .dataframe thead th {\n",
       "        text-align: right;\n",
       "    }\n",
       "</style>\n",
       "<table border=\"1\" class=\"dataframe\">\n",
       "  <thead>\n",
       "    <tr style=\"text-align: right;\">\n",
       "      <th></th>\n",
       "      <th>Model</th>\n",
       "      <th>Style_info</th>\n",
       "      <th>Text</th>\n",
       "    </tr>\n",
       "  </thead>\n",
       "  <tbody>\n",
       "    <tr>\n",
       "      <th>43</th>\n",
       "      <td>redmi 14t</td>\n",
       "      <td>No style-related info in the text</td>\n",
       "      <td>Hello \\nMy Redmi 14T Pro Phone doesn't work an...</td>\n",
       "    </tr>\n",
       "    <tr>\n",
       "      <th>97</th>\n",
       "      <td>redmi note 12</td>\n",
       "      <td>No style-related info in the text</td>\n",
       "      <td>I am using a Xiaomi Redmi Note 12 Pro, I haven...</td>\n",
       "    </tr>\n",
       "    <tr>\n",
       "      <th>104</th>\n",
       "      <td>redmi 13</td>\n",
       "      <td>No style-related info in the text</td>\n",
       "      <td>Hi All\\n\\nJust got my Redmi 13 pro plus and I'...</td>\n",
       "    </tr>\n",
       "    <tr>\n",
       "      <th>121</th>\n",
       "      <td>redmi 13c</td>\n",
       "      <td>No style-related info in the text</td>\n",
       "      <td>Yo! Why don't I have an update for my Redmi 13...</td>\n",
       "    </tr>\n",
       "    <tr>\n",
       "      <th>150</th>\n",
       "      <td>redmi 13c</td>\n",
       "      <td>No style-related info in the text</td>\n",
       "      <td>Unable to open my notifications / mp on the ph...</td>\n",
       "    </tr>\n",
       "    <tr>\n",
       "      <th>...</th>\n",
       "      <td>...</td>\n",
       "      <td>...</td>\n",
       "      <td>...</td>\n",
       "    </tr>\n",
       "    <tr>\n",
       "      <th>5291</th>\n",
       "      <td>redmi 13</td>\n",
       "      <td>No style-related info in the text</td>\n",
       "      <td>I got the \"Xiaomi hyper OS\" update (1.0.9.0), ...</td>\n",
       "    </tr>\n",
       "    <tr>\n",
       "      <th>5649</th>\n",
       "      <td>redmi note 13</td>\n",
       "      <td>No style-related info in the text</td>\n",
       "      <td>Just setting the new Xiaomi Redmi Note 13 4G u...</td>\n",
       "    </tr>\n",
       "    <tr>\n",
       "      <th>6179</th>\n",
       "      <td>redmi 12</td>\n",
       "      <td>No style-related info in the text</td>\n",
       "      <td>Sooooo....Xiaomi 11 Lite 5G NE Is receiving th...</td>\n",
       "    </tr>\n",
       "    <tr>\n",
       "      <th>7177</th>\n",
       "      <td>redmi 13</td>\n",
       "      <td>No style-related info in the text</td>\n",
       "      <td>I got the \"Xiaomi hyper OS\" update (1.0.9.0), ...</td>\n",
       "    </tr>\n",
       "    <tr>\n",
       "      <th>8076</th>\n",
       "      <td>redmi 13c</td>\n",
       "      <td>No style-related info in the text</td>\n",
       "      <td>So my mom is going to switch from a Samsung Ga...</td>\n",
       "    </tr>\n",
       "  </tbody>\n",
       "</table>\n",
       "<p>84 rows × 3 columns</p>\n",
       "</div>"
      ],
      "text/plain": [
       "              Model                         Style_info  \\\n",
       "43        redmi 14t  No style-related info in the text   \n",
       "97    redmi note 12  No style-related info in the text   \n",
       "104        redmi 13  No style-related info in the text   \n",
       "121       redmi 13c  No style-related info in the text   \n",
       "150       redmi 13c  No style-related info in the text   \n",
       "...             ...                                ...   \n",
       "5291       redmi 13  No style-related info in the text   \n",
       "5649  redmi note 13  No style-related info in the text   \n",
       "6179       redmi 12  No style-related info in the text   \n",
       "7177       redmi 13  No style-related info in the text   \n",
       "8076      redmi 13c  No style-related info in the text   \n",
       "\n",
       "                                                   Text  \n",
       "43    Hello \\nMy Redmi 14T Pro Phone doesn't work an...  \n",
       "97    I am using a Xiaomi Redmi Note 12 Pro, I haven...  \n",
       "104   Hi All\\n\\nJust got my Redmi 13 pro plus and I'...  \n",
       "121   Yo! Why don't I have an update for my Redmi 13...  \n",
       "150   Unable to open my notifications / mp on the ph...  \n",
       "...                                                 ...  \n",
       "5291  I got the \"Xiaomi hyper OS\" update (1.0.9.0), ...  \n",
       "5649  Just setting the new Xiaomi Redmi Note 13 4G u...  \n",
       "6179  Sooooo....Xiaomi 11 Lite 5G NE Is receiving th...  \n",
       "7177  I got the \"Xiaomi hyper OS\" update (1.0.9.0), ...  \n",
       "8076  So my mom is going to switch from a Samsung Ga...  \n",
       "\n",
       "[84 rows x 3 columns]"
      ]
     },
     "execution_count": 77,
     "metadata": {},
     "output_type": "execute_result"
    }
   ],
   "source": [
    "style_df"
   ]
  },
  {
   "cell_type": "code",
   "execution_count": 78,
   "id": "62ae5a0c-dd1c-404f-978e-9dc292319289",
   "metadata": {},
   "outputs": [
    {
     "data": {
      "text/plain": [
       "Style_info\n",
       "No style-related info in the text    83\n",
       "No specific style info found          1\n",
       "Name: count, dtype: int64"
      ]
     },
     "execution_count": 78,
     "metadata": {},
     "output_type": "execute_result"
    }
   ],
   "source": [
    "style_df['Style_info'].value_counts()"
   ]
  },
  {
   "cell_type": "code",
   "execution_count": 79,
   "id": "9276e32c-b205-4542-83fb-b0542c1a3174",
   "metadata": {},
   "outputs": [],
   "source": [
    "Style = style_df[~style_df['Style_info'].isin([\"No style-related info in the text\"])]"
   ]
  },
  {
   "cell_type": "code",
   "execution_count": 80,
   "id": "53c401d5-0de8-40ae-9e00-1a037a1dac8f",
   "metadata": {},
   "outputs": [
    {
     "data": {
      "text/html": [
       "<div>\n",
       "<style scoped>\n",
       "    .dataframe tbody tr th:only-of-type {\n",
       "        vertical-align: middle;\n",
       "    }\n",
       "\n",
       "    .dataframe tbody tr th {\n",
       "        vertical-align: top;\n",
       "    }\n",
       "\n",
       "    .dataframe thead th {\n",
       "        text-align: right;\n",
       "    }\n",
       "</style>\n",
       "<table border=\"1\" class=\"dataframe\">\n",
       "  <thead>\n",
       "    <tr style=\"text-align: right;\">\n",
       "      <th></th>\n",
       "      <th>Model</th>\n",
       "      <th>Style_info</th>\n",
       "      <th>Text</th>\n",
       "    </tr>\n",
       "  </thead>\n",
       "  <tbody>\n",
       "    <tr>\n",
       "      <th>402</th>\n",
       "      <td>mi 9</td>\n",
       "      <td>No specific style info found</td>\n",
       "      <td>Edit: Please if you have any info that could h...</td>\n",
       "    </tr>\n",
       "  </tbody>\n",
       "</table>\n",
       "</div>"
      ],
      "text/plain": [
       "    Model                    Style_info  \\\n",
       "402  mi 9  No specific style info found   \n",
       "\n",
       "                                                  Text  \n",
       "402  Edit: Please if you have any info that could h...  "
      ]
     },
     "execution_count": 80,
     "metadata": {},
     "output_type": "execute_result"
    }
   ],
   "source": [
    "Style"
   ]
  },
  {
   "cell_type": "code",
   "execution_count": 81,
   "id": "178c54b5-1243-4728-8c0a-c0a19e348ada",
   "metadata": {},
   "outputs": [
    {
     "name": "stderr",
     "output_type": "stream",
     "text": [
      "C:\\Users\\DELL\\AppData\\Local\\Temp\\ipykernel_36412\\4274530902.py:1: SettingWithCopyWarning: \n",
      "A value is trying to be set on a copy of a slice from a DataFrame.\n",
      "Try using .loc[row_indexer,col_indexer] = value instead\n",
      "\n",
      "See the caveats in the documentation: https://pandas.pydata.org/pandas-docs/stable/user_guide/indexing.html#returning-a-view-versus-a-copy\n",
      "  Style['Sentiment'] = Style['Text'].apply(lambda x: get_sentiment_score(x))\n"
     ]
    }
   ],
   "source": [
    "Style['Sentiment'] = Style['Text'].apply(lambda x: get_sentiment_score(x))"
   ]
  },
  {
   "cell_type": "code",
   "execution_count": 82,
   "id": "05efea85-33df-4248-9132-21c3e9aba5b4",
   "metadata": {},
   "outputs": [
    {
     "name": "stdout",
     "output_type": "stream",
     "text": [
      "<class 'pandas.core.frame.DataFrame'>\n",
      "Index: 1 entries, 402 to 402\n",
      "Data columns (total 4 columns):\n",
      " #   Column      Non-Null Count  Dtype  \n",
      "---  ------      --------------  -----  \n",
      " 0   Model       1 non-null      object \n",
      " 1   Style_info  1 non-null      object \n",
      " 2   Text        1 non-null      object \n",
      " 3   Sentiment   1 non-null      float64\n",
      "dtypes: float64(1), object(3)\n",
      "memory usage: 40.0+ bytes\n"
     ]
    }
   ],
   "source": [
    "Style.info()"
   ]
  },
  {
   "cell_type": "code",
   "execution_count": 83,
   "id": "2d234f41-d86b-4819-98f5-ea91fb41a8c5",
   "metadata": {},
   "outputs": [],
   "source": [
    "Style_Modelwise = Style.groupby('Model')['Sentiment'].mean().reset_index()"
   ]
  },
  {
   "cell_type": "code",
   "execution_count": 84,
   "id": "20de2b47-ff26-41ab-a8ec-78eb498065d2",
   "metadata": {},
   "outputs": [
    {
     "data": {
      "text/html": [
       "<div>\n",
       "<style scoped>\n",
       "    .dataframe tbody tr th:only-of-type {\n",
       "        vertical-align: middle;\n",
       "    }\n",
       "\n",
       "    .dataframe tbody tr th {\n",
       "        vertical-align: top;\n",
       "    }\n",
       "\n",
       "    .dataframe thead th {\n",
       "        text-align: right;\n",
       "    }\n",
       "</style>\n",
       "<table border=\"1\" class=\"dataframe\">\n",
       "  <thead>\n",
       "    <tr style=\"text-align: right;\">\n",
       "      <th></th>\n",
       "      <th>Model</th>\n",
       "      <th>Sentiment</th>\n",
       "    </tr>\n",
       "  </thead>\n",
       "  <tbody>\n",
       "    <tr>\n",
       "      <th>0</th>\n",
       "      <td>mi 9</td>\n",
       "      <td>0.9904</td>\n",
       "    </tr>\n",
       "  </tbody>\n",
       "</table>\n",
       "</div>"
      ],
      "text/plain": [
       "  Model  Sentiment\n",
       "0  mi 9     0.9904"
      ]
     },
     "execution_count": 84,
     "metadata": {},
     "output_type": "execute_result"
    }
   ],
   "source": [
    "Style_Modelwise"
   ]
  },
  {
   "cell_type": "markdown",
   "id": "ab994e9b-589f-4323-9049-f97678a78102",
   "metadata": {},
   "source": [
    "## for Display"
   ]
  },
  {
   "cell_type": "code",
   "execution_count": 85,
   "id": "b2468674-b9e3-4d24-b9fe-d0efe0442986",
   "metadata": {},
   "outputs": [],
   "source": [
    "display_keywords = ['display', 'screen', 'resolution', 'size', 'inch', 'pixels']"
   ]
  },
  {
   "cell_type": "code",
   "execution_count": 86,
   "id": "423198d5-3fdc-4e77-b7fb-567699b0e4ad",
   "metadata": {},
   "outputs": [],
   "source": [
    "def extract_display_info(text):\n",
    "    if any(keyword in text.lower() for keyword in display_keywords):\n",
    "        # Use regex to capture screen size (inches) and resolution (pixels)\n",
    "        display_info = re.findall(r'(\\d{1,2}(\\.\\d+)?)\\s*(inch|inches)|(\\d{3,4}x\\d{3,4})\\s*(pixels|p)', text)\n",
    "        \n",
    "        # Return display info if found, else return a default message\n",
    "        if display_info:\n",
    "            return display_info\n",
    "        else:\n",
    "            return \"No specific display info found\"  # Default message when no details are found\n",
    "    return \"No display-related info in the text\"  # Default message when no display keywords are found"
   ]
  },
  {
   "cell_type": "code",
   "execution_count": 87,
   "id": "66ce8be8-c4f6-4cc5-9670-63abc117aa8c",
   "metadata": {},
   "outputs": [
    {
     "name": "stderr",
     "output_type": "stream",
     "text": [
      "C:\\Users\\DELL\\AppData\\Local\\Temp\\ipykernel_36412\\3836672577.py:1: SettingWithCopyWarning: \n",
      "A value is trying to be set on a copy of a slice from a DataFrame.\n",
      "Try using .loc[row_indexer,col_indexer] = value instead\n",
      "\n",
      "See the caveats in the documentation: https://pandas.pydata.org/pandas-docs/stable/user_guide/indexing.html#returning-a-view-versus-a-copy\n",
      "  xiaomi.loc[:, 'display_info'] = xiaomi['Text'].apply(extract_display_info)\n"
     ]
    }
   ],
   "source": [
    "xiaomi.loc[:, 'display_info'] = xiaomi['Text'].apply(extract_display_info)"
   ]
  },
  {
   "cell_type": "code",
   "execution_count": 88,
   "id": "0e1c5b5b-c6ca-436a-8551-9e2e5db4b1bf",
   "metadata": {},
   "outputs": [],
   "source": [
    "display_df = xiaomi[['Model', 'display_info','Text']]"
   ]
  },
  {
   "cell_type": "code",
   "execution_count": 89,
   "id": "16431020-5211-452d-9cae-dd1d250d3c70",
   "metadata": {},
   "outputs": [
    {
     "data": {
      "text/html": [
       "<div>\n",
       "<style scoped>\n",
       "    .dataframe tbody tr th:only-of-type {\n",
       "        vertical-align: middle;\n",
       "    }\n",
       "\n",
       "    .dataframe tbody tr th {\n",
       "        vertical-align: top;\n",
       "    }\n",
       "\n",
       "    .dataframe thead th {\n",
       "        text-align: right;\n",
       "    }\n",
       "</style>\n",
       "<table border=\"1\" class=\"dataframe\">\n",
       "  <thead>\n",
       "    <tr style=\"text-align: right;\">\n",
       "      <th></th>\n",
       "      <th>Model</th>\n",
       "      <th>display_info</th>\n",
       "      <th>Text</th>\n",
       "    </tr>\n",
       "  </thead>\n",
       "  <tbody>\n",
       "    <tr>\n",
       "      <th>43</th>\n",
       "      <td>redmi 14t</td>\n",
       "      <td>No display-related info in the text</td>\n",
       "      <td>Hello \\nMy Redmi 14T Pro Phone doesn't work an...</td>\n",
       "    </tr>\n",
       "    <tr>\n",
       "      <th>97</th>\n",
       "      <td>redmi note 12</td>\n",
       "      <td>No display-related info in the text</td>\n",
       "      <td>I am using a Xiaomi Redmi Note 12 Pro, I haven...</td>\n",
       "    </tr>\n",
       "    <tr>\n",
       "      <th>104</th>\n",
       "      <td>redmi 13</td>\n",
       "      <td>No display-related info in the text</td>\n",
       "      <td>Hi All\\n\\nJust got my Redmi 13 pro plus and I'...</td>\n",
       "    </tr>\n",
       "    <tr>\n",
       "      <th>121</th>\n",
       "      <td>redmi 13c</td>\n",
       "      <td>No display-related info in the text</td>\n",
       "      <td>Yo! Why don't I have an update for my Redmi 13...</td>\n",
       "    </tr>\n",
       "    <tr>\n",
       "      <th>150</th>\n",
       "      <td>redmi 13c</td>\n",
       "      <td>No display-related info in the text</td>\n",
       "      <td>Unable to open my notifications / mp on the ph...</td>\n",
       "    </tr>\n",
       "    <tr>\n",
       "      <th>...</th>\n",
       "      <td>...</td>\n",
       "      <td>...</td>\n",
       "      <td>...</td>\n",
       "    </tr>\n",
       "    <tr>\n",
       "      <th>5291</th>\n",
       "      <td>redmi 13</td>\n",
       "      <td>No display-related info in the text</td>\n",
       "      <td>I got the \"Xiaomi hyper OS\" update (1.0.9.0), ...</td>\n",
       "    </tr>\n",
       "    <tr>\n",
       "      <th>5649</th>\n",
       "      <td>redmi note 13</td>\n",
       "      <td>No display-related info in the text</td>\n",
       "      <td>Just setting the new Xiaomi Redmi Note 13 4G u...</td>\n",
       "    </tr>\n",
       "    <tr>\n",
       "      <th>6179</th>\n",
       "      <td>redmi 12</td>\n",
       "      <td>No display-related info in the text</td>\n",
       "      <td>Sooooo....Xiaomi 11 Lite 5G NE Is receiving th...</td>\n",
       "    </tr>\n",
       "    <tr>\n",
       "      <th>7177</th>\n",
       "      <td>redmi 13</td>\n",
       "      <td>No display-related info in the text</td>\n",
       "      <td>I got the \"Xiaomi hyper OS\" update (1.0.9.0), ...</td>\n",
       "    </tr>\n",
       "    <tr>\n",
       "      <th>8076</th>\n",
       "      <td>redmi 13c</td>\n",
       "      <td>No display-related info in the text</td>\n",
       "      <td>So my mom is going to switch from a Samsung Ga...</td>\n",
       "    </tr>\n",
       "  </tbody>\n",
       "</table>\n",
       "<p>84 rows × 3 columns</p>\n",
       "</div>"
      ],
      "text/plain": [
       "              Model                         display_info  \\\n",
       "43        redmi 14t  No display-related info in the text   \n",
       "97    redmi note 12  No display-related info in the text   \n",
       "104        redmi 13  No display-related info in the text   \n",
       "121       redmi 13c  No display-related info in the text   \n",
       "150       redmi 13c  No display-related info in the text   \n",
       "...             ...                                  ...   \n",
       "5291       redmi 13  No display-related info in the text   \n",
       "5649  redmi note 13  No display-related info in the text   \n",
       "6179       redmi 12  No display-related info in the text   \n",
       "7177       redmi 13  No display-related info in the text   \n",
       "8076      redmi 13c  No display-related info in the text   \n",
       "\n",
       "                                                   Text  \n",
       "43    Hello \\nMy Redmi 14T Pro Phone doesn't work an...  \n",
       "97    I am using a Xiaomi Redmi Note 12 Pro, I haven...  \n",
       "104   Hi All\\n\\nJust got my Redmi 13 pro plus and I'...  \n",
       "121   Yo! Why don't I have an update for my Redmi 13...  \n",
       "150   Unable to open my notifications / mp on the ph...  \n",
       "...                                                 ...  \n",
       "5291  I got the \"Xiaomi hyper OS\" update (1.0.9.0), ...  \n",
       "5649  Just setting the new Xiaomi Redmi Note 13 4G u...  \n",
       "6179  Sooooo....Xiaomi 11 Lite 5G NE Is receiving th...  \n",
       "7177  I got the \"Xiaomi hyper OS\" update (1.0.9.0), ...  \n",
       "8076  So my mom is going to switch from a Samsung Ga...  \n",
       "\n",
       "[84 rows x 3 columns]"
      ]
     },
     "execution_count": 89,
     "metadata": {},
     "output_type": "execute_result"
    }
   ],
   "source": [
    "display_df"
   ]
  },
  {
   "cell_type": "code",
   "execution_count": 90,
   "id": "41cec5b5-7e43-4577-a1f7-3879f1dca155",
   "metadata": {},
   "outputs": [
    {
     "data": {
      "text/plain": [
       "display_info\n",
       "No display-related info in the text    76\n",
       "No specific display info found          8\n",
       "Name: count, dtype: int64"
      ]
     },
     "execution_count": 90,
     "metadata": {},
     "output_type": "execute_result"
    }
   ],
   "source": [
    "display_df['display_info'].value_counts()"
   ]
  },
  {
   "cell_type": "code",
   "execution_count": 91,
   "id": "43b2ed40-19b7-41d7-8c1a-166f9f086e33",
   "metadata": {},
   "outputs": [],
   "source": [
    "Display = display_df[~display_df['display_info'].isin([\"No display-related info in the text\"])]"
   ]
  },
  {
   "cell_type": "code",
   "execution_count": 92,
   "id": "1f8ab53e-88c5-4431-9f5f-702355dadfde",
   "metadata": {},
   "outputs": [
    {
     "data": {
      "text/html": [
       "<div>\n",
       "<style scoped>\n",
       "    .dataframe tbody tr th:only-of-type {\n",
       "        vertical-align: middle;\n",
       "    }\n",
       "\n",
       "    .dataframe tbody tr th {\n",
       "        vertical-align: top;\n",
       "    }\n",
       "\n",
       "    .dataframe thead th {\n",
       "        text-align: right;\n",
       "    }\n",
       "</style>\n",
       "<table border=\"1\" class=\"dataframe\">\n",
       "  <thead>\n",
       "    <tr style=\"text-align: right;\">\n",
       "      <th></th>\n",
       "      <th>Model</th>\n",
       "      <th>display_info</th>\n",
       "      <th>Text</th>\n",
       "    </tr>\n",
       "  </thead>\n",
       "  <tbody>\n",
       "    <tr>\n",
       "      <th>266</th>\n",
       "      <td>mi 9</td>\n",
       "      <td>No specific display info found</td>\n",
       "      <td>Hey everyone,\\n\\nI’m trying to unbrick my Xiao...</td>\n",
       "    </tr>\n",
       "    <tr>\n",
       "      <th>402</th>\n",
       "      <td>mi 9</td>\n",
       "      <td>No specific display info found</td>\n",
       "      <td>Edit: Please if you have any info that could h...</td>\n",
       "    </tr>\n",
       "    <tr>\n",
       "      <th>498</th>\n",
       "      <td>redmi a3</td>\n",
       "      <td>No specific display info found</td>\n",
       "      <td>Hi everyone! Recently got a Xiaomi Redmi A3 an...</td>\n",
       "    </tr>\n",
       "    <tr>\n",
       "      <th>558</th>\n",
       "      <td>redmi note 11</td>\n",
       "      <td>No specific display info found</td>\n",
       "      <td>Hey guys, i've come to two options and i want ...</td>\n",
       "    </tr>\n",
       "    <tr>\n",
       "      <th>669</th>\n",
       "      <td>redmi note 13</td>\n",
       "      <td>No specific display info found</td>\n",
       "      <td>I’m considering upgrading from my Xiaomi Redmi...</td>\n",
       "    </tr>\n",
       "    <tr>\n",
       "      <th>763</th>\n",
       "      <td>redmi 13</td>\n",
       "      <td>No specific display info found</td>\n",
       "      <td>Hello. I have a Xiaomi Redmi 13 Pro+ device. F...</td>\n",
       "    </tr>\n",
       "    <tr>\n",
       "      <th>796</th>\n",
       "      <td>redmi note 11</td>\n",
       "      <td>No specific display info found</td>\n",
       "      <td>After replacing the screen of my Xiaomi Redmi ...</td>\n",
       "    </tr>\n",
       "    <tr>\n",
       "      <th>1612</th>\n",
       "      <td>redmi note 13</td>\n",
       "      <td>No specific display info found</td>\n",
       "      <td>I’m considering upgrading from my Xiaomi Redmi...</td>\n",
       "    </tr>\n",
       "  </tbody>\n",
       "</table>\n",
       "</div>"
      ],
      "text/plain": [
       "              Model                    display_info  \\\n",
       "266            mi 9  No specific display info found   \n",
       "402            mi 9  No specific display info found   \n",
       "498        redmi a3  No specific display info found   \n",
       "558   redmi note 11  No specific display info found   \n",
       "669   redmi note 13  No specific display info found   \n",
       "763        redmi 13  No specific display info found   \n",
       "796   redmi note 11  No specific display info found   \n",
       "1612  redmi note 13  No specific display info found   \n",
       "\n",
       "                                                   Text  \n",
       "266   Hey everyone,\\n\\nI’m trying to unbrick my Xiao...  \n",
       "402   Edit: Please if you have any info that could h...  \n",
       "498   Hi everyone! Recently got a Xiaomi Redmi A3 an...  \n",
       "558   Hey guys, i've come to two options and i want ...  \n",
       "669   I’m considering upgrading from my Xiaomi Redmi...  \n",
       "763   Hello. I have a Xiaomi Redmi 13 Pro+ device. F...  \n",
       "796   After replacing the screen of my Xiaomi Redmi ...  \n",
       "1612  I’m considering upgrading from my Xiaomi Redmi...  "
      ]
     },
     "execution_count": 92,
     "metadata": {},
     "output_type": "execute_result"
    }
   ],
   "source": [
    "Display"
   ]
  },
  {
   "cell_type": "code",
   "execution_count": 93,
   "id": "950241b9-732f-4bfb-8ead-e9050bb6df8c",
   "metadata": {},
   "outputs": [
    {
     "name": "stderr",
     "output_type": "stream",
     "text": [
      "C:\\Users\\DELL\\AppData\\Local\\Temp\\ipykernel_36412\\1869529478.py:1: SettingWithCopyWarning: \n",
      "A value is trying to be set on a copy of a slice from a DataFrame.\n",
      "Try using .loc[row_indexer,col_indexer] = value instead\n",
      "\n",
      "See the caveats in the documentation: https://pandas.pydata.org/pandas-docs/stable/user_guide/indexing.html#returning-a-view-versus-a-copy\n",
      "  Display['Sentiment'] = Display['Text'].apply(lambda x: get_sentiment_score(x))\n"
     ]
    }
   ],
   "source": [
    "Display['Sentiment'] = Display['Text'].apply(lambda x: get_sentiment_score(x))"
   ]
  },
  {
   "cell_type": "code",
   "execution_count": 94,
   "id": "677023a7-11ec-4299-a60e-b07239014ff1",
   "metadata": {},
   "outputs": [
    {
     "name": "stdout",
     "output_type": "stream",
     "text": [
      "<class 'pandas.core.frame.DataFrame'>\n",
      "Index: 8 entries, 266 to 1612\n",
      "Data columns (total 4 columns):\n",
      " #   Column        Non-Null Count  Dtype  \n",
      "---  ------        --------------  -----  \n",
      " 0   Model         8 non-null      object \n",
      " 1   display_info  8 non-null      object \n",
      " 2   Text          8 non-null      object \n",
      " 3   Sentiment     8 non-null      float64\n",
      "dtypes: float64(1), object(3)\n",
      "memory usage: 320.0+ bytes\n"
     ]
    }
   ],
   "source": [
    "Display.info()"
   ]
  },
  {
   "cell_type": "code",
   "execution_count": 95,
   "id": "9922ab5d-2036-45e7-b071-4d29f1645b1f",
   "metadata": {},
   "outputs": [],
   "source": [
    "Display_Modelwise = Display.groupby('Model')['Sentiment'].mean().reset_index()"
   ]
  },
  {
   "cell_type": "code",
   "execution_count": 96,
   "id": "2f9699f1-074b-429e-a2dd-f82debe4e255",
   "metadata": {},
   "outputs": [
    {
     "data": {
      "text/html": [
       "<div>\n",
       "<style scoped>\n",
       "    .dataframe tbody tr th:only-of-type {\n",
       "        vertical-align: middle;\n",
       "    }\n",
       "\n",
       "    .dataframe tbody tr th {\n",
       "        vertical-align: top;\n",
       "    }\n",
       "\n",
       "    .dataframe thead th {\n",
       "        text-align: right;\n",
       "    }\n",
       "</style>\n",
       "<table border=\"1\" class=\"dataframe\">\n",
       "  <thead>\n",
       "    <tr style=\"text-align: right;\">\n",
       "      <th></th>\n",
       "      <th>Model</th>\n",
       "      <th>Sentiment</th>\n",
       "    </tr>\n",
       "  </thead>\n",
       "  <tbody>\n",
       "    <tr>\n",
       "      <th>0</th>\n",
       "      <td>mi 9</td>\n",
       "      <td>0.83355</td>\n",
       "    </tr>\n",
       "    <tr>\n",
       "      <th>1</th>\n",
       "      <td>redmi 13</td>\n",
       "      <td>-0.16380</td>\n",
       "    </tr>\n",
       "    <tr>\n",
       "      <th>2</th>\n",
       "      <td>redmi a3</td>\n",
       "      <td>-0.23630</td>\n",
       "    </tr>\n",
       "    <tr>\n",
       "      <th>3</th>\n",
       "      <td>redmi note 11</td>\n",
       "      <td>0.78685</td>\n",
       "    </tr>\n",
       "    <tr>\n",
       "      <th>4</th>\n",
       "      <td>redmi note 13</td>\n",
       "      <td>0.98310</td>\n",
       "    </tr>\n",
       "  </tbody>\n",
       "</table>\n",
       "</div>"
      ],
      "text/plain": [
       "           Model  Sentiment\n",
       "0           mi 9    0.83355\n",
       "1       redmi 13   -0.16380\n",
       "2       redmi a3   -0.23630\n",
       "3  redmi note 11    0.78685\n",
       "4  redmi note 13    0.98310"
      ]
     },
     "execution_count": 96,
     "metadata": {},
     "output_type": "execute_result"
    }
   ],
   "source": [
    "Display_Modelwise"
   ]
  },
  {
   "cell_type": "code",
   "execution_count": 97,
   "id": "a1621d5e-a665-4e17-b740-911781966346",
   "metadata": {},
   "outputs": [
    {
     "data": {
      "image/png": "[encoded data removed]",
      "text/plain": [
       "<Figure size 1200x600 with 1 Axes>"
      ]
     },
     "metadata": {},
     "output_type": "display_data"
    }
   ],
   "source": [
    "plt.figure(figsize=(12, 6))\n",
    "plt.bar(Display_Modelwise['Model'], Display_Modelwise['Sentiment'], color='skyblue')\n",
    "plt.xlabel('xiaomi Model' , size = 14)\n",
    "plt.ylabel('Average Sentiment Score', size =14)\n",
    "plt.xticks(rotation=0)\n",
    "plt.show()"
   ]
  },
  {
   "cell_type": "markdown",
   "id": "40e09731-7164-4389-bc60-3eef4809b02f",
   "metadata": {},
   "source": [
    "## for water resistance "
   ]
  },
  {
   "cell_type": "code",
   "execution_count": 98,
   "id": "c4c761b9-63fd-4aaf-89c7-6808644285a4",
   "metadata": {},
   "outputs": [],
   "source": [
    "water_resistance_keywords = ['water resistant', 'IP']"
   ]
  },
  {
   "cell_type": "code",
   "execution_count": 99,
   "id": "4a690057-6379-4143-9718-ea9bac1a0c3a",
   "metadata": {},
   "outputs": [],
   "source": [
    "def extract_water_resistance_info(text):\n",
    "    if any(keyword in text.lower() for keyword in water_resistance_keywords):\n",
    "        # Use regex to capture IP ratings like IP67, IP68, etc.\n",
    "        water_resistance_info = re.findall(r'IP\\d{2}', text)\n",
    "        \n",
    "        # Return water resistance info if found, else return a default message\n",
    "        if water_resistance_info:\n",
    "            return water_resistance_info\n",
    "        else:\n",
    "            return \"No specific water resistance info found\"  # Default message when no details are found\n",
    "    return \"No water resistance-related info in the text\"  # Default message when no water resistance keywords are found"
   ]
  },
  {
   "cell_type": "code",
   "execution_count": 100,
   "id": "3d935ed1-60ba-469f-999a-f8596c64242d",
   "metadata": {},
   "outputs": [
    {
     "name": "stderr",
     "output_type": "stream",
     "text": [
      "C:\\Users\\DELL\\AppData\\Local\\Temp\\ipykernel_36412\\154411550.py:1: SettingWithCopyWarning: \n",
      "A value is trying to be set on a copy of a slice from a DataFrame.\n",
      "Try using .loc[row_indexer,col_indexer] = value instead\n",
      "\n",
      "See the caveats in the documentation: https://pandas.pydata.org/pandas-docs/stable/user_guide/indexing.html#returning-a-view-versus-a-copy\n",
      "  xiaomi.loc[:, 'Resistance_info'] = xiaomi['Text'].apply(extract_water_resistance_info)\n"
     ]
    }
   ],
   "source": [
    "xiaomi.loc[:, 'Resistance_info'] = xiaomi['Text'].apply(extract_water_resistance_info)"
   ]
  },
  {
   "cell_type": "code",
   "execution_count": 101,
   "id": "9d346a38-9aa9-4479-a066-1c3fe1469d04",
   "metadata": {},
   "outputs": [],
   "source": [
    "resistance_df = xiaomi[['Model', 'Resistance_info','Text']]"
   ]
  },
  {
   "cell_type": "code",
   "execution_count": 102,
   "id": "9a9bc13c-af58-486d-ad59-60eaa645fc05",
   "metadata": {},
   "outputs": [
    {
     "data": {
      "text/html": [
       "<div>\n",
       "<style scoped>\n",
       "    .dataframe tbody tr th:only-of-type {\n",
       "        vertical-align: middle;\n",
       "    }\n",
       "\n",
       "    .dataframe tbody tr th {\n",
       "        vertical-align: top;\n",
       "    }\n",
       "\n",
       "    .dataframe thead th {\n",
       "        text-align: right;\n",
       "    }\n",
       "</style>\n",
       "<table border=\"1\" class=\"dataframe\">\n",
       "  <thead>\n",
       "    <tr style=\"text-align: right;\">\n",
       "      <th></th>\n",
       "      <th>Model</th>\n",
       "      <th>Resistance_info</th>\n",
       "      <th>Text</th>\n",
       "    </tr>\n",
       "  </thead>\n",
       "  <tbody>\n",
       "    <tr>\n",
       "      <th>43</th>\n",
       "      <td>redmi 14t</td>\n",
       "      <td>No water resistance-related info in the text</td>\n",
       "      <td>Hello \\nMy Redmi 14T Pro Phone doesn't work an...</td>\n",
       "    </tr>\n",
       "    <tr>\n",
       "      <th>97</th>\n",
       "      <td>redmi note 12</td>\n",
       "      <td>No water resistance-related info in the text</td>\n",
       "      <td>I am using a Xiaomi Redmi Note 12 Pro, I haven...</td>\n",
       "    </tr>\n",
       "    <tr>\n",
       "      <th>104</th>\n",
       "      <td>redmi 13</td>\n",
       "      <td>No water resistance-related info in the text</td>\n",
       "      <td>Hi All\\n\\nJust got my Redmi 13 pro plus and I'...</td>\n",
       "    </tr>\n",
       "    <tr>\n",
       "      <th>121</th>\n",
       "      <td>redmi 13c</td>\n",
       "      <td>No water resistance-related info in the text</td>\n",
       "      <td>Yo! Why don't I have an update for my Redmi 13...</td>\n",
       "    </tr>\n",
       "    <tr>\n",
       "      <th>150</th>\n",
       "      <td>redmi 13c</td>\n",
       "      <td>No water resistance-related info in the text</td>\n",
       "      <td>Unable to open my notifications / mp on the ph...</td>\n",
       "    </tr>\n",
       "    <tr>\n",
       "      <th>...</th>\n",
       "      <td>...</td>\n",
       "      <td>...</td>\n",
       "      <td>...</td>\n",
       "    </tr>\n",
       "    <tr>\n",
       "      <th>5291</th>\n",
       "      <td>redmi 13</td>\n",
       "      <td>No water resistance-related info in the text</td>\n",
       "      <td>I got the \"Xiaomi hyper OS\" update (1.0.9.0), ...</td>\n",
       "    </tr>\n",
       "    <tr>\n",
       "      <th>5649</th>\n",
       "      <td>redmi note 13</td>\n",
       "      <td>No water resistance-related info in the text</td>\n",
       "      <td>Just setting the new Xiaomi Redmi Note 13 4G u...</td>\n",
       "    </tr>\n",
       "    <tr>\n",
       "      <th>6179</th>\n",
       "      <td>redmi 12</td>\n",
       "      <td>No water resistance-related info in the text</td>\n",
       "      <td>Sooooo....Xiaomi 11 Lite 5G NE Is receiving th...</td>\n",
       "    </tr>\n",
       "    <tr>\n",
       "      <th>7177</th>\n",
       "      <td>redmi 13</td>\n",
       "      <td>No water resistance-related info in the text</td>\n",
       "      <td>I got the \"Xiaomi hyper OS\" update (1.0.9.0), ...</td>\n",
       "    </tr>\n",
       "    <tr>\n",
       "      <th>8076</th>\n",
       "      <td>redmi 13c</td>\n",
       "      <td>No water resistance-related info in the text</td>\n",
       "      <td>So my mom is going to switch from a Samsung Ga...</td>\n",
       "    </tr>\n",
       "  </tbody>\n",
       "</table>\n",
       "<p>84 rows × 3 columns</p>\n",
       "</div>"
      ],
      "text/plain": [
       "              Model                               Resistance_info  \\\n",
       "43        redmi 14t  No water resistance-related info in the text   \n",
       "97    redmi note 12  No water resistance-related info in the text   \n",
       "104        redmi 13  No water resistance-related info in the text   \n",
       "121       redmi 13c  No water resistance-related info in the text   \n",
       "150       redmi 13c  No water resistance-related info in the text   \n",
       "...             ...                                           ...   \n",
       "5291       redmi 13  No water resistance-related info in the text   \n",
       "5649  redmi note 13  No water resistance-related info in the text   \n",
       "6179       redmi 12  No water resistance-related info in the text   \n",
       "7177       redmi 13  No water resistance-related info in the text   \n",
       "8076      redmi 13c  No water resistance-related info in the text   \n",
       "\n",
       "                                                   Text  \n",
       "43    Hello \\nMy Redmi 14T Pro Phone doesn't work an...  \n",
       "97    I am using a Xiaomi Redmi Note 12 Pro, I haven...  \n",
       "104   Hi All\\n\\nJust got my Redmi 13 pro plus and I'...  \n",
       "121   Yo! Why don't I have an update for my Redmi 13...  \n",
       "150   Unable to open my notifications / mp on the ph...  \n",
       "...                                                 ...  \n",
       "5291  I got the \"Xiaomi hyper OS\" update (1.0.9.0), ...  \n",
       "5649  Just setting the new Xiaomi Redmi Note 13 4G u...  \n",
       "6179  Sooooo....Xiaomi 11 Lite 5G NE Is receiving th...  \n",
       "7177  I got the \"Xiaomi hyper OS\" update (1.0.9.0), ...  \n",
       "8076  So my mom is going to switch from a Samsung Ga...  \n",
       "\n",
       "[84 rows x 3 columns]"
      ]
     },
     "execution_count": 102,
     "metadata": {},
     "output_type": "execute_result"
    }
   ],
   "source": [
    "resistance_df"
   ]
  },
  {
   "cell_type": "code",
   "execution_count": 103,
   "id": "49adf3d7-f9ac-4975-87c0-0beef417d1c9",
   "metadata": {},
   "outputs": [
    {
     "data": {
      "text/plain": [
       "Resistance_info\n",
       "No water resistance-related info in the text    84\n",
       "Name: count, dtype: int64"
      ]
     },
     "execution_count": 103,
     "metadata": {},
     "output_type": "execute_result"
    }
   ],
   "source": [
    "resistance_df['Resistance_info'].value_counts()"
   ]
  },
  {
   "cell_type": "markdown",
   "id": "a3a30a13-4418-4f3e-8dcc-a645e601aaca",
   "metadata": {},
   "source": [
    "## for Charging"
   ]
  },
  {
   "cell_type": "code",
   "execution_count": 104,
   "id": "97192694-2dcf-4b63-8f59-ba11e95a0869",
   "metadata": {},
   "outputs": [],
   "source": [
    "charging_keywords = ['charging', 'fast charging', 'wireless charging', 'Watt']"
   ]
  },
  {
   "cell_type": "code",
   "execution_count": 105,
   "id": "ec6d1bb1-0fc8-444f-aa2a-81cd8cb049ed",
   "metadata": {},
   "outputs": [],
   "source": [
    "def extract_charging_info(text):\n",
    "    if any(keyword in text.lower() for keyword in charging_keywords):\n",
    "        # Use regex to capture charging speed (e.g., 18W, 30W, or 18 Watt)\n",
    "        charging_info = re.findall(r'(\\d{2,3})\\s*(Watt|W)', text)\n",
    "        \n",
    "        # Return charging info if found, else return a default message\n",
    "        if charging_info:\n",
    "            return charging_info\n",
    "        else:\n",
    "            return \"No specific charging info found\"  # Default message when no details are found\n",
    "    return \"No charging-related info in the text\"  # Default message when no charging keywords are found"
   ]
  },
  {
   "cell_type": "code",
   "execution_count": 106,
   "id": "ddf036f1-e18c-4590-9181-88e0bfd4b72d",
   "metadata": {},
   "outputs": [
    {
     "name": "stderr",
     "output_type": "stream",
     "text": [
      "C:\\Users\\DELL\\AppData\\Local\\Temp\\ipykernel_36412\\3360287509.py:1: SettingWithCopyWarning: \n",
      "A value is trying to be set on a copy of a slice from a DataFrame.\n",
      "Try using .loc[row_indexer,col_indexer] = value instead\n",
      "\n",
      "See the caveats in the documentation: https://pandas.pydata.org/pandas-docs/stable/user_guide/indexing.html#returning-a-view-versus-a-copy\n",
      "  xiaomi.loc[:, 'Charging_info'] = xiaomi['Text'].apply(extract_charging_info)\n"
     ]
    }
   ],
   "source": [
    "xiaomi.loc[:, 'Charging_info'] = xiaomi['Text'].apply(extract_charging_info)"
   ]
  },
  {
   "cell_type": "code",
   "execution_count": 107,
   "id": "18cf4672-9f3e-4723-a12f-a480ea5bd4b4",
   "metadata": {},
   "outputs": [],
   "source": [
    "charging_df = xiaomi[['Model' , 'Charging_info', 'Text']]"
   ]
  },
  {
   "cell_type": "code",
   "execution_count": 108,
   "id": "6f49f92f-92d8-467c-8fe4-a0bf8125ec99",
   "metadata": {},
   "outputs": [
    {
     "data": {
      "text/html": [
       "<div>\n",
       "<style scoped>\n",
       "    .dataframe tbody tr th:only-of-type {\n",
       "        vertical-align: middle;\n",
       "    }\n",
       "\n",
       "    .dataframe tbody tr th {\n",
       "        vertical-align: top;\n",
       "    }\n",
       "\n",
       "    .dataframe thead th {\n",
       "        text-align: right;\n",
       "    }\n",
       "</style>\n",
       "<table border=\"1\" class=\"dataframe\">\n",
       "  <thead>\n",
       "    <tr style=\"text-align: right;\">\n",
       "      <th></th>\n",
       "      <th>Model</th>\n",
       "      <th>Charging_info</th>\n",
       "      <th>Text</th>\n",
       "    </tr>\n",
       "  </thead>\n",
       "  <tbody>\n",
       "    <tr>\n",
       "      <th>43</th>\n",
       "      <td>redmi 14t</td>\n",
       "      <td>No charging-related info in the text</td>\n",
       "      <td>Hello \\nMy Redmi 14T Pro Phone doesn't work an...</td>\n",
       "    </tr>\n",
       "    <tr>\n",
       "      <th>97</th>\n",
       "      <td>redmi note 12</td>\n",
       "      <td>No charging-related info in the text</td>\n",
       "      <td>I am using a Xiaomi Redmi Note 12 Pro, I haven...</td>\n",
       "    </tr>\n",
       "    <tr>\n",
       "      <th>104</th>\n",
       "      <td>redmi 13</td>\n",
       "      <td>No charging-related info in the text</td>\n",
       "      <td>Hi All\\n\\nJust got my Redmi 13 pro plus and I'...</td>\n",
       "    </tr>\n",
       "    <tr>\n",
       "      <th>121</th>\n",
       "      <td>redmi 13c</td>\n",
       "      <td>No charging-related info in the text</td>\n",
       "      <td>Yo! Why don't I have an update for my Redmi 13...</td>\n",
       "    </tr>\n",
       "    <tr>\n",
       "      <th>150</th>\n",
       "      <td>redmi 13c</td>\n",
       "      <td>No charging-related info in the text</td>\n",
       "      <td>Unable to open my notifications / mp on the ph...</td>\n",
       "    </tr>\n",
       "    <tr>\n",
       "      <th>...</th>\n",
       "      <td>...</td>\n",
       "      <td>...</td>\n",
       "      <td>...</td>\n",
       "    </tr>\n",
       "    <tr>\n",
       "      <th>5291</th>\n",
       "      <td>redmi 13</td>\n",
       "      <td>No charging-related info in the text</td>\n",
       "      <td>I got the \"Xiaomi hyper OS\" update (1.0.9.0), ...</td>\n",
       "    </tr>\n",
       "    <tr>\n",
       "      <th>5649</th>\n",
       "      <td>redmi note 13</td>\n",
       "      <td>No charging-related info in the text</td>\n",
       "      <td>Just setting the new Xiaomi Redmi Note 13 4G u...</td>\n",
       "    </tr>\n",
       "    <tr>\n",
       "      <th>6179</th>\n",
       "      <td>redmi 12</td>\n",
       "      <td>No charging-related info in the text</td>\n",
       "      <td>Sooooo....Xiaomi 11 Lite 5G NE Is receiving th...</td>\n",
       "    </tr>\n",
       "    <tr>\n",
       "      <th>7177</th>\n",
       "      <td>redmi 13</td>\n",
       "      <td>No charging-related info in the text</td>\n",
       "      <td>I got the \"Xiaomi hyper OS\" update (1.0.9.0), ...</td>\n",
       "    </tr>\n",
       "    <tr>\n",
       "      <th>8076</th>\n",
       "      <td>redmi 13c</td>\n",
       "      <td>No charging-related info in the text</td>\n",
       "      <td>So my mom is going to switch from a Samsung Ga...</td>\n",
       "    </tr>\n",
       "  </tbody>\n",
       "</table>\n",
       "<p>84 rows × 3 columns</p>\n",
       "</div>"
      ],
      "text/plain": [
       "              Model                         Charging_info  \\\n",
       "43        redmi 14t  No charging-related info in the text   \n",
       "97    redmi note 12  No charging-related info in the text   \n",
       "104        redmi 13  No charging-related info in the text   \n",
       "121       redmi 13c  No charging-related info in the text   \n",
       "150       redmi 13c  No charging-related info in the text   \n",
       "...             ...                                   ...   \n",
       "5291       redmi 13  No charging-related info in the text   \n",
       "5649  redmi note 13  No charging-related info in the text   \n",
       "6179       redmi 12  No charging-related info in the text   \n",
       "7177       redmi 13  No charging-related info in the text   \n",
       "8076      redmi 13c  No charging-related info in the text   \n",
       "\n",
       "                                                   Text  \n",
       "43    Hello \\nMy Redmi 14T Pro Phone doesn't work an...  \n",
       "97    I am using a Xiaomi Redmi Note 12 Pro, I haven...  \n",
       "104   Hi All\\n\\nJust got my Redmi 13 pro plus and I'...  \n",
       "121   Yo! Why don't I have an update for my Redmi 13...  \n",
       "150   Unable to open my notifications / mp on the ph...  \n",
       "...                                                 ...  \n",
       "5291  I got the \"Xiaomi hyper OS\" update (1.0.9.0), ...  \n",
       "5649  Just setting the new Xiaomi Redmi Note 13 4G u...  \n",
       "6179  Sooooo....Xiaomi 11 Lite 5G NE Is receiving th...  \n",
       "7177  I got the \"Xiaomi hyper OS\" update (1.0.9.0), ...  \n",
       "8076  So my mom is going to switch from a Samsung Ga...  \n",
       "\n",
       "[84 rows x 3 columns]"
      ]
     },
     "execution_count": 108,
     "metadata": {},
     "output_type": "execute_result"
    }
   ],
   "source": [
    "charging_df"
   ]
  },
  {
   "cell_type": "code",
   "execution_count": 109,
   "id": "6e625dc2-e8e2-4897-9909-80253c371125",
   "metadata": {},
   "outputs": [
    {
     "data": {
      "text/plain": [
       "Charging_info\n",
       "No charging-related info in the text    79\n",
       "No specific charging info found          5\n",
       "Name: count, dtype: int64"
      ]
     },
     "execution_count": 109,
     "metadata": {},
     "output_type": "execute_result"
    }
   ],
   "source": [
    "charging_df['Charging_info'].value_counts()"
   ]
  },
  {
   "cell_type": "code",
   "execution_count": 110,
   "id": "c9827aa1-e397-4a21-b3da-7d69d1a8efa5",
   "metadata": {},
   "outputs": [],
   "source": [
    "Charging = charging_df[~charging_df['Charging_info'].isin([\"No charging-related info in the text\"])]"
   ]
  },
  {
   "cell_type": "code",
   "execution_count": 111,
   "id": "5ec5fb82-7c5b-4db0-91ff-420ef5ae1d6b",
   "metadata": {},
   "outputs": [
    {
     "name": "stdout",
     "output_type": "stream",
     "text": [
      "<class 'pandas.core.frame.DataFrame'>\n",
      "Index: 5 entries, 410 to 2342\n",
      "Data columns (total 3 columns):\n",
      " #   Column         Non-Null Count  Dtype \n",
      "---  ------         --------------  ----- \n",
      " 0   Model          5 non-null      object\n",
      " 1   Charging_info  5 non-null      object\n",
      " 2   Text           5 non-null      object\n",
      "dtypes: object(3)\n",
      "memory usage: 160.0+ bytes\n"
     ]
    }
   ],
   "source": [
    "Charging.info()"
   ]
  },
  {
   "cell_type": "code",
   "execution_count": 112,
   "id": "3ae64900-4c59-4632-93f1-9155c63fade5",
   "metadata": {},
   "outputs": [
    {
     "name": "stderr",
     "output_type": "stream",
     "text": [
      "C:\\Users\\DELL\\AppData\\Local\\Temp\\ipykernel_36412\\4215195136.py:1: SettingWithCopyWarning: \n",
      "A value is trying to be set on a copy of a slice from a DataFrame.\n",
      "Try using .loc[row_indexer,col_indexer] = value instead\n",
      "\n",
      "See the caveats in the documentation: https://pandas.pydata.org/pandas-docs/stable/user_guide/indexing.html#returning-a-view-versus-a-copy\n",
      "  Charging['Sentiment'] = Charging['Text'].apply(lambda x: get_sentiment_score(x))\n"
     ]
    }
   ],
   "source": [
    "Charging['Sentiment'] = Charging['Text'].apply(lambda x: get_sentiment_score(x))"
   ]
  },
  {
   "cell_type": "code",
   "execution_count": 113,
   "id": "b51d9568-8edc-4ef8-9695-1136eff29cea",
   "metadata": {},
   "outputs": [],
   "source": [
    "Charging_Modelwise = Charging.groupby('Model')['Sentiment'].mean().reset_index()"
   ]
  },
  {
   "cell_type": "code",
   "execution_count": 114,
   "id": "bdc98740-670c-4c22-9dc5-dd703b51296e",
   "metadata": {},
   "outputs": [
    {
     "data": {
      "text/html": [
       "<div>\n",
       "<style scoped>\n",
       "    .dataframe tbody tr th:only-of-type {\n",
       "        vertical-align: middle;\n",
       "    }\n",
       "\n",
       "    .dataframe tbody tr th {\n",
       "        vertical-align: top;\n",
       "    }\n",
       "\n",
       "    .dataframe thead th {\n",
       "        text-align: right;\n",
       "    }\n",
       "</style>\n",
       "<table border=\"1\" class=\"dataframe\">\n",
       "  <thead>\n",
       "    <tr style=\"text-align: right;\">\n",
       "      <th></th>\n",
       "      <th>Model</th>\n",
       "      <th>Sentiment</th>\n",
       "    </tr>\n",
       "  </thead>\n",
       "  <tbody>\n",
       "    <tr>\n",
       "      <th>0</th>\n",
       "      <td>redmi note 13</td>\n",
       "      <td>0.03615</td>\n",
       "    </tr>\n",
       "    <tr>\n",
       "      <th>1</th>\n",
       "      <td>redmi note 9</td>\n",
       "      <td>0.95460</td>\n",
       "    </tr>\n",
       "  </tbody>\n",
       "</table>\n",
       "</div>"
      ],
      "text/plain": [
       "           Model  Sentiment\n",
       "0  redmi note 13    0.03615\n",
       "1   redmi note 9    0.95460"
      ]
     },
     "execution_count": 114,
     "metadata": {},
     "output_type": "execute_result"
    }
   ],
   "source": [
    "Charging_Modelwise"
   ]
  },
  {
   "cell_type": "code",
   "execution_count": 115,
   "id": "48cac43f-03f8-49da-a01d-22c5ffabfd5f",
   "metadata": {},
   "outputs": [
    {
     "data": {
      "image/png": "[encoded data removed]",
      "text/plain": [
       "<Figure size 1200x600 with 1 Axes>"
      ]
     },
     "metadata": {},
     "output_type": "display_data"
    }
   ],
   "source": [
    "plt.figure(figsize=(12, 6))\n",
    "plt.bar(Charging_Modelwise['Model'], Charging_Modelwise['Sentiment'], color='skyblue')\n",
    "plt.xlabel('xiaomi Model' , size = 14)\n",
    "plt.ylabel('Average Sentiment Score', size =14)\n",
    "plt.xticks(rotation=0)\n",
    "plt.show()"
   ]
  },
  {
   "cell_type": "markdown",
   "id": "1c576ee7-1e9f-4428-b64b-745badec49a5",
   "metadata": {},
   "source": [
    "## for weight"
   ]
  },
  {
   "cell_type": "code",
   "execution_count": 116,
   "id": "8955deb5-c837-4c6c-97d3-a785deee60e7",
   "metadata": {},
   "outputs": [],
   "source": [
    "weight_keywords = ['weight', 'grams', 'kg', 'lightweight', 'heavy']"
   ]
  },
  {
   "cell_type": "code",
   "execution_count": 117,
   "id": "c875e3ba-7ddb-4c89-8864-950dfa8b24ad",
   "metadata": {},
   "outputs": [],
   "source": [
    "def extract_weight_info(text):\n",
    "    if any(keyword in text.lower() for keyword in weight_keywords):\n",
    "        weight_info = re.findall(r'(\\d{2,3})\\s*(kg|grams|weight)', text)\n",
    "        return weight_info if weight_info else \"No specific weight info found\"\n",
    "    return \"No weight-related info in the text\""
   ]
  },
  {
   "cell_type": "code",
   "execution_count": 118,
   "id": "0bd29b93-3655-4552-b442-f74f2da59f71",
   "metadata": {},
   "outputs": [
    {
     "name": "stderr",
     "output_type": "stream",
     "text": [
      "C:\\Users\\DELL\\AppData\\Local\\Temp\\ipykernel_36412\\3070679766.py:1: SettingWithCopyWarning: \n",
      "A value is trying to be set on a copy of a slice from a DataFrame.\n",
      "Try using .loc[row_indexer,col_indexer] = value instead\n",
      "\n",
      "See the caveats in the documentation: https://pandas.pydata.org/pandas-docs/stable/user_guide/indexing.html#returning-a-view-versus-a-copy\n",
      "  xiaomi.loc[:, 'Weight_info'] = xiaomi['Text'].apply(extract_weight_info)\n"
     ]
    }
   ],
   "source": [
    "xiaomi.loc[:, 'Weight_info'] = xiaomi['Text'].apply(extract_weight_info)"
   ]
  },
  {
   "cell_type": "code",
   "execution_count": 119,
   "id": "08e5c415-d725-4dde-9a95-db996d51d7c5",
   "metadata": {},
   "outputs": [],
   "source": [
    "weight_df = xiaomi[['Model' , 'Weight_info','Text']]"
   ]
  },
  {
   "cell_type": "code",
   "execution_count": 120,
   "id": "f3d630e0-bcf3-415e-80e4-1fadd4d63bd2",
   "metadata": {},
   "outputs": [
    {
     "data": {
      "text/html": [
       "<div>\n",
       "<style scoped>\n",
       "    .dataframe tbody tr th:only-of-type {\n",
       "        vertical-align: middle;\n",
       "    }\n",
       "\n",
       "    .dataframe tbody tr th {\n",
       "        vertical-align: top;\n",
       "    }\n",
       "\n",
       "    .dataframe thead th {\n",
       "        text-align: right;\n",
       "    }\n",
       "</style>\n",
       "<table border=\"1\" class=\"dataframe\">\n",
       "  <thead>\n",
       "    <tr style=\"text-align: right;\">\n",
       "      <th></th>\n",
       "      <th>Model</th>\n",
       "      <th>Weight_info</th>\n",
       "      <th>Text</th>\n",
       "    </tr>\n",
       "  </thead>\n",
       "  <tbody>\n",
       "    <tr>\n",
       "      <th>43</th>\n",
       "      <td>redmi 14t</td>\n",
       "      <td>No weight-related info in the text</td>\n",
       "      <td>Hello \\nMy Redmi 14T Pro Phone doesn't work an...</td>\n",
       "    </tr>\n",
       "    <tr>\n",
       "      <th>97</th>\n",
       "      <td>redmi note 12</td>\n",
       "      <td>No weight-related info in the text</td>\n",
       "      <td>I am using a Xiaomi Redmi Note 12 Pro, I haven...</td>\n",
       "    </tr>\n",
       "    <tr>\n",
       "      <th>104</th>\n",
       "      <td>redmi 13</td>\n",
       "      <td>No weight-related info in the text</td>\n",
       "      <td>Hi All\\n\\nJust got my Redmi 13 pro plus and I'...</td>\n",
       "    </tr>\n",
       "    <tr>\n",
       "      <th>121</th>\n",
       "      <td>redmi 13c</td>\n",
       "      <td>No weight-related info in the text</td>\n",
       "      <td>Yo! Why don't I have an update for my Redmi 13...</td>\n",
       "    </tr>\n",
       "    <tr>\n",
       "      <th>150</th>\n",
       "      <td>redmi 13c</td>\n",
       "      <td>No weight-related info in the text</td>\n",
       "      <td>Unable to open my notifications / mp on the ph...</td>\n",
       "    </tr>\n",
       "    <tr>\n",
       "      <th>...</th>\n",
       "      <td>...</td>\n",
       "      <td>...</td>\n",
       "      <td>...</td>\n",
       "    </tr>\n",
       "    <tr>\n",
       "      <th>5291</th>\n",
       "      <td>redmi 13</td>\n",
       "      <td>No weight-related info in the text</td>\n",
       "      <td>I got the \"Xiaomi hyper OS\" update (1.0.9.0), ...</td>\n",
       "    </tr>\n",
       "    <tr>\n",
       "      <th>5649</th>\n",
       "      <td>redmi note 13</td>\n",
       "      <td>No weight-related info in the text</td>\n",
       "      <td>Just setting the new Xiaomi Redmi Note 13 4G u...</td>\n",
       "    </tr>\n",
       "    <tr>\n",
       "      <th>6179</th>\n",
       "      <td>redmi 12</td>\n",
       "      <td>No weight-related info in the text</td>\n",
       "      <td>Sooooo....Xiaomi 11 Lite 5G NE Is receiving th...</td>\n",
       "    </tr>\n",
       "    <tr>\n",
       "      <th>7177</th>\n",
       "      <td>redmi 13</td>\n",
       "      <td>No weight-related info in the text</td>\n",
       "      <td>I got the \"Xiaomi hyper OS\" update (1.0.9.0), ...</td>\n",
       "    </tr>\n",
       "    <tr>\n",
       "      <th>8076</th>\n",
       "      <td>redmi 13c</td>\n",
       "      <td>No weight-related info in the text</td>\n",
       "      <td>So my mom is going to switch from a Samsung Ga...</td>\n",
       "    </tr>\n",
       "  </tbody>\n",
       "</table>\n",
       "<p>84 rows × 3 columns</p>\n",
       "</div>"
      ],
      "text/plain": [
       "              Model                         Weight_info  \\\n",
       "43        redmi 14t  No weight-related info in the text   \n",
       "97    redmi note 12  No weight-related info in the text   \n",
       "104        redmi 13  No weight-related info in the text   \n",
       "121       redmi 13c  No weight-related info in the text   \n",
       "150       redmi 13c  No weight-related info in the text   \n",
       "...             ...                                 ...   \n",
       "5291       redmi 13  No weight-related info in the text   \n",
       "5649  redmi note 13  No weight-related info in the text   \n",
       "6179       redmi 12  No weight-related info in the text   \n",
       "7177       redmi 13  No weight-related info in the text   \n",
       "8076      redmi 13c  No weight-related info in the text   \n",
       "\n",
       "                                                   Text  \n",
       "43    Hello \\nMy Redmi 14T Pro Phone doesn't work an...  \n",
       "97    I am using a Xiaomi Redmi Note 12 Pro, I haven...  \n",
       "104   Hi All\\n\\nJust got my Redmi 13 pro plus and I'...  \n",
       "121   Yo! Why don't I have an update for my Redmi 13...  \n",
       "150   Unable to open my notifications / mp on the ph...  \n",
       "...                                                 ...  \n",
       "5291  I got the \"Xiaomi hyper OS\" update (1.0.9.0), ...  \n",
       "5649  Just setting the new Xiaomi Redmi Note 13 4G u...  \n",
       "6179  Sooooo....Xiaomi 11 Lite 5G NE Is receiving th...  \n",
       "7177  I got the \"Xiaomi hyper OS\" update (1.0.9.0), ...  \n",
       "8076  So my mom is going to switch from a Samsung Ga...  \n",
       "\n",
       "[84 rows x 3 columns]"
      ]
     },
     "execution_count": 120,
     "metadata": {},
     "output_type": "execute_result"
    }
   ],
   "source": [
    "weight_df"
   ]
  },
  {
   "cell_type": "code",
   "execution_count": 121,
   "id": "d1263cb3-b653-4f0c-a596-5fea7f419a17",
   "metadata": {},
   "outputs": [
    {
     "data": {
      "text/plain": [
       "Weight_info\n",
       "No weight-related info in the text    80\n",
       "No specific weight info found          4\n",
       "Name: count, dtype: int64"
      ]
     },
     "execution_count": 121,
     "metadata": {},
     "output_type": "execute_result"
    }
   ],
   "source": [
    "weight_df['Weight_info'].value_counts()"
   ]
  },
  {
   "cell_type": "code",
   "execution_count": 122,
   "id": "7c7e8cff-4d1b-4d36-9fb4-3d3893417bce",
   "metadata": {},
   "outputs": [],
   "source": [
    "Weight = weight_df[~weight_df['Weight_info'].isin([\"No weight-related info in the text\"])]"
   ]
  },
  {
   "cell_type": "code",
   "execution_count": 123,
   "id": "745ab9fa-0d8c-4532-864c-eeaba9f34dde",
   "metadata": {},
   "outputs": [
    {
     "data": {
      "text/html": [
       "<div>\n",
       "<style scoped>\n",
       "    .dataframe tbody tr th:only-of-type {\n",
       "        vertical-align: middle;\n",
       "    }\n",
       "\n",
       "    .dataframe tbody tr th {\n",
       "        vertical-align: top;\n",
       "    }\n",
       "\n",
       "    .dataframe thead th {\n",
       "        text-align: right;\n",
       "    }\n",
       "</style>\n",
       "<table border=\"1\" class=\"dataframe\">\n",
       "  <thead>\n",
       "    <tr style=\"text-align: right;\">\n",
       "      <th></th>\n",
       "      <th>Model</th>\n",
       "      <th>Weight_info</th>\n",
       "      <th>Text</th>\n",
       "    </tr>\n",
       "  </thead>\n",
       "  <tbody>\n",
       "    <tr>\n",
       "      <th>249</th>\n",
       "      <td>redmi 9c</td>\n",
       "      <td>No specific weight info found</td>\n",
       "      <td>**Hi everyone,**\\n\\nI’ve been using a Redmi 9C...</td>\n",
       "    </tr>\n",
       "    <tr>\n",
       "      <th>1192</th>\n",
       "      <td>redmi 9c</td>\n",
       "      <td>No specific weight info found</td>\n",
       "      <td>**Hi everyone,**\\n\\nI’ve been using a Redmi 9C...</td>\n",
       "    </tr>\n",
       "    <tr>\n",
       "      <th>3078</th>\n",
       "      <td>redmi 9c</td>\n",
       "      <td>No specific weight info found</td>\n",
       "      <td>**Hi everyone,**\\n\\nI’ve been using a Redmi 9C...</td>\n",
       "    </tr>\n",
       "    <tr>\n",
       "      <th>4021</th>\n",
       "      <td>redmi 9c</td>\n",
       "      <td>No specific weight info found</td>\n",
       "      <td>**Hi everyone,**\\n\\nI’ve been using a Redmi 9C...</td>\n",
       "    </tr>\n",
       "  </tbody>\n",
       "</table>\n",
       "</div>"
      ],
      "text/plain": [
       "         Model                    Weight_info  \\\n",
       "249   redmi 9c  No specific weight info found   \n",
       "1192  redmi 9c  No specific weight info found   \n",
       "3078  redmi 9c  No specific weight info found   \n",
       "4021  redmi 9c  No specific weight info found   \n",
       "\n",
       "                                                   Text  \n",
       "249   **Hi everyone,**\\n\\nI’ve been using a Redmi 9C...  \n",
       "1192  **Hi everyone,**\\n\\nI’ve been using a Redmi 9C...  \n",
       "3078  **Hi everyone,**\\n\\nI’ve been using a Redmi 9C...  \n",
       "4021  **Hi everyone,**\\n\\nI’ve been using a Redmi 9C...  "
      ]
     },
     "execution_count": 123,
     "metadata": {},
     "output_type": "execute_result"
    }
   ],
   "source": [
    "Weight"
   ]
  },
  {
   "cell_type": "code",
   "execution_count": 124,
   "id": "86bcc2e4-0cf5-4474-b61d-24200f950c99",
   "metadata": {},
   "outputs": [
    {
     "name": "stderr",
     "output_type": "stream",
     "text": [
      "C:\\Users\\DELL\\AppData\\Local\\Temp\\ipykernel_36412\\3003127899.py:1: SettingWithCopyWarning: \n",
      "A value is trying to be set on a copy of a slice from a DataFrame.\n",
      "Try using .loc[row_indexer,col_indexer] = value instead\n",
      "\n",
      "See the caveats in the documentation: https://pandas.pydata.org/pandas-docs/stable/user_guide/indexing.html#returning-a-view-versus-a-copy\n",
      "  Weight['Sentiment'] = Weight['Text'].apply(lambda x: get_sentiment_score(x))\n"
     ]
    }
   ],
   "source": [
    "Weight['Sentiment'] = Weight['Text'].apply(lambda x: get_sentiment_score(x))"
   ]
  },
  {
   "cell_type": "code",
   "execution_count": 125,
   "id": "1b8895f6-2215-4b56-a874-beace84f1b43",
   "metadata": {},
   "outputs": [
    {
     "name": "stdout",
     "output_type": "stream",
     "text": [
      "<class 'pandas.core.frame.DataFrame'>\n",
      "Index: 4 entries, 249 to 4021\n",
      "Data columns (total 4 columns):\n",
      " #   Column       Non-Null Count  Dtype  \n",
      "---  ------       --------------  -----  \n",
      " 0   Model        4 non-null      object \n",
      " 1   Weight_info  4 non-null      object \n",
      " 2   Text         4 non-null      object \n",
      " 3   Sentiment    4 non-null      float64\n",
      "dtypes: float64(1), object(3)\n",
      "memory usage: 160.0+ bytes\n"
     ]
    }
   ],
   "source": [
    "Weight.info()"
   ]
  },
  {
   "cell_type": "code",
   "execution_count": 126,
   "id": "94e90ff4-7b1b-4422-8a7e-aea9b4bbe85e",
   "metadata": {},
   "outputs": [
    {
     "data": {
      "text/html": [
       "<div>\n",
       "<style scoped>\n",
       "    .dataframe tbody tr th:only-of-type {\n",
       "        vertical-align: middle;\n",
       "    }\n",
       "\n",
       "    .dataframe tbody tr th {\n",
       "        vertical-align: top;\n",
       "    }\n",
       "\n",
       "    .dataframe thead th {\n",
       "        text-align: right;\n",
       "    }\n",
       "</style>\n",
       "<table border=\"1\" class=\"dataframe\">\n",
       "  <thead>\n",
       "    <tr style=\"text-align: right;\">\n",
       "      <th></th>\n",
       "      <th>Model</th>\n",
       "      <th>Sentiment</th>\n",
       "    </tr>\n",
       "  </thead>\n",
       "  <tbody>\n",
       "    <tr>\n",
       "      <th>0</th>\n",
       "      <td>redmi 9c</td>\n",
       "      <td>0.9713</td>\n",
       "    </tr>\n",
       "  </tbody>\n",
       "</table>\n",
       "</div>"
      ],
      "text/plain": [
       "      Model  Sentiment\n",
       "0  redmi 9c     0.9713"
      ]
     },
     "execution_count": 126,
     "metadata": {},
     "output_type": "execute_result"
    }
   ],
   "source": [
    "Weight_Modelwise = Weight.groupby('Model')['Sentiment'].mean().reset_index()\n",
    "Weight_Modelwise"
   ]
  },
  {
   "cell_type": "markdown",
   "id": "d4155847-a88a-414e-9fbc-d3165425be50",
   "metadata": {},
   "source": [
    "## for Biometrics"
   ]
  },
  {
   "cell_type": "code",
   "execution_count": 127,
   "id": "fce1715a-f2e1-4d62-9734-b16b37c68cfe",
   "metadata": {},
   "outputs": [],
   "source": [
    "biometrics_keywords = ['Face ID', 'fingerprint', 'biometric', 'sensor']"
   ]
  },
  {
   "cell_type": "code",
   "execution_count": 128,
   "id": "dda4abab-9955-4e1e-b2a9-f53130ed2a92",
   "metadata": {},
   "outputs": [],
   "source": [
    "def extract_biometrics_info(text):\n",
    "    if any(keyword in text.lower() for keyword in biometrics_keywords):\n",
    "        biometrics_info = re.findall(r'(Face ID|fingerprint|biometric|sensor)', text)\n",
    "        return biometrics_info if biometrics_info else \"No specific biometrics info found\"\n",
    "    return \"No biometrics-related info in the text\""
   ]
  },
  {
   "cell_type": "code",
   "execution_count": 129,
   "id": "b997df43-46db-47ba-b71c-f43627cd8976",
   "metadata": {},
   "outputs": [
    {
     "name": "stderr",
     "output_type": "stream",
     "text": [
      "C:\\Users\\DELL\\AppData\\Local\\Temp\\ipykernel_36412\\397189338.py:1: SettingWithCopyWarning: \n",
      "A value is trying to be set on a copy of a slice from a DataFrame.\n",
      "Try using .loc[row_indexer,col_indexer] = value instead\n",
      "\n",
      "See the caveats in the documentation: https://pandas.pydata.org/pandas-docs/stable/user_guide/indexing.html#returning-a-view-versus-a-copy\n",
      "  xiaomi.loc[:, 'Biometrics_info'] = xiaomi['Text'].apply(extract_biometrics_info)\n"
     ]
    }
   ],
   "source": [
    "xiaomi.loc[:, 'Biometrics_info'] = xiaomi['Text'].apply(extract_biometrics_info)"
   ]
  },
  {
   "cell_type": "code",
   "execution_count": 130,
   "id": "cbda8764-913f-45de-8ba2-ffedfa18cf8b",
   "metadata": {},
   "outputs": [],
   "source": [
    "biometrics_df = xiaomi[['Model' , 'Biometrics_info','Text']]"
   ]
  },
  {
   "cell_type": "code",
   "execution_count": 131,
   "id": "eec84f33-e78e-4f33-b904-b61a2c41150e",
   "metadata": {},
   "outputs": [
    {
     "data": {
      "text/html": [
       "<div>\n",
       "<style scoped>\n",
       "    .dataframe tbody tr th:only-of-type {\n",
       "        vertical-align: middle;\n",
       "    }\n",
       "\n",
       "    .dataframe tbody tr th {\n",
       "        vertical-align: top;\n",
       "    }\n",
       "\n",
       "    .dataframe thead th {\n",
       "        text-align: right;\n",
       "    }\n",
       "</style>\n",
       "<table border=\"1\" class=\"dataframe\">\n",
       "  <thead>\n",
       "    <tr style=\"text-align: right;\">\n",
       "      <th></th>\n",
       "      <th>Model</th>\n",
       "      <th>Biometrics_info</th>\n",
       "      <th>Text</th>\n",
       "    </tr>\n",
       "  </thead>\n",
       "  <tbody>\n",
       "    <tr>\n",
       "      <th>43</th>\n",
       "      <td>redmi 14t</td>\n",
       "      <td>No biometrics-related info in the text</td>\n",
       "      <td>Hello \\nMy Redmi 14T Pro Phone doesn't work an...</td>\n",
       "    </tr>\n",
       "    <tr>\n",
       "      <th>97</th>\n",
       "      <td>redmi note 12</td>\n",
       "      <td>No biometrics-related info in the text</td>\n",
       "      <td>I am using a Xiaomi Redmi Note 12 Pro, I haven...</td>\n",
       "    </tr>\n",
       "    <tr>\n",
       "      <th>104</th>\n",
       "      <td>redmi 13</td>\n",
       "      <td>No biometrics-related info in the text</td>\n",
       "      <td>Hi All\\n\\nJust got my Redmi 13 pro plus and I'...</td>\n",
       "    </tr>\n",
       "    <tr>\n",
       "      <th>121</th>\n",
       "      <td>redmi 13c</td>\n",
       "      <td>No biometrics-related info in the text</td>\n",
       "      <td>Yo! Why don't I have an update for my Redmi 13...</td>\n",
       "    </tr>\n",
       "    <tr>\n",
       "      <th>150</th>\n",
       "      <td>redmi 13c</td>\n",
       "      <td>No biometrics-related info in the text</td>\n",
       "      <td>Unable to open my notifications / mp on the ph...</td>\n",
       "    </tr>\n",
       "    <tr>\n",
       "      <th>...</th>\n",
       "      <td>...</td>\n",
       "      <td>...</td>\n",
       "      <td>...</td>\n",
       "    </tr>\n",
       "    <tr>\n",
       "      <th>5291</th>\n",
       "      <td>redmi 13</td>\n",
       "      <td>No biometrics-related info in the text</td>\n",
       "      <td>I got the \"Xiaomi hyper OS\" update (1.0.9.0), ...</td>\n",
       "    </tr>\n",
       "    <tr>\n",
       "      <th>5649</th>\n",
       "      <td>redmi note 13</td>\n",
       "      <td>No biometrics-related info in the text</td>\n",
       "      <td>Just setting the new Xiaomi Redmi Note 13 4G u...</td>\n",
       "    </tr>\n",
       "    <tr>\n",
       "      <th>6179</th>\n",
       "      <td>redmi 12</td>\n",
       "      <td>No biometrics-related info in the text</td>\n",
       "      <td>Sooooo....Xiaomi 11 Lite 5G NE Is receiving th...</td>\n",
       "    </tr>\n",
       "    <tr>\n",
       "      <th>7177</th>\n",
       "      <td>redmi 13</td>\n",
       "      <td>No biometrics-related info in the text</td>\n",
       "      <td>I got the \"Xiaomi hyper OS\" update (1.0.9.0), ...</td>\n",
       "    </tr>\n",
       "    <tr>\n",
       "      <th>8076</th>\n",
       "      <td>redmi 13c</td>\n",
       "      <td>No biometrics-related info in the text</td>\n",
       "      <td>So my mom is going to switch from a Samsung Ga...</td>\n",
       "    </tr>\n",
       "  </tbody>\n",
       "</table>\n",
       "<p>84 rows × 3 columns</p>\n",
       "</div>"
      ],
      "text/plain": [
       "              Model                         Biometrics_info  \\\n",
       "43        redmi 14t  No biometrics-related info in the text   \n",
       "97    redmi note 12  No biometrics-related info in the text   \n",
       "104        redmi 13  No biometrics-related info in the text   \n",
       "121       redmi 13c  No biometrics-related info in the text   \n",
       "150       redmi 13c  No biometrics-related info in the text   \n",
       "...             ...                                     ...   \n",
       "5291       redmi 13  No biometrics-related info in the text   \n",
       "5649  redmi note 13  No biometrics-related info in the text   \n",
       "6179       redmi 12  No biometrics-related info in the text   \n",
       "7177       redmi 13  No biometrics-related info in the text   \n",
       "8076      redmi 13c  No biometrics-related info in the text   \n",
       "\n",
       "                                                   Text  \n",
       "43    Hello \\nMy Redmi 14T Pro Phone doesn't work an...  \n",
       "97    I am using a Xiaomi Redmi Note 12 Pro, I haven...  \n",
       "104   Hi All\\n\\nJust got my Redmi 13 pro plus and I'...  \n",
       "121   Yo! Why don't I have an update for my Redmi 13...  \n",
       "150   Unable to open my notifications / mp on the ph...  \n",
       "...                                                 ...  \n",
       "5291  I got the \"Xiaomi hyper OS\" update (1.0.9.0), ...  \n",
       "5649  Just setting the new Xiaomi Redmi Note 13 4G u...  \n",
       "6179  Sooooo....Xiaomi 11 Lite 5G NE Is receiving th...  \n",
       "7177  I got the \"Xiaomi hyper OS\" update (1.0.9.0), ...  \n",
       "8076  So my mom is going to switch from a Samsung Ga...  \n",
       "\n",
       "[84 rows x 3 columns]"
      ]
     },
     "execution_count": 131,
     "metadata": {},
     "output_type": "execute_result"
    }
   ],
   "source": [
    "biometrics_df"
   ]
  },
  {
   "cell_type": "code",
   "execution_count": 132,
   "id": "4971f114-88ce-4ed3-b6c3-5f0408afb269",
   "metadata": {},
   "outputs": [
    {
     "data": {
      "text/plain": [
       "Biometrics_info\n",
       "No biometrics-related info in the text    84\n",
       "Name: count, dtype: int64"
      ]
     },
     "execution_count": 132,
     "metadata": {},
     "output_type": "execute_result"
    }
   ],
   "source": [
    "biometrics_df['Biometrics_info'].value_counts()"
   ]
  },
  {
   "cell_type": "markdown",
   "id": "ee578cb9-9194-415c-9dba-f95da5a16b77",
   "metadata": {},
   "source": [
    "## for Processor "
   ]
  },
  {
   "cell_type": "code",
   "execution_count": 133,
   "id": "f2877fed-80b5-4670-992a-dba838092818",
   "metadata": {},
   "outputs": [],
   "source": [
    "processor_keywords = ['processor', 'chipset', 'A\\d{1,2}', 'Snapdragon', 'Exynos', 'Apple', 'GPU', 'performance'] "
   ]
  },
  {
   "cell_type": "code",
   "execution_count": 134,
   "id": "19644b79-cf59-49ef-a72f-935533bc5dfc",
   "metadata": {},
   "outputs": [],
   "source": [
    "def extract_processor_info(text):\n",
    "    if any(keyword in text.lower() for keyword in processor_keywords):\n",
    "        processor_info = re.findall(r'(A\\d{1,2}|Snapdragon|Exynos|Apple|GPU|processor|performance)', text)\n",
    "        return processor_info if processor_info else \"No specific processor info found\"\n",
    "    return \"No processor-related info in the text\""
   ]
  },
  {
   "cell_type": "code",
   "execution_count": 135,
   "id": "5c5bb8bb-bf10-480f-94c7-b09a3f454d9a",
   "metadata": {},
   "outputs": [
    {
     "name": "stderr",
     "output_type": "stream",
     "text": [
      "C:\\Users\\DELL\\AppData\\Local\\Temp\\ipykernel_36412\\4150201650.py:1: SettingWithCopyWarning: \n",
      "A value is trying to be set on a copy of a slice from a DataFrame.\n",
      "Try using .loc[row_indexer,col_indexer] = value instead\n",
      "\n",
      "See the caveats in the documentation: https://pandas.pydata.org/pandas-docs/stable/user_guide/indexing.html#returning-a-view-versus-a-copy\n",
      "  xiaomi.loc[:, 'Processor_info'] = xiaomi['Text'].apply(extract_processor_info)\n"
     ]
    }
   ],
   "source": [
    "xiaomi.loc[:, 'Processor_info'] = xiaomi['Text'].apply(extract_processor_info)"
   ]
  },
  {
   "cell_type": "code",
   "execution_count": 136,
   "id": "d2c7b35e-3c95-4ffd-8570-f1aef4d20ddc",
   "metadata": {},
   "outputs": [],
   "source": [
    "processor_df = xiaomi[['Model' , 'Processor_info','Text']]"
   ]
  },
  {
   "cell_type": "code",
   "execution_count": 137,
   "id": "45fcc2c3-139d-42cf-9d54-8561f0f4ccc7",
   "metadata": {},
   "outputs": [
    {
     "data": {
      "text/html": [
       "<div>\n",
       "<style scoped>\n",
       "    .dataframe tbody tr th:only-of-type {\n",
       "        vertical-align: middle;\n",
       "    }\n",
       "\n",
       "    .dataframe tbody tr th {\n",
       "        vertical-align: top;\n",
       "    }\n",
       "\n",
       "    .dataframe thead th {\n",
       "        text-align: right;\n",
       "    }\n",
       "</style>\n",
       "<table border=\"1\" class=\"dataframe\">\n",
       "  <thead>\n",
       "    <tr style=\"text-align: right;\">\n",
       "      <th></th>\n",
       "      <th>Model</th>\n",
       "      <th>Processor_info</th>\n",
       "      <th>Text</th>\n",
       "    </tr>\n",
       "  </thead>\n",
       "  <tbody>\n",
       "    <tr>\n",
       "      <th>43</th>\n",
       "      <td>redmi 14t</td>\n",
       "      <td>No processor-related info in the text</td>\n",
       "      <td>Hello \\nMy Redmi 14T Pro Phone doesn't work an...</td>\n",
       "    </tr>\n",
       "    <tr>\n",
       "      <th>97</th>\n",
       "      <td>redmi note 12</td>\n",
       "      <td>No processor-related info in the text</td>\n",
       "      <td>I am using a Xiaomi Redmi Note 12 Pro, I haven...</td>\n",
       "    </tr>\n",
       "    <tr>\n",
       "      <th>104</th>\n",
       "      <td>redmi 13</td>\n",
       "      <td>No processor-related info in the text</td>\n",
       "      <td>Hi All\\n\\nJust got my Redmi 13 pro plus and I'...</td>\n",
       "    </tr>\n",
       "    <tr>\n",
       "      <th>121</th>\n",
       "      <td>redmi 13c</td>\n",
       "      <td>No processor-related info in the text</td>\n",
       "      <td>Yo! Why don't I have an update for my Redmi 13...</td>\n",
       "    </tr>\n",
       "    <tr>\n",
       "      <th>150</th>\n",
       "      <td>redmi 13c</td>\n",
       "      <td>No processor-related info in the text</td>\n",
       "      <td>Unable to open my notifications / mp on the ph...</td>\n",
       "    </tr>\n",
       "    <tr>\n",
       "      <th>...</th>\n",
       "      <td>...</td>\n",
       "      <td>...</td>\n",
       "      <td>...</td>\n",
       "    </tr>\n",
       "    <tr>\n",
       "      <th>5291</th>\n",
       "      <td>redmi 13</td>\n",
       "      <td>No processor-related info in the text</td>\n",
       "      <td>I got the \"Xiaomi hyper OS\" update (1.0.9.0), ...</td>\n",
       "    </tr>\n",
       "    <tr>\n",
       "      <th>5649</th>\n",
       "      <td>redmi note 13</td>\n",
       "      <td>No processor-related info in the text</td>\n",
       "      <td>Just setting the new Xiaomi Redmi Note 13 4G u...</td>\n",
       "    </tr>\n",
       "    <tr>\n",
       "      <th>6179</th>\n",
       "      <td>redmi 12</td>\n",
       "      <td>No processor-related info in the text</td>\n",
       "      <td>Sooooo....Xiaomi 11 Lite 5G NE Is receiving th...</td>\n",
       "    </tr>\n",
       "    <tr>\n",
       "      <th>7177</th>\n",
       "      <td>redmi 13</td>\n",
       "      <td>No processor-related info in the text</td>\n",
       "      <td>I got the \"Xiaomi hyper OS\" update (1.0.9.0), ...</td>\n",
       "    </tr>\n",
       "    <tr>\n",
       "      <th>8076</th>\n",
       "      <td>redmi 13c</td>\n",
       "      <td>No processor-related info in the text</td>\n",
       "      <td>So my mom is going to switch from a Samsung Ga...</td>\n",
       "    </tr>\n",
       "  </tbody>\n",
       "</table>\n",
       "<p>84 rows × 3 columns</p>\n",
       "</div>"
      ],
      "text/plain": [
       "              Model                         Processor_info  \\\n",
       "43        redmi 14t  No processor-related info in the text   \n",
       "97    redmi note 12  No processor-related info in the text   \n",
       "104        redmi 13  No processor-related info in the text   \n",
       "121       redmi 13c  No processor-related info in the text   \n",
       "150       redmi 13c  No processor-related info in the text   \n",
       "...             ...                                    ...   \n",
       "5291       redmi 13  No processor-related info in the text   \n",
       "5649  redmi note 13  No processor-related info in the text   \n",
       "6179       redmi 12  No processor-related info in the text   \n",
       "7177       redmi 13  No processor-related info in the text   \n",
       "8076      redmi 13c  No processor-related info in the text   \n",
       "\n",
       "                                                   Text  \n",
       "43    Hello \\nMy Redmi 14T Pro Phone doesn't work an...  \n",
       "97    I am using a Xiaomi Redmi Note 12 Pro, I haven...  \n",
       "104   Hi All\\n\\nJust got my Redmi 13 pro plus and I'...  \n",
       "121   Yo! Why don't I have an update for my Redmi 13...  \n",
       "150   Unable to open my notifications / mp on the ph...  \n",
       "...                                                 ...  \n",
       "5291  I got the \"Xiaomi hyper OS\" update (1.0.9.0), ...  \n",
       "5649  Just setting the new Xiaomi Redmi Note 13 4G u...  \n",
       "6179  Sooooo....Xiaomi 11 Lite 5G NE Is receiving th...  \n",
       "7177  I got the \"Xiaomi hyper OS\" update (1.0.9.0), ...  \n",
       "8076  So my mom is going to switch from a Samsung Ga...  \n",
       "\n",
       "[84 rows x 3 columns]"
      ]
     },
     "execution_count": 137,
     "metadata": {},
     "output_type": "execute_result"
    }
   ],
   "source": [
    "processor_df"
   ]
  },
  {
   "cell_type": "code",
   "execution_count": 138,
   "id": "8c721eb9-4d88-45e5-aafe-0729e0b76dde",
   "metadata": {},
   "outputs": [
    {
     "data": {
      "text/plain": [
       "Processor_info\n",
       "No processor-related info in the text            78\n",
       "[performance, performance]                        4\n",
       "[performance]                                     1\n",
       "[processor, processor, Snapdragon, processor]     1\n",
       "Name: count, dtype: int64"
      ]
     },
     "execution_count": 138,
     "metadata": {},
     "output_type": "execute_result"
    }
   ],
   "source": [
    "processor_df['Processor_info'].value_counts()"
   ]
  },
  {
   "cell_type": "code",
   "execution_count": 139,
   "id": "69ee7352-4d2f-47b1-bdf3-1ad32e18b9f3",
   "metadata": {},
   "outputs": [],
   "source": [
    "Processor = processor_df[~processor_df['Processor_info'].isin([\"No processor-related info in the text\"])]"
   ]
  },
  {
   "cell_type": "code",
   "execution_count": 140,
   "id": "ea5ed6a8-e7fd-4771-8068-93f3ba3418f3",
   "metadata": {},
   "outputs": [
    {
     "data": {
      "text/html": [
       "<div>\n",
       "<style scoped>\n",
       "    .dataframe tbody tr th:only-of-type {\n",
       "        vertical-align: middle;\n",
       "    }\n",
       "\n",
       "    .dataframe tbody tr th {\n",
       "        vertical-align: top;\n",
       "    }\n",
       "\n",
       "    .dataframe thead th {\n",
       "        text-align: right;\n",
       "    }\n",
       "</style>\n",
       "<table border=\"1\" class=\"dataframe\">\n",
       "  <thead>\n",
       "    <tr style=\"text-align: right;\">\n",
       "      <th></th>\n",
       "      <th>Model</th>\n",
       "      <th>Processor_info</th>\n",
       "      <th>Text</th>\n",
       "    </tr>\n",
       "  </thead>\n",
       "  <tbody>\n",
       "    <tr>\n",
       "      <th>249</th>\n",
       "      <td>redmi 9c</td>\n",
       "      <td>[performance, performance]</td>\n",
       "      <td>**Hi everyone,**\\n\\nI’ve been using a Redmi 9C...</td>\n",
       "    </tr>\n",
       "    <tr>\n",
       "      <th>558</th>\n",
       "      <td>redmi note 11</td>\n",
       "      <td>[performance]</td>\n",
       "      <td>Hey guys, i've come to two options and i want ...</td>\n",
       "    </tr>\n",
       "    <tr>\n",
       "      <th>940</th>\n",
       "      <td>redmi note 8</td>\n",
       "      <td>[processor, processor, Snapdragon, processor]</td>\n",
       "      <td>Hello there. I have a Xiaomi Redmi Note 8T pho...</td>\n",
       "    </tr>\n",
       "    <tr>\n",
       "      <th>1192</th>\n",
       "      <td>redmi 9c</td>\n",
       "      <td>[performance, performance]</td>\n",
       "      <td>**Hi everyone,**\\n\\nI’ve been using a Redmi 9C...</td>\n",
       "    </tr>\n",
       "    <tr>\n",
       "      <th>3078</th>\n",
       "      <td>redmi 9c</td>\n",
       "      <td>[performance, performance]</td>\n",
       "      <td>**Hi everyone,**\\n\\nI’ve been using a Redmi 9C...</td>\n",
       "    </tr>\n",
       "    <tr>\n",
       "      <th>4021</th>\n",
       "      <td>redmi 9c</td>\n",
       "      <td>[performance, performance]</td>\n",
       "      <td>**Hi everyone,**\\n\\nI’ve been using a Redmi 9C...</td>\n",
       "    </tr>\n",
       "  </tbody>\n",
       "</table>\n",
       "</div>"
      ],
      "text/plain": [
       "              Model                                 Processor_info  \\\n",
       "249        redmi 9c                     [performance, performance]   \n",
       "558   redmi note 11                                  [performance]   \n",
       "940    redmi note 8  [processor, processor, Snapdragon, processor]   \n",
       "1192       redmi 9c                     [performance, performance]   \n",
       "3078       redmi 9c                     [performance, performance]   \n",
       "4021       redmi 9c                     [performance, performance]   \n",
       "\n",
       "                                                   Text  \n",
       "249   **Hi everyone,**\\n\\nI’ve been using a Redmi 9C...  \n",
       "558   Hey guys, i've come to two options and i want ...  \n",
       "940   Hello there. I have a Xiaomi Redmi Note 8T pho...  \n",
       "1192  **Hi everyone,**\\n\\nI’ve been using a Redmi 9C...  \n",
       "3078  **Hi everyone,**\\n\\nI’ve been using a Redmi 9C...  \n",
       "4021  **Hi everyone,**\\n\\nI’ve been using a Redmi 9C...  "
      ]
     },
     "execution_count": 140,
     "metadata": {},
     "output_type": "execute_result"
    }
   ],
   "source": [
    "Processor"
   ]
  },
  {
   "cell_type": "code",
   "execution_count": 141,
   "id": "50a70505-9997-4b4c-b47e-e3db805771a1",
   "metadata": {},
   "outputs": [
    {
     "name": "stderr",
     "output_type": "stream",
     "text": [
      "C:\\Users\\DELL\\AppData\\Local\\Temp\\ipykernel_36412\\823161481.py:1: SettingWithCopyWarning: \n",
      "A value is trying to be set on a copy of a slice from a DataFrame.\n",
      "Try using .loc[row_indexer,col_indexer] = value instead\n",
      "\n",
      "See the caveats in the documentation: https://pandas.pydata.org/pandas-docs/stable/user_guide/indexing.html#returning-a-view-versus-a-copy\n",
      "  Processor['Sentiment'] = Processor['Text'].apply(lambda x: get_sentiment_score(x))\n"
     ]
    }
   ],
   "source": [
    "Processor['Sentiment'] = Processor['Text'].apply(lambda x: get_sentiment_score(x))"
   ]
  },
  {
   "cell_type": "code",
   "execution_count": 142,
   "id": "2c94e8b1-627a-4bb8-a1cb-a34a703909e1",
   "metadata": {},
   "outputs": [
    {
     "data": {
      "text/html": [
       "<div>\n",
       "<style scoped>\n",
       "    .dataframe tbody tr th:only-of-type {\n",
       "        vertical-align: middle;\n",
       "    }\n",
       "\n",
       "    .dataframe tbody tr th {\n",
       "        vertical-align: top;\n",
       "    }\n",
       "\n",
       "    .dataframe thead th {\n",
       "        text-align: right;\n",
       "    }\n",
       "</style>\n",
       "<table border=\"1\" class=\"dataframe\">\n",
       "  <thead>\n",
       "    <tr style=\"text-align: right;\">\n",
       "      <th></th>\n",
       "      <th>Model</th>\n",
       "      <th>Sentiment</th>\n",
       "    </tr>\n",
       "  </thead>\n",
       "  <tbody>\n",
       "    <tr>\n",
       "      <th>0</th>\n",
       "      <td>redmi 9c</td>\n",
       "      <td>0.9713</td>\n",
       "    </tr>\n",
       "    <tr>\n",
       "      <th>1</th>\n",
       "      <td>redmi note 11</td>\n",
       "      <td>0.7026</td>\n",
       "    </tr>\n",
       "    <tr>\n",
       "      <th>2</th>\n",
       "      <td>redmi note 8</td>\n",
       "      <td>-0.2672</td>\n",
       "    </tr>\n",
       "  </tbody>\n",
       "</table>\n",
       "</div>"
      ],
      "text/plain": [
       "           Model  Sentiment\n",
       "0       redmi 9c     0.9713\n",
       "1  redmi note 11     0.7026\n",
       "2   redmi note 8    -0.2672"
      ]
     },
     "execution_count": 142,
     "metadata": {},
     "output_type": "execute_result"
    }
   ],
   "source": [
    "Speed_Modelwise = Processor.groupby('Model')['Sentiment'].mean().reset_index()\n",
    "Speed_Modelwise"
   ]
  },
  {
   "cell_type": "code",
   "execution_count": 143,
   "id": "1f8ccdc4-824e-4af7-92b6-1a4df718ef34",
   "metadata": {},
   "outputs": [
    {
     "data": {
      "image/png": "[encoded data removed]",
      "text/plain": [
       "<Figure size 1200x600 with 1 Axes>"
      ]
     },
     "metadata": {},
     "output_type": "display_data"
    }
   ],
   "source": [
    "plt.figure(figsize=(12, 6))\n",
    "plt.bar(Speed_Modelwise['Model'], Speed_Modelwise['Sentiment'], color='skyblue')\n",
    "plt.xlabel('xiaomi Model' , size = 14)\n",
    "plt.ylabel('Average Sentiment Score', size =14)\n",
    "plt.xticks(rotation=0)\n",
    "plt.show()"
   ]
  },
  {
   "cell_type": "markdown",
   "id": "b9b307a8-6db8-48e6-864e-86b7ebb9b73f",
   "metadata": {},
   "source": [
    "# About RAM"
   ]
  },
  {
   "cell_type": "code",
   "execution_count": 144,
   "id": "a29af036-c059-4410-8ef0-40e4c60d0bd2",
   "metadata": {},
   "outputs": [],
   "source": [
    "ram_keywords = ['RAM', 'memory', 'GB', 'gigabytes', 'DDR[4-5]']"
   ]
  },
  {
   "cell_type": "code",
   "execution_count": 145,
   "id": "e745d771-89ba-47c4-85ed-d553d0c15d24",
   "metadata": {},
   "outputs": [],
   "source": [
    "def extract_ram_info(text):\n",
    "    if any(keyword in text.lower() for keyword in ram_keywords):\n",
    "        ram_info = re.findall(r'(\\d{1,4})\\s*(GB|gigabytes|DDR[4-5])', text)\n",
    "        return ram_info if ram_info else \"No specific RAM info found\"\n",
    "    return \"No RAM-related info in the text\""
   ]
  },
  {
   "cell_type": "code",
   "execution_count": 146,
   "id": "ed287f8e-a46f-43b1-b42c-c95da9feb54e",
   "metadata": {},
   "outputs": [
    {
     "name": "stderr",
     "output_type": "stream",
     "text": [
      "C:\\Users\\DELL\\AppData\\Local\\Temp\\ipykernel_36412\\2232089693.py:1: SettingWithCopyWarning: \n",
      "A value is trying to be set on a copy of a slice from a DataFrame.\n",
      "Try using .loc[row_indexer,col_indexer] = value instead\n",
      "\n",
      "See the caveats in the documentation: https://pandas.pydata.org/pandas-docs/stable/user_guide/indexing.html#returning-a-view-versus-a-copy\n",
      "  xiaomi.loc[:, 'RAM_info'] = xiaomi['Text'].apply(extract_ram_info)\n"
     ]
    }
   ],
   "source": [
    "xiaomi.loc[:, 'RAM_info'] = xiaomi['Text'].apply(extract_ram_info)"
   ]
  },
  {
   "cell_type": "code",
   "execution_count": 147,
   "id": "0cb33748-fdd1-47c9-a1ef-eef0d4efbac5",
   "metadata": {},
   "outputs": [],
   "source": [
    "RAM_df = xiaomi[['Model' , 'RAM_info','Text']]"
   ]
  },
  {
   "cell_type": "code",
   "execution_count": 148,
   "id": "7de01e11-7619-42d9-8fc6-7eaa562f486a",
   "metadata": {},
   "outputs": [
    {
     "data": {
      "text/html": [
       "<div>\n",
       "<style scoped>\n",
       "    .dataframe tbody tr th:only-of-type {\n",
       "        vertical-align: middle;\n",
       "    }\n",
       "\n",
       "    .dataframe tbody tr th {\n",
       "        vertical-align: top;\n",
       "    }\n",
       "\n",
       "    .dataframe thead th {\n",
       "        text-align: right;\n",
       "    }\n",
       "</style>\n",
       "<table border=\"1\" class=\"dataframe\">\n",
       "  <thead>\n",
       "    <tr style=\"text-align: right;\">\n",
       "      <th></th>\n",
       "      <th>Model</th>\n",
       "      <th>RAM_info</th>\n",
       "      <th>Text</th>\n",
       "    </tr>\n",
       "  </thead>\n",
       "  <tbody>\n",
       "    <tr>\n",
       "      <th>43</th>\n",
       "      <td>redmi 14t</td>\n",
       "      <td>No RAM-related info in the text</td>\n",
       "      <td>Hello \\nMy Redmi 14T Pro Phone doesn't work an...</td>\n",
       "    </tr>\n",
       "    <tr>\n",
       "      <th>97</th>\n",
       "      <td>redmi note 12</td>\n",
       "      <td>No RAM-related info in the text</td>\n",
       "      <td>I am using a Xiaomi Redmi Note 12 Pro, I haven...</td>\n",
       "    </tr>\n",
       "    <tr>\n",
       "      <th>104</th>\n",
       "      <td>redmi 13</td>\n",
       "      <td>No RAM-related info in the text</td>\n",
       "      <td>Hi All\\n\\nJust got my Redmi 13 pro plus and I'...</td>\n",
       "    </tr>\n",
       "    <tr>\n",
       "      <th>121</th>\n",
       "      <td>redmi 13c</td>\n",
       "      <td>No RAM-related info in the text</td>\n",
       "      <td>Yo! Why don't I have an update for my Redmi 13...</td>\n",
       "    </tr>\n",
       "    <tr>\n",
       "      <th>150</th>\n",
       "      <td>redmi 13c</td>\n",
       "      <td>No RAM-related info in the text</td>\n",
       "      <td>Unable to open my notifications / mp on the ph...</td>\n",
       "    </tr>\n",
       "    <tr>\n",
       "      <th>...</th>\n",
       "      <td>...</td>\n",
       "      <td>...</td>\n",
       "      <td>...</td>\n",
       "    </tr>\n",
       "    <tr>\n",
       "      <th>5291</th>\n",
       "      <td>redmi 13</td>\n",
       "      <td>No RAM-related info in the text</td>\n",
       "      <td>I got the \"Xiaomi hyper OS\" update (1.0.9.0), ...</td>\n",
       "    </tr>\n",
       "    <tr>\n",
       "      <th>5649</th>\n",
       "      <td>redmi note 13</td>\n",
       "      <td>No RAM-related info in the text</td>\n",
       "      <td>Just setting the new Xiaomi Redmi Note 13 4G u...</td>\n",
       "    </tr>\n",
       "    <tr>\n",
       "      <th>6179</th>\n",
       "      <td>redmi 12</td>\n",
       "      <td>No RAM-related info in the text</td>\n",
       "      <td>Sooooo....Xiaomi 11 Lite 5G NE Is receiving th...</td>\n",
       "    </tr>\n",
       "    <tr>\n",
       "      <th>7177</th>\n",
       "      <td>redmi 13</td>\n",
       "      <td>No RAM-related info in the text</td>\n",
       "      <td>I got the \"Xiaomi hyper OS\" update (1.0.9.0), ...</td>\n",
       "    </tr>\n",
       "    <tr>\n",
       "      <th>8076</th>\n",
       "      <td>redmi 13c</td>\n",
       "      <td>No RAM-related info in the text</td>\n",
       "      <td>So my mom is going to switch from a Samsung Ga...</td>\n",
       "    </tr>\n",
       "  </tbody>\n",
       "</table>\n",
       "<p>84 rows × 3 columns</p>\n",
       "</div>"
      ],
      "text/plain": [
       "              Model                         RAM_info  \\\n",
       "43        redmi 14t  No RAM-related info in the text   \n",
       "97    redmi note 12  No RAM-related info in the text   \n",
       "104        redmi 13  No RAM-related info in the text   \n",
       "121       redmi 13c  No RAM-related info in the text   \n",
       "150       redmi 13c  No RAM-related info in the text   \n",
       "...             ...                              ...   \n",
       "5291       redmi 13  No RAM-related info in the text   \n",
       "5649  redmi note 13  No RAM-related info in the text   \n",
       "6179       redmi 12  No RAM-related info in the text   \n",
       "7177       redmi 13  No RAM-related info in the text   \n",
       "8076      redmi 13c  No RAM-related info in the text   \n",
       "\n",
       "                                                   Text  \n",
       "43    Hello \\nMy Redmi 14T Pro Phone doesn't work an...  \n",
       "97    I am using a Xiaomi Redmi Note 12 Pro, I haven...  \n",
       "104   Hi All\\n\\nJust got my Redmi 13 pro plus and I'...  \n",
       "121   Yo! Why don't I have an update for my Redmi 13...  \n",
       "150   Unable to open my notifications / mp on the ph...  \n",
       "...                                                 ...  \n",
       "5291  I got the \"Xiaomi hyper OS\" update (1.0.9.0), ...  \n",
       "5649  Just setting the new Xiaomi Redmi Note 13 4G u...  \n",
       "6179  Sooooo....Xiaomi 11 Lite 5G NE Is receiving th...  \n",
       "7177  I got the \"Xiaomi hyper OS\" update (1.0.9.0), ...  \n",
       "8076  So my mom is going to switch from a Samsung Ga...  \n",
       "\n",
       "[84 rows x 3 columns]"
      ]
     },
     "execution_count": 148,
     "metadata": {},
     "output_type": "execute_result"
    }
   ],
   "source": [
    "RAM_df"
   ]
  },
  {
   "cell_type": "code",
   "execution_count": 149,
   "id": "3c984803-d548-4d87-b4f2-0b1709f14718",
   "metadata": {},
   "outputs": [
    {
     "data": {
      "text/plain": [
       "RAM_info\n",
       "No RAM-related info in the text    84\n",
       "Name: count, dtype: int64"
      ]
     },
     "execution_count": 149,
     "metadata": {},
     "output_type": "execute_result"
    }
   ],
   "source": [
    "RAM_df['RAM_info'].value_counts()"
   ]
  },
  {
   "cell_type": "markdown",
   "id": "49344b33-c6d8-4c86-b811-fb460e41360b",
   "metadata": {},
   "source": [
    "## for Audio Quality"
   ]
  },
  {
   "cell_type": "code",
   "execution_count": 150,
   "id": "74fb5113-def4-45a5-86d3-4c454d236336",
   "metadata": {},
   "outputs": [],
   "source": [
    "audio_keywords = ['stereo speakers', 'audio quality', 'Dolby', 'sound', 'stereo', 'Hi-Fi', 'Dolby Atmos', 'surround sound']"
   ]
  },
  {
   "cell_type": "code",
   "execution_count": 151,
   "id": "869b435d-9399-4e71-96e8-48806c00ab83",
   "metadata": {},
   "outputs": [],
   "source": [
    "def extract_audio_info(text):\n",
    "    if any(keyword in text.lower() for keyword in audio_keywords):\n",
    "        audio_info = re.findall(r'(stereo speakers|audio quality|Dolby|sound|stereo|Hi-Fi|Dolby Atmos|surround sound)', text)\n",
    "        return audio_info if audio_info else \"No specific audio info found\"\n",
    "    return \"No audio-related info in the text\""
   ]
  },
  {
   "cell_type": "code",
   "execution_count": 152,
   "id": "4fbb5e08-fa58-4e30-ab14-095c67e24e9e",
   "metadata": {},
   "outputs": [
    {
     "name": "stderr",
     "output_type": "stream",
     "text": [
      "C:\\Users\\DELL\\AppData\\Local\\Temp\\ipykernel_36412\\799689498.py:1: SettingWithCopyWarning: \n",
      "A value is trying to be set on a copy of a slice from a DataFrame.\n",
      "Try using .loc[row_indexer,col_indexer] = value instead\n",
      "\n",
      "See the caveats in the documentation: https://pandas.pydata.org/pandas-docs/stable/user_guide/indexing.html#returning-a-view-versus-a-copy\n",
      "  xiaomi.loc[:, 'Audio_info'] = xiaomi['Text'].apply(extract_audio_info)\n"
     ]
    }
   ],
   "source": [
    "xiaomi.loc[:, 'Audio_info'] = xiaomi['Text'].apply(extract_audio_info)"
   ]
  },
  {
   "cell_type": "code",
   "execution_count": 153,
   "id": "49dad576-469f-4524-a138-e7e4ae43b2d7",
   "metadata": {},
   "outputs": [],
   "source": [
    "audio_df = xiaomi[['Model' , 'Audio_info','Text']]"
   ]
  },
  {
   "cell_type": "code",
   "execution_count": 154,
   "id": "829f556d-c710-40ca-b1b1-d68814b404bc",
   "metadata": {},
   "outputs": [
    {
     "data": {
      "text/html": [
       "<div>\n",
       "<style scoped>\n",
       "    .dataframe tbody tr th:only-of-type {\n",
       "        vertical-align: middle;\n",
       "    }\n",
       "\n",
       "    .dataframe tbody tr th {\n",
       "        vertical-align: top;\n",
       "    }\n",
       "\n",
       "    .dataframe thead th {\n",
       "        text-align: right;\n",
       "    }\n",
       "</style>\n",
       "<table border=\"1\" class=\"dataframe\">\n",
       "  <thead>\n",
       "    <tr style=\"text-align: right;\">\n",
       "      <th></th>\n",
       "      <th>Model</th>\n",
       "      <th>Audio_info</th>\n",
       "      <th>Text</th>\n",
       "    </tr>\n",
       "  </thead>\n",
       "  <tbody>\n",
       "    <tr>\n",
       "      <th>43</th>\n",
       "      <td>redmi 14t</td>\n",
       "      <td>No audio-related info in the text</td>\n",
       "      <td>Hello \\nMy Redmi 14T Pro Phone doesn't work an...</td>\n",
       "    </tr>\n",
       "    <tr>\n",
       "      <th>97</th>\n",
       "      <td>redmi note 12</td>\n",
       "      <td>No audio-related info in the text</td>\n",
       "      <td>I am using a Xiaomi Redmi Note 12 Pro, I haven...</td>\n",
       "    </tr>\n",
       "    <tr>\n",
       "      <th>104</th>\n",
       "      <td>redmi 13</td>\n",
       "      <td>No audio-related info in the text</td>\n",
       "      <td>Hi All\\n\\nJust got my Redmi 13 pro plus and I'...</td>\n",
       "    </tr>\n",
       "    <tr>\n",
       "      <th>121</th>\n",
       "      <td>redmi 13c</td>\n",
       "      <td>No audio-related info in the text</td>\n",
       "      <td>Yo! Why don't I have an update for my Redmi 13...</td>\n",
       "    </tr>\n",
       "    <tr>\n",
       "      <th>150</th>\n",
       "      <td>redmi 13c</td>\n",
       "      <td>No audio-related info in the text</td>\n",
       "      <td>Unable to open my notifications / mp on the ph...</td>\n",
       "    </tr>\n",
       "    <tr>\n",
       "      <th>...</th>\n",
       "      <td>...</td>\n",
       "      <td>...</td>\n",
       "      <td>...</td>\n",
       "    </tr>\n",
       "    <tr>\n",
       "      <th>5291</th>\n",
       "      <td>redmi 13</td>\n",
       "      <td>No audio-related info in the text</td>\n",
       "      <td>I got the \"Xiaomi hyper OS\" update (1.0.9.0), ...</td>\n",
       "    </tr>\n",
       "    <tr>\n",
       "      <th>5649</th>\n",
       "      <td>redmi note 13</td>\n",
       "      <td>No audio-related info in the text</td>\n",
       "      <td>Just setting the new Xiaomi Redmi Note 13 4G u...</td>\n",
       "    </tr>\n",
       "    <tr>\n",
       "      <th>6179</th>\n",
       "      <td>redmi 12</td>\n",
       "      <td>No audio-related info in the text</td>\n",
       "      <td>Sooooo....Xiaomi 11 Lite 5G NE Is receiving th...</td>\n",
       "    </tr>\n",
       "    <tr>\n",
       "      <th>7177</th>\n",
       "      <td>redmi 13</td>\n",
       "      <td>No audio-related info in the text</td>\n",
       "      <td>I got the \"Xiaomi hyper OS\" update (1.0.9.0), ...</td>\n",
       "    </tr>\n",
       "    <tr>\n",
       "      <th>8076</th>\n",
       "      <td>redmi 13c</td>\n",
       "      <td>No audio-related info in the text</td>\n",
       "      <td>So my mom is going to switch from a Samsung Ga...</td>\n",
       "    </tr>\n",
       "  </tbody>\n",
       "</table>\n",
       "<p>84 rows × 3 columns</p>\n",
       "</div>"
      ],
      "text/plain": [
       "              Model                         Audio_info  \\\n",
       "43        redmi 14t  No audio-related info in the text   \n",
       "97    redmi note 12  No audio-related info in the text   \n",
       "104        redmi 13  No audio-related info in the text   \n",
       "121       redmi 13c  No audio-related info in the text   \n",
       "150       redmi 13c  No audio-related info in the text   \n",
       "...             ...                                ...   \n",
       "5291       redmi 13  No audio-related info in the text   \n",
       "5649  redmi note 13  No audio-related info in the text   \n",
       "6179       redmi 12  No audio-related info in the text   \n",
       "7177       redmi 13  No audio-related info in the text   \n",
       "8076      redmi 13c  No audio-related info in the text   \n",
       "\n",
       "                                                   Text  \n",
       "43    Hello \\nMy Redmi 14T Pro Phone doesn't work an...  \n",
       "97    I am using a Xiaomi Redmi Note 12 Pro, I haven...  \n",
       "104   Hi All\\n\\nJust got my Redmi 13 pro plus and I'...  \n",
       "121   Yo! Why don't I have an update for my Redmi 13...  \n",
       "150   Unable to open my notifications / mp on the ph...  \n",
       "...                                                 ...  \n",
       "5291  I got the \"Xiaomi hyper OS\" update (1.0.9.0), ...  \n",
       "5649  Just setting the new Xiaomi Redmi Note 13 4G u...  \n",
       "6179  Sooooo....Xiaomi 11 Lite 5G NE Is receiving th...  \n",
       "7177  I got the \"Xiaomi hyper OS\" update (1.0.9.0), ...  \n",
       "8076  So my mom is going to switch from a Samsung Ga...  \n",
       "\n",
       "[84 rows x 3 columns]"
      ]
     },
     "execution_count": 154,
     "metadata": {},
     "output_type": "execute_result"
    }
   ],
   "source": [
    "audio_df"
   ]
  },
  {
   "cell_type": "code",
   "execution_count": 155,
   "id": "20053c44-d840-4e77-af76-ce1fd71cbf44",
   "metadata": {},
   "outputs": [
    {
     "data": {
      "text/plain": [
       "Audio_info\n",
       "No audio-related info in the text    78\n",
       "[sound]                               5\n",
       "No specific audio info found          1\n",
       "Name: count, dtype: int64"
      ]
     },
     "execution_count": 155,
     "metadata": {},
     "output_type": "execute_result"
    }
   ],
   "source": [
    "audio_df['Audio_info'].value_counts()"
   ]
  },
  {
   "cell_type": "code",
   "execution_count": 156,
   "id": "3c39110f-677f-43d1-bd83-58a0b1cd5eb5",
   "metadata": {},
   "outputs": [],
   "source": [
    "Audio = xiaomi[~xiaomi['Audio_info'].isin([\"No audio-related info in the text\"])]"
   ]
  },
  {
   "cell_type": "code",
   "execution_count": 157,
   "id": "745debb6-554a-428f-becf-2791c54f2a97",
   "metadata": {},
   "outputs": [
    {
     "data": {
      "text/html": [
       "<div>\n",
       "<style scoped>\n",
       "    .dataframe tbody tr th:only-of-type {\n",
       "        vertical-align: middle;\n",
       "    }\n",
       "\n",
       "    .dataframe tbody tr th {\n",
       "        vertical-align: top;\n",
       "    }\n",
       "\n",
       "    .dataframe thead th {\n",
       "        text-align: right;\n",
       "    }\n",
       "</style>\n",
       "<table border=\"1\" class=\"dataframe\">\n",
       "  <thead>\n",
       "    <tr style=\"text-align: right;\">\n",
       "      <th></th>\n",
       "      <th>Title</th>\n",
       "      <th>Upvotes</th>\n",
       "      <th>URL</th>\n",
       "      <th>Created</th>\n",
       "      <th>Text</th>\n",
       "      <th>Model</th>\n",
       "      <th>camera_info</th>\n",
       "      <th>battery_info</th>\n",
       "      <th>Storage_info</th>\n",
       "      <th>Software_info</th>\n",
       "      <th>Style_info</th>\n",
       "      <th>display_info</th>\n",
       "      <th>Resistance_info</th>\n",
       "      <th>Charging_info</th>\n",
       "      <th>Weight_info</th>\n",
       "      <th>Biometrics_info</th>\n",
       "      <th>Processor_info</th>\n",
       "      <th>RAM_info</th>\n",
       "      <th>Audio_info</th>\n",
       "    </tr>\n",
       "  </thead>\n",
       "  <tbody>\n",
       "    <tr>\n",
       "      <th>456</th>\n",
       "      <td>Phone vibration randomly when charging</td>\n",
       "      <td>3</td>\n",
       "      <td>https://www.reddit.com/r/Xiaomi/comments/1hgxp...</td>\n",
       "      <td>1734512558</td>\n",
       "      <td>Hi All,\\n\\nThis is driving me insane, but when...</td>\n",
       "      <td>redmi note 13</td>\n",
       "      <td>No camera-related info in the text</td>\n",
       "      <td>No specific battery info found</td>\n",
       "      <td>No storage-related info in the text</td>\n",
       "      <td>No software-related info in the text</td>\n",
       "      <td>No style-related info in the text</td>\n",
       "      <td>No display-related info in the text</td>\n",
       "      <td>No water resistance-related info in the text</td>\n",
       "      <td>No specific charging info found</td>\n",
       "      <td>No weight-related info in the text</td>\n",
       "      <td>No biometrics-related info in the text</td>\n",
       "      <td>No processor-related info in the text</td>\n",
       "      <td>No RAM-related info in the text</td>\n",
       "      <td>[sound]</td>\n",
       "    </tr>\n",
       "    <tr>\n",
       "      <th>905</th>\n",
       "      <td>Earbuds Recommendation - Soundpeats Free 2 Cla...</td>\n",
       "      <td>1</td>\n",
       "      <td>https://www.reddit.com/r/Xiaomi/comments/1gzaz...</td>\n",
       "      <td>1732510225</td>\n",
       "      <td>Hi everyone,\\nI’m planning to buy earbuds and ...</td>\n",
       "      <td>redmi 6</td>\n",
       "      <td>No camera-related info in the text</td>\n",
       "      <td>[(350, mAh), (600, mAh)]</td>\n",
       "      <td>No storage-related info in the text</td>\n",
       "      <td>No software-related info in the text</td>\n",
       "      <td>No style-related info in the text</td>\n",
       "      <td>No display-related info in the text</td>\n",
       "      <td>No water resistance-related info in the text</td>\n",
       "      <td>No charging-related info in the text</td>\n",
       "      <td>No weight-related info in the text</td>\n",
       "      <td>No biometrics-related info in the text</td>\n",
       "      <td>No processor-related info in the text</td>\n",
       "      <td>No RAM-related info in the text</td>\n",
       "      <td>No specific audio info found</td>\n",
       "    </tr>\n",
       "    <tr>\n",
       "      <th>936</th>\n",
       "      <td>Which region is better to set in MIUI? Are the...</td>\n",
       "      <td>18</td>\n",
       "      <td>https://www.reddit.com/r/Xiaomi/comments/1gy2o...</td>\n",
       "      <td>1732377136</td>\n",
       "      <td>I found online that choosing different regions...</td>\n",
       "      <td>redmi note 13</td>\n",
       "      <td>No camera-related info in the text</td>\n",
       "      <td>No battery-related info in the text</td>\n",
       "      <td>No storage-related info in the text</td>\n",
       "      <td>[14.0.6, 14.0.6]</td>\n",
       "      <td>No style-related info in the text</td>\n",
       "      <td>No display-related info in the text</td>\n",
       "      <td>No water resistance-related info in the text</td>\n",
       "      <td>No charging-related info in the text</td>\n",
       "      <td>No weight-related info in the text</td>\n",
       "      <td>No biometrics-related info in the text</td>\n",
       "      <td>No processor-related info in the text</td>\n",
       "      <td>No RAM-related info in the text</td>\n",
       "      <td>[sound]</td>\n",
       "    </tr>\n",
       "    <tr>\n",
       "      <th>1399</th>\n",
       "      <td>Phone vibration randomly when charging</td>\n",
       "      <td>5</td>\n",
       "      <td>https://www.reddit.com/r/Xiaomi/comments/1hgxp...</td>\n",
       "      <td>1734512558</td>\n",
       "      <td>Hi All,\\n\\nThis is driving me insane, but when...</td>\n",
       "      <td>redmi note 13</td>\n",
       "      <td>No camera-related info in the text</td>\n",
       "      <td>No specific battery info found</td>\n",
       "      <td>No storage-related info in the text</td>\n",
       "      <td>No software-related info in the text</td>\n",
       "      <td>No style-related info in the text</td>\n",
       "      <td>No display-related info in the text</td>\n",
       "      <td>No water resistance-related info in the text</td>\n",
       "      <td>No specific charging info found</td>\n",
       "      <td>No weight-related info in the text</td>\n",
       "      <td>No biometrics-related info in the text</td>\n",
       "      <td>No processor-related info in the text</td>\n",
       "      <td>No RAM-related info in the text</td>\n",
       "      <td>[sound]</td>\n",
       "    </tr>\n",
       "    <tr>\n",
       "      <th>1879</th>\n",
       "      <td>Which region is better to set in MIUI? Are the...</td>\n",
       "      <td>17</td>\n",
       "      <td>https://www.reddit.com/r/Xiaomi/comments/1gy2o...</td>\n",
       "      <td>1732377136</td>\n",
       "      <td>I found online that choosing different regions...</td>\n",
       "      <td>redmi note 13</td>\n",
       "      <td>No camera-related info in the text</td>\n",
       "      <td>No battery-related info in the text</td>\n",
       "      <td>No storage-related info in the text</td>\n",
       "      <td>[14.0.6, 14.0.6]</td>\n",
       "      <td>No style-related info in the text</td>\n",
       "      <td>No display-related info in the text</td>\n",
       "      <td>No water resistance-related info in the text</td>\n",
       "      <td>No charging-related info in the text</td>\n",
       "      <td>No weight-related info in the text</td>\n",
       "      <td>No biometrics-related info in the text</td>\n",
       "      <td>No processor-related info in the text</td>\n",
       "      <td>No RAM-related info in the text</td>\n",
       "      <td>[sound]</td>\n",
       "    </tr>\n",
       "    <tr>\n",
       "      <th>2342</th>\n",
       "      <td>Phone vibration randomly when charging</td>\n",
       "      <td>4</td>\n",
       "      <td>https://www.reddit.com/r/Xiaomi/comments/1hgxp...</td>\n",
       "      <td>1734512558</td>\n",
       "      <td>Hi All,\\n\\nThis is driving me insane, but when...</td>\n",
       "      <td>redmi note 13</td>\n",
       "      <td>No camera-related info in the text</td>\n",
       "      <td>No specific battery info found</td>\n",
       "      <td>No storage-related info in the text</td>\n",
       "      <td>No software-related info in the text</td>\n",
       "      <td>No style-related info in the text</td>\n",
       "      <td>No display-related info in the text</td>\n",
       "      <td>No water resistance-related info in the text</td>\n",
       "      <td>No specific charging info found</td>\n",
       "      <td>No weight-related info in the text</td>\n",
       "      <td>No biometrics-related info in the text</td>\n",
       "      <td>No processor-related info in the text</td>\n",
       "      <td>No RAM-related info in the text</td>\n",
       "      <td>[sound]</td>\n",
       "    </tr>\n",
       "  </tbody>\n",
       "</table>\n",
       "</div>"
      ],
      "text/plain": [
       "                                                  Title  Upvotes  \\\n",
       "456              Phone vibration randomly when charging        3   \n",
       "905   Earbuds Recommendation - Soundpeats Free 2 Cla...        1   \n",
       "936   Which region is better to set in MIUI? Are the...       18   \n",
       "1399             Phone vibration randomly when charging        5   \n",
       "1879  Which region is better to set in MIUI? Are the...       17   \n",
       "2342             Phone vibration randomly when charging        4   \n",
       "\n",
       "                                                    URL     Created  \\\n",
       "456   https://www.reddit.com/r/Xiaomi/comments/1hgxp...  1734512558   \n",
       "905   https://www.reddit.com/r/Xiaomi/comments/1gzaz...  1732510225   \n",
       "936   https://www.reddit.com/r/Xiaomi/comments/1gy2o...  1732377136   \n",
       "1399  https://www.reddit.com/r/Xiaomi/comments/1hgxp...  1734512558   \n",
       "1879  https://www.reddit.com/r/Xiaomi/comments/1gy2o...  1732377136   \n",
       "2342  https://www.reddit.com/r/Xiaomi/comments/1hgxp...  1734512558   \n",
       "\n",
       "                                                   Text          Model  \\\n",
       "456   Hi All,\\n\\nThis is driving me insane, but when...  redmi note 13   \n",
       "905   Hi everyone,\\nI’m planning to buy earbuds and ...        redmi 6   \n",
       "936   I found online that choosing different regions...  redmi note 13   \n",
       "1399  Hi All,\\n\\nThis is driving me insane, but when...  redmi note 13   \n",
       "1879  I found online that choosing different regions...  redmi note 13   \n",
       "2342  Hi All,\\n\\nThis is driving me insane, but when...  redmi note 13   \n",
       "\n",
       "                             camera_info                         battery_info  \\\n",
       "456   No camera-related info in the text       No specific battery info found   \n",
       "905   No camera-related info in the text             [(350, mAh), (600, mAh)]   \n",
       "936   No camera-related info in the text  No battery-related info in the text   \n",
       "1399  No camera-related info in the text       No specific battery info found   \n",
       "1879  No camera-related info in the text  No battery-related info in the text   \n",
       "2342  No camera-related info in the text       No specific battery info found   \n",
       "\n",
       "                             Storage_info  \\\n",
       "456   No storage-related info in the text   \n",
       "905   No storage-related info in the text   \n",
       "936   No storage-related info in the text   \n",
       "1399  No storage-related info in the text   \n",
       "1879  No storage-related info in the text   \n",
       "2342  No storage-related info in the text   \n",
       "\n",
       "                             Software_info                         Style_info  \\\n",
       "456   No software-related info in the text  No style-related info in the text   \n",
       "905   No software-related info in the text  No style-related info in the text   \n",
       "936                       [14.0.6, 14.0.6]  No style-related info in the text   \n",
       "1399  No software-related info in the text  No style-related info in the text   \n",
       "1879                      [14.0.6, 14.0.6]  No style-related info in the text   \n",
       "2342  No software-related info in the text  No style-related info in the text   \n",
       "\n",
       "                             display_info  \\\n",
       "456   No display-related info in the text   \n",
       "905   No display-related info in the text   \n",
       "936   No display-related info in the text   \n",
       "1399  No display-related info in the text   \n",
       "1879  No display-related info in the text   \n",
       "2342  No display-related info in the text   \n",
       "\n",
       "                                   Resistance_info  \\\n",
       "456   No water resistance-related info in the text   \n",
       "905   No water resistance-related info in the text   \n",
       "936   No water resistance-related info in the text   \n",
       "1399  No water resistance-related info in the text   \n",
       "1879  No water resistance-related info in the text   \n",
       "2342  No water resistance-related info in the text   \n",
       "\n",
       "                             Charging_info  \\\n",
       "456        No specific charging info found   \n",
       "905   No charging-related info in the text   \n",
       "936   No charging-related info in the text   \n",
       "1399       No specific charging info found   \n",
       "1879  No charging-related info in the text   \n",
       "2342       No specific charging info found   \n",
       "\n",
       "                             Weight_info  \\\n",
       "456   No weight-related info in the text   \n",
       "905   No weight-related info in the text   \n",
       "936   No weight-related info in the text   \n",
       "1399  No weight-related info in the text   \n",
       "1879  No weight-related info in the text   \n",
       "2342  No weight-related info in the text   \n",
       "\n",
       "                             Biometrics_info  \\\n",
       "456   No biometrics-related info in the text   \n",
       "905   No biometrics-related info in the text   \n",
       "936   No biometrics-related info in the text   \n",
       "1399  No biometrics-related info in the text   \n",
       "1879  No biometrics-related info in the text   \n",
       "2342  No biometrics-related info in the text   \n",
       "\n",
       "                             Processor_info                         RAM_info  \\\n",
       "456   No processor-related info in the text  No RAM-related info in the text   \n",
       "905   No processor-related info in the text  No RAM-related info in the text   \n",
       "936   No processor-related info in the text  No RAM-related info in the text   \n",
       "1399  No processor-related info in the text  No RAM-related info in the text   \n",
       "1879  No processor-related info in the text  No RAM-related info in the text   \n",
       "2342  No processor-related info in the text  No RAM-related info in the text   \n",
       "\n",
       "                        Audio_info  \n",
       "456                        [sound]  \n",
       "905   No specific audio info found  \n",
       "936                        [sound]  \n",
       "1399                       [sound]  \n",
       "1879                       [sound]  \n",
       "2342                       [sound]  "
      ]
     },
     "execution_count": 157,
     "metadata": {},
     "output_type": "execute_result"
    }
   ],
   "source": [
    "Audio"
   ]
  },
  {
   "cell_type": "code",
   "execution_count": 158,
   "id": "48e559dc-791d-46ca-a812-b95e7e5c6660",
   "metadata": {},
   "outputs": [
    {
     "name": "stderr",
     "output_type": "stream",
     "text": [
      "C:\\Users\\DELL\\AppData\\Local\\Temp\\ipykernel_36412\\1943818332.py:1: SettingWithCopyWarning: \n",
      "A value is trying to be set on a copy of a slice from a DataFrame.\n",
      "Try using .loc[row_indexer,col_indexer] = value instead\n",
      "\n",
      "See the caveats in the documentation: https://pandas.pydata.org/pandas-docs/stable/user_guide/indexing.html#returning-a-view-versus-a-copy\n",
      "  Audio['Sentiment'] = Audio['Text'].apply(lambda x: get_sentiment_score(x))\n"
     ]
    }
   ],
   "source": [
    "Audio['Sentiment'] = Audio['Text'].apply(lambda x: get_sentiment_score(x))"
   ]
  },
  {
   "cell_type": "code",
   "execution_count": 159,
   "id": "ddcbbd34-3fcb-49d0-8b43-f7171f202693",
   "metadata": {},
   "outputs": [
    {
     "data": {
      "text/html": [
       "<div>\n",
       "<style scoped>\n",
       "    .dataframe tbody tr th:only-of-type {\n",
       "        vertical-align: middle;\n",
       "    }\n",
       "\n",
       "    .dataframe tbody tr th {\n",
       "        vertical-align: top;\n",
       "    }\n",
       "\n",
       "    .dataframe thead th {\n",
       "        text-align: right;\n",
       "    }\n",
       "</style>\n",
       "<table border=\"1\" class=\"dataframe\">\n",
       "  <thead>\n",
       "    <tr style=\"text-align: right;\">\n",
       "      <th></th>\n",
       "      <th>Model</th>\n",
       "      <th>Sentiment</th>\n",
       "    </tr>\n",
       "  </thead>\n",
       "  <tbody>\n",
       "    <tr>\n",
       "      <th>0</th>\n",
       "      <td>redmi 6</td>\n",
       "      <td>0.94300</td>\n",
       "    </tr>\n",
       "    <tr>\n",
       "      <th>1</th>\n",
       "      <td>redmi note 13</td>\n",
       "      <td>-0.18506</td>\n",
       "    </tr>\n",
       "  </tbody>\n",
       "</table>\n",
       "</div>"
      ],
      "text/plain": [
       "           Model  Sentiment\n",
       "0        redmi 6    0.94300\n",
       "1  redmi note 13   -0.18506"
      ]
     },
     "execution_count": 159,
     "metadata": {},
     "output_type": "execute_result"
    }
   ],
   "source": [
    "Speaker_Modelwise = Audio.groupby('Model')['Sentiment'].mean().reset_index()\n",
    "Speaker_Modelwise"
   ]
  },
  {
   "cell_type": "code",
   "execution_count": 160,
   "id": "8133f3c4-8420-40e9-8ab6-696038be8c72",
   "metadata": {},
   "outputs": [
    {
     "data": {
      "image/png": "[encoded data removed]",
      "text/plain": [
       "<Figure size 1200x600 with 1 Axes>"
      ]
     },
     "metadata": {},
     "output_type": "display_data"
    }
   ],
   "source": [
    "plt.figure(figsize=(12, 6))\n",
    "plt.bar(Speaker_Modelwise['Model'], Speaker_Modelwise['Sentiment'], color='skyblue')\n",
    "plt.xlabel('xiaomi Model' , size = 14)\n",
    "plt.ylabel('Average Sentiment Score', size =14)\n",
    "plt.xticks(rotation=0)\n",
    "plt.show()"
   ]
  },
  {
   "cell_type": "markdown",
   "id": "2a24511d-95de-45a5-b98a-3cc96a590782",
   "metadata": {},
   "source": [
    "## for Gaming performance"
   ]
  },
  {
   "cell_type": "code",
   "execution_count": 161,
   "id": "c67d2153-da73-4ef7-a081-7aecb1ce29ab",
   "metadata": {},
   "outputs": [],
   "source": [
    "gaming_keywords = ['gaming', 'frame rate', 'GPU', 'smooth gameplay', 'gaming mode']"
   ]
  },
  {
   "cell_type": "code",
   "execution_count": 162,
   "id": "44e80ee9-2ce2-415e-a06e-ff8f29fc2422",
   "metadata": {},
   "outputs": [],
   "source": [
    "def extract_gaming_info(text):\n",
    "    if any(keyword in text.lower() for keyword in gaming_keywords):\n",
    "        gaming_info = re.findall(r'(gaming|frame rate|GPU|smooth gameplay|gaming mode)', text)\n",
    "        return gaming_info if gaming_info else \"No specific gaming info found\"\n",
    "    return \"No gaming-related info in the text\""
   ]
  },
  {
   "cell_type": "code",
   "execution_count": 163,
   "id": "3a196582-178e-4a5a-875f-aaaf7107df45",
   "metadata": {},
   "outputs": [
    {
     "name": "stderr",
     "output_type": "stream",
     "text": [
      "C:\\Users\\DELL\\AppData\\Local\\Temp\\ipykernel_36412\\2722120071.py:1: SettingWithCopyWarning: \n",
      "A value is trying to be set on a copy of a slice from a DataFrame.\n",
      "Try using .loc[row_indexer,col_indexer] = value instead\n",
      "\n",
      "See the caveats in the documentation: https://pandas.pydata.org/pandas-docs/stable/user_guide/indexing.html#returning-a-view-versus-a-copy\n",
      "  xiaomi.loc[:, 'Gaming_info'] = xiaomi['Text'].apply(extract_gaming_info)\n"
     ]
    }
   ],
   "source": [
    "xiaomi.loc[:, 'Gaming_info'] = xiaomi['Text'].apply(extract_gaming_info)"
   ]
  },
  {
   "cell_type": "code",
   "execution_count": 164,
   "id": "e483bf77-c019-4432-b634-f6c13b383c3b",
   "metadata": {},
   "outputs": [],
   "source": [
    "gaming_df = xiaomi[['Model' , 'Gaming_info','Text']]"
   ]
  },
  {
   "cell_type": "code",
   "execution_count": 165,
   "id": "852fb19c-064b-4c9d-afb7-8df1a4a1ff7d",
   "metadata": {},
   "outputs": [
    {
     "data": {
      "text/html": [
       "<div>\n",
       "<style scoped>\n",
       "    .dataframe tbody tr th:only-of-type {\n",
       "        vertical-align: middle;\n",
       "    }\n",
       "\n",
       "    .dataframe tbody tr th {\n",
       "        vertical-align: top;\n",
       "    }\n",
       "\n",
       "    .dataframe thead th {\n",
       "        text-align: right;\n",
       "    }\n",
       "</style>\n",
       "<table border=\"1\" class=\"dataframe\">\n",
       "  <thead>\n",
       "    <tr style=\"text-align: right;\">\n",
       "      <th></th>\n",
       "      <th>Model</th>\n",
       "      <th>Gaming_info</th>\n",
       "      <th>Text</th>\n",
       "    </tr>\n",
       "  </thead>\n",
       "  <tbody>\n",
       "    <tr>\n",
       "      <th>43</th>\n",
       "      <td>redmi 14t</td>\n",
       "      <td>No gaming-related info in the text</td>\n",
       "      <td>Hello \\nMy Redmi 14T Pro Phone doesn't work an...</td>\n",
       "    </tr>\n",
       "    <tr>\n",
       "      <th>97</th>\n",
       "      <td>redmi note 12</td>\n",
       "      <td>No gaming-related info in the text</td>\n",
       "      <td>I am using a Xiaomi Redmi Note 12 Pro, I haven...</td>\n",
       "    </tr>\n",
       "    <tr>\n",
       "      <th>104</th>\n",
       "      <td>redmi 13</td>\n",
       "      <td>No gaming-related info in the text</td>\n",
       "      <td>Hi All\\n\\nJust got my Redmi 13 pro plus and I'...</td>\n",
       "    </tr>\n",
       "    <tr>\n",
       "      <th>121</th>\n",
       "      <td>redmi 13c</td>\n",
       "      <td>No gaming-related info in the text</td>\n",
       "      <td>Yo! Why don't I have an update for my Redmi 13...</td>\n",
       "    </tr>\n",
       "    <tr>\n",
       "      <th>150</th>\n",
       "      <td>redmi 13c</td>\n",
       "      <td>No gaming-related info in the text</td>\n",
       "      <td>Unable to open my notifications / mp on the ph...</td>\n",
       "    </tr>\n",
       "    <tr>\n",
       "      <th>...</th>\n",
       "      <td>...</td>\n",
       "      <td>...</td>\n",
       "      <td>...</td>\n",
       "    </tr>\n",
       "    <tr>\n",
       "      <th>5291</th>\n",
       "      <td>redmi 13</td>\n",
       "      <td>No gaming-related info in the text</td>\n",
       "      <td>I got the \"Xiaomi hyper OS\" update (1.0.9.0), ...</td>\n",
       "    </tr>\n",
       "    <tr>\n",
       "      <th>5649</th>\n",
       "      <td>redmi note 13</td>\n",
       "      <td>No gaming-related info in the text</td>\n",
       "      <td>Just setting the new Xiaomi Redmi Note 13 4G u...</td>\n",
       "    </tr>\n",
       "    <tr>\n",
       "      <th>6179</th>\n",
       "      <td>redmi 12</td>\n",
       "      <td>No gaming-related info in the text</td>\n",
       "      <td>Sooooo....Xiaomi 11 Lite 5G NE Is receiving th...</td>\n",
       "    </tr>\n",
       "    <tr>\n",
       "      <th>7177</th>\n",
       "      <td>redmi 13</td>\n",
       "      <td>No gaming-related info in the text</td>\n",
       "      <td>I got the \"Xiaomi hyper OS\" update (1.0.9.0), ...</td>\n",
       "    </tr>\n",
       "    <tr>\n",
       "      <th>8076</th>\n",
       "      <td>redmi 13c</td>\n",
       "      <td>No gaming-related info in the text</td>\n",
       "      <td>So my mom is going to switch from a Samsung Ga...</td>\n",
       "    </tr>\n",
       "  </tbody>\n",
       "</table>\n",
       "<p>84 rows × 3 columns</p>\n",
       "</div>"
      ],
      "text/plain": [
       "              Model                         Gaming_info  \\\n",
       "43        redmi 14t  No gaming-related info in the text   \n",
       "97    redmi note 12  No gaming-related info in the text   \n",
       "104        redmi 13  No gaming-related info in the text   \n",
       "121       redmi 13c  No gaming-related info in the text   \n",
       "150       redmi 13c  No gaming-related info in the text   \n",
       "...             ...                                 ...   \n",
       "5291       redmi 13  No gaming-related info in the text   \n",
       "5649  redmi note 13  No gaming-related info in the text   \n",
       "6179       redmi 12  No gaming-related info in the text   \n",
       "7177       redmi 13  No gaming-related info in the text   \n",
       "8076      redmi 13c  No gaming-related info in the text   \n",
       "\n",
       "                                                   Text  \n",
       "43    Hello \\nMy Redmi 14T Pro Phone doesn't work an...  \n",
       "97    I am using a Xiaomi Redmi Note 12 Pro, I haven...  \n",
       "104   Hi All\\n\\nJust got my Redmi 13 pro plus and I'...  \n",
       "121   Yo! Why don't I have an update for my Redmi 13...  \n",
       "150   Unable to open my notifications / mp on the ph...  \n",
       "...                                                 ...  \n",
       "5291  I got the \"Xiaomi hyper OS\" update (1.0.9.0), ...  \n",
       "5649  Just setting the new Xiaomi Redmi Note 13 4G u...  \n",
       "6179  Sooooo....Xiaomi 11 Lite 5G NE Is receiving th...  \n",
       "7177  I got the \"Xiaomi hyper OS\" update (1.0.9.0), ...  \n",
       "8076  So my mom is going to switch from a Samsung Ga...  \n",
       "\n",
       "[84 rows x 3 columns]"
      ]
     },
     "execution_count": 165,
     "metadata": {},
     "output_type": "execute_result"
    }
   ],
   "source": [
    "gaming_df"
   ]
  },
  {
   "cell_type": "code",
   "execution_count": 166,
   "id": "47bd3ef4-543b-424a-a915-4a844e385bcb",
   "metadata": {},
   "outputs": [
    {
     "data": {
      "text/plain": [
       "Gaming_info\n",
       "No gaming-related info in the text    82\n",
       "[gaming]                               1\n",
       "No specific gaming info found          1\n",
       "Name: count, dtype: int64"
      ]
     },
     "execution_count": 166,
     "metadata": {},
     "output_type": "execute_result"
    }
   ],
   "source": [
    "gaming_df['Gaming_info'].value_counts()"
   ]
  },
  {
   "cell_type": "code",
   "execution_count": 167,
   "id": "3b8e055f-cf41-4581-aa71-642c548bf213",
   "metadata": {},
   "outputs": [],
   "source": [
    "Gaming = gaming_df[~gaming_df['Gaming_info'].isin([\"No gaming-related info in the text\"])]"
   ]
  },
  {
   "cell_type": "code",
   "execution_count": 168,
   "id": "9e9d939f-0558-4168-b1cf-9ebbea3dffc7",
   "metadata": {},
   "outputs": [
    {
     "data": {
      "text/html": [
       "<div>\n",
       "<style scoped>\n",
       "    .dataframe tbody tr th:only-of-type {\n",
       "        vertical-align: middle;\n",
       "    }\n",
       "\n",
       "    .dataframe tbody tr th {\n",
       "        vertical-align: top;\n",
       "    }\n",
       "\n",
       "    .dataframe thead th {\n",
       "        text-align: right;\n",
       "    }\n",
       "</style>\n",
       "<table border=\"1\" class=\"dataframe\">\n",
       "  <thead>\n",
       "    <tr style=\"text-align: right;\">\n",
       "      <th></th>\n",
       "      <th>Model</th>\n",
       "      <th>Gaming_info</th>\n",
       "      <th>Text</th>\n",
       "    </tr>\n",
       "  </thead>\n",
       "  <tbody>\n",
       "    <tr>\n",
       "      <th>180</th>\n",
       "      <td>redmi 13c</td>\n",
       "      <td>[gaming]</td>\n",
       "      <td>I have question is Xiaomi Redmi 13C good for g...</td>\n",
       "    </tr>\n",
       "    <tr>\n",
       "      <th>558</th>\n",
       "      <td>redmi note 11</td>\n",
       "      <td>No specific gaming info found</td>\n",
       "      <td>Hey guys, i've come to two options and i want ...</td>\n",
       "    </tr>\n",
       "  </tbody>\n",
       "</table>\n",
       "</div>"
      ],
      "text/plain": [
       "             Model                    Gaming_info  \\\n",
       "180      redmi 13c                       [gaming]   \n",
       "558  redmi note 11  No specific gaming info found   \n",
       "\n",
       "                                                  Text  \n",
       "180  I have question is Xiaomi Redmi 13C good for g...  \n",
       "558  Hey guys, i've come to two options and i want ...  "
      ]
     },
     "execution_count": 168,
     "metadata": {},
     "output_type": "execute_result"
    }
   ],
   "source": [
    "Gaming"
   ]
  },
  {
   "cell_type": "code",
   "execution_count": 169,
   "id": "9700b261-2b54-4147-88cb-99c69f4dfec0",
   "metadata": {},
   "outputs": [
    {
     "name": "stderr",
     "output_type": "stream",
     "text": [
      "C:\\Users\\DELL\\AppData\\Local\\Temp\\ipykernel_36412\\2543509912.py:1: SettingWithCopyWarning: \n",
      "A value is trying to be set on a copy of a slice from a DataFrame.\n",
      "Try using .loc[row_indexer,col_indexer] = value instead\n",
      "\n",
      "See the caveats in the documentation: https://pandas.pydata.org/pandas-docs/stable/user_guide/indexing.html#returning-a-view-versus-a-copy\n",
      "  Gaming['Sentiment'] = Gaming['Text'].apply(lambda x: get_sentiment_score(x))\n"
     ]
    }
   ],
   "source": [
    "Gaming['Sentiment'] = Gaming['Text'].apply(lambda x: get_sentiment_score(x))"
   ]
  },
  {
   "cell_type": "code",
   "execution_count": 170,
   "id": "1e515a21-0265-4b23-9eb2-9579e6fcceda",
   "metadata": {},
   "outputs": [
    {
     "data": {
      "text/html": [
       "<div>\n",
       "<style scoped>\n",
       "    .dataframe tbody tr th:only-of-type {\n",
       "        vertical-align: middle;\n",
       "    }\n",
       "\n",
       "    .dataframe tbody tr th {\n",
       "        vertical-align: top;\n",
       "    }\n",
       "\n",
       "    .dataframe thead th {\n",
       "        text-align: right;\n",
       "    }\n",
       "</style>\n",
       "<table border=\"1\" class=\"dataframe\">\n",
       "  <thead>\n",
       "    <tr style=\"text-align: right;\">\n",
       "      <th></th>\n",
       "      <th>Model</th>\n",
       "      <th>Gaming_info</th>\n",
       "      <th>Text</th>\n",
       "      <th>Sentiment</th>\n",
       "    </tr>\n",
       "  </thead>\n",
       "  <tbody>\n",
       "    <tr>\n",
       "      <th>180</th>\n",
       "      <td>redmi 13c</td>\n",
       "      <td>[gaming]</td>\n",
       "      <td>I have question is Xiaomi Redmi 13C good for g...</td>\n",
       "      <td>0.4404</td>\n",
       "    </tr>\n",
       "    <tr>\n",
       "      <th>558</th>\n",
       "      <td>redmi note 11</td>\n",
       "      <td>No specific gaming info found</td>\n",
       "      <td>Hey guys, i've come to two options and i want ...</td>\n",
       "      <td>0.7026</td>\n",
       "    </tr>\n",
       "  </tbody>\n",
       "</table>\n",
       "</div>"
      ],
      "text/plain": [
       "             Model                    Gaming_info  \\\n",
       "180      redmi 13c                       [gaming]   \n",
       "558  redmi note 11  No specific gaming info found   \n",
       "\n",
       "                                                  Text  Sentiment  \n",
       "180  I have question is Xiaomi Redmi 13C good for g...     0.4404  \n",
       "558  Hey guys, i've come to two options and i want ...     0.7026  "
      ]
     },
     "execution_count": 170,
     "metadata": {},
     "output_type": "execute_result"
    }
   ],
   "source": [
    "Gaming"
   ]
  },
  {
   "cell_type": "code",
   "execution_count": 171,
   "id": "2e40b555-7ae9-4e9f-b980-b06a2f233629",
   "metadata": {},
   "outputs": [
    {
     "data": {
      "text/html": [
       "<div>\n",
       "<style scoped>\n",
       "    .dataframe tbody tr th:only-of-type {\n",
       "        vertical-align: middle;\n",
       "    }\n",
       "\n",
       "    .dataframe tbody tr th {\n",
       "        vertical-align: top;\n",
       "    }\n",
       "\n",
       "    .dataframe thead th {\n",
       "        text-align: right;\n",
       "    }\n",
       "</style>\n",
       "<table border=\"1\" class=\"dataframe\">\n",
       "  <thead>\n",
       "    <tr style=\"text-align: right;\">\n",
       "      <th></th>\n",
       "      <th>Model</th>\n",
       "      <th>Sentiment</th>\n",
       "    </tr>\n",
       "  </thead>\n",
       "  <tbody>\n",
       "    <tr>\n",
       "      <th>0</th>\n",
       "      <td>redmi 13c</td>\n",
       "      <td>0.4404</td>\n",
       "    </tr>\n",
       "    <tr>\n",
       "      <th>1</th>\n",
       "      <td>redmi note 11</td>\n",
       "      <td>0.7026</td>\n",
       "    </tr>\n",
       "  </tbody>\n",
       "</table>\n",
       "</div>"
      ],
      "text/plain": [
       "           Model  Sentiment\n",
       "0      redmi 13c     0.4404\n",
       "1  redmi note 11     0.7026"
      ]
     },
     "execution_count": 171,
     "metadata": {},
     "output_type": "execute_result"
    }
   ],
   "source": [
    "Gaming_Modelwise = Gaming.groupby('Model')['Sentiment'].mean().reset_index()\n",
    "Gaming_Modelwise"
   ]
  },
  {
   "cell_type": "code",
   "execution_count": 172,
   "id": "f438e526-4ed8-4678-a958-24b4c0e00feb",
   "metadata": {},
   "outputs": [
    {
     "data": {
      "image/png": "[encoded data removed]",
      "text/plain": [
       "<Figure size 1200x600 with 1 Axes>"
      ]
     },
     "metadata": {},
     "output_type": "display_data"
    }
   ],
   "source": [
    "plt.figure(figsize=(12, 6))\n",
    "plt.bar(Gaming_Modelwise['Model'], Gaming_Modelwise['Sentiment'], color='skyblue')\n",
    "plt.xlabel('xiaomi Model' , size = 14)\n",
    "plt.ylabel('Average Sentiment Score', size =14)\n",
    "plt.xticks(rotation=0)\n",
    "plt.show()"
   ]
  }
 ],
 "metadata": {
  "kernelspec": {
   "display_name": "Python 3 (ipykernel)",
   "language": "python",
   "name": "python3"
  },
  "language_info": {
   "codemirror_mode": {
    "name": "ipython",
    "version": 3
   },
   "file_extension": ".py",
   "mimetype": "text/x-python",
   "name": "python",
   "nbconvert_exporter": "python",
   "pygments_lexer": "ipython3",
   "version": "3.11.7"
  }
 },
 "nbformat": 4,
 "nbformat_minor": 5
}
